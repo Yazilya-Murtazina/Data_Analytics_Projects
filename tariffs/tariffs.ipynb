{
 "cells": [
  {
   "cell_type": "markdown",
   "metadata": {
    "toc": true
   },
   "source": [
    "<h1>Содержание<span class=\"tocSkip\"></span></h1>\n",
    "<div class=\"toc\"><ul class=\"toc-item\"><li><span><a href=\"#Обзор-данных-из-файла\" data-toc-modified-id=\"Обзор-данных-из-файла-1\"><span class=\"toc-item-num\">1&nbsp;&nbsp;</span>Обзор данных из файла</a></span><ul class=\"toc-item\"><li><span><a href=\"#Вывод\" data-toc-modified-id=\"Вывод-1.1\"><span class=\"toc-item-num\">1.1&nbsp;&nbsp;</span>Вывод</a></span></li></ul></li><li><span><a href=\"#Предобработка-данных\" data-toc-modified-id=\"Предобработка-данных-2\"><span class=\"toc-item-num\">2&nbsp;&nbsp;</span>Предобработка данных</a></span><ul class=\"toc-item\"><li><span><a href=\"#Вывод\" data-toc-modified-id=\"Вывод-2.1\"><span class=\"toc-item-num\">2.1&nbsp;&nbsp;</span>Вывод</a></span></li></ul></li><li><span><a href=\"#Исследовательский-анализ-данных\" data-toc-modified-id=\"Исследовательский-анализ-данных-3\"><span class=\"toc-item-num\">3&nbsp;&nbsp;</span>Исследовательский анализ данных</a></span><ul class=\"toc-item\"><li><span><a href=\"#Вывод\" data-toc-modified-id=\"Вывод-3.1\"><span class=\"toc-item-num\">3.1&nbsp;&nbsp;</span>Вывод</a></span></li></ul></li><li><span><a href=\"#Проверка-гипотез\" data-toc-modified-id=\"Проверка-гипотез-4\"><span class=\"toc-item-num\">4&nbsp;&nbsp;</span>Проверка гипотез</a></span><ul class=\"toc-item\"><li><span><a href=\"#Средняя-выручка-пользователей-тарифов-«Ультра»-и-«Смарт»-различаются\" data-toc-modified-id=\"Средняя-выручка-пользователей-тарифов-«Ультра»-и-«Смарт»-различаются-4.1\"><span class=\"toc-item-num\">4.1&nbsp;&nbsp;</span>Средняя выручка пользователей тарифов «Ультра» и «Смарт» различаются</a></span></li><li><span><a href=\"#Средняя-выручка-пользователей-из-Москвы-отличается-от-выручки-пользователей-из-других-регионов\" data-toc-modified-id=\"Средняя-выручка-пользователей-из-Москвы-отличается-от-выручки-пользователей-из-других-регионов-4.2\"><span class=\"toc-item-num\">4.2&nbsp;&nbsp;</span>Средняя выручка пользователей из Москвы отличается от выручки пользователей из других регионов</a></span></li><li><span><a href=\"#Вывод\" data-toc-modified-id=\"Вывод-4.3\"><span class=\"toc-item-num\">4.3&nbsp;&nbsp;</span>Вывод</a></span></li></ul></li><li><span><a href=\"#Общий-вывод\" data-toc-modified-id=\"Общий-вывод-5\"><span class=\"toc-item-num\">5&nbsp;&nbsp;</span>Общий вывод</a></span></li></ul></div>"
   ]
  },
  {
   "cell_type": "markdown",
   "metadata": {},
   "source": [
    "# Определение перспективного тарифа для телеком-компании"
   ]
  },
  {
   "cell_type": "markdown",
   "metadata": {},
   "source": [
    "Компания «Мегалайн» — федеральный оператор сотовой связи. Клиентам предлагают два тарифных плана: «Смарт» и «Ультра». Чтобы скорректировать рекламный бюджет, коммерческий департамент хочет понять, какой тариф приносит больше денег.\n",
    "\n",
    "Неообходимо сделать предварительный анализ тарифов на небольшой выборке клиентов. В нашем распоряжении данные 500 пользователей «Мегалайна»: кто они, откуда, каким тарифом пользуются, сколько звонков и сообщений каждый отправил за 2018 год. \n",
    "\n",
    "**Цель**:\n",
    "1. Проверить гипотезы:\n",
    "    * средняя выручка пользователей тарифов «Ультра» и «Смарт» различаются;\n",
    "    * средняя выручка пользователей из Москвы отличается от выручки пользователей из других регионов.\n",
    "    \n",
    "\n",
    "2. Проанализировать поведение клиентов и определить какой тариф лучше.\n",
    "\n",
    "Описание тарифов\n",
    "\n",
    "Тариф «Смарт»\n",
    "* Ежемесячная плата: 550 рублей\n",
    "* Включено 500 минут разговора, 50 сообщений и 15 Гб интернет-трафика\n",
    "* Стоимость услуг сверх тарифного пакета:\n",
    "* минута разговора: 3 рубля\n",
    "* сообщение: 3 рубля\n",
    "* 1 Гб интернет-трафика: 200 рублей\n",
    "\n",
    "Тариф «Ультра»\n",
    "* Ежемесячная плата: 1950 рублей\n",
    "* Включено 3000 минут разговора, 1000 сообщений и 30 Гб интернет-трафика\n",
    "* Стоимость услуг сверх тарифного пакета:\n",
    "* минута разговора: 1 рубль\n",
    "* сообщение: 1 рубль\n",
    "* 1 Гб интернет-трафика: 150 рублей\n",
    "\n",
    "Исследование пройдёт в пять этапов:\n",
    "\n",
    "1. Обзор данных.\n",
    "2. Предобработка данных.\n",
    "3. Исследовательский анализ данных.\n",
    "4. Проверка гипотез.\n",
    "5. Формулировка выводов.   "
   ]
  },
  {
   "cell_type": "markdown",
   "metadata": {},
   "source": [
    "## Обзор данных из файла"
   ]
  },
  {
   "cell_type": "code",
   "execution_count": 2,
   "metadata": {
    "scrolled": true
   },
   "outputs": [],
   "source": [
    "# импорт библиотеки pandas\n",
    "import pandas as pd\n",
    "\n",
    "#имопрт библиотеки matplotlib\n",
    "import matplotlib.pyplot as plt\n",
    "\n",
    "#имопрт библиотеки seaborn\n",
    "# !pip install seaborn==0.11.2\n",
    "import seaborn as sns\n",
    "\n",
    "#имопрт библиотеки math\n",
    "import math\n",
    "\n",
    "#имопрт библиотеки stats\n",
    "import scipy.stats as stats\n",
    "\n",
    "#имопрт библиотеки numpy\n",
    "import numpy as np\n",
    "\n",
    "import warnings\n",
    "warnings.filterwarnings(action='ignore')"
   ]
  },
  {
   "cell_type": "code",
   "execution_count": 3,
   "metadata": {},
   "outputs": [],
   "source": [
    "# чтение файла с данными и сохранение в calls\n",
    "calls = pd.read_csv('/datasets/calls.csv')"
   ]
  },
  {
   "cell_type": "code",
   "execution_count": 4,
   "metadata": {},
   "outputs": [
    {
     "data": {
      "text/html": [
       "<div>\n",
       "<style scoped>\n",
       "    .dataframe tbody tr th:only-of-type {\n",
       "        vertical-align: middle;\n",
       "    }\n",
       "\n",
       "    .dataframe tbody tr th {\n",
       "        vertical-align: top;\n",
       "    }\n",
       "\n",
       "    .dataframe thead th {\n",
       "        text-align: right;\n",
       "    }\n",
       "</style>\n",
       "<table border=\"1\" class=\"dataframe\">\n",
       "  <thead>\n",
       "    <tr style=\"text-align: right;\">\n",
       "      <th></th>\n",
       "      <th>id</th>\n",
       "      <th>call_date</th>\n",
       "      <th>duration</th>\n",
       "      <th>user_id</th>\n",
       "    </tr>\n",
       "  </thead>\n",
       "  <tbody>\n",
       "    <tr>\n",
       "      <th>0</th>\n",
       "      <td>1000_0</td>\n",
       "      <td>2018-07-25</td>\n",
       "      <td>0.00</td>\n",
       "      <td>1000</td>\n",
       "    </tr>\n",
       "    <tr>\n",
       "      <th>1</th>\n",
       "      <td>1000_1</td>\n",
       "      <td>2018-08-17</td>\n",
       "      <td>0.00</td>\n",
       "      <td>1000</td>\n",
       "    </tr>\n",
       "    <tr>\n",
       "      <th>2</th>\n",
       "      <td>1000_2</td>\n",
       "      <td>2018-06-11</td>\n",
       "      <td>2.85</td>\n",
       "      <td>1000</td>\n",
       "    </tr>\n",
       "    <tr>\n",
       "      <th>3</th>\n",
       "      <td>1000_3</td>\n",
       "      <td>2018-09-21</td>\n",
       "      <td>13.80</td>\n",
       "      <td>1000</td>\n",
       "    </tr>\n",
       "    <tr>\n",
       "      <th>4</th>\n",
       "      <td>1000_4</td>\n",
       "      <td>2018-12-15</td>\n",
       "      <td>5.18</td>\n",
       "      <td>1000</td>\n",
       "    </tr>\n",
       "    <tr>\n",
       "      <th>5</th>\n",
       "      <td>1000_5</td>\n",
       "      <td>2018-11-02</td>\n",
       "      <td>0.00</td>\n",
       "      <td>1000</td>\n",
       "    </tr>\n",
       "    <tr>\n",
       "      <th>6</th>\n",
       "      <td>1000_6</td>\n",
       "      <td>2018-10-18</td>\n",
       "      <td>0.00</td>\n",
       "      <td>1000</td>\n",
       "    </tr>\n",
       "    <tr>\n",
       "      <th>7</th>\n",
       "      <td>1000_7</td>\n",
       "      <td>2018-08-22</td>\n",
       "      <td>18.31</td>\n",
       "      <td>1000</td>\n",
       "    </tr>\n",
       "    <tr>\n",
       "      <th>8</th>\n",
       "      <td>1000_8</td>\n",
       "      <td>2018-09-15</td>\n",
       "      <td>18.44</td>\n",
       "      <td>1000</td>\n",
       "    </tr>\n",
       "    <tr>\n",
       "      <th>9</th>\n",
       "      <td>1000_9</td>\n",
       "      <td>2018-08-15</td>\n",
       "      <td>0.00</td>\n",
       "      <td>1000</td>\n",
       "    </tr>\n",
       "  </tbody>\n",
       "</table>\n",
       "</div>"
      ],
      "text/plain": [
       "       id   call_date  duration  user_id\n",
       "0  1000_0  2018-07-25      0.00     1000\n",
       "1  1000_1  2018-08-17      0.00     1000\n",
       "2  1000_2  2018-06-11      2.85     1000\n",
       "3  1000_3  2018-09-21     13.80     1000\n",
       "4  1000_4  2018-12-15      5.18     1000\n",
       "5  1000_5  2018-11-02      0.00     1000\n",
       "6  1000_6  2018-10-18      0.00     1000\n",
       "7  1000_7  2018-08-22     18.31     1000\n",
       "8  1000_8  2018-09-15     18.44     1000\n",
       "9  1000_9  2018-08-15      0.00     1000"
      ]
     },
     "execution_count": 4,
     "metadata": {},
     "output_type": "execute_result"
    }
   ],
   "source": [
    "# получение первых 10 строк\n",
    "calls.head(10)"
   ]
  },
  {
   "cell_type": "code",
   "execution_count": 5,
   "metadata": {},
   "outputs": [
    {
     "name": "stdout",
     "output_type": "stream",
     "text": [
      "<class 'pandas.core.frame.DataFrame'>\n",
      "RangeIndex: 202607 entries, 0 to 202606\n",
      "Data columns (total 4 columns):\n",
      " #   Column     Non-Null Count   Dtype  \n",
      "---  ------     --------------   -----  \n",
      " 0   id         202607 non-null  object \n",
      " 1   call_date  202607 non-null  object \n",
      " 2   duration   202607 non-null  float64\n",
      " 3   user_id    202607 non-null  int64  \n",
      "dtypes: float64(1), int64(1), object(2)\n",
      "memory usage: 6.2+ MB\n"
     ]
    }
   ],
   "source": [
    "# получение общей информации о данных\n",
    "calls.info()"
   ]
  },
  {
   "cell_type": "markdown",
   "metadata": {},
   "source": [
    "Таблица `calls` содержит информацию о звонках. В таблице 4 столбца и 202607 строк. Тип данных `float64`, `int64`, `object`.\n",
    "\n",
    "Согласно документации к данным:\n",
    "* `id` — уникальный номер звонка\n",
    "* `call_date` — дата звонка\n",
    "* `duration` — длительность звонка в минутах\n",
    "* `user_id` — идентификатор пользователя, сделавшего звонок\n",
    "\n",
    "Пропущенных данных нет. Дата звонка не в формате `datetime`."
   ]
  },
  {
   "cell_type": "code",
   "execution_count": 6,
   "metadata": {},
   "outputs": [],
   "source": [
    "# чтение файла с данными и сохранение в internet\n",
    "internet = pd.read_csv('/datasets/internet.csv')"
   ]
  },
  {
   "cell_type": "code",
   "execution_count": 7,
   "metadata": {},
   "outputs": [
    {
     "data": {
      "text/html": [
       "<div>\n",
       "<style scoped>\n",
       "    .dataframe tbody tr th:only-of-type {\n",
       "        vertical-align: middle;\n",
       "    }\n",
       "\n",
       "    .dataframe tbody tr th {\n",
       "        vertical-align: top;\n",
       "    }\n",
       "\n",
       "    .dataframe thead th {\n",
       "        text-align: right;\n",
       "    }\n",
       "</style>\n",
       "<table border=\"1\" class=\"dataframe\">\n",
       "  <thead>\n",
       "    <tr style=\"text-align: right;\">\n",
       "      <th></th>\n",
       "      <th>Unnamed: 0</th>\n",
       "      <th>id</th>\n",
       "      <th>mb_used</th>\n",
       "      <th>session_date</th>\n",
       "      <th>user_id</th>\n",
       "    </tr>\n",
       "  </thead>\n",
       "  <tbody>\n",
       "    <tr>\n",
       "      <th>0</th>\n",
       "      <td>0</td>\n",
       "      <td>1000_0</td>\n",
       "      <td>112.95</td>\n",
       "      <td>2018-11-25</td>\n",
       "      <td>1000</td>\n",
       "    </tr>\n",
       "    <tr>\n",
       "      <th>1</th>\n",
       "      <td>1</td>\n",
       "      <td>1000_1</td>\n",
       "      <td>1052.81</td>\n",
       "      <td>2018-09-07</td>\n",
       "      <td>1000</td>\n",
       "    </tr>\n",
       "    <tr>\n",
       "      <th>2</th>\n",
       "      <td>2</td>\n",
       "      <td>1000_2</td>\n",
       "      <td>1197.26</td>\n",
       "      <td>2018-06-25</td>\n",
       "      <td>1000</td>\n",
       "    </tr>\n",
       "    <tr>\n",
       "      <th>3</th>\n",
       "      <td>3</td>\n",
       "      <td>1000_3</td>\n",
       "      <td>550.27</td>\n",
       "      <td>2018-08-22</td>\n",
       "      <td>1000</td>\n",
       "    </tr>\n",
       "    <tr>\n",
       "      <th>4</th>\n",
       "      <td>4</td>\n",
       "      <td>1000_4</td>\n",
       "      <td>302.56</td>\n",
       "      <td>2018-09-24</td>\n",
       "      <td>1000</td>\n",
       "    </tr>\n",
       "    <tr>\n",
       "      <th>5</th>\n",
       "      <td>5</td>\n",
       "      <td>1000_5</td>\n",
       "      <td>399.97</td>\n",
       "      <td>2018-10-02</td>\n",
       "      <td>1000</td>\n",
       "    </tr>\n",
       "    <tr>\n",
       "      <th>6</th>\n",
       "      <td>6</td>\n",
       "      <td>1000_6</td>\n",
       "      <td>540.08</td>\n",
       "      <td>2018-09-07</td>\n",
       "      <td>1000</td>\n",
       "    </tr>\n",
       "    <tr>\n",
       "      <th>7</th>\n",
       "      <td>7</td>\n",
       "      <td>1000_7</td>\n",
       "      <td>415.70</td>\n",
       "      <td>2018-07-11</td>\n",
       "      <td>1000</td>\n",
       "    </tr>\n",
       "    <tr>\n",
       "      <th>8</th>\n",
       "      <td>8</td>\n",
       "      <td>1000_8</td>\n",
       "      <td>505.40</td>\n",
       "      <td>2018-10-08</td>\n",
       "      <td>1000</td>\n",
       "    </tr>\n",
       "    <tr>\n",
       "      <th>9</th>\n",
       "      <td>9</td>\n",
       "      <td>1000_9</td>\n",
       "      <td>345.54</td>\n",
       "      <td>2018-09-03</td>\n",
       "      <td>1000</td>\n",
       "    </tr>\n",
       "  </tbody>\n",
       "</table>\n",
       "</div>"
      ],
      "text/plain": [
       "   Unnamed: 0      id  mb_used session_date  user_id\n",
       "0           0  1000_0   112.95   2018-11-25     1000\n",
       "1           1  1000_1  1052.81   2018-09-07     1000\n",
       "2           2  1000_2  1197.26   2018-06-25     1000\n",
       "3           3  1000_3   550.27   2018-08-22     1000\n",
       "4           4  1000_4   302.56   2018-09-24     1000\n",
       "5           5  1000_5   399.97   2018-10-02     1000\n",
       "6           6  1000_6   540.08   2018-09-07     1000\n",
       "7           7  1000_7   415.70   2018-07-11     1000\n",
       "8           8  1000_8   505.40   2018-10-08     1000\n",
       "9           9  1000_9   345.54   2018-09-03     1000"
      ]
     },
     "execution_count": 7,
     "metadata": {},
     "output_type": "execute_result"
    }
   ],
   "source": [
    "# получение первых 10 строк\n",
    "internet.head(10)"
   ]
  },
  {
   "cell_type": "code",
   "execution_count": 8,
   "metadata": {},
   "outputs": [
    {
     "data": {
      "text/html": [
       "<div>\n",
       "<style scoped>\n",
       "    .dataframe tbody tr th:only-of-type {\n",
       "        vertical-align: middle;\n",
       "    }\n",
       "\n",
       "    .dataframe tbody tr th {\n",
       "        vertical-align: top;\n",
       "    }\n",
       "\n",
       "    .dataframe thead th {\n",
       "        text-align: right;\n",
       "    }\n",
       "</style>\n",
       "<table border=\"1\" class=\"dataframe\">\n",
       "  <thead>\n",
       "    <tr style=\"text-align: right;\">\n",
       "      <th></th>\n",
       "      <th>Unnamed: 0</th>\n",
       "      <th>id</th>\n",
       "      <th>mb_used</th>\n",
       "      <th>session_date</th>\n",
       "      <th>user_id</th>\n",
       "    </tr>\n",
       "  </thead>\n",
       "  <tbody>\n",
       "    <tr>\n",
       "      <th>149386</th>\n",
       "      <td>149386</td>\n",
       "      <td>1499_147</td>\n",
       "      <td>0.00</td>\n",
       "      <td>2018-10-21</td>\n",
       "      <td>1499</td>\n",
       "    </tr>\n",
       "    <tr>\n",
       "      <th>149387</th>\n",
       "      <td>149387</td>\n",
       "      <td>1499_148</td>\n",
       "      <td>268.19</td>\n",
       "      <td>2018-11-13</td>\n",
       "      <td>1499</td>\n",
       "    </tr>\n",
       "    <tr>\n",
       "      <th>149388</th>\n",
       "      <td>149388</td>\n",
       "      <td>1499_149</td>\n",
       "      <td>778.68</td>\n",
       "      <td>2018-11-24</td>\n",
       "      <td>1499</td>\n",
       "    </tr>\n",
       "    <tr>\n",
       "      <th>149389</th>\n",
       "      <td>149389</td>\n",
       "      <td>1499_150</td>\n",
       "      <td>273.98</td>\n",
       "      <td>2018-11-20</td>\n",
       "      <td>1499</td>\n",
       "    </tr>\n",
       "    <tr>\n",
       "      <th>149390</th>\n",
       "      <td>149390</td>\n",
       "      <td>1499_151</td>\n",
       "      <td>752.72</td>\n",
       "      <td>2018-10-11</td>\n",
       "      <td>1499</td>\n",
       "    </tr>\n",
       "    <tr>\n",
       "      <th>149391</th>\n",
       "      <td>149391</td>\n",
       "      <td>1499_152</td>\n",
       "      <td>318.90</td>\n",
       "      <td>2018-10-03</td>\n",
       "      <td>1499</td>\n",
       "    </tr>\n",
       "    <tr>\n",
       "      <th>149392</th>\n",
       "      <td>149392</td>\n",
       "      <td>1499_153</td>\n",
       "      <td>490.13</td>\n",
       "      <td>2018-12-14</td>\n",
       "      <td>1499</td>\n",
       "    </tr>\n",
       "    <tr>\n",
       "      <th>149393</th>\n",
       "      <td>149393</td>\n",
       "      <td>1499_154</td>\n",
       "      <td>0.00</td>\n",
       "      <td>2018-10-27</td>\n",
       "      <td>1499</td>\n",
       "    </tr>\n",
       "    <tr>\n",
       "      <th>149394</th>\n",
       "      <td>149394</td>\n",
       "      <td>1499_155</td>\n",
       "      <td>1246.32</td>\n",
       "      <td>2018-11-26</td>\n",
       "      <td>1499</td>\n",
       "    </tr>\n",
       "    <tr>\n",
       "      <th>149395</th>\n",
       "      <td>149395</td>\n",
       "      <td>1499_156</td>\n",
       "      <td>544.37</td>\n",
       "      <td>2018-10-26</td>\n",
       "      <td>1499</td>\n",
       "    </tr>\n",
       "  </tbody>\n",
       "</table>\n",
       "</div>"
      ],
      "text/plain": [
       "        Unnamed: 0        id  mb_used session_date  user_id\n",
       "149386      149386  1499_147     0.00   2018-10-21     1499\n",
       "149387      149387  1499_148   268.19   2018-11-13     1499\n",
       "149388      149388  1499_149   778.68   2018-11-24     1499\n",
       "149389      149389  1499_150   273.98   2018-11-20     1499\n",
       "149390      149390  1499_151   752.72   2018-10-11     1499\n",
       "149391      149391  1499_152   318.90   2018-10-03     1499\n",
       "149392      149392  1499_153   490.13   2018-12-14     1499\n",
       "149393      149393  1499_154     0.00   2018-10-27     1499\n",
       "149394      149394  1499_155  1246.32   2018-11-26     1499\n",
       "149395      149395  1499_156   544.37   2018-10-26     1499"
      ]
     },
     "execution_count": 8,
     "metadata": {},
     "output_type": "execute_result"
    }
   ],
   "source": [
    "# получение последних 10 строк\n",
    "internet.tail(10)"
   ]
  },
  {
   "cell_type": "code",
   "execution_count": 9,
   "metadata": {},
   "outputs": [
    {
     "name": "stdout",
     "output_type": "stream",
     "text": [
      "<class 'pandas.core.frame.DataFrame'>\n",
      "RangeIndex: 149396 entries, 0 to 149395\n",
      "Data columns (total 5 columns):\n",
      " #   Column        Non-Null Count   Dtype  \n",
      "---  ------        --------------   -----  \n",
      " 0   Unnamed: 0    149396 non-null  int64  \n",
      " 1   id            149396 non-null  object \n",
      " 2   mb_used       149396 non-null  float64\n",
      " 3   session_date  149396 non-null  object \n",
      " 4   user_id       149396 non-null  int64  \n",
      "dtypes: float64(1), int64(2), object(2)\n",
      "memory usage: 5.7+ MB\n"
     ]
    }
   ],
   "source": [
    "# получение общей информации о данных\n",
    "internet.info()"
   ]
  },
  {
   "cell_type": "markdown",
   "metadata": {},
   "source": [
    "Таблица `internet` содержит информацию об интернет-сессиях. В таблице 5 столбцов и 159396 строк. Тип данных `float64`, `int64`, `object`.\n",
    "\n",
    "Согласно документации к данным:\n",
    "* `id` — уникальный номер сессии\n",
    "* `mb_used` — объём потраченного за сессию интернет-трафика (в мегабайтах)\n",
    "* `session_date` — дата интернет-сессии\n",
    "* `user_id` — идентификатор пользователя\n",
    "\n",
    "Пропущенных данных нет. Дата интернет-сессии не в формате `datetime`. Имеется столбец без названия, который дублирует индексы и которого нет в документации. "
   ]
  },
  {
   "cell_type": "code",
   "execution_count": 10,
   "metadata": {},
   "outputs": [],
   "source": [
    "# чтение файла с данными и сохранение в message\n",
    "message = pd.read_csv('/datasets/messages.csv')"
   ]
  },
  {
   "cell_type": "code",
   "execution_count": 11,
   "metadata": {},
   "outputs": [
    {
     "data": {
      "text/html": [
       "<div>\n",
       "<style scoped>\n",
       "    .dataframe tbody tr th:only-of-type {\n",
       "        vertical-align: middle;\n",
       "    }\n",
       "\n",
       "    .dataframe tbody tr th {\n",
       "        vertical-align: top;\n",
       "    }\n",
       "\n",
       "    .dataframe thead th {\n",
       "        text-align: right;\n",
       "    }\n",
       "</style>\n",
       "<table border=\"1\" class=\"dataframe\">\n",
       "  <thead>\n",
       "    <tr style=\"text-align: right;\">\n",
       "      <th></th>\n",
       "      <th>id</th>\n",
       "      <th>message_date</th>\n",
       "      <th>user_id</th>\n",
       "    </tr>\n",
       "  </thead>\n",
       "  <tbody>\n",
       "    <tr>\n",
       "      <th>0</th>\n",
       "      <td>1000_0</td>\n",
       "      <td>2018-06-27</td>\n",
       "      <td>1000</td>\n",
       "    </tr>\n",
       "    <tr>\n",
       "      <th>1</th>\n",
       "      <td>1000_1</td>\n",
       "      <td>2018-10-08</td>\n",
       "      <td>1000</td>\n",
       "    </tr>\n",
       "    <tr>\n",
       "      <th>2</th>\n",
       "      <td>1000_2</td>\n",
       "      <td>2018-08-04</td>\n",
       "      <td>1000</td>\n",
       "    </tr>\n",
       "    <tr>\n",
       "      <th>3</th>\n",
       "      <td>1000_3</td>\n",
       "      <td>2018-06-16</td>\n",
       "      <td>1000</td>\n",
       "    </tr>\n",
       "    <tr>\n",
       "      <th>4</th>\n",
       "      <td>1000_4</td>\n",
       "      <td>2018-12-05</td>\n",
       "      <td>1000</td>\n",
       "    </tr>\n",
       "    <tr>\n",
       "      <th>5</th>\n",
       "      <td>1000_5</td>\n",
       "      <td>2018-06-20</td>\n",
       "      <td>1000</td>\n",
       "    </tr>\n",
       "    <tr>\n",
       "      <th>6</th>\n",
       "      <td>1000_6</td>\n",
       "      <td>2018-11-19</td>\n",
       "      <td>1000</td>\n",
       "    </tr>\n",
       "    <tr>\n",
       "      <th>7</th>\n",
       "      <td>1000_7</td>\n",
       "      <td>2018-10-29</td>\n",
       "      <td>1000</td>\n",
       "    </tr>\n",
       "    <tr>\n",
       "      <th>8</th>\n",
       "      <td>1000_8</td>\n",
       "      <td>2018-06-25</td>\n",
       "      <td>1000</td>\n",
       "    </tr>\n",
       "    <tr>\n",
       "      <th>9</th>\n",
       "      <td>1000_9</td>\n",
       "      <td>2018-12-18</td>\n",
       "      <td>1000</td>\n",
       "    </tr>\n",
       "  </tbody>\n",
       "</table>\n",
       "</div>"
      ],
      "text/plain": [
       "       id message_date  user_id\n",
       "0  1000_0   2018-06-27     1000\n",
       "1  1000_1   2018-10-08     1000\n",
       "2  1000_2   2018-08-04     1000\n",
       "3  1000_3   2018-06-16     1000\n",
       "4  1000_4   2018-12-05     1000\n",
       "5  1000_5   2018-06-20     1000\n",
       "6  1000_6   2018-11-19     1000\n",
       "7  1000_7   2018-10-29     1000\n",
       "8  1000_8   2018-06-25     1000\n",
       "9  1000_9   2018-12-18     1000"
      ]
     },
     "execution_count": 11,
     "metadata": {},
     "output_type": "execute_result"
    }
   ],
   "source": [
    "# получение первых 10 строк\n",
    "message.head(10)"
   ]
  },
  {
   "cell_type": "code",
   "execution_count": 12,
   "metadata": {},
   "outputs": [
    {
     "name": "stdout",
     "output_type": "stream",
     "text": [
      "<class 'pandas.core.frame.DataFrame'>\n",
      "RangeIndex: 123036 entries, 0 to 123035\n",
      "Data columns (total 3 columns):\n",
      " #   Column        Non-Null Count   Dtype \n",
      "---  ------        --------------   ----- \n",
      " 0   id            123036 non-null  object\n",
      " 1   message_date  123036 non-null  object\n",
      " 2   user_id       123036 non-null  int64 \n",
      "dtypes: int64(1), object(2)\n",
      "memory usage: 2.8+ MB\n"
     ]
    }
   ],
   "source": [
    "# получение общей информации о данных\n",
    "message.info()"
   ]
  },
  {
   "cell_type": "markdown",
   "metadata": {},
   "source": [
    "Таблица `message` содержит информацию о сообщениях. В таблице 3 столбца и 123036 строк. Тип данных `int64`, `object`.\n",
    "\n",
    "Согласно документации к данным:\n",
    "* `id` — уникальный номер звонка\n",
    "* `message_date` — дата сообщения\n",
    "* `user_id` — идентификатор пользователя, отправившего сообщение\n",
    "\n",
    "Пропущенных данных нет. Дата сообщения не в формате `datetime`."
   ]
  },
  {
   "cell_type": "code",
   "execution_count": 13,
   "metadata": {},
   "outputs": [],
   "source": [
    "# чтение файла с данными и сохранение в tariffs\n",
    "tariffs = pd.read_csv('/datasets/tariffs.csv')"
   ]
  },
  {
   "cell_type": "code",
   "execution_count": 14,
   "metadata": {},
   "outputs": [
    {
     "data": {
      "text/html": [
       "<div>\n",
       "<style scoped>\n",
       "    .dataframe tbody tr th:only-of-type {\n",
       "        vertical-align: middle;\n",
       "    }\n",
       "\n",
       "    .dataframe tbody tr th {\n",
       "        vertical-align: top;\n",
       "    }\n",
       "\n",
       "    .dataframe thead th {\n",
       "        text-align: right;\n",
       "    }\n",
       "</style>\n",
       "<table border=\"1\" class=\"dataframe\">\n",
       "  <thead>\n",
       "    <tr style=\"text-align: right;\">\n",
       "      <th></th>\n",
       "      <th>messages_included</th>\n",
       "      <th>mb_per_month_included</th>\n",
       "      <th>minutes_included</th>\n",
       "      <th>rub_monthly_fee</th>\n",
       "      <th>rub_per_gb</th>\n",
       "      <th>rub_per_message</th>\n",
       "      <th>rub_per_minute</th>\n",
       "      <th>tariff_name</th>\n",
       "    </tr>\n",
       "  </thead>\n",
       "  <tbody>\n",
       "    <tr>\n",
       "      <th>0</th>\n",
       "      <td>50</td>\n",
       "      <td>15360</td>\n",
       "      <td>500</td>\n",
       "      <td>550</td>\n",
       "      <td>200</td>\n",
       "      <td>3</td>\n",
       "      <td>3</td>\n",
       "      <td>smart</td>\n",
       "    </tr>\n",
       "    <tr>\n",
       "      <th>1</th>\n",
       "      <td>1000</td>\n",
       "      <td>30720</td>\n",
       "      <td>3000</td>\n",
       "      <td>1950</td>\n",
       "      <td>150</td>\n",
       "      <td>1</td>\n",
       "      <td>1</td>\n",
       "      <td>ultra</td>\n",
       "    </tr>\n",
       "  </tbody>\n",
       "</table>\n",
       "</div>"
      ],
      "text/plain": [
       "   messages_included  mb_per_month_included  minutes_included  \\\n",
       "0                 50                  15360               500   \n",
       "1               1000                  30720              3000   \n",
       "\n",
       "   rub_monthly_fee  rub_per_gb  rub_per_message  rub_per_minute tariff_name  \n",
       "0              550         200                3               3       smart  \n",
       "1             1950         150                1               1       ultra  "
      ]
     },
     "execution_count": 14,
     "metadata": {},
     "output_type": "execute_result"
    }
   ],
   "source": [
    "# получение первых 5 строк\n",
    "tariffs.head()"
   ]
  },
  {
   "cell_type": "code",
   "execution_count": 15,
   "metadata": {},
   "outputs": [
    {
     "name": "stdout",
     "output_type": "stream",
     "text": [
      "<class 'pandas.core.frame.DataFrame'>\n",
      "RangeIndex: 2 entries, 0 to 1\n",
      "Data columns (total 8 columns):\n",
      " #   Column                 Non-Null Count  Dtype \n",
      "---  ------                 --------------  ----- \n",
      " 0   messages_included      2 non-null      int64 \n",
      " 1   mb_per_month_included  2 non-null      int64 \n",
      " 2   minutes_included       2 non-null      int64 \n",
      " 3   rub_monthly_fee        2 non-null      int64 \n",
      " 4   rub_per_gb             2 non-null      int64 \n",
      " 5   rub_per_message        2 non-null      int64 \n",
      " 6   rub_per_minute         2 non-null      int64 \n",
      " 7   tariff_name            2 non-null      object\n",
      "dtypes: int64(7), object(1)\n",
      "memory usage: 256.0+ bytes\n"
     ]
    }
   ],
   "source": [
    "# получение общей информации о данных\n",
    "tariffs.info()"
   ]
  },
  {
   "cell_type": "markdown",
   "metadata": {},
   "source": [
    "Таблица `tariffs` содержит информацию о тарифах. В таблице 8 столбцов и 2 строки. Тип данных `int64`, `object`.\n",
    "\n",
    "Согласно документации к данным:\n",
    "* `tariff_name` — название тарифа\n",
    "* `rub_monthly_fee` — ежемесячная абонентская плата в рублях\n",
    "* `minutes_included` — количество минут разговора в месяц, включённых в абонентскую плату\n",
    "* `messages_included` — количество сообщений в месяц, включённых в абонентскую плату\n",
    "* `mb_per_month_included` — объём интернет-трафика, включённого в абонентскую плату (в мегабайтах)\n",
    "* `rub_per_minute` — стоимость минуты разговора сверх тарифного пакета (например, если в тарифе 100 минут разговора в месяц, то со 101 минуты будет взиматься плата)\n",
    "* `rub_per_message` — стоимость отправки сообщения сверх тарифного пакета\n",
    "* `rub_per_gb` — стоимость дополнительного гигабайта интернет-трафика сверх тарифного пакета (1 гигабайт = 1024 мегабайта)\n",
    "\n",
    "Пропущенных данных нет."
   ]
  },
  {
   "cell_type": "code",
   "execution_count": 16,
   "metadata": {},
   "outputs": [],
   "source": [
    "# чтение файла с данными и сохранение в users\n",
    "users = pd.read_csv('/datasets/users.csv')"
   ]
  },
  {
   "cell_type": "code",
   "execution_count": 17,
   "metadata": {},
   "outputs": [
    {
     "data": {
      "text/html": [
       "<div>\n",
       "<style scoped>\n",
       "    .dataframe tbody tr th:only-of-type {\n",
       "        vertical-align: middle;\n",
       "    }\n",
       "\n",
       "    .dataframe tbody tr th {\n",
       "        vertical-align: top;\n",
       "    }\n",
       "\n",
       "    .dataframe thead th {\n",
       "        text-align: right;\n",
       "    }\n",
       "</style>\n",
       "<table border=\"1\" class=\"dataframe\">\n",
       "  <thead>\n",
       "    <tr style=\"text-align: right;\">\n",
       "      <th></th>\n",
       "      <th>user_id</th>\n",
       "      <th>age</th>\n",
       "      <th>churn_date</th>\n",
       "      <th>city</th>\n",
       "      <th>first_name</th>\n",
       "      <th>last_name</th>\n",
       "      <th>reg_date</th>\n",
       "      <th>tariff</th>\n",
       "    </tr>\n",
       "  </thead>\n",
       "  <tbody>\n",
       "    <tr>\n",
       "      <th>0</th>\n",
       "      <td>1000</td>\n",
       "      <td>52</td>\n",
       "      <td>NaN</td>\n",
       "      <td>Краснодар</td>\n",
       "      <td>Рафаил</td>\n",
       "      <td>Верещагин</td>\n",
       "      <td>2018-05-25</td>\n",
       "      <td>ultra</td>\n",
       "    </tr>\n",
       "    <tr>\n",
       "      <th>1</th>\n",
       "      <td>1001</td>\n",
       "      <td>41</td>\n",
       "      <td>NaN</td>\n",
       "      <td>Москва</td>\n",
       "      <td>Иван</td>\n",
       "      <td>Ежов</td>\n",
       "      <td>2018-11-01</td>\n",
       "      <td>smart</td>\n",
       "    </tr>\n",
       "    <tr>\n",
       "      <th>2</th>\n",
       "      <td>1002</td>\n",
       "      <td>59</td>\n",
       "      <td>NaN</td>\n",
       "      <td>Стерлитамак</td>\n",
       "      <td>Евгений</td>\n",
       "      <td>Абрамович</td>\n",
       "      <td>2018-06-17</td>\n",
       "      <td>smart</td>\n",
       "    </tr>\n",
       "    <tr>\n",
       "      <th>3</th>\n",
       "      <td>1003</td>\n",
       "      <td>23</td>\n",
       "      <td>NaN</td>\n",
       "      <td>Москва</td>\n",
       "      <td>Белла</td>\n",
       "      <td>Белякова</td>\n",
       "      <td>2018-08-17</td>\n",
       "      <td>ultra</td>\n",
       "    </tr>\n",
       "    <tr>\n",
       "      <th>4</th>\n",
       "      <td>1004</td>\n",
       "      <td>68</td>\n",
       "      <td>NaN</td>\n",
       "      <td>Новокузнецк</td>\n",
       "      <td>Татьяна</td>\n",
       "      <td>Авдеенко</td>\n",
       "      <td>2018-05-14</td>\n",
       "      <td>ultra</td>\n",
       "    </tr>\n",
       "    <tr>\n",
       "      <th>5</th>\n",
       "      <td>1005</td>\n",
       "      <td>67</td>\n",
       "      <td>NaN</td>\n",
       "      <td>Набережные Челны</td>\n",
       "      <td>Афанасий</td>\n",
       "      <td>Горлов</td>\n",
       "      <td>2018-01-25</td>\n",
       "      <td>smart</td>\n",
       "    </tr>\n",
       "    <tr>\n",
       "      <th>6</th>\n",
       "      <td>1006</td>\n",
       "      <td>21</td>\n",
       "      <td>NaN</td>\n",
       "      <td>Ульяновск</td>\n",
       "      <td>Леонид</td>\n",
       "      <td>Ермолаев</td>\n",
       "      <td>2018-02-26</td>\n",
       "      <td>smart</td>\n",
       "    </tr>\n",
       "    <tr>\n",
       "      <th>7</th>\n",
       "      <td>1007</td>\n",
       "      <td>65</td>\n",
       "      <td>NaN</td>\n",
       "      <td>Москва</td>\n",
       "      <td>Юна</td>\n",
       "      <td>Березина</td>\n",
       "      <td>2018-04-19</td>\n",
       "      <td>smart</td>\n",
       "    </tr>\n",
       "    <tr>\n",
       "      <th>8</th>\n",
       "      <td>1008</td>\n",
       "      <td>63</td>\n",
       "      <td>NaN</td>\n",
       "      <td>Челябинск</td>\n",
       "      <td>Рустэм</td>\n",
       "      <td>Пономарёв</td>\n",
       "      <td>2018-12-19</td>\n",
       "      <td>smart</td>\n",
       "    </tr>\n",
       "    <tr>\n",
       "      <th>9</th>\n",
       "      <td>1009</td>\n",
       "      <td>24</td>\n",
       "      <td>NaN</td>\n",
       "      <td>Пермь</td>\n",
       "      <td>Василиса</td>\n",
       "      <td>Блинова</td>\n",
       "      <td>2018-03-22</td>\n",
       "      <td>smart</td>\n",
       "    </tr>\n",
       "  </tbody>\n",
       "</table>\n",
       "</div>"
      ],
      "text/plain": [
       "   user_id  age churn_date              city first_name  last_name  \\\n",
       "0     1000   52        NaN         Краснодар     Рафаил  Верещагин   \n",
       "1     1001   41        NaN            Москва       Иван       Ежов   \n",
       "2     1002   59        NaN       Стерлитамак    Евгений  Абрамович   \n",
       "3     1003   23        NaN            Москва      Белла   Белякова   \n",
       "4     1004   68        NaN       Новокузнецк    Татьяна   Авдеенко   \n",
       "5     1005   67        NaN  Набережные Челны   Афанасий     Горлов   \n",
       "6     1006   21        NaN         Ульяновск     Леонид   Ермолаев   \n",
       "7     1007   65        NaN            Москва        Юна   Березина   \n",
       "8     1008   63        NaN         Челябинск     Рустэм  Пономарёв   \n",
       "9     1009   24        NaN             Пермь   Василиса    Блинова   \n",
       "\n",
       "     reg_date tariff  \n",
       "0  2018-05-25  ultra  \n",
       "1  2018-11-01  smart  \n",
       "2  2018-06-17  smart  \n",
       "3  2018-08-17  ultra  \n",
       "4  2018-05-14  ultra  \n",
       "5  2018-01-25  smart  \n",
       "6  2018-02-26  smart  \n",
       "7  2018-04-19  smart  \n",
       "8  2018-12-19  smart  \n",
       "9  2018-03-22  smart  "
      ]
     },
     "execution_count": 17,
     "metadata": {},
     "output_type": "execute_result"
    }
   ],
   "source": [
    "# получение первых 10 строк\n",
    "users.head(10)"
   ]
  },
  {
   "cell_type": "code",
   "execution_count": 18,
   "metadata": {},
   "outputs": [
    {
     "name": "stdout",
     "output_type": "stream",
     "text": [
      "<class 'pandas.core.frame.DataFrame'>\n",
      "RangeIndex: 500 entries, 0 to 499\n",
      "Data columns (total 8 columns):\n",
      " #   Column      Non-Null Count  Dtype \n",
      "---  ------      --------------  ----- \n",
      " 0   user_id     500 non-null    int64 \n",
      " 1   age         500 non-null    int64 \n",
      " 2   churn_date  38 non-null     object\n",
      " 3   city        500 non-null    object\n",
      " 4   first_name  500 non-null    object\n",
      " 5   last_name   500 non-null    object\n",
      " 6   reg_date    500 non-null    object\n",
      " 7   tariff      500 non-null    object\n",
      "dtypes: int64(2), object(6)\n",
      "memory usage: 31.4+ KB\n"
     ]
    }
   ],
   "source": [
    "# получение общей информации о данных\n",
    "users.info()"
   ]
  },
  {
   "cell_type": "markdown",
   "metadata": {},
   "source": [
    "Таблица `users` содержит информацию о пользователях. В таблице 8 столбцов и 500 строк. Тип данных `int64`, `object`.\n",
    "\n",
    "Согласно документации к данным:\n",
    "* `user_id` — уникальный идентификатор пользователя\n",
    "* `first_name` — имя пользователя\n",
    "* `last_name` — фамилия пользователя\n",
    "* `age` — возраст пользователя (годы)\n",
    "* `reg_date` — дата подключения тарифа (день, месяц, год)\n",
    "* `churn_date` — дата прекращения пользования тарифом (если значение пропущено, то тариф ещё действовал на момент выгрузки данных)\n",
    "* `city` — город проживания пользователя\n",
    "* `tariff` — название тарифного плана\n",
    "\n",
    "Данные пропущены в столбце `churn_date`, но согласно документации если значение пропущено, то тариф ещё действовал на момент выгрузки данных. Даты не в формате `datetime`."
   ]
  },
  {
   "cell_type": "markdown",
   "metadata": {},
   "source": [
    "### Вывод"
   ]
  },
  {
   "cell_type": "markdown",
   "metadata": {},
   "source": [
    "Имеются 5 таблиц с данными о пользователях, их звонках, сообщениях и интернет-сессиях, а также данные о тарифах, которые используют данные пользователи.\n",
    "\n",
    "Имеются следующие пробелмы с даннными:\n",
    "* даты не в формате `datetime`,\n",
    "* имеется столбец, неописанный в документации и дублирующий индексы,\n",
    "* данные содержатся в нескольких таблицах.\n",
    "\n",
    "Необходимо данные проблемы устранить."
   ]
  },
  {
   "cell_type": "markdown",
   "metadata": {},
   "source": [
    "## Предобработка данных"
   ]
  },
  {
   "cell_type": "code",
   "execution_count": 19,
   "metadata": {},
   "outputs": [],
   "source": [
    "# изменение формата даты в столбце `call_date` таблицы `calls` на datetime64\n",
    "calls['call_date'] = pd.to_datetime(calls['call_date'], format='%Y-%m-%d')"
   ]
  },
  {
   "cell_type": "code",
   "execution_count": 20,
   "metadata": {},
   "outputs": [
    {
     "name": "stdout",
     "output_type": "stream",
     "text": [
      "<class 'pandas.core.frame.DataFrame'>\n",
      "RangeIndex: 202607 entries, 0 to 202606\n",
      "Data columns (total 4 columns):\n",
      " #   Column     Non-Null Count   Dtype         \n",
      "---  ------     --------------   -----         \n",
      " 0   id         202607 non-null  object        \n",
      " 1   call_date  202607 non-null  datetime64[ns]\n",
      " 2   duration   202607 non-null  float64       \n",
      " 3   user_id    202607 non-null  int64         \n",
      "dtypes: datetime64[ns](1), float64(1), int64(1), object(1)\n",
      "memory usage: 6.2+ MB\n"
     ]
    }
   ],
   "source": [
    "# проверка изменения формата даты\n",
    "calls.info()"
   ]
  },
  {
   "cell_type": "code",
   "execution_count": 21,
   "metadata": {},
   "outputs": [
    {
     "data": {
      "text/html": [
       "<div>\n",
       "<style scoped>\n",
       "    .dataframe tbody tr th:only-of-type {\n",
       "        vertical-align: middle;\n",
       "    }\n",
       "\n",
       "    .dataframe tbody tr th {\n",
       "        vertical-align: top;\n",
       "    }\n",
       "\n",
       "    .dataframe thead th {\n",
       "        text-align: right;\n",
       "    }\n",
       "</style>\n",
       "<table border=\"1\" class=\"dataframe\">\n",
       "  <thead>\n",
       "    <tr style=\"text-align: right;\">\n",
       "      <th></th>\n",
       "      <th>id</th>\n",
       "      <th>call_date</th>\n",
       "      <th>duration</th>\n",
       "      <th>user_id</th>\n",
       "      <th>month</th>\n",
       "    </tr>\n",
       "  </thead>\n",
       "  <tbody>\n",
       "    <tr>\n",
       "      <th>0</th>\n",
       "      <td>1000_0</td>\n",
       "      <td>2018-07-25</td>\n",
       "      <td>0.00</td>\n",
       "      <td>1000</td>\n",
       "      <td>2018-07</td>\n",
       "    </tr>\n",
       "    <tr>\n",
       "      <th>1</th>\n",
       "      <td>1000_1</td>\n",
       "      <td>2018-08-17</td>\n",
       "      <td>0.00</td>\n",
       "      <td>1000</td>\n",
       "      <td>2018-08</td>\n",
       "    </tr>\n",
       "    <tr>\n",
       "      <th>2</th>\n",
       "      <td>1000_2</td>\n",
       "      <td>2018-06-11</td>\n",
       "      <td>2.85</td>\n",
       "      <td>1000</td>\n",
       "      <td>2018-06</td>\n",
       "    </tr>\n",
       "    <tr>\n",
       "      <th>3</th>\n",
       "      <td>1000_3</td>\n",
       "      <td>2018-09-21</td>\n",
       "      <td>13.80</td>\n",
       "      <td>1000</td>\n",
       "      <td>2018-09</td>\n",
       "    </tr>\n",
       "    <tr>\n",
       "      <th>4</th>\n",
       "      <td>1000_4</td>\n",
       "      <td>2018-12-15</td>\n",
       "      <td>5.18</td>\n",
       "      <td>1000</td>\n",
       "      <td>2018-12</td>\n",
       "    </tr>\n",
       "  </tbody>\n",
       "</table>\n",
       "</div>"
      ],
      "text/plain": [
       "       id  call_date  duration  user_id    month\n",
       "0  1000_0 2018-07-25      0.00     1000  2018-07\n",
       "1  1000_1 2018-08-17      0.00     1000  2018-08\n",
       "2  1000_2 2018-06-11      2.85     1000  2018-06\n",
       "3  1000_3 2018-09-21     13.80     1000  2018-09\n",
       "4  1000_4 2018-12-15      5.18     1000  2018-12"
      ]
     },
     "execution_count": 21,
     "metadata": {},
     "output_type": "execute_result"
    }
   ],
   "source": [
    "# добавление столбца `month` с месяцем звонка в таблицу `calls`\n",
    "calls['month'] = calls['call_date'].dt.to_period('M')\n",
    "calls.head()"
   ]
  },
  {
   "cell_type": "code",
   "execution_count": 22,
   "metadata": {},
   "outputs": [],
   "source": [
    "# изменение формата даты в столбце `session_date` таблицы `internet` на datetime64\n",
    "internet['session_date'] = pd.to_datetime(internet['session_date'], format='%Y-%m-%d')"
   ]
  },
  {
   "cell_type": "code",
   "execution_count": 23,
   "metadata": {},
   "outputs": [
    {
     "name": "stdout",
     "output_type": "stream",
     "text": [
      "<class 'pandas.core.frame.DataFrame'>\n",
      "RangeIndex: 149396 entries, 0 to 149395\n",
      "Data columns (total 5 columns):\n",
      " #   Column        Non-Null Count   Dtype         \n",
      "---  ------        --------------   -----         \n",
      " 0   Unnamed: 0    149396 non-null  int64         \n",
      " 1   id            149396 non-null  object        \n",
      " 2   mb_used       149396 non-null  float64       \n",
      " 3   session_date  149396 non-null  datetime64[ns]\n",
      " 4   user_id       149396 non-null  int64         \n",
      "dtypes: datetime64[ns](1), float64(1), int64(2), object(1)\n",
      "memory usage: 5.7+ MB\n"
     ]
    }
   ],
   "source": [
    "# проверка изменения формата даты\n",
    "internet.info()"
   ]
  },
  {
   "cell_type": "code",
   "execution_count": 24,
   "metadata": {},
   "outputs": [
    {
     "name": "stdout",
     "output_type": "stream",
     "text": [
      "<class 'pandas.core.frame.DataFrame'>\n",
      "RangeIndex: 149396 entries, 0 to 149395\n",
      "Data columns (total 4 columns):\n",
      " #   Column        Non-Null Count   Dtype         \n",
      "---  ------        --------------   -----         \n",
      " 0   id            149396 non-null  object        \n",
      " 1   mb_used       149396 non-null  float64       \n",
      " 2   session_date  149396 non-null  datetime64[ns]\n",
      " 3   user_id       149396 non-null  int64         \n",
      "dtypes: datetime64[ns](1), float64(1), int64(1), object(1)\n",
      "memory usage: 4.6+ MB\n"
     ]
    }
   ],
   "source": [
    "# удаление дублирующего столбца\n",
    "internet = internet.drop('Unnamed: 0', axis=1)\n",
    "internet.info()"
   ]
  },
  {
   "cell_type": "code",
   "execution_count": 25,
   "metadata": {},
   "outputs": [
    {
     "data": {
      "text/html": [
       "<div>\n",
       "<style scoped>\n",
       "    .dataframe tbody tr th:only-of-type {\n",
       "        vertical-align: middle;\n",
       "    }\n",
       "\n",
       "    .dataframe tbody tr th {\n",
       "        vertical-align: top;\n",
       "    }\n",
       "\n",
       "    .dataframe thead th {\n",
       "        text-align: right;\n",
       "    }\n",
       "</style>\n",
       "<table border=\"1\" class=\"dataframe\">\n",
       "  <thead>\n",
       "    <tr style=\"text-align: right;\">\n",
       "      <th></th>\n",
       "      <th>id</th>\n",
       "      <th>mb_used</th>\n",
       "      <th>session_date</th>\n",
       "      <th>user_id</th>\n",
       "      <th>month</th>\n",
       "    </tr>\n",
       "  </thead>\n",
       "  <tbody>\n",
       "    <tr>\n",
       "      <th>0</th>\n",
       "      <td>1000_0</td>\n",
       "      <td>112.95</td>\n",
       "      <td>2018-11-25</td>\n",
       "      <td>1000</td>\n",
       "      <td>2018-11</td>\n",
       "    </tr>\n",
       "    <tr>\n",
       "      <th>1</th>\n",
       "      <td>1000_1</td>\n",
       "      <td>1052.81</td>\n",
       "      <td>2018-09-07</td>\n",
       "      <td>1000</td>\n",
       "      <td>2018-09</td>\n",
       "    </tr>\n",
       "    <tr>\n",
       "      <th>2</th>\n",
       "      <td>1000_2</td>\n",
       "      <td>1197.26</td>\n",
       "      <td>2018-06-25</td>\n",
       "      <td>1000</td>\n",
       "      <td>2018-06</td>\n",
       "    </tr>\n",
       "    <tr>\n",
       "      <th>3</th>\n",
       "      <td>1000_3</td>\n",
       "      <td>550.27</td>\n",
       "      <td>2018-08-22</td>\n",
       "      <td>1000</td>\n",
       "      <td>2018-08</td>\n",
       "    </tr>\n",
       "    <tr>\n",
       "      <th>4</th>\n",
       "      <td>1000_4</td>\n",
       "      <td>302.56</td>\n",
       "      <td>2018-09-24</td>\n",
       "      <td>1000</td>\n",
       "      <td>2018-09</td>\n",
       "    </tr>\n",
       "  </tbody>\n",
       "</table>\n",
       "</div>"
      ],
      "text/plain": [
       "       id  mb_used session_date  user_id    month\n",
       "0  1000_0   112.95   2018-11-25     1000  2018-11\n",
       "1  1000_1  1052.81   2018-09-07     1000  2018-09\n",
       "2  1000_2  1197.26   2018-06-25     1000  2018-06\n",
       "3  1000_3   550.27   2018-08-22     1000  2018-08\n",
       "4  1000_4   302.56   2018-09-24     1000  2018-09"
      ]
     },
     "execution_count": 25,
     "metadata": {},
     "output_type": "execute_result"
    }
   ],
   "source": [
    "# добавление столбца `month` с месяцем звонка в таблицу `internet`\n",
    "internet['month'] = internet['session_date'].dt.to_period('M')\n",
    "internet.head()"
   ]
  },
  {
   "cell_type": "code",
   "execution_count": 26,
   "metadata": {},
   "outputs": [],
   "source": [
    "# изменение формата даты в столбце `session_date` таблицы `message` на datetime64\n",
    "message['message_date'] = pd.to_datetime(message['message_date'], format='%Y-%m-%d')"
   ]
  },
  {
   "cell_type": "code",
   "execution_count": 27,
   "metadata": {},
   "outputs": [
    {
     "name": "stdout",
     "output_type": "stream",
     "text": [
      "<class 'pandas.core.frame.DataFrame'>\n",
      "RangeIndex: 123036 entries, 0 to 123035\n",
      "Data columns (total 3 columns):\n",
      " #   Column        Non-Null Count   Dtype         \n",
      "---  ------        --------------   -----         \n",
      " 0   id            123036 non-null  object        \n",
      " 1   message_date  123036 non-null  datetime64[ns]\n",
      " 2   user_id       123036 non-null  int64         \n",
      "dtypes: datetime64[ns](1), int64(1), object(1)\n",
      "memory usage: 2.8+ MB\n"
     ]
    }
   ],
   "source": [
    "# проверка изменения формата даты\n",
    "message.info()"
   ]
  },
  {
   "cell_type": "code",
   "execution_count": 28,
   "metadata": {},
   "outputs": [
    {
     "data": {
      "text/html": [
       "<div>\n",
       "<style scoped>\n",
       "    .dataframe tbody tr th:only-of-type {\n",
       "        vertical-align: middle;\n",
       "    }\n",
       "\n",
       "    .dataframe tbody tr th {\n",
       "        vertical-align: top;\n",
       "    }\n",
       "\n",
       "    .dataframe thead th {\n",
       "        text-align: right;\n",
       "    }\n",
       "</style>\n",
       "<table border=\"1\" class=\"dataframe\">\n",
       "  <thead>\n",
       "    <tr style=\"text-align: right;\">\n",
       "      <th></th>\n",
       "      <th>id</th>\n",
       "      <th>message_date</th>\n",
       "      <th>user_id</th>\n",
       "      <th>month</th>\n",
       "    </tr>\n",
       "  </thead>\n",
       "  <tbody>\n",
       "    <tr>\n",
       "      <th>0</th>\n",
       "      <td>1000_0</td>\n",
       "      <td>2018-06-27</td>\n",
       "      <td>1000</td>\n",
       "      <td>2018-06</td>\n",
       "    </tr>\n",
       "    <tr>\n",
       "      <th>1</th>\n",
       "      <td>1000_1</td>\n",
       "      <td>2018-10-08</td>\n",
       "      <td>1000</td>\n",
       "      <td>2018-10</td>\n",
       "    </tr>\n",
       "    <tr>\n",
       "      <th>2</th>\n",
       "      <td>1000_2</td>\n",
       "      <td>2018-08-04</td>\n",
       "      <td>1000</td>\n",
       "      <td>2018-08</td>\n",
       "    </tr>\n",
       "    <tr>\n",
       "      <th>3</th>\n",
       "      <td>1000_3</td>\n",
       "      <td>2018-06-16</td>\n",
       "      <td>1000</td>\n",
       "      <td>2018-06</td>\n",
       "    </tr>\n",
       "    <tr>\n",
       "      <th>4</th>\n",
       "      <td>1000_4</td>\n",
       "      <td>2018-12-05</td>\n",
       "      <td>1000</td>\n",
       "      <td>2018-12</td>\n",
       "    </tr>\n",
       "  </tbody>\n",
       "</table>\n",
       "</div>"
      ],
      "text/plain": [
       "       id message_date  user_id    month\n",
       "0  1000_0   2018-06-27     1000  2018-06\n",
       "1  1000_1   2018-10-08     1000  2018-10\n",
       "2  1000_2   2018-08-04     1000  2018-08\n",
       "3  1000_3   2018-06-16     1000  2018-06\n",
       "4  1000_4   2018-12-05     1000  2018-12"
      ]
     },
     "execution_count": 28,
     "metadata": {},
     "output_type": "execute_result"
    }
   ],
   "source": [
    "# добавление столбца `month` с месяцем звонка в таблицу `message`\n",
    "message['month'] = message['message_date'].dt.to_period('M')\n",
    "message.head()"
   ]
  },
  {
   "cell_type": "code",
   "execution_count": 29,
   "metadata": {},
   "outputs": [
    {
     "data": {
      "text/html": [
       "<div>\n",
       "<style scoped>\n",
       "    .dataframe tbody tr th:only-of-type {\n",
       "        vertical-align: middle;\n",
       "    }\n",
       "\n",
       "    .dataframe tbody tr th {\n",
       "        vertical-align: top;\n",
       "    }\n",
       "\n",
       "    .dataframe thead th {\n",
       "        text-align: right;\n",
       "    }\n",
       "</style>\n",
       "<table border=\"1\" class=\"dataframe\">\n",
       "  <thead>\n",
       "    <tr style=\"text-align: right;\">\n",
       "      <th></th>\n",
       "      <th>user_id</th>\n",
       "      <th>month</th>\n",
       "      <th>duration</th>\n",
       "      <th>calls</th>\n",
       "    </tr>\n",
       "  </thead>\n",
       "  <tbody>\n",
       "    <tr>\n",
       "      <th>0</th>\n",
       "      <td>1000</td>\n",
       "      <td>2018-05</td>\n",
       "      <td>150.06</td>\n",
       "      <td>22</td>\n",
       "    </tr>\n",
       "    <tr>\n",
       "      <th>1</th>\n",
       "      <td>1000</td>\n",
       "      <td>2018-06</td>\n",
       "      <td>158.90</td>\n",
       "      <td>43</td>\n",
       "    </tr>\n",
       "    <tr>\n",
       "      <th>2</th>\n",
       "      <td>1000</td>\n",
       "      <td>2018-07</td>\n",
       "      <td>318.80</td>\n",
       "      <td>47</td>\n",
       "    </tr>\n",
       "    <tr>\n",
       "      <th>3</th>\n",
       "      <td>1000</td>\n",
       "      <td>2018-08</td>\n",
       "      <td>389.87</td>\n",
       "      <td>52</td>\n",
       "    </tr>\n",
       "    <tr>\n",
       "      <th>4</th>\n",
       "      <td>1000</td>\n",
       "      <td>2018-09</td>\n",
       "      <td>440.14</td>\n",
       "      <td>58</td>\n",
       "    </tr>\n",
       "    <tr>\n",
       "      <th>...</th>\n",
       "      <td>...</td>\n",
       "      <td>...</td>\n",
       "      <td>...</td>\n",
       "      <td>...</td>\n",
       "    </tr>\n",
       "    <tr>\n",
       "      <th>3169</th>\n",
       "      <td>1498</td>\n",
       "      <td>2018-10</td>\n",
       "      <td>232.63</td>\n",
       "      <td>41</td>\n",
       "    </tr>\n",
       "    <tr>\n",
       "      <th>3170</th>\n",
       "      <td>1499</td>\n",
       "      <td>2018-09</td>\n",
       "      <td>64.65</td>\n",
       "      <td>9</td>\n",
       "    </tr>\n",
       "    <tr>\n",
       "      <th>3171</th>\n",
       "      <td>1499</td>\n",
       "      <td>2018-10</td>\n",
       "      <td>429.91</td>\n",
       "      <td>68</td>\n",
       "    </tr>\n",
       "    <tr>\n",
       "      <th>3172</th>\n",
       "      <td>1499</td>\n",
       "      <td>2018-11</td>\n",
       "      <td>576.50</td>\n",
       "      <td>74</td>\n",
       "    </tr>\n",
       "    <tr>\n",
       "      <th>3173</th>\n",
       "      <td>1499</td>\n",
       "      <td>2018-12</td>\n",
       "      <td>465.16</td>\n",
       "      <td>69</td>\n",
       "    </tr>\n",
       "  </tbody>\n",
       "</table>\n",
       "<p>3174 rows × 4 columns</p>\n",
       "</div>"
      ],
      "text/plain": [
       "      user_id    month  duration  calls\n",
       "0        1000  2018-05    150.06     22\n",
       "1        1000  2018-06    158.90     43\n",
       "2        1000  2018-07    318.80     47\n",
       "3        1000  2018-08    389.87     52\n",
       "4        1000  2018-09    440.14     58\n",
       "...       ...      ...       ...    ...\n",
       "3169     1498  2018-10    232.63     41\n",
       "3170     1499  2018-09     64.65      9\n",
       "3171     1499  2018-10    429.91     68\n",
       "3172     1499  2018-11    576.50     74\n",
       "3173     1499  2018-12    465.16     69\n",
       "\n",
       "[3174 rows x 4 columns]"
      ]
     },
     "execution_count": 29,
     "metadata": {},
     "output_type": "execute_result"
    }
   ],
   "source": [
    "# определение количества сделанных звонков и израсходованных минут разговора по месяцам\n",
    "# группировка данных по столбцу `month` `user_id`\n",
    "calls = calls.groupby(['user_id', 'month']).agg({'duration': 'sum', 'id': 'count'}).rename(columns = {'id': 'calls'}).reset_index()\n",
    "calls"
   ]
  },
  {
   "cell_type": "code",
   "execution_count": 30,
   "metadata": {},
   "outputs": [
    {
     "data": {
      "text/html": [
       "<div>\n",
       "<style scoped>\n",
       "    .dataframe tbody tr th:only-of-type {\n",
       "        vertical-align: middle;\n",
       "    }\n",
       "\n",
       "    .dataframe tbody tr th {\n",
       "        vertical-align: top;\n",
       "    }\n",
       "\n",
       "    .dataframe thead th {\n",
       "        text-align: right;\n",
       "    }\n",
       "</style>\n",
       "<table border=\"1\" class=\"dataframe\">\n",
       "  <thead>\n",
       "    <tr style=\"text-align: right;\">\n",
       "      <th></th>\n",
       "      <th>user_id</th>\n",
       "      <th>month</th>\n",
       "      <th>message</th>\n",
       "    </tr>\n",
       "  </thead>\n",
       "  <tbody>\n",
       "    <tr>\n",
       "      <th>0</th>\n",
       "      <td>1000</td>\n",
       "      <td>2018-05</td>\n",
       "      <td>22</td>\n",
       "    </tr>\n",
       "    <tr>\n",
       "      <th>1</th>\n",
       "      <td>1000</td>\n",
       "      <td>2018-06</td>\n",
       "      <td>60</td>\n",
       "    </tr>\n",
       "    <tr>\n",
       "      <th>2</th>\n",
       "      <td>1000</td>\n",
       "      <td>2018-07</td>\n",
       "      <td>75</td>\n",
       "    </tr>\n",
       "    <tr>\n",
       "      <th>3</th>\n",
       "      <td>1000</td>\n",
       "      <td>2018-08</td>\n",
       "      <td>81</td>\n",
       "    </tr>\n",
       "    <tr>\n",
       "      <th>4</th>\n",
       "      <td>1000</td>\n",
       "      <td>2018-09</td>\n",
       "      <td>57</td>\n",
       "    </tr>\n",
       "    <tr>\n",
       "      <th>...</th>\n",
       "      <td>...</td>\n",
       "      <td>...</td>\n",
       "      <td>...</td>\n",
       "    </tr>\n",
       "    <tr>\n",
       "      <th>2712</th>\n",
       "      <td>1498</td>\n",
       "      <td>2018-10</td>\n",
       "      <td>42</td>\n",
       "    </tr>\n",
       "    <tr>\n",
       "      <th>2713</th>\n",
       "      <td>1499</td>\n",
       "      <td>2018-09</td>\n",
       "      <td>11</td>\n",
       "    </tr>\n",
       "    <tr>\n",
       "      <th>2714</th>\n",
       "      <td>1499</td>\n",
       "      <td>2018-10</td>\n",
       "      <td>48</td>\n",
       "    </tr>\n",
       "    <tr>\n",
       "      <th>2715</th>\n",
       "      <td>1499</td>\n",
       "      <td>2018-11</td>\n",
       "      <td>59</td>\n",
       "    </tr>\n",
       "    <tr>\n",
       "      <th>2716</th>\n",
       "      <td>1499</td>\n",
       "      <td>2018-12</td>\n",
       "      <td>66</td>\n",
       "    </tr>\n",
       "  </tbody>\n",
       "</table>\n",
       "<p>2717 rows × 3 columns</p>\n",
       "</div>"
      ],
      "text/plain": [
       "      user_id    month  message\n",
       "0        1000  2018-05       22\n",
       "1        1000  2018-06       60\n",
       "2        1000  2018-07       75\n",
       "3        1000  2018-08       81\n",
       "4        1000  2018-09       57\n",
       "...       ...      ...      ...\n",
       "2712     1498  2018-10       42\n",
       "2713     1499  2018-09       11\n",
       "2714     1499  2018-10       48\n",
       "2715     1499  2018-11       59\n",
       "2716     1499  2018-12       66\n",
       "\n",
       "[2717 rows x 3 columns]"
      ]
     },
     "execution_count": 30,
     "metadata": {},
     "output_type": "execute_result"
    }
   ],
   "source": [
    "# определение количества отправленных сообщений по месяцам\n",
    "# группировка данных по столбцу `month` `user_id`\n",
    "message = message.groupby(['user_id', 'month']).agg({'id': 'count'}).rename(columns = {'id': 'message'}).reset_index()\n",
    "message"
   ]
  },
  {
   "cell_type": "code",
   "execution_count": 31,
   "metadata": {},
   "outputs": [
    {
     "data": {
      "text/html": [
       "<div>\n",
       "<style scoped>\n",
       "    .dataframe tbody tr th:only-of-type {\n",
       "        vertical-align: middle;\n",
       "    }\n",
       "\n",
       "    .dataframe tbody tr th {\n",
       "        vertical-align: top;\n",
       "    }\n",
       "\n",
       "    .dataframe thead th {\n",
       "        text-align: right;\n",
       "    }\n",
       "</style>\n",
       "<table border=\"1\" class=\"dataframe\">\n",
       "  <thead>\n",
       "    <tr style=\"text-align: right;\">\n",
       "      <th></th>\n",
       "      <th>user_id</th>\n",
       "      <th>month</th>\n",
       "      <th>mb_used</th>\n",
       "    </tr>\n",
       "  </thead>\n",
       "  <tbody>\n",
       "    <tr>\n",
       "      <th>0</th>\n",
       "      <td>1000</td>\n",
       "      <td>2018-05</td>\n",
       "      <td>2253.49</td>\n",
       "    </tr>\n",
       "    <tr>\n",
       "      <th>1</th>\n",
       "      <td>1000</td>\n",
       "      <td>2018-06</td>\n",
       "      <td>23233.77</td>\n",
       "    </tr>\n",
       "    <tr>\n",
       "      <th>2</th>\n",
       "      <td>1000</td>\n",
       "      <td>2018-07</td>\n",
       "      <td>14003.64</td>\n",
       "    </tr>\n",
       "    <tr>\n",
       "      <th>3</th>\n",
       "      <td>1000</td>\n",
       "      <td>2018-08</td>\n",
       "      <td>14055.93</td>\n",
       "    </tr>\n",
       "    <tr>\n",
       "      <th>4</th>\n",
       "      <td>1000</td>\n",
       "      <td>2018-09</td>\n",
       "      <td>14568.91</td>\n",
       "    </tr>\n",
       "    <tr>\n",
       "      <th>...</th>\n",
       "      <td>...</td>\n",
       "      <td>...</td>\n",
       "      <td>...</td>\n",
       "    </tr>\n",
       "    <tr>\n",
       "      <th>3198</th>\n",
       "      <td>1498</td>\n",
       "      <td>2018-10</td>\n",
       "      <td>20579.36</td>\n",
       "    </tr>\n",
       "    <tr>\n",
       "      <th>3199</th>\n",
       "      <td>1499</td>\n",
       "      <td>2018-09</td>\n",
       "      <td>1845.75</td>\n",
       "    </tr>\n",
       "    <tr>\n",
       "      <th>3200</th>\n",
       "      <td>1499</td>\n",
       "      <td>2018-10</td>\n",
       "      <td>17788.51</td>\n",
       "    </tr>\n",
       "    <tr>\n",
       "      <th>3201</th>\n",
       "      <td>1499</td>\n",
       "      <td>2018-11</td>\n",
       "      <td>17963.31</td>\n",
       "    </tr>\n",
       "    <tr>\n",
       "      <th>3202</th>\n",
       "      <td>1499</td>\n",
       "      <td>2018-12</td>\n",
       "      <td>13055.58</td>\n",
       "    </tr>\n",
       "  </tbody>\n",
       "</table>\n",
       "<p>3203 rows × 3 columns</p>\n",
       "</div>"
      ],
      "text/plain": [
       "      user_id    month   mb_used\n",
       "0        1000  2018-05   2253.49\n",
       "1        1000  2018-06  23233.77\n",
       "2        1000  2018-07  14003.64\n",
       "3        1000  2018-08  14055.93\n",
       "4        1000  2018-09  14568.91\n",
       "...       ...      ...       ...\n",
       "3198     1498  2018-10  20579.36\n",
       "3199     1499  2018-09   1845.75\n",
       "3200     1499  2018-10  17788.51\n",
       "3201     1499  2018-11  17963.31\n",
       "3202     1499  2018-12  13055.58\n",
       "\n",
       "[3203 rows x 3 columns]"
      ]
     },
     "execution_count": 31,
     "metadata": {},
     "output_type": "execute_result"
    }
   ],
   "source": [
    "# определение объемa израсходованного интернет-трафика по месяцам\n",
    "# группировка данных по столбцу `month` `user_id`\n",
    "internet = internet.groupby(['user_id', 'month']).agg({'mb_used': 'sum'}).reset_index()\n",
    "internet"
   ]
  },
  {
   "cell_type": "code",
   "execution_count": 32,
   "metadata": {},
   "outputs": [
    {
     "data": {
      "text/html": [
       "<div>\n",
       "<style scoped>\n",
       "    .dataframe tbody tr th:only-of-type {\n",
       "        vertical-align: middle;\n",
       "    }\n",
       "\n",
       "    .dataframe tbody tr th {\n",
       "        vertical-align: top;\n",
       "    }\n",
       "\n",
       "    .dataframe thead th {\n",
       "        text-align: right;\n",
       "    }\n",
       "</style>\n",
       "<table border=\"1\" class=\"dataframe\">\n",
       "  <thead>\n",
       "    <tr style=\"text-align: right;\">\n",
       "      <th></th>\n",
       "      <th>user_id</th>\n",
       "      <th>month</th>\n",
       "      <th>duration</th>\n",
       "      <th>calls</th>\n",
       "      <th>mb_used</th>\n",
       "      <th>message</th>\n",
       "    </tr>\n",
       "  </thead>\n",
       "  <tbody>\n",
       "    <tr>\n",
       "      <th>0</th>\n",
       "      <td>1000</td>\n",
       "      <td>2018-05</td>\n",
       "      <td>150.06</td>\n",
       "      <td>22.0</td>\n",
       "      <td>2253.49</td>\n",
       "      <td>22.0</td>\n",
       "    </tr>\n",
       "    <tr>\n",
       "      <th>1</th>\n",
       "      <td>1000</td>\n",
       "      <td>2018-06</td>\n",
       "      <td>158.90</td>\n",
       "      <td>43.0</td>\n",
       "      <td>23233.77</td>\n",
       "      <td>60.0</td>\n",
       "    </tr>\n",
       "    <tr>\n",
       "      <th>2</th>\n",
       "      <td>1000</td>\n",
       "      <td>2018-07</td>\n",
       "      <td>318.80</td>\n",
       "      <td>47.0</td>\n",
       "      <td>14003.64</td>\n",
       "      <td>75.0</td>\n",
       "    </tr>\n",
       "    <tr>\n",
       "      <th>3</th>\n",
       "      <td>1000</td>\n",
       "      <td>2018-08</td>\n",
       "      <td>389.87</td>\n",
       "      <td>52.0</td>\n",
       "      <td>14055.93</td>\n",
       "      <td>81.0</td>\n",
       "    </tr>\n",
       "    <tr>\n",
       "      <th>4</th>\n",
       "      <td>1000</td>\n",
       "      <td>2018-09</td>\n",
       "      <td>440.14</td>\n",
       "      <td>58.0</td>\n",
       "      <td>14568.91</td>\n",
       "      <td>57.0</td>\n",
       "    </tr>\n",
       "    <tr>\n",
       "      <th>...</th>\n",
       "      <td>...</td>\n",
       "      <td>...</td>\n",
       "      <td>...</td>\n",
       "      <td>...</td>\n",
       "      <td>...</td>\n",
       "      <td>...</td>\n",
       "    </tr>\n",
       "    <tr>\n",
       "      <th>3209</th>\n",
       "      <td>1489</td>\n",
       "      <td>2018-08</td>\n",
       "      <td>0.00</td>\n",
       "      <td>0.0</td>\n",
       "      <td>11050.56</td>\n",
       "      <td>17.0</td>\n",
       "    </tr>\n",
       "    <tr>\n",
       "      <th>3210</th>\n",
       "      <td>1489</td>\n",
       "      <td>2018-09</td>\n",
       "      <td>0.00</td>\n",
       "      <td>0.0</td>\n",
       "      <td>17206.30</td>\n",
       "      <td>32.0</td>\n",
       "    </tr>\n",
       "    <tr>\n",
       "      <th>3211</th>\n",
       "      <td>1489</td>\n",
       "      <td>2018-10</td>\n",
       "      <td>0.00</td>\n",
       "      <td>0.0</td>\n",
       "      <td>19559.44</td>\n",
       "      <td>21.0</td>\n",
       "    </tr>\n",
       "    <tr>\n",
       "      <th>3212</th>\n",
       "      <td>1489</td>\n",
       "      <td>2018-11</td>\n",
       "      <td>0.00</td>\n",
       "      <td>0.0</td>\n",
       "      <td>17491.56</td>\n",
       "      <td>20.0</td>\n",
       "    </tr>\n",
       "    <tr>\n",
       "      <th>3213</th>\n",
       "      <td>1489</td>\n",
       "      <td>2018-12</td>\n",
       "      <td>0.00</td>\n",
       "      <td>0.0</td>\n",
       "      <td>17322.51</td>\n",
       "      <td>35.0</td>\n",
       "    </tr>\n",
       "  </tbody>\n",
       "</table>\n",
       "<p>3214 rows × 6 columns</p>\n",
       "</div>"
      ],
      "text/plain": [
       "      user_id    month  duration  calls   mb_used  message\n",
       "0        1000  2018-05    150.06   22.0   2253.49     22.0\n",
       "1        1000  2018-06    158.90   43.0  23233.77     60.0\n",
       "2        1000  2018-07    318.80   47.0  14003.64     75.0\n",
       "3        1000  2018-08    389.87   52.0  14055.93     81.0\n",
       "4        1000  2018-09    440.14   58.0  14568.91     57.0\n",
       "...       ...      ...       ...    ...       ...      ...\n",
       "3209     1489  2018-08      0.00    0.0  11050.56     17.0\n",
       "3210     1489  2018-09      0.00    0.0  17206.30     32.0\n",
       "3211     1489  2018-10      0.00    0.0  19559.44     21.0\n",
       "3212     1489  2018-11      0.00    0.0  17491.56     20.0\n",
       "3213     1489  2018-12      0.00    0.0  17322.51     35.0\n",
       "\n",
       "[3214 rows x 6 columns]"
      ]
     },
     "execution_count": 32,
     "metadata": {},
     "output_type": "execute_result"
    }
   ],
   "source": [
    "# склеиваем таблицы по звонкам, интернет-сессиям и сообщениям в одну таблицу `report`\n",
    "report = calls.merge(internet, on =['user_id', 'month'], how = 'outer')\\\n",
    "    .merge(message, on = ['user_id', 'month'], how = 'outer').fillna(0)\n",
    "report"
   ]
  },
  {
   "cell_type": "code",
   "execution_count": 33,
   "metadata": {},
   "outputs": [
    {
     "data": {
      "text/html": [
       "<div>\n",
       "<style scoped>\n",
       "    .dataframe tbody tr th:only-of-type {\n",
       "        vertical-align: middle;\n",
       "    }\n",
       "\n",
       "    .dataframe tbody tr th {\n",
       "        vertical-align: top;\n",
       "    }\n",
       "\n",
       "    .dataframe thead th {\n",
       "        text-align: right;\n",
       "    }\n",
       "</style>\n",
       "<table border=\"1\" class=\"dataframe\">\n",
       "  <thead>\n",
       "    <tr style=\"text-align: right;\">\n",
       "      <th></th>\n",
       "      <th>user_id</th>\n",
       "      <th>month</th>\n",
       "      <th>duration</th>\n",
       "      <th>calls</th>\n",
       "      <th>mb_used</th>\n",
       "      <th>message</th>\n",
       "      <th>age</th>\n",
       "      <th>churn_date</th>\n",
       "      <th>city</th>\n",
       "      <th>first_name</th>\n",
       "      <th>...</th>\n",
       "      <th>reg_date</th>\n",
       "      <th>tariff</th>\n",
       "      <th>messages_included</th>\n",
       "      <th>mb_per_month_included</th>\n",
       "      <th>minutes_included</th>\n",
       "      <th>rub_monthly_fee</th>\n",
       "      <th>rub_per_gb</th>\n",
       "      <th>rub_per_message</th>\n",
       "      <th>rub_per_minute</th>\n",
       "      <th>tariff_name</th>\n",
       "    </tr>\n",
       "  </thead>\n",
       "  <tbody>\n",
       "    <tr>\n",
       "      <th>0</th>\n",
       "      <td>1000</td>\n",
       "      <td>2018-05</td>\n",
       "      <td>150.06</td>\n",
       "      <td>22.0</td>\n",
       "      <td>2253.49</td>\n",
       "      <td>22.0</td>\n",
       "      <td>52</td>\n",
       "      <td>NaN</td>\n",
       "      <td>Краснодар</td>\n",
       "      <td>Рафаил</td>\n",
       "      <td>...</td>\n",
       "      <td>2018-05-25</td>\n",
       "      <td>ultra</td>\n",
       "      <td>1000</td>\n",
       "      <td>30720</td>\n",
       "      <td>3000</td>\n",
       "      <td>1950</td>\n",
       "      <td>150</td>\n",
       "      <td>1</td>\n",
       "      <td>1</td>\n",
       "      <td>ultra</td>\n",
       "    </tr>\n",
       "    <tr>\n",
       "      <th>1</th>\n",
       "      <td>1000</td>\n",
       "      <td>2018-06</td>\n",
       "      <td>158.90</td>\n",
       "      <td>43.0</td>\n",
       "      <td>23233.77</td>\n",
       "      <td>60.0</td>\n",
       "      <td>52</td>\n",
       "      <td>NaN</td>\n",
       "      <td>Краснодар</td>\n",
       "      <td>Рафаил</td>\n",
       "      <td>...</td>\n",
       "      <td>2018-05-25</td>\n",
       "      <td>ultra</td>\n",
       "      <td>1000</td>\n",
       "      <td>30720</td>\n",
       "      <td>3000</td>\n",
       "      <td>1950</td>\n",
       "      <td>150</td>\n",
       "      <td>1</td>\n",
       "      <td>1</td>\n",
       "      <td>ultra</td>\n",
       "    </tr>\n",
       "    <tr>\n",
       "      <th>2</th>\n",
       "      <td>1000</td>\n",
       "      <td>2018-07</td>\n",
       "      <td>318.80</td>\n",
       "      <td>47.0</td>\n",
       "      <td>14003.64</td>\n",
       "      <td>75.0</td>\n",
       "      <td>52</td>\n",
       "      <td>NaN</td>\n",
       "      <td>Краснодар</td>\n",
       "      <td>Рафаил</td>\n",
       "      <td>...</td>\n",
       "      <td>2018-05-25</td>\n",
       "      <td>ultra</td>\n",
       "      <td>1000</td>\n",
       "      <td>30720</td>\n",
       "      <td>3000</td>\n",
       "      <td>1950</td>\n",
       "      <td>150</td>\n",
       "      <td>1</td>\n",
       "      <td>1</td>\n",
       "      <td>ultra</td>\n",
       "    </tr>\n",
       "    <tr>\n",
       "      <th>3</th>\n",
       "      <td>1000</td>\n",
       "      <td>2018-08</td>\n",
       "      <td>389.87</td>\n",
       "      <td>52.0</td>\n",
       "      <td>14055.93</td>\n",
       "      <td>81.0</td>\n",
       "      <td>52</td>\n",
       "      <td>NaN</td>\n",
       "      <td>Краснодар</td>\n",
       "      <td>Рафаил</td>\n",
       "      <td>...</td>\n",
       "      <td>2018-05-25</td>\n",
       "      <td>ultra</td>\n",
       "      <td>1000</td>\n",
       "      <td>30720</td>\n",
       "      <td>3000</td>\n",
       "      <td>1950</td>\n",
       "      <td>150</td>\n",
       "      <td>1</td>\n",
       "      <td>1</td>\n",
       "      <td>ultra</td>\n",
       "    </tr>\n",
       "    <tr>\n",
       "      <th>4</th>\n",
       "      <td>1000</td>\n",
       "      <td>2018-09</td>\n",
       "      <td>440.14</td>\n",
       "      <td>58.0</td>\n",
       "      <td>14568.91</td>\n",
       "      <td>57.0</td>\n",
       "      <td>52</td>\n",
       "      <td>NaN</td>\n",
       "      <td>Краснодар</td>\n",
       "      <td>Рафаил</td>\n",
       "      <td>...</td>\n",
       "      <td>2018-05-25</td>\n",
       "      <td>ultra</td>\n",
       "      <td>1000</td>\n",
       "      <td>30720</td>\n",
       "      <td>3000</td>\n",
       "      <td>1950</td>\n",
       "      <td>150</td>\n",
       "      <td>1</td>\n",
       "      <td>1</td>\n",
       "      <td>ultra</td>\n",
       "    </tr>\n",
       "    <tr>\n",
       "      <th>...</th>\n",
       "      <td>...</td>\n",
       "      <td>...</td>\n",
       "      <td>...</td>\n",
       "      <td>...</td>\n",
       "      <td>...</td>\n",
       "      <td>...</td>\n",
       "      <td>...</td>\n",
       "      <td>...</td>\n",
       "      <td>...</td>\n",
       "      <td>...</td>\n",
       "      <td>...</td>\n",
       "      <td>...</td>\n",
       "      <td>...</td>\n",
       "      <td>...</td>\n",
       "      <td>...</td>\n",
       "      <td>...</td>\n",
       "      <td>...</td>\n",
       "      <td>...</td>\n",
       "      <td>...</td>\n",
       "      <td>...</td>\n",
       "      <td>...</td>\n",
       "    </tr>\n",
       "    <tr>\n",
       "      <th>3209</th>\n",
       "      <td>1489</td>\n",
       "      <td>2018-08</td>\n",
       "      <td>0.00</td>\n",
       "      <td>0.0</td>\n",
       "      <td>11050.56</td>\n",
       "      <td>17.0</td>\n",
       "      <td>35</td>\n",
       "      <td>NaN</td>\n",
       "      <td>Санкт-Петербург</td>\n",
       "      <td>Павел</td>\n",
       "      <td>...</td>\n",
       "      <td>2018-08-15</td>\n",
       "      <td>smart</td>\n",
       "      <td>50</td>\n",
       "      <td>15360</td>\n",
       "      <td>500</td>\n",
       "      <td>550</td>\n",
       "      <td>200</td>\n",
       "      <td>3</td>\n",
       "      <td>3</td>\n",
       "      <td>smart</td>\n",
       "    </tr>\n",
       "    <tr>\n",
       "      <th>3210</th>\n",
       "      <td>1489</td>\n",
       "      <td>2018-09</td>\n",
       "      <td>0.00</td>\n",
       "      <td>0.0</td>\n",
       "      <td>17206.30</td>\n",
       "      <td>32.0</td>\n",
       "      <td>35</td>\n",
       "      <td>NaN</td>\n",
       "      <td>Санкт-Петербург</td>\n",
       "      <td>Павел</td>\n",
       "      <td>...</td>\n",
       "      <td>2018-08-15</td>\n",
       "      <td>smart</td>\n",
       "      <td>50</td>\n",
       "      <td>15360</td>\n",
       "      <td>500</td>\n",
       "      <td>550</td>\n",
       "      <td>200</td>\n",
       "      <td>3</td>\n",
       "      <td>3</td>\n",
       "      <td>smart</td>\n",
       "    </tr>\n",
       "    <tr>\n",
       "      <th>3211</th>\n",
       "      <td>1489</td>\n",
       "      <td>2018-10</td>\n",
       "      <td>0.00</td>\n",
       "      <td>0.0</td>\n",
       "      <td>19559.44</td>\n",
       "      <td>21.0</td>\n",
       "      <td>35</td>\n",
       "      <td>NaN</td>\n",
       "      <td>Санкт-Петербург</td>\n",
       "      <td>Павел</td>\n",
       "      <td>...</td>\n",
       "      <td>2018-08-15</td>\n",
       "      <td>smart</td>\n",
       "      <td>50</td>\n",
       "      <td>15360</td>\n",
       "      <td>500</td>\n",
       "      <td>550</td>\n",
       "      <td>200</td>\n",
       "      <td>3</td>\n",
       "      <td>3</td>\n",
       "      <td>smart</td>\n",
       "    </tr>\n",
       "    <tr>\n",
       "      <th>3212</th>\n",
       "      <td>1489</td>\n",
       "      <td>2018-11</td>\n",
       "      <td>0.00</td>\n",
       "      <td>0.0</td>\n",
       "      <td>17491.56</td>\n",
       "      <td>20.0</td>\n",
       "      <td>35</td>\n",
       "      <td>NaN</td>\n",
       "      <td>Санкт-Петербург</td>\n",
       "      <td>Павел</td>\n",
       "      <td>...</td>\n",
       "      <td>2018-08-15</td>\n",
       "      <td>smart</td>\n",
       "      <td>50</td>\n",
       "      <td>15360</td>\n",
       "      <td>500</td>\n",
       "      <td>550</td>\n",
       "      <td>200</td>\n",
       "      <td>3</td>\n",
       "      <td>3</td>\n",
       "      <td>smart</td>\n",
       "    </tr>\n",
       "    <tr>\n",
       "      <th>3213</th>\n",
       "      <td>1489</td>\n",
       "      <td>2018-12</td>\n",
       "      <td>0.00</td>\n",
       "      <td>0.0</td>\n",
       "      <td>17322.51</td>\n",
       "      <td>35.0</td>\n",
       "      <td>35</td>\n",
       "      <td>NaN</td>\n",
       "      <td>Санкт-Петербург</td>\n",
       "      <td>Павел</td>\n",
       "      <td>...</td>\n",
       "      <td>2018-08-15</td>\n",
       "      <td>smart</td>\n",
       "      <td>50</td>\n",
       "      <td>15360</td>\n",
       "      <td>500</td>\n",
       "      <td>550</td>\n",
       "      <td>200</td>\n",
       "      <td>3</td>\n",
       "      <td>3</td>\n",
       "      <td>smart</td>\n",
       "    </tr>\n",
       "  </tbody>\n",
       "</table>\n",
       "<p>3214 rows × 21 columns</p>\n",
       "</div>"
      ],
      "text/plain": [
       "      user_id    month  duration  calls   mb_used  message  age churn_date  \\\n",
       "0        1000  2018-05    150.06   22.0   2253.49     22.0   52        NaN   \n",
       "1        1000  2018-06    158.90   43.0  23233.77     60.0   52        NaN   \n",
       "2        1000  2018-07    318.80   47.0  14003.64     75.0   52        NaN   \n",
       "3        1000  2018-08    389.87   52.0  14055.93     81.0   52        NaN   \n",
       "4        1000  2018-09    440.14   58.0  14568.91     57.0   52        NaN   \n",
       "...       ...      ...       ...    ...       ...      ...  ...        ...   \n",
       "3209     1489  2018-08      0.00    0.0  11050.56     17.0   35        NaN   \n",
       "3210     1489  2018-09      0.00    0.0  17206.30     32.0   35        NaN   \n",
       "3211     1489  2018-10      0.00    0.0  19559.44     21.0   35        NaN   \n",
       "3212     1489  2018-11      0.00    0.0  17491.56     20.0   35        NaN   \n",
       "3213     1489  2018-12      0.00    0.0  17322.51     35.0   35        NaN   \n",
       "\n",
       "                 city first_name  ...    reg_date tariff messages_included  \\\n",
       "0           Краснодар     Рафаил  ...  2018-05-25  ultra              1000   \n",
       "1           Краснодар     Рафаил  ...  2018-05-25  ultra              1000   \n",
       "2           Краснодар     Рафаил  ...  2018-05-25  ultra              1000   \n",
       "3           Краснодар     Рафаил  ...  2018-05-25  ultra              1000   \n",
       "4           Краснодар     Рафаил  ...  2018-05-25  ultra              1000   \n",
       "...               ...        ...  ...         ...    ...               ...   \n",
       "3209  Санкт-Петербург      Павел  ...  2018-08-15  smart                50   \n",
       "3210  Санкт-Петербург      Павел  ...  2018-08-15  smart                50   \n",
       "3211  Санкт-Петербург      Павел  ...  2018-08-15  smart                50   \n",
       "3212  Санкт-Петербург      Павел  ...  2018-08-15  smart                50   \n",
       "3213  Санкт-Петербург      Павел  ...  2018-08-15  smart                50   \n",
       "\n",
       "      mb_per_month_included  minutes_included  rub_monthly_fee  rub_per_gb  \\\n",
       "0                     30720              3000             1950         150   \n",
       "1                     30720              3000             1950         150   \n",
       "2                     30720              3000             1950         150   \n",
       "3                     30720              3000             1950         150   \n",
       "4                     30720              3000             1950         150   \n",
       "...                     ...               ...              ...         ...   \n",
       "3209                  15360               500              550         200   \n",
       "3210                  15360               500              550         200   \n",
       "3211                  15360               500              550         200   \n",
       "3212                  15360               500              550         200   \n",
       "3213                  15360               500              550         200   \n",
       "\n",
       "      rub_per_message  rub_per_minute  tariff_name  \n",
       "0                   1               1        ultra  \n",
       "1                   1               1        ultra  \n",
       "2                   1               1        ultra  \n",
       "3                   1               1        ultra  \n",
       "4                   1               1        ultra  \n",
       "...               ...             ...          ...  \n",
       "3209                3               3        smart  \n",
       "3210                3               3        smart  \n",
       "3211                3               3        smart  \n",
       "3212                3               3        smart  \n",
       "3213                3               3        smart  \n",
       "\n",
       "[3214 rows x 21 columns]"
      ]
     },
     "execution_count": 33,
     "metadata": {},
     "output_type": "execute_result"
    }
   ],
   "source": [
    "report = report.merge(users, on = 'user_id', how = 'left').merge(tariffs, left_on='tariff', right_on = 'tariff_name', how = 'left')\n",
    "report"
   ]
  },
  {
   "cell_type": "code",
   "execution_count": 34,
   "metadata": {
    "scrolled": true
   },
   "outputs": [
    {
     "name": "stdout",
     "output_type": "stream",
     "text": [
      "<class 'pandas.core.frame.DataFrame'>\n",
      "Int64Index: 3214 entries, 0 to 3213\n",
      "Data columns (total 21 columns):\n",
      " #   Column                 Non-Null Count  Dtype    \n",
      "---  ------                 --------------  -----    \n",
      " 0   user_id                3214 non-null   int64    \n",
      " 1   month                  3214 non-null   period[M]\n",
      " 2   duration               3214 non-null   float64  \n",
      " 3   calls                  3214 non-null   float64  \n",
      " 4   mb_used                3214 non-null   float64  \n",
      " 5   message                3214 non-null   float64  \n",
      " 6   age                    3214 non-null   int64    \n",
      " 7   churn_date             187 non-null    object   \n",
      " 8   city                   3214 non-null   object   \n",
      " 9   first_name             3214 non-null   object   \n",
      " 10  last_name              3214 non-null   object   \n",
      " 11  reg_date               3214 non-null   object   \n",
      " 12  tariff                 3214 non-null   object   \n",
      " 13  messages_included      3214 non-null   int64    \n",
      " 14  mb_per_month_included  3214 non-null   int64    \n",
      " 15  minutes_included       3214 non-null   int64    \n",
      " 16  rub_monthly_fee        3214 non-null   int64    \n",
      " 17  rub_per_gb             3214 non-null   int64    \n",
      " 18  rub_per_message        3214 non-null   int64    \n",
      " 19  rub_per_minute         3214 non-null   int64    \n",
      " 20  tariff_name            3214 non-null   object   \n",
      "dtypes: float64(4), int64(9), object(7), period[M](1)\n",
      "memory usage: 552.4+ KB\n"
     ]
    }
   ],
   "source": [
    "report.info()"
   ]
  },
  {
   "cell_type": "code",
   "execution_count": 35,
   "metadata": {},
   "outputs": [
    {
     "data": {
      "text/plain": [
       "(3214, 21)"
      ]
     },
     "execution_count": 35,
     "metadata": {},
     "output_type": "execute_result"
    }
   ],
   "source": [
    "report.shape"
   ]
  },
  {
   "cell_type": "code",
   "execution_count": 36,
   "metadata": {},
   "outputs": [
    {
     "data": {
      "text/plain": [
       "498"
      ]
     },
     "execution_count": 36,
     "metadata": {},
     "output_type": "execute_result"
    }
   ],
   "source": [
    "report.user_id.nunique()"
   ]
  },
  {
   "cell_type": "code",
   "execution_count": 37,
   "metadata": {},
   "outputs": [],
   "source": [
    "# функция для определения помесячной выручки с каждого пользователя\n",
    "def proceeds_month(row):\n",
    "    #определение минут свыше тарифа\n",
    "    if row['duration'] > row['minutes_included']:\n",
    "        duration_over = row['duration'] - row['minutes_included']\n",
    "        duration_over = math.ceil(duration_over)\n",
    "    else: duration_over = 0\n",
    "    \n",
    "    #определение количества сообщений свыше тарифа\n",
    "    if row['message'] > row['messages_included']:\n",
    "        message_over = row['message'] - row['messages_included']\n",
    "    else: message_over = 0\n",
    "        \n",
    "    #определение ГБ свыше тарифа\n",
    "    if row['mb_used'] > row['mb_per_month_included']:\n",
    "        mb_over = row['mb_used'] - row['mb_per_month_included']\n",
    "        mb_over = mb_over / 1024\n",
    "        mb_over = math.ceil(mb_over)\n",
    "    else: mb_over = 0\n",
    "        \n",
    "    proceeds_month = row['rub_monthly_fee'] + duration_over * row['rub_per_minute'] + message_over * row['rub_per_message'] + mb_over * row['rub_per_gb'] \n",
    "    \n",
    "    return proceeds_month"
   ]
  },
  {
   "cell_type": "code",
   "execution_count": 38,
   "metadata": {},
   "outputs": [
    {
     "data": {
      "text/html": [
       "<div>\n",
       "<style scoped>\n",
       "    .dataframe tbody tr th:only-of-type {\n",
       "        vertical-align: middle;\n",
       "    }\n",
       "\n",
       "    .dataframe tbody tr th {\n",
       "        vertical-align: top;\n",
       "    }\n",
       "\n",
       "    .dataframe thead th {\n",
       "        text-align: right;\n",
       "    }\n",
       "</style>\n",
       "<table border=\"1\" class=\"dataframe\">\n",
       "  <thead>\n",
       "    <tr style=\"text-align: right;\">\n",
       "      <th></th>\n",
       "      <th>user_id</th>\n",
       "      <th>month</th>\n",
       "      <th>duration</th>\n",
       "      <th>calls</th>\n",
       "      <th>mb_used</th>\n",
       "      <th>message</th>\n",
       "      <th>age</th>\n",
       "      <th>churn_date</th>\n",
       "      <th>city</th>\n",
       "      <th>first_name</th>\n",
       "      <th>...</th>\n",
       "      <th>tariff</th>\n",
       "      <th>messages_included</th>\n",
       "      <th>mb_per_month_included</th>\n",
       "      <th>minutes_included</th>\n",
       "      <th>rub_monthly_fee</th>\n",
       "      <th>rub_per_gb</th>\n",
       "      <th>rub_per_message</th>\n",
       "      <th>rub_per_minute</th>\n",
       "      <th>tariff_name</th>\n",
       "      <th>proceeds_month</th>\n",
       "    </tr>\n",
       "  </thead>\n",
       "  <tbody>\n",
       "    <tr>\n",
       "      <th>0</th>\n",
       "      <td>1000</td>\n",
       "      <td>2018-05</td>\n",
       "      <td>150.06</td>\n",
       "      <td>22.0</td>\n",
       "      <td>2253.49</td>\n",
       "      <td>22.0</td>\n",
       "      <td>52</td>\n",
       "      <td>NaN</td>\n",
       "      <td>Краснодар</td>\n",
       "      <td>Рафаил</td>\n",
       "      <td>...</td>\n",
       "      <td>ultra</td>\n",
       "      <td>1000</td>\n",
       "      <td>30720</td>\n",
       "      <td>3000</td>\n",
       "      <td>1950</td>\n",
       "      <td>150</td>\n",
       "      <td>1</td>\n",
       "      <td>1</td>\n",
       "      <td>ultra</td>\n",
       "      <td>1950.0</td>\n",
       "    </tr>\n",
       "    <tr>\n",
       "      <th>1</th>\n",
       "      <td>1000</td>\n",
       "      <td>2018-06</td>\n",
       "      <td>158.90</td>\n",
       "      <td>43.0</td>\n",
       "      <td>23233.77</td>\n",
       "      <td>60.0</td>\n",
       "      <td>52</td>\n",
       "      <td>NaN</td>\n",
       "      <td>Краснодар</td>\n",
       "      <td>Рафаил</td>\n",
       "      <td>...</td>\n",
       "      <td>ultra</td>\n",
       "      <td>1000</td>\n",
       "      <td>30720</td>\n",
       "      <td>3000</td>\n",
       "      <td>1950</td>\n",
       "      <td>150</td>\n",
       "      <td>1</td>\n",
       "      <td>1</td>\n",
       "      <td>ultra</td>\n",
       "      <td>1950.0</td>\n",
       "    </tr>\n",
       "    <tr>\n",
       "      <th>2</th>\n",
       "      <td>1000</td>\n",
       "      <td>2018-07</td>\n",
       "      <td>318.80</td>\n",
       "      <td>47.0</td>\n",
       "      <td>14003.64</td>\n",
       "      <td>75.0</td>\n",
       "      <td>52</td>\n",
       "      <td>NaN</td>\n",
       "      <td>Краснодар</td>\n",
       "      <td>Рафаил</td>\n",
       "      <td>...</td>\n",
       "      <td>ultra</td>\n",
       "      <td>1000</td>\n",
       "      <td>30720</td>\n",
       "      <td>3000</td>\n",
       "      <td>1950</td>\n",
       "      <td>150</td>\n",
       "      <td>1</td>\n",
       "      <td>1</td>\n",
       "      <td>ultra</td>\n",
       "      <td>1950.0</td>\n",
       "    </tr>\n",
       "    <tr>\n",
       "      <th>3</th>\n",
       "      <td>1000</td>\n",
       "      <td>2018-08</td>\n",
       "      <td>389.87</td>\n",
       "      <td>52.0</td>\n",
       "      <td>14055.93</td>\n",
       "      <td>81.0</td>\n",
       "      <td>52</td>\n",
       "      <td>NaN</td>\n",
       "      <td>Краснодар</td>\n",
       "      <td>Рафаил</td>\n",
       "      <td>...</td>\n",
       "      <td>ultra</td>\n",
       "      <td>1000</td>\n",
       "      <td>30720</td>\n",
       "      <td>3000</td>\n",
       "      <td>1950</td>\n",
       "      <td>150</td>\n",
       "      <td>1</td>\n",
       "      <td>1</td>\n",
       "      <td>ultra</td>\n",
       "      <td>1950.0</td>\n",
       "    </tr>\n",
       "    <tr>\n",
       "      <th>4</th>\n",
       "      <td>1000</td>\n",
       "      <td>2018-09</td>\n",
       "      <td>440.14</td>\n",
       "      <td>58.0</td>\n",
       "      <td>14568.91</td>\n",
       "      <td>57.0</td>\n",
       "      <td>52</td>\n",
       "      <td>NaN</td>\n",
       "      <td>Краснодар</td>\n",
       "      <td>Рафаил</td>\n",
       "      <td>...</td>\n",
       "      <td>ultra</td>\n",
       "      <td>1000</td>\n",
       "      <td>30720</td>\n",
       "      <td>3000</td>\n",
       "      <td>1950</td>\n",
       "      <td>150</td>\n",
       "      <td>1</td>\n",
       "      <td>1</td>\n",
       "      <td>ultra</td>\n",
       "      <td>1950.0</td>\n",
       "    </tr>\n",
       "  </tbody>\n",
       "</table>\n",
       "<p>5 rows × 22 columns</p>\n",
       "</div>"
      ],
      "text/plain": [
       "   user_id    month  duration  calls   mb_used  message  age churn_date  \\\n",
       "0     1000  2018-05    150.06   22.0   2253.49     22.0   52        NaN   \n",
       "1     1000  2018-06    158.90   43.0  23233.77     60.0   52        NaN   \n",
       "2     1000  2018-07    318.80   47.0  14003.64     75.0   52        NaN   \n",
       "3     1000  2018-08    389.87   52.0  14055.93     81.0   52        NaN   \n",
       "4     1000  2018-09    440.14   58.0  14568.91     57.0   52        NaN   \n",
       "\n",
       "        city first_name  ... tariff messages_included mb_per_month_included  \\\n",
       "0  Краснодар     Рафаил  ...  ultra              1000                 30720   \n",
       "1  Краснодар     Рафаил  ...  ultra              1000                 30720   \n",
       "2  Краснодар     Рафаил  ...  ultra              1000                 30720   \n",
       "3  Краснодар     Рафаил  ...  ultra              1000                 30720   \n",
       "4  Краснодар     Рафаил  ...  ultra              1000                 30720   \n",
       "\n",
       "   minutes_included  rub_monthly_fee  rub_per_gb  rub_per_message  \\\n",
       "0              3000             1950         150                1   \n",
       "1              3000             1950         150                1   \n",
       "2              3000             1950         150                1   \n",
       "3              3000             1950         150                1   \n",
       "4              3000             1950         150                1   \n",
       "\n",
       "   rub_per_minute  tariff_name  proceeds_month  \n",
       "0               1        ultra          1950.0  \n",
       "1               1        ultra          1950.0  \n",
       "2               1        ultra          1950.0  \n",
       "3               1        ultra          1950.0  \n",
       "4               1        ultra          1950.0  \n",
       "\n",
       "[5 rows x 22 columns]"
      ]
     },
     "execution_count": 38,
     "metadata": {},
     "output_type": "execute_result"
    }
   ],
   "source": [
    "# определение помесячной выручки с каждого пользователя\n",
    "report['proceeds_month'] = report.apply(proceeds_month, axis=1)\n",
    "report.head()"
   ]
  },
  {
   "cell_type": "code",
   "execution_count": 39,
   "metadata": {},
   "outputs": [
    {
     "data": {
      "text/plain": [
       "count    3214.000000\n",
       "mean     1506.616366\n",
       "std       792.801111\n",
       "min       550.000000\n",
       "25%       742.000000\n",
       "50%      1565.500000\n",
       "75%      1950.000000\n",
       "max      6614.000000\n",
       "Name: proceeds_month, dtype: float64"
      ]
     },
     "execution_count": 39,
     "metadata": {},
     "output_type": "execute_result"
    }
   ],
   "source": [
    "report['proceeds_month'].describe()"
   ]
  },
  {
   "cell_type": "code",
   "execution_count": 40,
   "metadata": {},
   "outputs": [],
   "source": [
    "# функция для определения принадлежности пользователя к Москве или к другому региону\n",
    "def location(loc):\n",
    "    if loc == 'Москва':\n",
    "        return 'Москва'\n",
    "    else: return 'Другое'"
   ]
  },
  {
   "cell_type": "code",
   "execution_count": 41,
   "metadata": {},
   "outputs": [
    {
     "data": {
      "text/html": [
       "<div>\n",
       "<style scoped>\n",
       "    .dataframe tbody tr th:only-of-type {\n",
       "        vertical-align: middle;\n",
       "    }\n",
       "\n",
       "    .dataframe tbody tr th {\n",
       "        vertical-align: top;\n",
       "    }\n",
       "\n",
       "    .dataframe thead th {\n",
       "        text-align: right;\n",
       "    }\n",
       "</style>\n",
       "<table border=\"1\" class=\"dataframe\">\n",
       "  <thead>\n",
       "    <tr style=\"text-align: right;\">\n",
       "      <th></th>\n",
       "      <th>city</th>\n",
       "      <th>location</th>\n",
       "    </tr>\n",
       "  </thead>\n",
       "  <tbody>\n",
       "    <tr>\n",
       "      <th>0</th>\n",
       "      <td>Краснодар</td>\n",
       "      <td>Другое</td>\n",
       "    </tr>\n",
       "    <tr>\n",
       "      <th>1</th>\n",
       "      <td>Краснодар</td>\n",
       "      <td>Другое</td>\n",
       "    </tr>\n",
       "    <tr>\n",
       "      <th>2</th>\n",
       "      <td>Краснодар</td>\n",
       "      <td>Другое</td>\n",
       "    </tr>\n",
       "    <tr>\n",
       "      <th>3</th>\n",
       "      <td>Краснодар</td>\n",
       "      <td>Другое</td>\n",
       "    </tr>\n",
       "    <tr>\n",
       "      <th>4</th>\n",
       "      <td>Краснодар</td>\n",
       "      <td>Другое</td>\n",
       "    </tr>\n",
       "    <tr>\n",
       "      <th>5</th>\n",
       "      <td>Краснодар</td>\n",
       "      <td>Другое</td>\n",
       "    </tr>\n",
       "    <tr>\n",
       "      <th>6</th>\n",
       "      <td>Краснодар</td>\n",
       "      <td>Другое</td>\n",
       "    </tr>\n",
       "    <tr>\n",
       "      <th>7</th>\n",
       "      <td>Краснодар</td>\n",
       "      <td>Другое</td>\n",
       "    </tr>\n",
       "    <tr>\n",
       "      <th>8</th>\n",
       "      <td>Москва</td>\n",
       "      <td>Москва</td>\n",
       "    </tr>\n",
       "    <tr>\n",
       "      <th>9</th>\n",
       "      <td>Москва</td>\n",
       "      <td>Москва</td>\n",
       "    </tr>\n",
       "  </tbody>\n",
       "</table>\n",
       "</div>"
      ],
      "text/plain": [
       "        city location\n",
       "0  Краснодар   Другое\n",
       "1  Краснодар   Другое\n",
       "2  Краснодар   Другое\n",
       "3  Краснодар   Другое\n",
       "4  Краснодар   Другое\n",
       "5  Краснодар   Другое\n",
       "6  Краснодар   Другое\n",
       "7  Краснодар   Другое\n",
       "8     Москва   Москва\n",
       "9     Москва   Москва"
      ]
     },
     "execution_count": 41,
     "metadata": {},
     "output_type": "execute_result"
    }
   ],
   "source": [
    "# определение принадлежность пользователя к Москве или к другому региону\n",
    "report['location'] = report['city'].apply(location)\n",
    "report.loc[:,['city', 'location']].head(10)"
   ]
  },
  {
   "cell_type": "code",
   "execution_count": 42,
   "metadata": {},
   "outputs": [
    {
     "data": {
      "text/plain": [
       "0"
      ]
     },
     "execution_count": 42,
     "metadata": {},
     "output_type": "execute_result"
    }
   ],
   "source": [
    "# подсчёт явных дубликатов\n",
    "report.duplicated().sum()"
   ]
  },
  {
   "cell_type": "markdown",
   "metadata": {},
   "source": [
    "### Вывод"
   ]
  },
  {
   "cell_type": "markdown",
   "metadata": {},
   "source": [
    "В рамках предобработки данных выполнили следующие шаги:\n",
    "* изменен тип данных в столбцах, содержащих дату, на `datetime64`,\n",
    "* добавлены новые столбцы с расчетами количества сделанных звонков и израсходованных минут разговора по месяцам, количества отправленных сообщений по месяцам и объема израсходованного интернет-трафика по месяцам,\n",
    "* все имеищиеся таблицы были объединены в одну `report` для дальнейшего анализа,\n",
    "* проведена проверка на дубликаты, дубликаты отсутствуют."
   ]
  },
  {
   "cell_type": "markdown",
   "metadata": {},
   "source": [
    "## Исследовательский анализ данных"
   ]
  },
  {
   "cell_type": "code",
   "execution_count": 43,
   "metadata": {},
   "outputs": [
    {
     "data": {
      "text/html": [
       "<div>\n",
       "<style scoped>\n",
       "    .dataframe tbody tr th:only-of-type {\n",
       "        vertical-align: middle;\n",
       "    }\n",
       "\n",
       "    .dataframe tbody tr th {\n",
       "        vertical-align: top;\n",
       "    }\n",
       "\n",
       "    .dataframe thead th {\n",
       "        text-align: right;\n",
       "    }\n",
       "</style>\n",
       "<table border=\"1\" class=\"dataframe\">\n",
       "  <thead>\n",
       "    <tr style=\"text-align: right;\">\n",
       "      <th></th>\n",
       "      <th>user_id</th>\n",
       "      <th>month</th>\n",
       "      <th>duration</th>\n",
       "      <th>calls</th>\n",
       "      <th>mb_used</th>\n",
       "      <th>message</th>\n",
       "      <th>age</th>\n",
       "      <th>churn_date</th>\n",
       "      <th>city</th>\n",
       "      <th>first_name</th>\n",
       "      <th>...</th>\n",
       "      <th>messages_included</th>\n",
       "      <th>mb_per_month_included</th>\n",
       "      <th>minutes_included</th>\n",
       "      <th>rub_monthly_fee</th>\n",
       "      <th>rub_per_gb</th>\n",
       "      <th>rub_per_message</th>\n",
       "      <th>rub_per_minute</th>\n",
       "      <th>tariff_name</th>\n",
       "      <th>proceeds_month</th>\n",
       "      <th>location</th>\n",
       "    </tr>\n",
       "  </thead>\n",
       "  <tbody>\n",
       "    <tr>\n",
       "      <th>0</th>\n",
       "      <td>1000</td>\n",
       "      <td>2018-05</td>\n",
       "      <td>150.06</td>\n",
       "      <td>22.0</td>\n",
       "      <td>2253.49</td>\n",
       "      <td>22.0</td>\n",
       "      <td>52</td>\n",
       "      <td>NaN</td>\n",
       "      <td>Краснодар</td>\n",
       "      <td>Рафаил</td>\n",
       "      <td>...</td>\n",
       "      <td>1000</td>\n",
       "      <td>30720</td>\n",
       "      <td>3000</td>\n",
       "      <td>1950</td>\n",
       "      <td>150</td>\n",
       "      <td>1</td>\n",
       "      <td>1</td>\n",
       "      <td>ultra</td>\n",
       "      <td>1950.0</td>\n",
       "      <td>Другое</td>\n",
       "    </tr>\n",
       "    <tr>\n",
       "      <th>1</th>\n",
       "      <td>1000</td>\n",
       "      <td>2018-06</td>\n",
       "      <td>158.90</td>\n",
       "      <td>43.0</td>\n",
       "      <td>23233.77</td>\n",
       "      <td>60.0</td>\n",
       "      <td>52</td>\n",
       "      <td>NaN</td>\n",
       "      <td>Краснодар</td>\n",
       "      <td>Рафаил</td>\n",
       "      <td>...</td>\n",
       "      <td>1000</td>\n",
       "      <td>30720</td>\n",
       "      <td>3000</td>\n",
       "      <td>1950</td>\n",
       "      <td>150</td>\n",
       "      <td>1</td>\n",
       "      <td>1</td>\n",
       "      <td>ultra</td>\n",
       "      <td>1950.0</td>\n",
       "      <td>Другое</td>\n",
       "    </tr>\n",
       "    <tr>\n",
       "      <th>2</th>\n",
       "      <td>1000</td>\n",
       "      <td>2018-07</td>\n",
       "      <td>318.80</td>\n",
       "      <td>47.0</td>\n",
       "      <td>14003.64</td>\n",
       "      <td>75.0</td>\n",
       "      <td>52</td>\n",
       "      <td>NaN</td>\n",
       "      <td>Краснодар</td>\n",
       "      <td>Рафаил</td>\n",
       "      <td>...</td>\n",
       "      <td>1000</td>\n",
       "      <td>30720</td>\n",
       "      <td>3000</td>\n",
       "      <td>1950</td>\n",
       "      <td>150</td>\n",
       "      <td>1</td>\n",
       "      <td>1</td>\n",
       "      <td>ultra</td>\n",
       "      <td>1950.0</td>\n",
       "      <td>Другое</td>\n",
       "    </tr>\n",
       "    <tr>\n",
       "      <th>3</th>\n",
       "      <td>1000</td>\n",
       "      <td>2018-08</td>\n",
       "      <td>389.87</td>\n",
       "      <td>52.0</td>\n",
       "      <td>14055.93</td>\n",
       "      <td>81.0</td>\n",
       "      <td>52</td>\n",
       "      <td>NaN</td>\n",
       "      <td>Краснодар</td>\n",
       "      <td>Рафаил</td>\n",
       "      <td>...</td>\n",
       "      <td>1000</td>\n",
       "      <td>30720</td>\n",
       "      <td>3000</td>\n",
       "      <td>1950</td>\n",
       "      <td>150</td>\n",
       "      <td>1</td>\n",
       "      <td>1</td>\n",
       "      <td>ultra</td>\n",
       "      <td>1950.0</td>\n",
       "      <td>Другое</td>\n",
       "    </tr>\n",
       "    <tr>\n",
       "      <th>4</th>\n",
       "      <td>1000</td>\n",
       "      <td>2018-09</td>\n",
       "      <td>440.14</td>\n",
       "      <td>58.0</td>\n",
       "      <td>14568.91</td>\n",
       "      <td>57.0</td>\n",
       "      <td>52</td>\n",
       "      <td>NaN</td>\n",
       "      <td>Краснодар</td>\n",
       "      <td>Рафаил</td>\n",
       "      <td>...</td>\n",
       "      <td>1000</td>\n",
       "      <td>30720</td>\n",
       "      <td>3000</td>\n",
       "      <td>1950</td>\n",
       "      <td>150</td>\n",
       "      <td>1</td>\n",
       "      <td>1</td>\n",
       "      <td>ultra</td>\n",
       "      <td>1950.0</td>\n",
       "      <td>Другое</td>\n",
       "    </tr>\n",
       "    <tr>\n",
       "      <th>...</th>\n",
       "      <td>...</td>\n",
       "      <td>...</td>\n",
       "      <td>...</td>\n",
       "      <td>...</td>\n",
       "      <td>...</td>\n",
       "      <td>...</td>\n",
       "      <td>...</td>\n",
       "      <td>...</td>\n",
       "      <td>...</td>\n",
       "      <td>...</td>\n",
       "      <td>...</td>\n",
       "      <td>...</td>\n",
       "      <td>...</td>\n",
       "      <td>...</td>\n",
       "      <td>...</td>\n",
       "      <td>...</td>\n",
       "      <td>...</td>\n",
       "      <td>...</td>\n",
       "      <td>...</td>\n",
       "      <td>...</td>\n",
       "      <td>...</td>\n",
       "    </tr>\n",
       "    <tr>\n",
       "      <th>3204</th>\n",
       "      <td>1473</td>\n",
       "      <td>2018-09</td>\n",
       "      <td>0.00</td>\n",
       "      <td>0.0</td>\n",
       "      <td>17289.85</td>\n",
       "      <td>19.0</td>\n",
       "      <td>18</td>\n",
       "      <td>NaN</td>\n",
       "      <td>Красноярск</td>\n",
       "      <td>Николай</td>\n",
       "      <td>...</td>\n",
       "      <td>1000</td>\n",
       "      <td>30720</td>\n",
       "      <td>3000</td>\n",
       "      <td>1950</td>\n",
       "      <td>150</td>\n",
       "      <td>1</td>\n",
       "      <td>1</td>\n",
       "      <td>ultra</td>\n",
       "      <td>1950.0</td>\n",
       "      <td>Другое</td>\n",
       "    </tr>\n",
       "    <tr>\n",
       "      <th>3205</th>\n",
       "      <td>1473</td>\n",
       "      <td>2018-10</td>\n",
       "      <td>0.00</td>\n",
       "      <td>0.0</td>\n",
       "      <td>13688.65</td>\n",
       "      <td>20.0</td>\n",
       "      <td>18</td>\n",
       "      <td>NaN</td>\n",
       "      <td>Красноярск</td>\n",
       "      <td>Николай</td>\n",
       "      <td>...</td>\n",
       "      <td>1000</td>\n",
       "      <td>30720</td>\n",
       "      <td>3000</td>\n",
       "      <td>1950</td>\n",
       "      <td>150</td>\n",
       "      <td>1</td>\n",
       "      <td>1</td>\n",
       "      <td>ultra</td>\n",
       "      <td>1950.0</td>\n",
       "      <td>Другое</td>\n",
       "    </tr>\n",
       "    <tr>\n",
       "      <th>3206</th>\n",
       "      <td>1473</td>\n",
       "      <td>2018-11</td>\n",
       "      <td>0.00</td>\n",
       "      <td>0.0</td>\n",
       "      <td>21673.80</td>\n",
       "      <td>14.0</td>\n",
       "      <td>18</td>\n",
       "      <td>NaN</td>\n",
       "      <td>Красноярск</td>\n",
       "      <td>Николай</td>\n",
       "      <td>...</td>\n",
       "      <td>1000</td>\n",
       "      <td>30720</td>\n",
       "      <td>3000</td>\n",
       "      <td>1950</td>\n",
       "      <td>150</td>\n",
       "      <td>1</td>\n",
       "      <td>1</td>\n",
       "      <td>ultra</td>\n",
       "      <td>1950.0</td>\n",
       "      <td>Другое</td>\n",
       "    </tr>\n",
       "    <tr>\n",
       "      <th>3207</th>\n",
       "      <td>1473</td>\n",
       "      <td>2018-12</td>\n",
       "      <td>0.00</td>\n",
       "      <td>0.0</td>\n",
       "      <td>18418.26</td>\n",
       "      <td>20.0</td>\n",
       "      <td>18</td>\n",
       "      <td>NaN</td>\n",
       "      <td>Красноярск</td>\n",
       "      <td>Николай</td>\n",
       "      <td>...</td>\n",
       "      <td>1000</td>\n",
       "      <td>30720</td>\n",
       "      <td>3000</td>\n",
       "      <td>1950</td>\n",
       "      <td>150</td>\n",
       "      <td>1</td>\n",
       "      <td>1</td>\n",
       "      <td>ultra</td>\n",
       "      <td>1950.0</td>\n",
       "      <td>Другое</td>\n",
       "    </tr>\n",
       "    <tr>\n",
       "      <th>3208</th>\n",
       "      <td>1476</td>\n",
       "      <td>2018-04</td>\n",
       "      <td>0.00</td>\n",
       "      <td>0.0</td>\n",
       "      <td>530.78</td>\n",
       "      <td>0.0</td>\n",
       "      <td>50</td>\n",
       "      <td>NaN</td>\n",
       "      <td>Москва</td>\n",
       "      <td>Валентина</td>\n",
       "      <td>...</td>\n",
       "      <td>1000</td>\n",
       "      <td>30720</td>\n",
       "      <td>3000</td>\n",
       "      <td>1950</td>\n",
       "      <td>150</td>\n",
       "      <td>1</td>\n",
       "      <td>1</td>\n",
       "      <td>ultra</td>\n",
       "      <td>1950.0</td>\n",
       "      <td>Москва</td>\n",
       "    </tr>\n",
       "  </tbody>\n",
       "</table>\n",
       "<p>985 rows × 23 columns</p>\n",
       "</div>"
      ],
      "text/plain": [
       "      user_id    month  duration  calls   mb_used  message  age churn_date  \\\n",
       "0        1000  2018-05    150.06   22.0   2253.49     22.0   52        NaN   \n",
       "1        1000  2018-06    158.90   43.0  23233.77     60.0   52        NaN   \n",
       "2        1000  2018-07    318.80   47.0  14003.64     75.0   52        NaN   \n",
       "3        1000  2018-08    389.87   52.0  14055.93     81.0   52        NaN   \n",
       "4        1000  2018-09    440.14   58.0  14568.91     57.0   52        NaN   \n",
       "...       ...      ...       ...    ...       ...      ...  ...        ...   \n",
       "3204     1473  2018-09      0.00    0.0  17289.85     19.0   18        NaN   \n",
       "3205     1473  2018-10      0.00    0.0  13688.65     20.0   18        NaN   \n",
       "3206     1473  2018-11      0.00    0.0  21673.80     14.0   18        NaN   \n",
       "3207     1473  2018-12      0.00    0.0  18418.26     20.0   18        NaN   \n",
       "3208     1476  2018-04      0.00    0.0    530.78      0.0   50        NaN   \n",
       "\n",
       "            city first_name  ... messages_included mb_per_month_included  \\\n",
       "0      Краснодар     Рафаил  ...              1000                 30720   \n",
       "1      Краснодар     Рафаил  ...              1000                 30720   \n",
       "2      Краснодар     Рафаил  ...              1000                 30720   \n",
       "3      Краснодар     Рафаил  ...              1000                 30720   \n",
       "4      Краснодар     Рафаил  ...              1000                 30720   \n",
       "...          ...        ...  ...               ...                   ...   \n",
       "3204  Красноярск    Николай  ...              1000                 30720   \n",
       "3205  Красноярск    Николай  ...              1000                 30720   \n",
       "3206  Красноярск    Николай  ...              1000                 30720   \n",
       "3207  Красноярск    Николай  ...              1000                 30720   \n",
       "3208      Москва  Валентина  ...              1000                 30720   \n",
       "\n",
       "     minutes_included  rub_monthly_fee  rub_per_gb  rub_per_message  \\\n",
       "0                3000             1950         150                1   \n",
       "1                3000             1950         150                1   \n",
       "2                3000             1950         150                1   \n",
       "3                3000             1950         150                1   \n",
       "4                3000             1950         150                1   \n",
       "...               ...              ...         ...              ...   \n",
       "3204             3000             1950         150                1   \n",
       "3205             3000             1950         150                1   \n",
       "3206             3000             1950         150                1   \n",
       "3207             3000             1950         150                1   \n",
       "3208             3000             1950         150                1   \n",
       "\n",
       "      rub_per_minute  tariff_name  proceeds_month  location  \n",
       "0                  1        ultra          1950.0    Другое  \n",
       "1                  1        ultra          1950.0    Другое  \n",
       "2                  1        ultra          1950.0    Другое  \n",
       "3                  1        ultra          1950.0    Другое  \n",
       "4                  1        ultra          1950.0    Другое  \n",
       "...              ...          ...             ...       ...  \n",
       "3204               1        ultra          1950.0    Другое  \n",
       "3205               1        ultra          1950.0    Другое  \n",
       "3206               1        ultra          1950.0    Другое  \n",
       "3207               1        ultra          1950.0    Другое  \n",
       "3208               1        ultra          1950.0    Москва  \n",
       "\n",
       "[985 rows x 23 columns]"
      ]
     },
     "execution_count": 43,
     "metadata": {},
     "output_type": "execute_result"
    }
   ],
   "source": [
    "#данные по тарифу \"Ультра\"\n",
    "report_ultra = report[report['tariff'] == 'ultra']\n",
    "report_ultra"
   ]
  },
  {
   "cell_type": "code",
   "execution_count": 44,
   "metadata": {},
   "outputs": [
    {
     "data": {
      "text/html": [
       "<div>\n",
       "<style scoped>\n",
       "    .dataframe tbody tr th:only-of-type {\n",
       "        vertical-align: middle;\n",
       "    }\n",
       "\n",
       "    .dataframe tbody tr th {\n",
       "        vertical-align: top;\n",
       "    }\n",
       "\n",
       "    .dataframe thead th {\n",
       "        text-align: right;\n",
       "    }\n",
       "</style>\n",
       "<table border=\"1\" class=\"dataframe\">\n",
       "  <thead>\n",
       "    <tr style=\"text-align: right;\">\n",
       "      <th></th>\n",
       "      <th>user_id</th>\n",
       "      <th>month</th>\n",
       "      <th>duration</th>\n",
       "      <th>calls</th>\n",
       "      <th>mb_used</th>\n",
       "      <th>message</th>\n",
       "      <th>age</th>\n",
       "      <th>churn_date</th>\n",
       "      <th>city</th>\n",
       "      <th>first_name</th>\n",
       "      <th>...</th>\n",
       "      <th>messages_included</th>\n",
       "      <th>mb_per_month_included</th>\n",
       "      <th>minutes_included</th>\n",
       "      <th>rub_monthly_fee</th>\n",
       "      <th>rub_per_gb</th>\n",
       "      <th>rub_per_message</th>\n",
       "      <th>rub_per_minute</th>\n",
       "      <th>tariff_name</th>\n",
       "      <th>proceeds_month</th>\n",
       "      <th>location</th>\n",
       "    </tr>\n",
       "  </thead>\n",
       "  <tbody>\n",
       "    <tr>\n",
       "      <th>8</th>\n",
       "      <td>1001</td>\n",
       "      <td>2018-11</td>\n",
       "      <td>408.12</td>\n",
       "      <td>59.0</td>\n",
       "      <td>18429.34</td>\n",
       "      <td>0.0</td>\n",
       "      <td>41</td>\n",
       "      <td>NaN</td>\n",
       "      <td>Москва</td>\n",
       "      <td>Иван</td>\n",
       "      <td>...</td>\n",
       "      <td>50</td>\n",
       "      <td>15360</td>\n",
       "      <td>500</td>\n",
       "      <td>550</td>\n",
       "      <td>200</td>\n",
       "      <td>3</td>\n",
       "      <td>3</td>\n",
       "      <td>smart</td>\n",
       "      <td>1150.0</td>\n",
       "      <td>Москва</td>\n",
       "    </tr>\n",
       "    <tr>\n",
       "      <th>9</th>\n",
       "      <td>1001</td>\n",
       "      <td>2018-12</td>\n",
       "      <td>391.34</td>\n",
       "      <td>63.0</td>\n",
       "      <td>14036.66</td>\n",
       "      <td>0.0</td>\n",
       "      <td>41</td>\n",
       "      <td>NaN</td>\n",
       "      <td>Москва</td>\n",
       "      <td>Иван</td>\n",
       "      <td>...</td>\n",
       "      <td>50</td>\n",
       "      <td>15360</td>\n",
       "      <td>500</td>\n",
       "      <td>550</td>\n",
       "      <td>200</td>\n",
       "      <td>3</td>\n",
       "      <td>3</td>\n",
       "      <td>smart</td>\n",
       "      <td>550.0</td>\n",
       "      <td>Москва</td>\n",
       "    </tr>\n",
       "    <tr>\n",
       "      <th>10</th>\n",
       "      <td>1002</td>\n",
       "      <td>2018-06</td>\n",
       "      <td>110.37</td>\n",
       "      <td>15.0</td>\n",
       "      <td>10856.82</td>\n",
       "      <td>4.0</td>\n",
       "      <td>59</td>\n",
       "      <td>NaN</td>\n",
       "      <td>Стерлитамак</td>\n",
       "      <td>Евгений</td>\n",
       "      <td>...</td>\n",
       "      <td>50</td>\n",
       "      <td>15360</td>\n",
       "      <td>500</td>\n",
       "      <td>550</td>\n",
       "      <td>200</td>\n",
       "      <td>3</td>\n",
       "      <td>3</td>\n",
       "      <td>smart</td>\n",
       "      <td>550.0</td>\n",
       "      <td>Другое</td>\n",
       "    </tr>\n",
       "    <tr>\n",
       "      <th>11</th>\n",
       "      <td>1002</td>\n",
       "      <td>2018-07</td>\n",
       "      <td>204.75</td>\n",
       "      <td>26.0</td>\n",
       "      <td>17580.10</td>\n",
       "      <td>11.0</td>\n",
       "      <td>59</td>\n",
       "      <td>NaN</td>\n",
       "      <td>Стерлитамак</td>\n",
       "      <td>Евгений</td>\n",
       "      <td>...</td>\n",
       "      <td>50</td>\n",
       "      <td>15360</td>\n",
       "      <td>500</td>\n",
       "      <td>550</td>\n",
       "      <td>200</td>\n",
       "      <td>3</td>\n",
       "      <td>3</td>\n",
       "      <td>smart</td>\n",
       "      <td>1150.0</td>\n",
       "      <td>Другое</td>\n",
       "    </tr>\n",
       "    <tr>\n",
       "      <th>12</th>\n",
       "      <td>1002</td>\n",
       "      <td>2018-08</td>\n",
       "      <td>269.71</td>\n",
       "      <td>42.0</td>\n",
       "      <td>20319.26</td>\n",
       "      <td>13.0</td>\n",
       "      <td>59</td>\n",
       "      <td>NaN</td>\n",
       "      <td>Стерлитамак</td>\n",
       "      <td>Евгений</td>\n",
       "      <td>...</td>\n",
       "      <td>50</td>\n",
       "      <td>15360</td>\n",
       "      <td>500</td>\n",
       "      <td>550</td>\n",
       "      <td>200</td>\n",
       "      <td>3</td>\n",
       "      <td>3</td>\n",
       "      <td>smart</td>\n",
       "      <td>1550.0</td>\n",
       "      <td>Другое</td>\n",
       "    </tr>\n",
       "    <tr>\n",
       "      <th>...</th>\n",
       "      <td>...</td>\n",
       "      <td>...</td>\n",
       "      <td>...</td>\n",
       "      <td>...</td>\n",
       "      <td>...</td>\n",
       "      <td>...</td>\n",
       "      <td>...</td>\n",
       "      <td>...</td>\n",
       "      <td>...</td>\n",
       "      <td>...</td>\n",
       "      <td>...</td>\n",
       "      <td>...</td>\n",
       "      <td>...</td>\n",
       "      <td>...</td>\n",
       "      <td>...</td>\n",
       "      <td>...</td>\n",
       "      <td>...</td>\n",
       "      <td>...</td>\n",
       "      <td>...</td>\n",
       "      <td>...</td>\n",
       "      <td>...</td>\n",
       "    </tr>\n",
       "    <tr>\n",
       "      <th>3209</th>\n",
       "      <td>1489</td>\n",
       "      <td>2018-08</td>\n",
       "      <td>0.00</td>\n",
       "      <td>0.0</td>\n",
       "      <td>11050.56</td>\n",
       "      <td>17.0</td>\n",
       "      <td>35</td>\n",
       "      <td>NaN</td>\n",
       "      <td>Санкт-Петербург</td>\n",
       "      <td>Павел</td>\n",
       "      <td>...</td>\n",
       "      <td>50</td>\n",
       "      <td>15360</td>\n",
       "      <td>500</td>\n",
       "      <td>550</td>\n",
       "      <td>200</td>\n",
       "      <td>3</td>\n",
       "      <td>3</td>\n",
       "      <td>smart</td>\n",
       "      <td>550.0</td>\n",
       "      <td>Другое</td>\n",
       "    </tr>\n",
       "    <tr>\n",
       "      <th>3210</th>\n",
       "      <td>1489</td>\n",
       "      <td>2018-09</td>\n",
       "      <td>0.00</td>\n",
       "      <td>0.0</td>\n",
       "      <td>17206.30</td>\n",
       "      <td>32.0</td>\n",
       "      <td>35</td>\n",
       "      <td>NaN</td>\n",
       "      <td>Санкт-Петербург</td>\n",
       "      <td>Павел</td>\n",
       "      <td>...</td>\n",
       "      <td>50</td>\n",
       "      <td>15360</td>\n",
       "      <td>500</td>\n",
       "      <td>550</td>\n",
       "      <td>200</td>\n",
       "      <td>3</td>\n",
       "      <td>3</td>\n",
       "      <td>smart</td>\n",
       "      <td>950.0</td>\n",
       "      <td>Другое</td>\n",
       "    </tr>\n",
       "    <tr>\n",
       "      <th>3211</th>\n",
       "      <td>1489</td>\n",
       "      <td>2018-10</td>\n",
       "      <td>0.00</td>\n",
       "      <td>0.0</td>\n",
       "      <td>19559.44</td>\n",
       "      <td>21.0</td>\n",
       "      <td>35</td>\n",
       "      <td>NaN</td>\n",
       "      <td>Санкт-Петербург</td>\n",
       "      <td>Павел</td>\n",
       "      <td>...</td>\n",
       "      <td>50</td>\n",
       "      <td>15360</td>\n",
       "      <td>500</td>\n",
       "      <td>550</td>\n",
       "      <td>200</td>\n",
       "      <td>3</td>\n",
       "      <td>3</td>\n",
       "      <td>smart</td>\n",
       "      <td>1550.0</td>\n",
       "      <td>Другое</td>\n",
       "    </tr>\n",
       "    <tr>\n",
       "      <th>3212</th>\n",
       "      <td>1489</td>\n",
       "      <td>2018-11</td>\n",
       "      <td>0.00</td>\n",
       "      <td>0.0</td>\n",
       "      <td>17491.56</td>\n",
       "      <td>20.0</td>\n",
       "      <td>35</td>\n",
       "      <td>NaN</td>\n",
       "      <td>Санкт-Петербург</td>\n",
       "      <td>Павел</td>\n",
       "      <td>...</td>\n",
       "      <td>50</td>\n",
       "      <td>15360</td>\n",
       "      <td>500</td>\n",
       "      <td>550</td>\n",
       "      <td>200</td>\n",
       "      <td>3</td>\n",
       "      <td>3</td>\n",
       "      <td>smart</td>\n",
       "      <td>1150.0</td>\n",
       "      <td>Другое</td>\n",
       "    </tr>\n",
       "    <tr>\n",
       "      <th>3213</th>\n",
       "      <td>1489</td>\n",
       "      <td>2018-12</td>\n",
       "      <td>0.00</td>\n",
       "      <td>0.0</td>\n",
       "      <td>17322.51</td>\n",
       "      <td>35.0</td>\n",
       "      <td>35</td>\n",
       "      <td>NaN</td>\n",
       "      <td>Санкт-Петербург</td>\n",
       "      <td>Павел</td>\n",
       "      <td>...</td>\n",
       "      <td>50</td>\n",
       "      <td>15360</td>\n",
       "      <td>500</td>\n",
       "      <td>550</td>\n",
       "      <td>200</td>\n",
       "      <td>3</td>\n",
       "      <td>3</td>\n",
       "      <td>smart</td>\n",
       "      <td>950.0</td>\n",
       "      <td>Другое</td>\n",
       "    </tr>\n",
       "  </tbody>\n",
       "</table>\n",
       "<p>2229 rows × 23 columns</p>\n",
       "</div>"
      ],
      "text/plain": [
       "      user_id    month  duration  calls   mb_used  message  age churn_date  \\\n",
       "8        1001  2018-11    408.12   59.0  18429.34      0.0   41        NaN   \n",
       "9        1001  2018-12    391.34   63.0  14036.66      0.0   41        NaN   \n",
       "10       1002  2018-06    110.37   15.0  10856.82      4.0   59        NaN   \n",
       "11       1002  2018-07    204.75   26.0  17580.10     11.0   59        NaN   \n",
       "12       1002  2018-08    269.71   42.0  20319.26     13.0   59        NaN   \n",
       "...       ...      ...       ...    ...       ...      ...  ...        ...   \n",
       "3209     1489  2018-08      0.00    0.0  11050.56     17.0   35        NaN   \n",
       "3210     1489  2018-09      0.00    0.0  17206.30     32.0   35        NaN   \n",
       "3211     1489  2018-10      0.00    0.0  19559.44     21.0   35        NaN   \n",
       "3212     1489  2018-11      0.00    0.0  17491.56     20.0   35        NaN   \n",
       "3213     1489  2018-12      0.00    0.0  17322.51     35.0   35        NaN   \n",
       "\n",
       "                 city first_name  ... messages_included mb_per_month_included  \\\n",
       "8              Москва       Иван  ...                50                 15360   \n",
       "9              Москва       Иван  ...                50                 15360   \n",
       "10        Стерлитамак    Евгений  ...                50                 15360   \n",
       "11        Стерлитамак    Евгений  ...                50                 15360   \n",
       "12        Стерлитамак    Евгений  ...                50                 15360   \n",
       "...               ...        ...  ...               ...                   ...   \n",
       "3209  Санкт-Петербург      Павел  ...                50                 15360   \n",
       "3210  Санкт-Петербург      Павел  ...                50                 15360   \n",
       "3211  Санкт-Петербург      Павел  ...                50                 15360   \n",
       "3212  Санкт-Петербург      Павел  ...                50                 15360   \n",
       "3213  Санкт-Петербург      Павел  ...                50                 15360   \n",
       "\n",
       "     minutes_included  rub_monthly_fee  rub_per_gb  rub_per_message  \\\n",
       "8                 500              550         200                3   \n",
       "9                 500              550         200                3   \n",
       "10                500              550         200                3   \n",
       "11                500              550         200                3   \n",
       "12                500              550         200                3   \n",
       "...               ...              ...         ...              ...   \n",
       "3209              500              550         200                3   \n",
       "3210              500              550         200                3   \n",
       "3211              500              550         200                3   \n",
       "3212              500              550         200                3   \n",
       "3213              500              550         200                3   \n",
       "\n",
       "      rub_per_minute  tariff_name  proceeds_month  location  \n",
       "8                  3        smart          1150.0    Москва  \n",
       "9                  3        smart           550.0    Москва  \n",
       "10                 3        smart           550.0    Другое  \n",
       "11                 3        smart          1150.0    Другое  \n",
       "12                 3        smart          1550.0    Другое  \n",
       "...              ...          ...             ...       ...  \n",
       "3209               3        smart           550.0    Другое  \n",
       "3210               3        smart           950.0    Другое  \n",
       "3211               3        smart          1550.0    Другое  \n",
       "3212               3        smart          1150.0    Другое  \n",
       "3213               3        smart           950.0    Другое  \n",
       "\n",
       "[2229 rows x 23 columns]"
      ]
     },
     "execution_count": 44,
     "metadata": {},
     "output_type": "execute_result"
    }
   ],
   "source": [
    "#данные по тарифу \"Смарт\"\n",
    "report_smart = report[report['tariff'] == 'smart']\n",
    "report_smart"
   ]
  },
  {
   "cell_type": "code",
   "execution_count": 45,
   "metadata": {},
   "outputs": [
    {
     "data": {
      "text/html": [
       "<div>\n",
       "<style scoped>\n",
       "    .dataframe tbody tr th:only-of-type {\n",
       "        vertical-align: middle;\n",
       "    }\n",
       "\n",
       "    .dataframe tbody tr th {\n",
       "        vertical-align: top;\n",
       "    }\n",
       "\n",
       "    .dataframe thead th {\n",
       "        text-align: right;\n",
       "    }\n",
       "</style>\n",
       "<table border=\"1\" class=\"dataframe\">\n",
       "  <thead>\n",
       "    <tr style=\"text-align: right;\">\n",
       "      <th></th>\n",
       "      <th>user_id</th>\n",
       "    </tr>\n",
       "    <tr>\n",
       "      <th>tariff</th>\n",
       "      <th></th>\n",
       "    </tr>\n",
       "  </thead>\n",
       "  <tbody>\n",
       "    <tr>\n",
       "      <th>smart</th>\n",
       "      <td>351</td>\n",
       "    </tr>\n",
       "    <tr>\n",
       "      <th>ultra</th>\n",
       "      <td>149</td>\n",
       "    </tr>\n",
       "  </tbody>\n",
       "</table>\n",
       "</div>"
      ],
      "text/plain": [
       "        user_id\n",
       "tariff         \n",
       "smart       351\n",
       "ultra       149"
      ]
     },
     "execution_count": 45,
     "metadata": {},
     "output_type": "execute_result"
    }
   ],
   "source": [
    "#соотношение пользователей разных тарифов\n",
    "users.groupby('tariff').agg({'user_id': 'count'})"
   ]
  },
  {
   "cell_type": "code",
   "execution_count": 46,
   "metadata": {},
   "outputs": [
    {
     "name": "stdout",
     "output_type": "stream",
     "text": [
      "Тариф \"Ультра\"\n",
      "duration среднее: 497.06822335025385 дисперсия: 89942.50036950292 стд.отклонение: 299.7518777028539\n",
      "mb_used среднее: 19468.805208121827 дисперсия: 101751013.78335385 стд.отклонение: 10082.049060669482\n",
      "message среднее: 49.36345177664975 дисперсия: 2285.2661425446736 стд.отклонение: 47.78018496610161\n",
      "proceeds_month среднее: 2070.1522842639592 дисперсия: 141516.7450786183 стд.отклонение: 375.9961080333192\n",
      "\n",
      "Тариф \"Смарт\"\n",
      "duration среднее: 394.42702557200545 дисперсия: 32386.395978716133 стд.отклонение: 179.92183418277207\n",
      "mb_used среднее: 16208.386989681472 дисперсия: 34462496.46274242 стд.отклонение: 5869.159692433401\n",
      "message среднее: 33.384028712427096 дисперсия: 796.8129584480083 стд.отклонение: 28.221542886898938\n",
      "proceeds_month среднее: 1257.5886047554957 дисперсия: 641465.797015512 стд.отклонение: 800.7359209761796\n"
     ]
    }
   ],
   "source": [
    "#определение среднего количества, дисперсии и стандартного отклонения для звонков, интернет-трафика, сообщений и месячной выручки\n",
    "params = ['duration', 'mb_used', 'message', 'proceeds_month']\n",
    "\n",
    "print('Тариф \"Ультра\"')\n",
    "for param in params:\n",
    "    mean = np.mean(report_ultra[param])\n",
    "    var = np.var(report_ultra[param], ddof=1)\n",
    "    std = np.std(report_ultra[param])\n",
    "    print(param, 'среднее:', mean, 'дисперсия:', var, 'стд.отклонение:', std)\n",
    "    \n",
    "print()\n",
    "print('Тариф \"Смарт\"')\n",
    "for param in params:\n",
    "    mean = np.mean(report_smart[param])\n",
    "    var = np.var(report_smart[param], ddof=1)\n",
    "    std = np.std(report_smart[param])\n",
    "    print(param, 'среднее:', mean, 'дисперсия:', var, 'стд.отклонение:', std)"
   ]
  },
  {
   "cell_type": "code",
   "execution_count": 48,
   "metadata": {},
   "outputs": [
    {
     "data": {
      "text/html": [
       "<div>\n",
       "<style scoped>\n",
       "    .dataframe tbody tr th:only-of-type {\n",
       "        vertical-align: middle;\n",
       "    }\n",
       "\n",
       "    .dataframe tbody tr th {\n",
       "        vertical-align: top;\n",
       "    }\n",
       "\n",
       "    .dataframe thead tr th {\n",
       "        text-align: left;\n",
       "    }\n",
       "\n",
       "    .dataframe thead tr:last-of-type th {\n",
       "        text-align: right;\n",
       "    }\n",
       "</style>\n",
       "<table border=\"1\" class=\"dataframe\">\n",
       "  <thead>\n",
       "    <tr>\n",
       "      <th></th>\n",
       "      <th colspan=\"4\" halign=\"left\">mean</th>\n",
       "      <th colspan=\"4\" halign=\"left\">var</th>\n",
       "      <th colspan=\"4\" halign=\"left\">std</th>\n",
       "    </tr>\n",
       "    <tr>\n",
       "      <th></th>\n",
       "      <th>duration</th>\n",
       "      <th>mb_used</th>\n",
       "      <th>message</th>\n",
       "      <th>proceeds_month</th>\n",
       "      <th>duration</th>\n",
       "      <th>mb_used</th>\n",
       "      <th>message</th>\n",
       "      <th>proceeds_month</th>\n",
       "      <th>duration</th>\n",
       "      <th>mb_used</th>\n",
       "      <th>message</th>\n",
       "      <th>proceeds_month</th>\n",
       "    </tr>\n",
       "    <tr>\n",
       "      <th>tariff</th>\n",
       "      <th></th>\n",
       "      <th></th>\n",
       "      <th></th>\n",
       "      <th></th>\n",
       "      <th></th>\n",
       "      <th></th>\n",
       "      <th></th>\n",
       "      <th></th>\n",
       "      <th></th>\n",
       "      <th></th>\n",
       "      <th></th>\n",
       "      <th></th>\n",
       "    </tr>\n",
       "  </thead>\n",
       "  <tbody>\n",
       "    <tr>\n",
       "      <th>smart</th>\n",
       "      <td>394.427026</td>\n",
       "      <td>16208.386990</td>\n",
       "      <td>33.384029</td>\n",
       "      <td>1257.588605</td>\n",
       "      <td>32386.395979</td>\n",
       "      <td>34462496.462742</td>\n",
       "      <td>796.812958</td>\n",
       "      <td>641465.797016</td>\n",
       "      <td>179.962207</td>\n",
       "      <td>5870.476681</td>\n",
       "      <td>28.227876</td>\n",
       "      <td>800.915599</td>\n",
       "    </tr>\n",
       "    <tr>\n",
       "      <th>ultra</th>\n",
       "      <td>497.068223</td>\n",
       "      <td>19468.805208</td>\n",
       "      <td>49.363452</td>\n",
       "      <td>2070.152284</td>\n",
       "      <td>89942.500370</td>\n",
       "      <td>101751013.783354</td>\n",
       "      <td>2285.266143</td>\n",
       "      <td>141516.745079</td>\n",
       "      <td>299.904152</td>\n",
       "      <td>10087.170752</td>\n",
       "      <td>47.804457</td>\n",
       "      <td>376.187114</td>\n",
       "    </tr>\n",
       "  </tbody>\n",
       "</table>\n",
       "</div>"
      ],
      "text/plain": [
       "             mean                                                var  \\\n",
       "         duration      mb_used   message proceeds_month     duration   \n",
       "tariff                                                                 \n",
       "smart  394.427026 16208.386990 33.384029    1257.588605 32386.395979   \n",
       "ultra  497.068223 19468.805208 49.363452    2070.152284 89942.500370   \n",
       "\n",
       "                                                          std               \\\n",
       "                mb_used     message proceeds_month   duration      mb_used   \n",
       "tariff                                                                       \n",
       "smart   34462496.462742  796.812958  641465.797016 179.962207  5870.476681   \n",
       "ultra  101751013.783354 2285.266143  141516.745079 299.904152 10087.170752   \n",
       "\n",
       "                                 \n",
       "         message proceeds_month  \n",
       "tariff                           \n",
       "smart  28.227876     800.915599  \n",
       "ultra  47.804457     376.187114  "
      ]
     },
     "execution_count": 48,
     "metadata": {},
     "output_type": "execute_result"
    }
   ],
   "source": [
    "pivot_report = report.pivot_table(index = ['tariff'], values = ['duration', 'mb_used', 'message', 'proceeds_month'], aggfunc = [np.mean, np.var, np.std])\n",
    "pivot_report"
   ]
  },
  {
   "cell_type": "code",
   "execution_count": 49,
   "metadata": {},
   "outputs": [
    {
     "data": {
      "text/html": [
       "<div>\n",
       "<style scoped>\n",
       "    .dataframe tbody tr th:only-of-type {\n",
       "        vertical-align: middle;\n",
       "    }\n",
       "\n",
       "    .dataframe tbody tr th {\n",
       "        vertical-align: top;\n",
       "    }\n",
       "\n",
       "    .dataframe thead th {\n",
       "        text-align: right;\n",
       "    }\n",
       "</style>\n",
       "<table border=\"1\" class=\"dataframe\">\n",
       "  <thead>\n",
       "    <tr style=\"text-align: right;\">\n",
       "      <th></th>\n",
       "      <th>tariff</th>\n",
       "      <th>smart</th>\n",
       "      <th>ultra</th>\n",
       "    </tr>\n",
       "  </thead>\n",
       "  <tbody>\n",
       "    <tr>\n",
       "      <th rowspan=\"4\" valign=\"top\">mean</th>\n",
       "      <th>duration</th>\n",
       "      <td>394.427026</td>\n",
       "      <td>497.068223</td>\n",
       "    </tr>\n",
       "    <tr>\n",
       "      <th>mb_used</th>\n",
       "      <td>16208.386990</td>\n",
       "      <td>19468.805208</td>\n",
       "    </tr>\n",
       "    <tr>\n",
       "      <th>message</th>\n",
       "      <td>33.384029</td>\n",
       "      <td>49.363452</td>\n",
       "    </tr>\n",
       "    <tr>\n",
       "      <th>proceeds_month</th>\n",
       "      <td>1257.588605</td>\n",
       "      <td>2070.152284</td>\n",
       "    </tr>\n",
       "    <tr>\n",
       "      <th rowspan=\"4\" valign=\"top\">var</th>\n",
       "      <th>duration</th>\n",
       "      <td>32386.395979</td>\n",
       "      <td>89942.500370</td>\n",
       "    </tr>\n",
       "    <tr>\n",
       "      <th>mb_used</th>\n",
       "      <td>34462496.462742</td>\n",
       "      <td>101751013.783354</td>\n",
       "    </tr>\n",
       "    <tr>\n",
       "      <th>message</th>\n",
       "      <td>796.812958</td>\n",
       "      <td>2285.266143</td>\n",
       "    </tr>\n",
       "    <tr>\n",
       "      <th>proceeds_month</th>\n",
       "      <td>641465.797016</td>\n",
       "      <td>141516.745079</td>\n",
       "    </tr>\n",
       "    <tr>\n",
       "      <th rowspan=\"4\" valign=\"top\">std</th>\n",
       "      <th>duration</th>\n",
       "      <td>179.962207</td>\n",
       "      <td>299.904152</td>\n",
       "    </tr>\n",
       "    <tr>\n",
       "      <th>mb_used</th>\n",
       "      <td>5870.476681</td>\n",
       "      <td>10087.170752</td>\n",
       "    </tr>\n",
       "    <tr>\n",
       "      <th>message</th>\n",
       "      <td>28.227876</td>\n",
       "      <td>47.804457</td>\n",
       "    </tr>\n",
       "    <tr>\n",
       "      <th>proceeds_month</th>\n",
       "      <td>800.915599</td>\n",
       "      <td>376.187114</td>\n",
       "    </tr>\n",
       "  </tbody>\n",
       "</table>\n",
       "</div>"
      ],
      "text/plain": [
       "tariff                        smart            ultra\n",
       "mean duration            394.427026       497.068223\n",
       "     mb_used           16208.386990     19468.805208\n",
       "     message              33.384029        49.363452\n",
       "     proceeds_month     1257.588605      2070.152284\n",
       "var  duration          32386.395979     89942.500370\n",
       "     mb_used        34462496.462742 101751013.783354\n",
       "     message             796.812958      2285.266143\n",
       "     proceeds_month   641465.797016    141516.745079\n",
       "std  duration            179.962207       299.904152\n",
       "     mb_used            5870.476681     10087.170752\n",
       "     message              28.227876        47.804457\n",
       "     proceeds_month      800.915599       376.187114"
      ]
     },
     "execution_count": 49,
     "metadata": {},
     "output_type": "execute_result"
    }
   ],
   "source": [
    "pivot_report.T"
   ]
  },
  {
   "cell_type": "code",
   "execution_count": 48,
   "metadata": {},
   "outputs": [
    {
     "data": {
      "image/png": "[encoded data removed]",
      "text/plain": [
       "<Figure size 1080x504 with 4 Axes>"
      ]
     },
     "metadata": {
      "needs_background": "light"
     },
     "output_type": "display_data"
    }
   ],
   "source": [
    "# построение распределений звонков, сообщений, интернет-трафика и выручки по тарифам\n",
    "col_count, row_count = 2, 2\n",
    "\n",
    "plt.figure(figsize = (15, 7))\n",
    "\n",
    "for i, param in enumerate(params):\n",
    "    for tariff in report['tariff'].unique():\n",
    "        current = report.query('tariff == @tariff')\n",
    "        sns.distplot(current[param], ax = plt.subplot(row_count, col_count, i + 1))\n",
    "    plt.title(param)\n",
    "    \n",
    "plt.suptitle('Распределение параметров с разбивкой по тарифам')\n",
    "plt.tight_layout()"
   ]
  },
  {
   "cell_type": "markdown",
   "metadata": {},
   "source": [
    "Распределения продолжительности звонков и использованного интернет-трафика похожи на нормальное распределение. Распределение количества отрпавленных сообщений имеет пик в 0 с хвостом вправо. Можно предположить, что сообщения не пользуются популярностью у пользователей, в среднем не расходуется и количество сообщений, включенных в тариф. Распределение выручки с пользователей сосредаточено в районе абонентской платы  по тарифам. Большинство пользозвателей тарифа Ультра не выходят за рамки абонентской платы, а пользователи тарифа Смарт наоборот."
   ]
  },
  {
   "cell_type": "markdown",
   "metadata": {},
   "source": [
    "### Вывод"
   ]
  },
  {
   "cell_type": "markdown",
   "metadata": {},
   "source": [
    "На данном шаге проанализировали основные параметры тарифов Ультра и Смарт для каждого пользователя, такие как:\n",
    "* количество сделанных звонков и израсходованных минут разговора по месяцам,\n",
    "* объем израсходованного интернет-трафика по месяцам,\n",
    "* количество отправленных сообщений по месяцам,\n",
    "* помесячная выручка с каждого пользователя.\n",
    "\n",
    "Пользователи тарифа Ультра в среднем в месяц разговоривают по 497 мин, отправлют по 49 сообщения и расходуют 19468 МБ интернет-трафика. Это показывает, что пользователи тарифа Ультра в среднем не платят сверх абонентской платы. Средняя помесячная выручка с каждого пользователя составляет 2070р.\n",
    "\n",
    "Пользователи тарифа Смарт в среднем в месяц разговоривают по 394 мин, отправлют по 33 сообщения и расходуют 16208 МБ интернет-трафика. Это показывает, что пользователи тарифа Смарт в среднем платят за услуги интернета сверх тарифного пакета. Средняя помесячная выручка с каждого пользователя составляет 1257р.\n",
    "\n",
    "Сообщения у пользователей обоих тарифов не пользуются популярностью, в среднем не расходуется и количество сообщений, включенных в тариф."
   ]
  },
  {
   "cell_type": "markdown",
   "metadata": {},
   "source": [
    "## Проверка гипотез"
   ]
  },
  {
   "cell_type": "markdown",
   "metadata": {},
   "source": [
    "### Средняя выручка пользователей тарифов «Ультра» и «Смарт» различаются"
   ]
  },
  {
   "cell_type": "markdown",
   "metadata": {},
   "source": [
    "<p>Введем основную и альтернативные гипотезы:</p>\n",
    "\n",
    "$\\begin{equation*}\n",
    " \\begin{cases}\n",
    "   H_0 :\\text{Средние выручки пользователей тарифов «Ультра» и «Смарт» равны}\\\\\n",
    "   H_1 :\\text{Средние выручки пользователей тарифов «Ультра» и «Смарт» не равны}\n",
    " \\end{cases}\n",
    "\\end{equation*}$\n",
    "\n",
    "Уровень значимости: $\\alpha = 0.05$"
   ]
  },
  {
   "cell_type": "code",
   "execution_count": 49,
   "metadata": {},
   "outputs": [],
   "source": [
    "alpha = 0.05"
   ]
  },
  {
   "cell_type": "code",
   "execution_count": 50,
   "metadata": {},
   "outputs": [
    {
     "data": {
      "image/png": "[encoded data removed]",
      "text/plain": [
       "<Figure size 1080x360 with 2 Axes>"
      ]
     },
     "metadata": {
      "needs_background": "light"
     },
     "output_type": "display_data"
    }
   ],
   "source": [
    "#построение распределений средней выручки пользователей тарифов «Ультра» и «Смарт» \n",
    "figure1, ax1 = plt.subplots(nrows=1, ncols=2, figsize=(15,5))\n",
    "\n",
    "ax1[0].set_title('Средняя выручка пользователей тарифа Ультра')\n",
    "sns.distplot(report_ultra['proceeds_month'], bins=20, color='red', ax=ax1[0])\n",
    "\n",
    "ax1[1].set_title('Средняя выручка пользователей тарифа Смарт')\n",
    "sns.distplot(report_smart['proceeds_month'], bins=30, color='green', ax=ax1[1])\n",
    "\n",
    "\n",
    "figure1.tight_layout()"
   ]
  },
  {
   "cell_type": "code",
   "execution_count": 51,
   "metadata": {},
   "outputs": [
    {
     "data": {
      "image/png": "[encoded data removed]",
      "text/plain": [
       "<Figure size 864x576 with 2 Axes>"
      ]
     },
     "metadata": {
      "needs_background": "light"
     },
     "output_type": "display_data"
    }
   ],
   "source": [
    "# построение qq-plot для проверки распределений средней выручки пользователей тарифов «Ультра» и «Смарт» на нормальность\n",
    "plt.figure(figsize=(12,8))\n",
    "plt.subplot(2,2,1)\n",
    "stats.probplot(report_ultra['proceeds_month'], dist=\"norm\", plot=plt)\n",
    "plt.subplot(2,2,2)\n",
    "stats.probplot(report_smart['proceeds_month'], dist=\"norm\", plot=plt)\n",
    "plt.show()"
   ]
  },
  {
   "cell_type": "markdown",
   "metadata": {},
   "source": [
    "Как видно по рисункам распределения средней выручки пользователей тарифов «Ультра» и «Смарт» не нормальное. Поэтому для проверки гипоетезы посчитаем p-value, используя ttest из библиотеки scipy для сравнения средних двух независимых выборок.\n",
    "\n",
    "ttest применим, если выполняются следующие условия:\n",
    "* Генеральные совокупности не должны зависеть друг от друга - наши выборки независимы,\n",
    "* Выборочные средние должны быть нормально распределены - благодаря ЦПТ, распределение средних у нас нормальное (ниже приведены распределения),\n",
    "* Дисперсии рассматриваемых генеральных совокупностей должны быть равны - выборки у нас разного размера, но можно указать параметр `equal_var = False`.\n",
    "\n",
    "Если p-value будет меньше выбранного уровня значимости $\\alpha = 0.05$, то нулевую гипотезу о равенстве средних отвергнем. Иначе сделаем вывод, что данные не позволили нам отвергнуть нулевую гипотезу. "
   ]
  },
  {
   "cell_type": "code",
   "execution_count": 52,
   "metadata": {},
   "outputs": [
    {
     "name": "stdout",
     "output_type": "stream",
     "text": [
      "p-значение:  6.179723168444486e-274\n",
      "Отвергаем нулевую гипотезу\n"
     ]
    }
   ],
   "source": [
    "results = stats.ttest_ind(report_ultra['proceeds_month'], report_smart['proceeds_month'], equal_var=False)\n",
    "\n",
    "\n",
    "print('p-значение: ', results.pvalue)\n",
    "\n",
    "if results.pvalue < alpha:\n",
    "    print(\"Отвергаем нулевую гипотезу\")\n",
    "else:\n",
    "    print(\"Не получилось отвергнуть нулевую гипотезу\") "
   ]
  },
  {
   "cell_type": "code",
   "execution_count": 53,
   "metadata": {},
   "outputs": [],
   "source": [
    "#формироване списка средних для тарифов Ультра и Смарт для построения распределений\n",
    "means_ultra = []\n",
    "means_smart = []\n",
    "\n",
    "for _ in range(10000):\n",
    "    tmp_sample_ultra = np.random.choice(report_ultra['proceeds_month'], size=len(report_ultra['proceeds_month']), replace=True)\n",
    "    tmp_sample_smart = np.random.choice(report_smart['proceeds_month'], size=len(report_smart['proceeds_month']), replace=True)\n",
    "    means_ultra.append(np.mean(tmp_sample_ultra))\n",
    "    means_smart.append(np.mean(tmp_sample_smart))"
   ]
  },
  {
   "cell_type": "code",
   "execution_count": 54,
   "metadata": {},
   "outputs": [
    {
     "data": {
      "image/png": "[encoded data removed]",
      "text/plain": [
       "<Figure size 1080x360 with 3 Axes>"
      ]
     },
     "metadata": {
      "needs_background": "light"
     },
     "output_type": "display_data"
    }
   ],
   "source": [
    "# построение распределений средних тарифов Ультра и Смарт\n",
    "figure2, ax2 = plt.subplots(nrows=1, ncols=3, figsize=(15,5))\n",
    "\n",
    "ax2[0].set_title('Тариф Ультра (распределение средних)')\n",
    "ax2[0].hist(means_ultra, bins=20, color='red')\n",
    "\n",
    "ax2[1].set_title('Тариф Смарт (распределение средних)')\n",
    "ax2[1].hist(means_smart, bins=20, color='green')\n",
    "\n",
    "ax2[2].set_title('Тарифы Ультра и Смарт (распределение средних)')\n",
    "ax2[2].hist(means_ultra, bins=20, color='red')\n",
    "ax2[2].hist(means_smart, bins=20, color='green')\n",
    "\n",
    "figure2.tight_layout()"
   ]
  },
  {
   "cell_type": "markdown",
   "metadata": {},
   "source": [
    "На рисунках наглядно видно, что средние выручки пользователей тарифов Ультра и Смарт отличаются, что также показал ttest. Средняя выручка тарифа Ультра почти в 2 раза больше выручки тарифа Смарт."
   ]
  },
  {
   "cell_type": "markdown",
   "metadata": {},
   "source": [
    "### Средняя выручка пользователей из Москвы отличается от выручки пользователей из других регионов"
   ]
  },
  {
   "cell_type": "code",
   "execution_count": 55,
   "metadata": {},
   "outputs": [
    {
     "data": {
      "text/html": [
       "<div>\n",
       "<style scoped>\n",
       "    .dataframe tbody tr th:only-of-type {\n",
       "        vertical-align: middle;\n",
       "    }\n",
       "\n",
       "    .dataframe tbody tr th {\n",
       "        vertical-align: top;\n",
       "    }\n",
       "\n",
       "    .dataframe thead th {\n",
       "        text-align: right;\n",
       "    }\n",
       "</style>\n",
       "<table border=\"1\" class=\"dataframe\">\n",
       "  <thead>\n",
       "    <tr style=\"text-align: right;\">\n",
       "      <th></th>\n",
       "      <th>user_id</th>\n",
       "      <th>month</th>\n",
       "      <th>duration</th>\n",
       "      <th>calls</th>\n",
       "      <th>mb_used</th>\n",
       "      <th>message</th>\n",
       "      <th>age</th>\n",
       "      <th>churn_date</th>\n",
       "      <th>city</th>\n",
       "      <th>first_name</th>\n",
       "      <th>...</th>\n",
       "      <th>messages_included</th>\n",
       "      <th>mb_per_month_included</th>\n",
       "      <th>minutes_included</th>\n",
       "      <th>rub_monthly_fee</th>\n",
       "      <th>rub_per_gb</th>\n",
       "      <th>rub_per_message</th>\n",
       "      <th>rub_per_minute</th>\n",
       "      <th>tariff_name</th>\n",
       "      <th>proceeds_month</th>\n",
       "      <th>location</th>\n",
       "    </tr>\n",
       "  </thead>\n",
       "  <tbody>\n",
       "    <tr>\n",
       "      <th>8</th>\n",
       "      <td>1001</td>\n",
       "      <td>2018-11</td>\n",
       "      <td>408.120000</td>\n",
       "      <td>59.000000</td>\n",
       "      <td>18429.340000</td>\n",
       "      <td>0.000000</td>\n",
       "      <td>41</td>\n",
       "      <td>NaN</td>\n",
       "      <td>Москва</td>\n",
       "      <td>Иван</td>\n",
       "      <td>...</td>\n",
       "      <td>50</td>\n",
       "      <td>15360</td>\n",
       "      <td>500</td>\n",
       "      <td>550</td>\n",
       "      <td>200</td>\n",
       "      <td>3</td>\n",
       "      <td>3</td>\n",
       "      <td>smart</td>\n",
       "      <td>1150.000000</td>\n",
       "      <td>Москва</td>\n",
       "    </tr>\n",
       "    <tr>\n",
       "      <th>9</th>\n",
       "      <td>1001</td>\n",
       "      <td>2018-12</td>\n",
       "      <td>391.340000</td>\n",
       "      <td>63.000000</td>\n",
       "      <td>14036.660000</td>\n",
       "      <td>0.000000</td>\n",
       "      <td>41</td>\n",
       "      <td>NaN</td>\n",
       "      <td>Москва</td>\n",
       "      <td>Иван</td>\n",
       "      <td>...</td>\n",
       "      <td>50</td>\n",
       "      <td>15360</td>\n",
       "      <td>500</td>\n",
       "      <td>550</td>\n",
       "      <td>200</td>\n",
       "      <td>3</td>\n",
       "      <td>3</td>\n",
       "      <td>smart</td>\n",
       "      <td>550.000000</td>\n",
       "      <td>Москва</td>\n",
       "    </tr>\n",
       "    <tr>\n",
       "      <th>17</th>\n",
       "      <td>1003</td>\n",
       "      <td>2018-08</td>\n",
       "      <td>355.670000</td>\n",
       "      <td>55.000000</td>\n",
       "      <td>8565.210000</td>\n",
       "      <td>37.000000</td>\n",
       "      <td>23</td>\n",
       "      <td>NaN</td>\n",
       "      <td>Москва</td>\n",
       "      <td>Белла</td>\n",
       "      <td>...</td>\n",
       "      <td>1000</td>\n",
       "      <td>30720</td>\n",
       "      <td>3000</td>\n",
       "      <td>1950</td>\n",
       "      <td>150</td>\n",
       "      <td>1</td>\n",
       "      <td>1</td>\n",
       "      <td>ultra</td>\n",
       "      <td>1950.000000</td>\n",
       "      <td>Москва</td>\n",
       "    </tr>\n",
       "    <tr>\n",
       "      <th>18</th>\n",
       "      <td>1003</td>\n",
       "      <td>2018-09</td>\n",
       "      <td>904.890000</td>\n",
       "      <td>134.000000</td>\n",
       "      <td>12468.870000</td>\n",
       "      <td>91.000000</td>\n",
       "      <td>23</td>\n",
       "      <td>NaN</td>\n",
       "      <td>Москва</td>\n",
       "      <td>Белла</td>\n",
       "      <td>...</td>\n",
       "      <td>1000</td>\n",
       "      <td>30720</td>\n",
       "      <td>3000</td>\n",
       "      <td>1950</td>\n",
       "      <td>150</td>\n",
       "      <td>1</td>\n",
       "      <td>1</td>\n",
       "      <td>ultra</td>\n",
       "      <td>1950.000000</td>\n",
       "      <td>Москва</td>\n",
       "    </tr>\n",
       "    <tr>\n",
       "      <th>19</th>\n",
       "      <td>1003</td>\n",
       "      <td>2018-10</td>\n",
       "      <td>809.070000</td>\n",
       "      <td>108.000000</td>\n",
       "      <td>14768.140000</td>\n",
       "      <td>83.000000</td>\n",
       "      <td>23</td>\n",
       "      <td>NaN</td>\n",
       "      <td>Москва</td>\n",
       "      <td>Белла</td>\n",
       "      <td>...</td>\n",
       "      <td>1000</td>\n",
       "      <td>30720</td>\n",
       "      <td>3000</td>\n",
       "      <td>1950</td>\n",
       "      <td>150</td>\n",
       "      <td>1</td>\n",
       "      <td>1</td>\n",
       "      <td>ultra</td>\n",
       "      <td>1950.000000</td>\n",
       "      <td>Москва</td>\n",
       "    </tr>\n",
       "    <tr>\n",
       "      <th>...</th>\n",
       "      <td>...</td>\n",
       "      <td>...</td>\n",
       "      <td>...</td>\n",
       "      <td>...</td>\n",
       "      <td>...</td>\n",
       "      <td>...</td>\n",
       "      <td>...</td>\n",
       "      <td>...</td>\n",
       "      <td>...</td>\n",
       "      <td>...</td>\n",
       "      <td>...</td>\n",
       "      <td>...</td>\n",
       "      <td>...</td>\n",
       "      <td>...</td>\n",
       "      <td>...</td>\n",
       "      <td>...</td>\n",
       "      <td>...</td>\n",
       "      <td>...</td>\n",
       "      <td>...</td>\n",
       "      <td>...</td>\n",
       "      <td>...</td>\n",
       "    </tr>\n",
       "    <tr>\n",
       "      <th>3119</th>\n",
       "      <td>1490</td>\n",
       "      <td>2018-09</td>\n",
       "      <td>305.990000</td>\n",
       "      <td>44.000000</td>\n",
       "      <td>14816.950000</td>\n",
       "      <td>48.000000</td>\n",
       "      <td>30</td>\n",
       "      <td>NaN</td>\n",
       "      <td>Москва</td>\n",
       "      <td>Радомир</td>\n",
       "      <td>...</td>\n",
       "      <td>50</td>\n",
       "      <td>15360</td>\n",
       "      <td>500</td>\n",
       "      <td>550</td>\n",
       "      <td>200</td>\n",
       "      <td>3</td>\n",
       "      <td>3</td>\n",
       "      <td>smart</td>\n",
       "      <td>550.000000</td>\n",
       "      <td>Москва</td>\n",
       "    </tr>\n",
       "    <tr>\n",
       "      <th>3120</th>\n",
       "      <td>1490</td>\n",
       "      <td>2018-10</td>\n",
       "      <td>290.900000</td>\n",
       "      <td>42.000000</td>\n",
       "      <td>20664.970000</td>\n",
       "      <td>45.000000</td>\n",
       "      <td>30</td>\n",
       "      <td>NaN</td>\n",
       "      <td>Москва</td>\n",
       "      <td>Радомир</td>\n",
       "      <td>...</td>\n",
       "      <td>50</td>\n",
       "      <td>15360</td>\n",
       "      <td>500</td>\n",
       "      <td>550</td>\n",
       "      <td>200</td>\n",
       "      <td>3</td>\n",
       "      <td>3</td>\n",
       "      <td>smart</td>\n",
       "      <td>1750.000000</td>\n",
       "      <td>Москва</td>\n",
       "    </tr>\n",
       "    <tr>\n",
       "      <th>3121</th>\n",
       "      <td>1490</td>\n",
       "      <td>2018-11</td>\n",
       "      <td>265.970000</td>\n",
       "      <td>38.000000</td>\n",
       "      <td>18712.660000</td>\n",
       "      <td>47.000000</td>\n",
       "      <td>30</td>\n",
       "      <td>NaN</td>\n",
       "      <td>Москва</td>\n",
       "      <td>Радомир</td>\n",
       "      <td>...</td>\n",
       "      <td>50</td>\n",
       "      <td>15360</td>\n",
       "      <td>500</td>\n",
       "      <td>550</td>\n",
       "      <td>200</td>\n",
       "      <td>3</td>\n",
       "      <td>3</td>\n",
       "      <td>smart</td>\n",
       "      <td>1350.000000</td>\n",
       "      <td>Москва</td>\n",
       "    </tr>\n",
       "    <tr>\n",
       "      <th>3122</th>\n",
       "      <td>1490</td>\n",
       "      <td>2018-12</td>\n",
       "      <td>271.630000</td>\n",
       "      <td>42.000000</td>\n",
       "      <td>15785.740000</td>\n",
       "      <td>46.000000</td>\n",
       "      <td>30</td>\n",
       "      <td>NaN</td>\n",
       "      <td>Москва</td>\n",
       "      <td>Радомир</td>\n",
       "      <td>...</td>\n",
       "      <td>50</td>\n",
       "      <td>15360</td>\n",
       "      <td>500</td>\n",
       "      <td>550</td>\n",
       "      <td>200</td>\n",
       "      <td>3</td>\n",
       "      <td>3</td>\n",
       "      <td>smart</td>\n",
       "      <td>750.000000</td>\n",
       "      <td>Москва</td>\n",
       "    </tr>\n",
       "    <tr>\n",
       "      <th>3208</th>\n",
       "      <td>1476</td>\n",
       "      <td>2018-04</td>\n",
       "      <td>0.000000</td>\n",
       "      <td>0.000000</td>\n",
       "      <td>530.780000</td>\n",
       "      <td>0.000000</td>\n",
       "      <td>50</td>\n",
       "      <td>NaN</td>\n",
       "      <td>Москва</td>\n",
       "      <td>Валентина</td>\n",
       "      <td>...</td>\n",
       "      <td>1000</td>\n",
       "      <td>30720</td>\n",
       "      <td>3000</td>\n",
       "      <td>1950</td>\n",
       "      <td>150</td>\n",
       "      <td>1</td>\n",
       "      <td>1</td>\n",
       "      <td>ultra</td>\n",
       "      <td>1950.000000</td>\n",
       "      <td>Москва</td>\n",
       "    </tr>\n",
       "  </tbody>\n",
       "</table>\n",
       "<p>611 rows × 23 columns</p>\n",
       "</div>"
      ],
      "text/plain": [
       "      user_id    month   duration      calls      mb_used   message  age  \\\n",
       "8        1001  2018-11 408.120000  59.000000 18429.340000  0.000000   41   \n",
       "9        1001  2018-12 391.340000  63.000000 14036.660000  0.000000   41   \n",
       "17       1003  2018-08 355.670000  55.000000  8565.210000 37.000000   23   \n",
       "18       1003  2018-09 904.890000 134.000000 12468.870000 91.000000   23   \n",
       "19       1003  2018-10 809.070000 108.000000 14768.140000 83.000000   23   \n",
       "...       ...      ...        ...        ...          ...       ...  ...   \n",
       "3119     1490  2018-09 305.990000  44.000000 14816.950000 48.000000   30   \n",
       "3120     1490  2018-10 290.900000  42.000000 20664.970000 45.000000   30   \n",
       "3121     1490  2018-11 265.970000  38.000000 18712.660000 47.000000   30   \n",
       "3122     1490  2018-12 271.630000  42.000000 15785.740000 46.000000   30   \n",
       "3208     1476  2018-04   0.000000   0.000000   530.780000  0.000000   50   \n",
       "\n",
       "     churn_date    city first_name  ... messages_included  \\\n",
       "8           NaN  Москва       Иван  ...                50   \n",
       "9           NaN  Москва       Иван  ...                50   \n",
       "17          NaN  Москва      Белла  ...              1000   \n",
       "18          NaN  Москва      Белла  ...              1000   \n",
       "19          NaN  Москва      Белла  ...              1000   \n",
       "...         ...     ...        ...  ...               ...   \n",
       "3119        NaN  Москва    Радомир  ...                50   \n",
       "3120        NaN  Москва    Радомир  ...                50   \n",
       "3121        NaN  Москва    Радомир  ...                50   \n",
       "3122        NaN  Москва    Радомир  ...                50   \n",
       "3208        NaN  Москва  Валентина  ...              1000   \n",
       "\n",
       "     mb_per_month_included minutes_included  rub_monthly_fee  rub_per_gb  \\\n",
       "8                    15360              500              550         200   \n",
       "9                    15360              500              550         200   \n",
       "17                   30720             3000             1950         150   \n",
       "18                   30720             3000             1950         150   \n",
       "19                   30720             3000             1950         150   \n",
       "...                    ...              ...              ...         ...   \n",
       "3119                 15360              500              550         200   \n",
       "3120                 15360              500              550         200   \n",
       "3121                 15360              500              550         200   \n",
       "3122                 15360              500              550         200   \n",
       "3208                 30720             3000             1950         150   \n",
       "\n",
       "      rub_per_message  rub_per_minute  tariff_name  proceeds_month  location  \n",
       "8                   3               3        smart     1150.000000    Москва  \n",
       "9                   3               3        smart      550.000000    Москва  \n",
       "17                  1               1        ultra     1950.000000    Москва  \n",
       "18                  1               1        ultra     1950.000000    Москва  \n",
       "19                  1               1        ultra     1950.000000    Москва  \n",
       "...               ...             ...          ...             ...       ...  \n",
       "3119                3               3        smart      550.000000    Москва  \n",
       "3120                3               3        smart     1750.000000    Москва  \n",
       "3121                3               3        smart     1350.000000    Москва  \n",
       "3122                3               3        smart      750.000000    Москва  \n",
       "3208                1               1        ultra     1950.000000    Москва  \n",
       "\n",
       "[611 rows x 23 columns]"
      ]
     },
     "execution_count": 55,
     "metadata": {},
     "output_type": "execute_result"
    }
   ],
   "source": [
    "# срез данных, где город пользователей Москва\n",
    "report_msk = report[report['location'] == 'Москва']\n",
    "report_msk"
   ]
  },
  {
   "cell_type": "code",
   "execution_count": 56,
   "metadata": {},
   "outputs": [
    {
     "data": {
      "text/html": [
       "<div>\n",
       "<style scoped>\n",
       "    .dataframe tbody tr th:only-of-type {\n",
       "        vertical-align: middle;\n",
       "    }\n",
       "\n",
       "    .dataframe tbody tr th {\n",
       "        vertical-align: top;\n",
       "    }\n",
       "\n",
       "    .dataframe thead th {\n",
       "        text-align: right;\n",
       "    }\n",
       "</style>\n",
       "<table border=\"1\" class=\"dataframe\">\n",
       "  <thead>\n",
       "    <tr style=\"text-align: right;\">\n",
       "      <th></th>\n",
       "      <th>user_id</th>\n",
       "      <th>month</th>\n",
       "      <th>duration</th>\n",
       "      <th>calls</th>\n",
       "      <th>mb_used</th>\n",
       "      <th>message</th>\n",
       "      <th>age</th>\n",
       "      <th>churn_date</th>\n",
       "      <th>city</th>\n",
       "      <th>first_name</th>\n",
       "      <th>...</th>\n",
       "      <th>messages_included</th>\n",
       "      <th>mb_per_month_included</th>\n",
       "      <th>minutes_included</th>\n",
       "      <th>rub_monthly_fee</th>\n",
       "      <th>rub_per_gb</th>\n",
       "      <th>rub_per_message</th>\n",
       "      <th>rub_per_minute</th>\n",
       "      <th>tariff_name</th>\n",
       "      <th>proceeds_month</th>\n",
       "      <th>location</th>\n",
       "    </tr>\n",
       "  </thead>\n",
       "  <tbody>\n",
       "    <tr>\n",
       "      <th>0</th>\n",
       "      <td>1000</td>\n",
       "      <td>2018-05</td>\n",
       "      <td>150.060000</td>\n",
       "      <td>22.000000</td>\n",
       "      <td>2253.490000</td>\n",
       "      <td>22.000000</td>\n",
       "      <td>52</td>\n",
       "      <td>NaN</td>\n",
       "      <td>Краснодар</td>\n",
       "      <td>Рафаил</td>\n",
       "      <td>...</td>\n",
       "      <td>1000</td>\n",
       "      <td>30720</td>\n",
       "      <td>3000</td>\n",
       "      <td>1950</td>\n",
       "      <td>150</td>\n",
       "      <td>1</td>\n",
       "      <td>1</td>\n",
       "      <td>ultra</td>\n",
       "      <td>1950.000000</td>\n",
       "      <td>Другое</td>\n",
       "    </tr>\n",
       "    <tr>\n",
       "      <th>1</th>\n",
       "      <td>1000</td>\n",
       "      <td>2018-06</td>\n",
       "      <td>158.900000</td>\n",
       "      <td>43.000000</td>\n",
       "      <td>23233.770000</td>\n",
       "      <td>60.000000</td>\n",
       "      <td>52</td>\n",
       "      <td>NaN</td>\n",
       "      <td>Краснодар</td>\n",
       "      <td>Рафаил</td>\n",
       "      <td>...</td>\n",
       "      <td>1000</td>\n",
       "      <td>30720</td>\n",
       "      <td>3000</td>\n",
       "      <td>1950</td>\n",
       "      <td>150</td>\n",
       "      <td>1</td>\n",
       "      <td>1</td>\n",
       "      <td>ultra</td>\n",
       "      <td>1950.000000</td>\n",
       "      <td>Другое</td>\n",
       "    </tr>\n",
       "    <tr>\n",
       "      <th>2</th>\n",
       "      <td>1000</td>\n",
       "      <td>2018-07</td>\n",
       "      <td>318.800000</td>\n",
       "      <td>47.000000</td>\n",
       "      <td>14003.640000</td>\n",
       "      <td>75.000000</td>\n",
       "      <td>52</td>\n",
       "      <td>NaN</td>\n",
       "      <td>Краснодар</td>\n",
       "      <td>Рафаил</td>\n",
       "      <td>...</td>\n",
       "      <td>1000</td>\n",
       "      <td>30720</td>\n",
       "      <td>3000</td>\n",
       "      <td>1950</td>\n",
       "      <td>150</td>\n",
       "      <td>1</td>\n",
       "      <td>1</td>\n",
       "      <td>ultra</td>\n",
       "      <td>1950.000000</td>\n",
       "      <td>Другое</td>\n",
       "    </tr>\n",
       "    <tr>\n",
       "      <th>3</th>\n",
       "      <td>1000</td>\n",
       "      <td>2018-08</td>\n",
       "      <td>389.870000</td>\n",
       "      <td>52.000000</td>\n",
       "      <td>14055.930000</td>\n",
       "      <td>81.000000</td>\n",
       "      <td>52</td>\n",
       "      <td>NaN</td>\n",
       "      <td>Краснодар</td>\n",
       "      <td>Рафаил</td>\n",
       "      <td>...</td>\n",
       "      <td>1000</td>\n",
       "      <td>30720</td>\n",
       "      <td>3000</td>\n",
       "      <td>1950</td>\n",
       "      <td>150</td>\n",
       "      <td>1</td>\n",
       "      <td>1</td>\n",
       "      <td>ultra</td>\n",
       "      <td>1950.000000</td>\n",
       "      <td>Другое</td>\n",
       "    </tr>\n",
       "    <tr>\n",
       "      <th>4</th>\n",
       "      <td>1000</td>\n",
       "      <td>2018-09</td>\n",
       "      <td>440.140000</td>\n",
       "      <td>58.000000</td>\n",
       "      <td>14568.910000</td>\n",
       "      <td>57.000000</td>\n",
       "      <td>52</td>\n",
       "      <td>NaN</td>\n",
       "      <td>Краснодар</td>\n",
       "      <td>Рафаил</td>\n",
       "      <td>...</td>\n",
       "      <td>1000</td>\n",
       "      <td>30720</td>\n",
       "      <td>3000</td>\n",
       "      <td>1950</td>\n",
       "      <td>150</td>\n",
       "      <td>1</td>\n",
       "      <td>1</td>\n",
       "      <td>ultra</td>\n",
       "      <td>1950.000000</td>\n",
       "      <td>Другое</td>\n",
       "    </tr>\n",
       "    <tr>\n",
       "      <th>...</th>\n",
       "      <td>...</td>\n",
       "      <td>...</td>\n",
       "      <td>...</td>\n",
       "      <td>...</td>\n",
       "      <td>...</td>\n",
       "      <td>...</td>\n",
       "      <td>...</td>\n",
       "      <td>...</td>\n",
       "      <td>...</td>\n",
       "      <td>...</td>\n",
       "      <td>...</td>\n",
       "      <td>...</td>\n",
       "      <td>...</td>\n",
       "      <td>...</td>\n",
       "      <td>...</td>\n",
       "      <td>...</td>\n",
       "      <td>...</td>\n",
       "      <td>...</td>\n",
       "      <td>...</td>\n",
       "      <td>...</td>\n",
       "      <td>...</td>\n",
       "    </tr>\n",
       "    <tr>\n",
       "      <th>3209</th>\n",
       "      <td>1489</td>\n",
       "      <td>2018-08</td>\n",
       "      <td>0.000000</td>\n",
       "      <td>0.000000</td>\n",
       "      <td>11050.560000</td>\n",
       "      <td>17.000000</td>\n",
       "      <td>35</td>\n",
       "      <td>NaN</td>\n",
       "      <td>Санкт-Петербург</td>\n",
       "      <td>Павел</td>\n",
       "      <td>...</td>\n",
       "      <td>50</td>\n",
       "      <td>15360</td>\n",
       "      <td>500</td>\n",
       "      <td>550</td>\n",
       "      <td>200</td>\n",
       "      <td>3</td>\n",
       "      <td>3</td>\n",
       "      <td>smart</td>\n",
       "      <td>550.000000</td>\n",
       "      <td>Другое</td>\n",
       "    </tr>\n",
       "    <tr>\n",
       "      <th>3210</th>\n",
       "      <td>1489</td>\n",
       "      <td>2018-09</td>\n",
       "      <td>0.000000</td>\n",
       "      <td>0.000000</td>\n",
       "      <td>17206.300000</td>\n",
       "      <td>32.000000</td>\n",
       "      <td>35</td>\n",
       "      <td>NaN</td>\n",
       "      <td>Санкт-Петербург</td>\n",
       "      <td>Павел</td>\n",
       "      <td>...</td>\n",
       "      <td>50</td>\n",
       "      <td>15360</td>\n",
       "      <td>500</td>\n",
       "      <td>550</td>\n",
       "      <td>200</td>\n",
       "      <td>3</td>\n",
       "      <td>3</td>\n",
       "      <td>smart</td>\n",
       "      <td>950.000000</td>\n",
       "      <td>Другое</td>\n",
       "    </tr>\n",
       "    <tr>\n",
       "      <th>3211</th>\n",
       "      <td>1489</td>\n",
       "      <td>2018-10</td>\n",
       "      <td>0.000000</td>\n",
       "      <td>0.000000</td>\n",
       "      <td>19559.440000</td>\n",
       "      <td>21.000000</td>\n",
       "      <td>35</td>\n",
       "      <td>NaN</td>\n",
       "      <td>Санкт-Петербург</td>\n",
       "      <td>Павел</td>\n",
       "      <td>...</td>\n",
       "      <td>50</td>\n",
       "      <td>15360</td>\n",
       "      <td>500</td>\n",
       "      <td>550</td>\n",
       "      <td>200</td>\n",
       "      <td>3</td>\n",
       "      <td>3</td>\n",
       "      <td>smart</td>\n",
       "      <td>1550.000000</td>\n",
       "      <td>Другое</td>\n",
       "    </tr>\n",
       "    <tr>\n",
       "      <th>3212</th>\n",
       "      <td>1489</td>\n",
       "      <td>2018-11</td>\n",
       "      <td>0.000000</td>\n",
       "      <td>0.000000</td>\n",
       "      <td>17491.560000</td>\n",
       "      <td>20.000000</td>\n",
       "      <td>35</td>\n",
       "      <td>NaN</td>\n",
       "      <td>Санкт-Петербург</td>\n",
       "      <td>Павел</td>\n",
       "      <td>...</td>\n",
       "      <td>50</td>\n",
       "      <td>15360</td>\n",
       "      <td>500</td>\n",
       "      <td>550</td>\n",
       "      <td>200</td>\n",
       "      <td>3</td>\n",
       "      <td>3</td>\n",
       "      <td>smart</td>\n",
       "      <td>1150.000000</td>\n",
       "      <td>Другое</td>\n",
       "    </tr>\n",
       "    <tr>\n",
       "      <th>3213</th>\n",
       "      <td>1489</td>\n",
       "      <td>2018-12</td>\n",
       "      <td>0.000000</td>\n",
       "      <td>0.000000</td>\n",
       "      <td>17322.510000</td>\n",
       "      <td>35.000000</td>\n",
       "      <td>35</td>\n",
       "      <td>NaN</td>\n",
       "      <td>Санкт-Петербург</td>\n",
       "      <td>Павел</td>\n",
       "      <td>...</td>\n",
       "      <td>50</td>\n",
       "      <td>15360</td>\n",
       "      <td>500</td>\n",
       "      <td>550</td>\n",
       "      <td>200</td>\n",
       "      <td>3</td>\n",
       "      <td>3</td>\n",
       "      <td>smart</td>\n",
       "      <td>950.000000</td>\n",
       "      <td>Другое</td>\n",
       "    </tr>\n",
       "  </tbody>\n",
       "</table>\n",
       "<p>2603 rows × 23 columns</p>\n",
       "</div>"
      ],
      "text/plain": [
       "      user_id    month   duration     calls      mb_used   message  age  \\\n",
       "0        1000  2018-05 150.060000 22.000000  2253.490000 22.000000   52   \n",
       "1        1000  2018-06 158.900000 43.000000 23233.770000 60.000000   52   \n",
       "2        1000  2018-07 318.800000 47.000000 14003.640000 75.000000   52   \n",
       "3        1000  2018-08 389.870000 52.000000 14055.930000 81.000000   52   \n",
       "4        1000  2018-09 440.140000 58.000000 14568.910000 57.000000   52   \n",
       "...       ...      ...        ...       ...          ...       ...  ...   \n",
       "3209     1489  2018-08   0.000000  0.000000 11050.560000 17.000000   35   \n",
       "3210     1489  2018-09   0.000000  0.000000 17206.300000 32.000000   35   \n",
       "3211     1489  2018-10   0.000000  0.000000 19559.440000 21.000000   35   \n",
       "3212     1489  2018-11   0.000000  0.000000 17491.560000 20.000000   35   \n",
       "3213     1489  2018-12   0.000000  0.000000 17322.510000 35.000000   35   \n",
       "\n",
       "     churn_date             city first_name  ... messages_included  \\\n",
       "0           NaN        Краснодар     Рафаил  ...              1000   \n",
       "1           NaN        Краснодар     Рафаил  ...              1000   \n",
       "2           NaN        Краснодар     Рафаил  ...              1000   \n",
       "3           NaN        Краснодар     Рафаил  ...              1000   \n",
       "4           NaN        Краснодар     Рафаил  ...              1000   \n",
       "...         ...              ...        ...  ...               ...   \n",
       "3209        NaN  Санкт-Петербург      Павел  ...                50   \n",
       "3210        NaN  Санкт-Петербург      Павел  ...                50   \n",
       "3211        NaN  Санкт-Петербург      Павел  ...                50   \n",
       "3212        NaN  Санкт-Петербург      Павел  ...                50   \n",
       "3213        NaN  Санкт-Петербург      Павел  ...                50   \n",
       "\n",
       "     mb_per_month_included minutes_included  rub_monthly_fee  rub_per_gb  \\\n",
       "0                    30720             3000             1950         150   \n",
       "1                    30720             3000             1950         150   \n",
       "2                    30720             3000             1950         150   \n",
       "3                    30720             3000             1950         150   \n",
       "4                    30720             3000             1950         150   \n",
       "...                    ...              ...              ...         ...   \n",
       "3209                 15360              500              550         200   \n",
       "3210                 15360              500              550         200   \n",
       "3211                 15360              500              550         200   \n",
       "3212                 15360              500              550         200   \n",
       "3213                 15360              500              550         200   \n",
       "\n",
       "      rub_per_message  rub_per_minute  tariff_name  proceeds_month  location  \n",
       "0                   1               1        ultra     1950.000000    Другое  \n",
       "1                   1               1        ultra     1950.000000    Другое  \n",
       "2                   1               1        ultra     1950.000000    Другое  \n",
       "3                   1               1        ultra     1950.000000    Другое  \n",
       "4                   1               1        ultra     1950.000000    Другое  \n",
       "...               ...             ...          ...             ...       ...  \n",
       "3209                3               3        smart      550.000000    Другое  \n",
       "3210                3               3        smart      950.000000    Другое  \n",
       "3211                3               3        smart     1550.000000    Другое  \n",
       "3212                3               3        smart     1150.000000    Другое  \n",
       "3213                3               3        smart      950.000000    Другое  \n",
       "\n",
       "[2603 rows x 23 columns]"
      ]
     },
     "execution_count": 56,
     "metadata": {},
     "output_type": "execute_result"
    }
   ],
   "source": [
    "# срез данных, где пользователей из другого региона\n",
    "report_other = report[report['location'] == 'Другое']\n",
    "report_other"
   ]
  },
  {
   "cell_type": "markdown",
   "metadata": {},
   "source": [
    "<p>Введем основную и альтернативные гипотезы:</p>\n",
    "\n",
    "$\\begin{equation*}\n",
    " \\begin{cases}\n",
    "   H_0 :\\text{Средние выручки пользователей из Москвы равна выручке пользователей из других регионов}\\\\\n",
    "   H_1 :\\text{Средние выручки пользователей из Москвы отличается от выручки пользователей из других регионов}\n",
    " \\end{cases}\n",
    "\\end{equation*}$\n",
    "\n",
    "Уровень значимости: $\\alpha = 0.05$"
   ]
  },
  {
   "cell_type": "code",
   "execution_count": 57,
   "metadata": {},
   "outputs": [
    {
     "data": {
      "image/png": "[encoded data removed]",
      "text/plain": [
       "<Figure size 1080x360 with 2 Axes>"
      ]
     },
     "metadata": {
      "needs_background": "light"
     },
     "output_type": "display_data"
    }
   ],
   "source": [
    "#построение распределений средней выручки пользователей из Москвы и из других регионов\n",
    "figure3, ax3 = plt.subplots(nrows=1, ncols=2, figsize=(15,5))\n",
    "\n",
    "ax3[0].set_title('Средняя выручка пользователей из Москвы')\n",
    "sns.distplot(report_msk['proceeds_month'], bins=20, color='red', ax=ax3[0])\n",
    "\n",
    "ax3[1].set_title('Средняя выручка пользователей из других регионов')\n",
    "sns.distplot(report_other['proceeds_month'], bins=30, color='green', ax=ax3[1])\n",
    "\n",
    "\n",
    "figure3.tight_layout()"
   ]
  },
  {
   "cell_type": "code",
   "execution_count": 58,
   "metadata": {},
   "outputs": [
    {
     "data": {
      "image/png": "[encoded data removed]",
      "text/plain": [
       "<Figure size 864x576 with 2 Axes>"
      ]
     },
     "metadata": {
      "needs_background": "light"
     },
     "output_type": "display_data"
    }
   ],
   "source": [
    "# построение qq-plot для проверки распределений средней выручки пользователей из Москвы и из других регионов на нормальность\n",
    "plt.figure(figsize=(12,8))\n",
    "plt.subplot(2,2,1)\n",
    "stats.probplot(report_msk['proceeds_month'], dist=\"norm\", plot=plt)\n",
    "plt.subplot(2,2,2)\n",
    "stats.probplot(report_other['proceeds_month'], dist=\"norm\", plot=plt)\n",
    "plt.show()"
   ]
  },
  {
   "cell_type": "markdown",
   "metadata": {},
   "source": [
    "Как видно по рисункам распределения средней выручки пользователей из Москвы и из других регонов не нормальное. Наблюдаются 2 пика, ккоторые характеризуют максимальную выручку по разным тарифам. Поэтому для проверки гипоетезы посчитаем p-value, используя ttest из библиотеки scipy для сравнения средних двух независимых выборок.\n",
    "\n",
    "ttest применим, если выполняются следующие условия:\n",
    "* Генеральные совокупности не должны зависеть друг от друга - наши выборки независимы,\n",
    "* Выборочные средние должны быть нормально распределены - благодаря ЦПТ, распределение средних у нас нормальное (ниже приведены распределения),\n",
    "* Дисперсии рассматриваемых генеральных совокупностей должны быть равны - выборки у нас разного размера, но можно указать параметр `equal_var = False`.\n",
    "\n",
    "Если p-value будет меньше выбранного уровня значимости $\\alpha = 0.05$, то нулевую гипотезу о равенстве средних отвергнем. Иначе сделаем вывод, что данные не позволили нам отвергнуть нулевую гипотезу.  "
   ]
  },
  {
   "cell_type": "code",
   "execution_count": 59,
   "metadata": {},
   "outputs": [
    {
     "name": "stdout",
     "output_type": "stream",
     "text": [
      "p-значение:  0.46532858228722906\n",
      "Не получилось отвергнуть нулевую гипотезу\n"
     ]
    }
   ],
   "source": [
    "results = stats.ttest_ind(report_msk['proceeds_month'], report_other['proceeds_month'], equal_var=False)\n",
    "\n",
    "print('p-значение: ', results.pvalue)\n",
    "\n",
    "if results.pvalue < alpha:\n",
    "    print(\"Отвергаем нулевую гипотезу\")\n",
    "else:\n",
    "    print(\"Не получилось отвергнуть нулевую гипотезу\") "
   ]
  },
  {
   "cell_type": "code",
   "execution_count": 60,
   "metadata": {},
   "outputs": [],
   "source": [
    "#формироване списка средних для выручки пользоателей из Москвы и из других регионов для построения распределений\n",
    "means_msk = []\n",
    "means_other = []\n",
    "\n",
    "for _ in range(10000):\n",
    "    tmp_sample_msk = np.random.choice(report_msk['proceeds_month'], size=len(report_msk['proceeds_month']), replace=True)\n",
    "    tmp_sample_other = np.random.choice(report_other['proceeds_month'], size=len(report_other['proceeds_month']), replace=True)\n",
    "    means_msk.append(np.mean(tmp_sample_msk))\n",
    "    means_other.append(np.mean(tmp_sample_other))"
   ]
  },
  {
   "cell_type": "code",
   "execution_count": 61,
   "metadata": {},
   "outputs": [
    {
     "data": {
      "image/png": "[encoded data removed]",
      "text/plain": [
       "<Figure size 1080x360 with 3 Axes>"
      ]
     },
     "metadata": {
      "needs_background": "light"
     },
     "output_type": "display_data"
    }
   ],
   "source": [
    "figure4, ax4 = plt.subplots(nrows=1, ncols=3, figsize=(15,5))\n",
    "\n",
    "ax4[0].set_title('Выборка x (распределение средних)')\n",
    "ax4[0].hist(means_msk, bins=20, color='red')\n",
    "\n",
    "ax4[1].set_title('Выборка y (распределение средних)')\n",
    "ax4[1].hist(means_other, bins=20, color='green')\n",
    "\n",
    "ax4[2].set_title('Выборки x и y (распределение средних)')\n",
    "ax4[2].hist(means_msk, bins=20, color='red')\n",
    "ax4[2].hist(means_other, bins=20, color='green')\n",
    "\n",
    "figure3.tight_layout()"
   ]
  },
  {
   "cell_type": "markdown",
   "metadata": {},
   "source": [
    "На рисунках наглядно видно, что средние выручки пользователей из Москвы и из других регионов практически одинаковы и находятся в районе 1500-1525, что также показал ttest."
   ]
  },
  {
   "cell_type": "markdown",
   "metadata": {},
   "source": [
    "### Вывод"
   ]
  },
  {
   "cell_type": "markdown",
   "metadata": {},
   "source": [
    "В рамках данного шага проверили две гипотезы:\n",
    " * средняя выручка пользователей тарифов «Ультра» и «Смарт» различаются -  данные не позволили нам отвергнуть данную гипотезу;\n",
    " * средняя выручка пользователей из Москвы отличается от выручки пользователей из других регионов - данную гипотезу отвергнули.\n",
    " \n",
    "Для проверки обеих гипотез посчитали p-value, используя ttest, уровень значимости выбрали $\\alpha = 0.05$."
   ]
  },
  {
   "cell_type": "markdown",
   "metadata": {},
   "source": [
    "## Общий вывод"
   ]
  },
  {
   "cell_type": "markdown",
   "metadata": {},
   "source": [
    "В рамках данного проекта проанализировали поведение пользователей двух тарифов: Ультра и Смарт. Несмотря на то, что пользователей тарифа Ультра почти в 2.5 раза меньше чем пользователей тарифа Смарт (30% и 70% соответственно), помесячная выручка с каждого пользователя тарифа Ультра в 2 раза больше выручки тарифа Смарт. При этом неважно из какого города пользователи из Москвы или из другого региона, выручки для них равны.\n",
    "\n",
    "Таким образом можно сделать вывод, что тариф Ультра лучше."
   ]
  }
 ],
 "metadata": {
  "ExecuteTimeLog": [
   {
    "duration": 304,
    "start_time": "2022-03-10T18:37:09.285Z"
   },
   {
    "duration": 713,
    "start_time": "2022-03-10T18:37:11.696Z"
   },
   {
    "duration": 283,
    "start_time": "2022-03-10T18:37:13.734Z"
   },
   {
    "duration": 2007,
    "start_time": "2022-03-10T18:37:22.824Z"
   },
   {
    "duration": 260,
    "start_time": "2022-03-10T18:40:27.313Z"
   },
   {
    "duration": 3,
    "start_time": "2022-03-10T18:40:31.527Z"
   },
   {
    "duration": 278,
    "start_time": "2022-03-10T18:40:32.273Z"
   },
   {
    "duration": 24,
    "start_time": "2022-03-10T18:40:44.880Z"
   },
   {
    "duration": 26,
    "start_time": "2022-03-10T18:41:17.242Z"
   },
   {
    "duration": 251,
    "start_time": "2022-03-10T18:42:28.190Z"
   },
   {
    "duration": 164,
    "start_time": "2022-03-10T18:42:31.220Z"
   },
   {
    "duration": 12,
    "start_time": "2022-03-10T18:42:32.203Z"
   },
   {
    "duration": 120,
    "start_time": "2022-03-10T18:43:13.442Z"
   },
   {
    "duration": 11,
    "start_time": "2022-03-10T18:43:26.235Z"
   },
   {
    "duration": 23,
    "start_time": "2022-03-10T18:43:37.525Z"
   },
   {
    "duration": 247,
    "start_time": "2022-03-10T18:44:12.650Z"
   },
   {
    "duration": 1958,
    "start_time": "2022-03-10T18:44:18.395Z"
   },
   {
    "duration": 17,
    "start_time": "2022-03-10T18:44:27.102Z"
   },
   {
    "duration": 12,
    "start_time": "2022-03-10T18:44:35.030Z"
   },
   {
    "duration": 9,
    "start_time": "2022-03-10T18:44:58.094Z"
   },
   {
    "duration": 242,
    "start_time": "2022-03-10T18:45:34.256Z"
   },
   {
    "duration": 19,
    "start_time": "2022-03-10T18:45:40.955Z"
   },
   {
    "duration": 15,
    "start_time": "2022-03-10T18:45:49.365Z"
   },
   {
    "duration": 9,
    "start_time": "2022-03-10T18:45:55.869Z"
   },
   {
    "duration": 13,
    "start_time": "2022-03-10T19:03:57.233Z"
   },
   {
    "duration": 13,
    "start_time": "2022-03-10T19:04:09.742Z"
   },
   {
    "duration": 11,
    "start_time": "2022-03-10T19:04:19.694Z"
   },
   {
    "duration": 16,
    "start_time": "2022-03-10T19:04:40.586Z"
   },
   {
    "duration": 19,
    "start_time": "2022-03-10T19:05:29.310Z"
   },
   {
    "duration": 258,
    "start_time": "2022-03-11T05:31:53.992Z"
   },
   {
    "duration": 4247,
    "start_time": "2022-03-11T05:32:05.576Z"
   },
   {
    "duration": 147,
    "start_time": "2022-03-11T05:32:09.825Z"
   },
   {
    "duration": 12,
    "start_time": "2022-03-11T05:32:09.974Z"
   },
   {
    "duration": 25,
    "start_time": "2022-03-11T05:32:09.987Z"
   },
   {
    "duration": 132,
    "start_time": "2022-03-11T05:32:10.014Z"
   },
   {
    "duration": 16,
    "start_time": "2022-03-11T05:32:10.148Z"
   },
   {
    "duration": 8,
    "start_time": "2022-03-11T05:32:10.165Z"
   },
   {
    "duration": 17,
    "start_time": "2022-03-11T05:32:10.175Z"
   },
   {
    "duration": 98,
    "start_time": "2022-03-11T05:32:10.194Z"
   },
   {
    "duration": 8,
    "start_time": "2022-03-11T05:32:10.295Z"
   },
   {
    "duration": 23,
    "start_time": "2022-03-11T05:32:10.304Z"
   },
   {
    "duration": 11,
    "start_time": "2022-03-11T05:32:10.329Z"
   },
   {
    "duration": 13,
    "start_time": "2022-03-11T05:32:10.342Z"
   },
   {
    "duration": 15,
    "start_time": "2022-03-11T05:32:10.357Z"
   },
   {
    "duration": 19,
    "start_time": "2022-03-11T05:32:10.375Z"
   },
   {
    "duration": 11,
    "start_time": "2022-03-11T05:32:10.396Z"
   },
   {
    "duration": 8,
    "start_time": "2022-03-11T05:32:10.408Z"
   },
   {
    "duration": 31,
    "start_time": "2022-03-11T05:54:11.764Z"
   },
   {
    "duration": 8,
    "start_time": "2022-03-11T05:54:26.726Z"
   },
   {
    "duration": 15,
    "start_time": "2022-03-11T05:54:32.792Z"
   },
   {
    "duration": 30,
    "start_time": "2022-03-11T05:56:22.993Z"
   },
   {
    "duration": 341,
    "start_time": "2022-03-11T11:32:18.067Z"
   },
   {
    "duration": 20,
    "start_time": "2022-03-11T11:32:21.931Z"
   },
   {
    "duration": 18,
    "start_time": "2022-03-11T11:39:17.488Z"
   },
   {
    "duration": 15,
    "start_time": "2022-03-11T11:39:22.756Z"
   },
   {
    "duration": 241,
    "start_time": "2022-03-11T11:39:30.650Z"
   },
   {
    "duration": 5,
    "start_time": "2022-03-11T11:39:40.594Z"
   },
   {
    "duration": 295,
    "start_time": "2022-03-13T10:38:37.524Z"
   },
   {
    "duration": 659,
    "start_time": "2022-03-13T10:39:49.342Z"
   },
   {
    "duration": 166,
    "start_time": "2022-03-13T10:39:50.003Z"
   },
   {
    "duration": 13,
    "start_time": "2022-03-13T10:39:50.171Z"
   },
   {
    "duration": 28,
    "start_time": "2022-03-13T10:39:50.186Z"
   },
   {
    "duration": 129,
    "start_time": "2022-03-13T10:39:50.216Z"
   },
   {
    "duration": 9,
    "start_time": "2022-03-13T10:39:50.347Z"
   },
   {
    "duration": 22,
    "start_time": "2022-03-13T10:39:50.358Z"
   },
   {
    "duration": 22,
    "start_time": "2022-03-13T10:39:50.382Z"
   },
   {
    "duration": 87,
    "start_time": "2022-03-13T10:39:50.407Z"
   },
   {
    "duration": 8,
    "start_time": "2022-03-13T10:39:50.496Z"
   },
   {
    "duration": 18,
    "start_time": "2022-03-13T10:39:50.505Z"
   },
   {
    "duration": 16,
    "start_time": "2022-03-13T10:39:50.525Z"
   },
   {
    "duration": 10,
    "start_time": "2022-03-13T10:39:50.543Z"
   },
   {
    "duration": 26,
    "start_time": "2022-03-13T10:39:50.554Z"
   },
   {
    "duration": 48,
    "start_time": "2022-03-13T10:39:50.582Z"
   },
   {
    "duration": 17,
    "start_time": "2022-03-13T10:39:50.631Z"
   },
   {
    "duration": 12,
    "start_time": "2022-03-13T10:39:50.650Z"
   },
   {
    "duration": 36,
    "start_time": "2022-03-13T10:39:50.663Z"
   },
   {
    "duration": 15,
    "start_time": "2022-03-13T10:39:50.701Z"
   },
   {
    "duration": 32,
    "start_time": "2022-03-13T10:39:50.718Z"
   },
   {
    "duration": 38,
    "start_time": "2022-03-13T10:39:50.751Z"
   },
   {
    "duration": 14,
    "start_time": "2022-03-13T10:40:01.615Z"
   },
   {
    "duration": 343,
    "start_time": "2022-03-13T10:43:12.993Z"
   },
   {
    "duration": 19,
    "start_time": "2022-03-13T10:43:28.726Z"
   },
   {
    "duration": 25,
    "start_time": "2022-03-13T10:44:28.318Z"
   },
   {
    "duration": 282,
    "start_time": "2022-03-13T10:44:44.964Z"
   },
   {
    "duration": 267,
    "start_time": "2022-03-13T10:45:34.532Z"
   },
   {
    "duration": 3,
    "start_time": "2022-03-13T10:45:46.730Z"
   },
   {
    "duration": 170,
    "start_time": "2022-03-13T10:45:46.735Z"
   },
   {
    "duration": 10,
    "start_time": "2022-03-13T10:45:46.907Z"
   },
   {
    "duration": 25,
    "start_time": "2022-03-13T10:45:46.919Z"
   },
   {
    "duration": 138,
    "start_time": "2022-03-13T10:45:46.946Z"
   },
   {
    "duration": 9,
    "start_time": "2022-03-13T10:45:47.086Z"
   },
   {
    "duration": 14,
    "start_time": "2022-03-13T10:45:47.097Z"
   },
   {
    "duration": 21,
    "start_time": "2022-03-13T10:45:47.112Z"
   },
   {
    "duration": 102,
    "start_time": "2022-03-13T10:45:47.136Z"
   },
   {
    "duration": 18,
    "start_time": "2022-03-13T10:45:47.240Z"
   },
   {
    "duration": 21,
    "start_time": "2022-03-13T10:45:47.260Z"
   },
   {
    "duration": 16,
    "start_time": "2022-03-13T10:45:47.283Z"
   },
   {
    "duration": 11,
    "start_time": "2022-03-13T10:45:47.301Z"
   },
   {
    "duration": 8,
    "start_time": "2022-03-13T10:45:47.314Z"
   },
   {
    "duration": 47,
    "start_time": "2022-03-13T10:45:47.324Z"
   },
   {
    "duration": 15,
    "start_time": "2022-03-13T10:45:47.373Z"
   },
   {
    "duration": 9,
    "start_time": "2022-03-13T10:45:47.390Z"
   },
   {
    "duration": 34,
    "start_time": "2022-03-13T10:45:47.401Z"
   },
   {
    "duration": 16,
    "start_time": "2022-03-13T10:45:47.436Z"
   },
   {
    "duration": 51,
    "start_time": "2022-03-13T10:45:47.453Z"
   },
   {
    "duration": 24,
    "start_time": "2022-03-13T10:45:47.506Z"
   },
   {
    "duration": 45,
    "start_time": "2022-03-13T10:45:47.532Z"
   },
   {
    "duration": 21,
    "start_time": "2022-03-13T10:45:47.579Z"
   },
   {
    "duration": 27,
    "start_time": "2022-03-13T10:45:47.602Z"
   },
   {
    "duration": 20,
    "start_time": "2022-03-13T10:47:23.511Z"
   },
   {
    "duration": 11,
    "start_time": "2022-03-13T10:47:24.571Z"
   },
   {
    "duration": 21,
    "start_time": "2022-03-13T10:47:27.269Z"
   },
   {
    "duration": 36,
    "start_time": "2022-03-13T10:53:58.278Z"
   },
   {
    "duration": 29,
    "start_time": "2022-03-13T10:57:29.401Z"
   },
   {
    "duration": 26,
    "start_time": "2022-03-13T10:58:41.473Z"
   },
   {
    "duration": 6,
    "start_time": "2022-03-13T11:07:33.934Z"
   },
   {
    "duration": 6,
    "start_time": "2022-03-13T11:07:47.754Z"
   },
   {
    "duration": 93,
    "start_time": "2022-03-13T11:08:12.565Z"
   },
   {
    "duration": 89,
    "start_time": "2022-03-13T11:08:19.889Z"
   },
   {
    "duration": 106,
    "start_time": "2022-03-13T11:08:32.461Z"
   },
   {
    "duration": 83,
    "start_time": "2022-03-13T11:08:43.109Z"
   },
   {
    "duration": 23,
    "start_time": "2022-03-13T11:09:15.693Z"
   },
   {
    "duration": 31,
    "start_time": "2022-03-13T11:13:13.371Z"
   },
   {
    "duration": 10,
    "start_time": "2022-03-13T11:14:22.288Z"
   },
   {
    "duration": 295,
    "start_time": "2022-03-13T11:17:06.961Z"
   },
   {
    "duration": 6,
    "start_time": "2022-03-13T11:17:44.980Z"
   },
   {
    "duration": 5,
    "start_time": "2022-03-13T11:18:22.995Z"
   },
   {
    "duration": 295,
    "start_time": "2022-03-13T11:18:35.259Z"
   },
   {
    "duration": 6,
    "start_time": "2022-03-13T11:20:02.315Z"
   },
   {
    "duration": 272,
    "start_time": "2022-03-13T11:20:34.083Z"
   },
   {
    "duration": 7,
    "start_time": "2022-03-13T11:20:39.904Z"
   },
   {
    "duration": 94,
    "start_time": "2022-03-13T13:02:35.623Z"
   },
   {
    "duration": 414,
    "start_time": "2022-03-13T13:02:46.990Z"
   },
   {
    "duration": 425,
    "start_time": "2022-03-13T13:02:53.983Z"
   },
   {
    "duration": 449,
    "start_time": "2022-03-13T13:04:59.653Z"
   },
   {
    "duration": 6,
    "start_time": "2022-03-13T13:05:24.500Z"
   },
   {
    "duration": 6,
    "start_time": "2022-03-13T13:06:26.152Z"
   },
   {
    "duration": 7,
    "start_time": "2022-03-13T13:08:33.977Z"
   },
   {
    "duration": 6,
    "start_time": "2022-03-13T13:08:45.353Z"
   },
   {
    "duration": 6,
    "start_time": "2022-03-13T13:09:03.757Z"
   },
   {
    "duration": 6,
    "start_time": "2022-03-13T13:09:08.521Z"
   },
   {
    "duration": 437,
    "start_time": "2022-03-13T13:11:33.662Z"
   },
   {
    "duration": 6,
    "start_time": "2022-03-13T13:12:33.141Z"
   },
   {
    "duration": 7,
    "start_time": "2022-03-13T13:13:16.923Z"
   },
   {
    "duration": 421,
    "start_time": "2022-03-13T13:13:20.606Z"
   },
   {
    "duration": 709,
    "start_time": "2022-03-13T13:13:48.345Z"
   },
   {
    "duration": 163,
    "start_time": "2022-03-13T13:13:49.056Z"
   },
   {
    "duration": 12,
    "start_time": "2022-03-13T13:13:49.221Z"
   },
   {
    "duration": 50,
    "start_time": "2022-03-13T13:13:49.235Z"
   },
   {
    "duration": 137,
    "start_time": "2022-03-13T13:13:49.287Z"
   },
   {
    "duration": 9,
    "start_time": "2022-03-13T13:13:49.426Z"
   },
   {
    "duration": 15,
    "start_time": "2022-03-13T13:13:49.437Z"
   },
   {
    "duration": 30,
    "start_time": "2022-03-13T13:13:49.455Z"
   },
   {
    "duration": 88,
    "start_time": "2022-03-13T13:13:49.487Z"
   },
   {
    "duration": 7,
    "start_time": "2022-03-13T13:13:49.577Z"
   },
   {
    "duration": 17,
    "start_time": "2022-03-13T13:13:49.586Z"
   },
   {
    "duration": 16,
    "start_time": "2022-03-13T13:13:49.604Z"
   },
   {
    "duration": 11,
    "start_time": "2022-03-13T13:13:49.621Z"
   },
   {
    "duration": 9,
    "start_time": "2022-03-13T13:13:49.633Z"
   },
   {
    "duration": 38,
    "start_time": "2022-03-13T13:13:49.644Z"
   },
   {
    "duration": 10,
    "start_time": "2022-03-13T13:13:49.684Z"
   },
   {
    "duration": 9,
    "start_time": "2022-03-13T13:13:49.696Z"
   },
   {
    "duration": 34,
    "start_time": "2022-03-13T13:13:49.707Z"
   },
   {
    "duration": 35,
    "start_time": "2022-03-13T13:13:49.742Z"
   },
   {
    "duration": 32,
    "start_time": "2022-03-13T13:13:49.779Z"
   },
   {
    "duration": 25,
    "start_time": "2022-03-13T13:13:49.813Z"
   },
   {
    "duration": 13,
    "start_time": "2022-03-13T13:13:49.840Z"
   },
   {
    "duration": 21,
    "start_time": "2022-03-13T13:13:49.878Z"
   },
   {
    "duration": 27,
    "start_time": "2022-03-13T13:13:49.901Z"
   },
   {
    "duration": 17,
    "start_time": "2022-03-13T13:13:49.930Z"
   },
   {
    "duration": 37,
    "start_time": "2022-03-13T13:13:49.949Z"
   },
   {
    "duration": 21,
    "start_time": "2022-03-13T13:13:49.988Z"
   },
   {
    "duration": 35,
    "start_time": "2022-03-13T13:13:50.010Z"
   },
   {
    "duration": 50,
    "start_time": "2022-03-13T13:13:50.046Z"
   },
   {
    "duration": 28,
    "start_time": "2022-03-13T13:13:50.097Z"
   },
   {
    "duration": 23,
    "start_time": "2022-03-13T13:13:50.126Z"
   },
   {
    "duration": 56,
    "start_time": "2022-03-13T13:13:50.150Z"
   },
   {
    "duration": 10,
    "start_time": "2022-03-13T13:13:50.207Z"
   },
   {
    "duration": 6,
    "start_time": "2022-03-13T13:13:50.219Z"
   },
   {
    "duration": 7,
    "start_time": "2022-03-13T13:14:53.032Z"
   },
   {
    "duration": 7227,
    "start_time": "2022-03-13T13:16:50.595Z"
   },
   {
    "duration": -2043,
    "start_time": "2022-03-13T13:17:29.328Z"
   },
   {
    "duration": 6371,
    "start_time": "2022-03-13T13:17:31.014Z"
   },
   {
    "duration": 680,
    "start_time": "2022-03-13T13:17:39.522Z"
   },
   {
    "duration": 177,
    "start_time": "2022-03-13T13:17:40.205Z"
   },
   {
    "duration": 13,
    "start_time": "2022-03-13T13:17:40.384Z"
   },
   {
    "duration": 35,
    "start_time": "2022-03-13T13:17:40.399Z"
   },
   {
    "duration": 135,
    "start_time": "2022-03-13T13:17:40.436Z"
   },
   {
    "duration": 10,
    "start_time": "2022-03-13T13:17:40.573Z"
   },
   {
    "duration": 32,
    "start_time": "2022-03-13T13:17:40.585Z"
   },
   {
    "duration": 40,
    "start_time": "2022-03-13T13:17:40.619Z"
   },
   {
    "duration": 91,
    "start_time": "2022-03-13T13:17:40.662Z"
   },
   {
    "duration": 7,
    "start_time": "2022-03-13T13:17:40.756Z"
   },
   {
    "duration": 48,
    "start_time": "2022-03-13T13:17:40.765Z"
   },
   {
    "duration": 52,
    "start_time": "2022-03-13T13:17:40.815Z"
   },
   {
    "duration": 30,
    "start_time": "2022-03-13T13:17:40.869Z"
   },
   {
    "duration": 17,
    "start_time": "2022-03-13T13:17:40.901Z"
   },
   {
    "duration": 63,
    "start_time": "2022-03-13T13:17:40.920Z"
   },
   {
    "duration": 25,
    "start_time": "2022-03-13T13:17:40.985Z"
   },
   {
    "duration": 35,
    "start_time": "2022-03-13T13:17:41.012Z"
   },
   {
    "duration": 61,
    "start_time": "2022-03-13T13:17:41.049Z"
   },
   {
    "duration": 15,
    "start_time": "2022-03-13T13:17:41.112Z"
   },
   {
    "duration": 53,
    "start_time": "2022-03-13T13:17:41.129Z"
   },
   {
    "duration": 25,
    "start_time": "2022-03-13T13:17:41.183Z"
   },
   {
    "duration": 27,
    "start_time": "2022-03-13T13:17:41.210Z"
   },
   {
    "duration": 29,
    "start_time": "2022-03-13T13:17:41.239Z"
   },
   {
    "duration": 26,
    "start_time": "2022-03-13T13:17:41.271Z"
   },
   {
    "duration": 18,
    "start_time": "2022-03-13T13:17:41.299Z"
   },
   {
    "duration": 11,
    "start_time": "2022-03-13T13:17:41.319Z"
   },
   {
    "duration": 47,
    "start_time": "2022-03-13T13:17:41.333Z"
   },
   {
    "duration": 35,
    "start_time": "2022-03-13T13:17:41.382Z"
   },
   {
    "duration": 31,
    "start_time": "2022-03-13T13:17:41.419Z"
   },
   {
    "duration": 50,
    "start_time": "2022-03-13T13:17:41.452Z"
   },
   {
    "duration": 24,
    "start_time": "2022-03-13T13:17:41.504Z"
   },
   {
    "duration": 62,
    "start_time": "2022-03-13T13:17:41.530Z"
   },
   {
    "duration": 11,
    "start_time": "2022-03-13T13:17:41.595Z"
   },
   {
    "duration": 7,
    "start_time": "2022-03-13T13:17:41.608Z"
   },
   {
    "duration": 9,
    "start_time": "2022-03-13T13:22:31.151Z"
   },
   {
    "duration": 8,
    "start_time": "2022-03-13T13:23:27.569Z"
   },
   {
    "duration": 8,
    "start_time": "2022-03-13T13:24:45.021Z"
   },
   {
    "duration": 7,
    "start_time": "2022-03-13T13:24:59.740Z"
   },
   {
    "duration": 7,
    "start_time": "2022-03-13T13:25:04.454Z"
   },
   {
    "duration": 613,
    "start_time": "2022-03-13T13:32:32.284Z"
   },
   {
    "duration": 9,
    "start_time": "2022-03-13T13:36:47.831Z"
   },
   {
    "duration": 458,
    "start_time": "2022-03-13T13:38:08.841Z"
   },
   {
    "duration": 8,
    "start_time": "2022-03-13T13:38:34.382Z"
   },
   {
    "duration": 9,
    "start_time": "2022-03-13T13:39:11.157Z"
   },
   {
    "duration": 271,
    "start_time": "2022-03-13T13:40:44.368Z"
   },
   {
    "duration": 21,
    "start_time": "2022-03-13T13:41:12.508Z"
   },
   {
    "duration": 6577,
    "start_time": "2022-03-13T13:41:47.139Z"
   },
   {
    "duration": 24,
    "start_time": "2022-03-13T13:42:09.314Z"
   },
   {
    "duration": 248,
    "start_time": "2022-03-13T16:24:26.008Z"
   },
   {
    "duration": 634,
    "start_time": "2022-03-13T16:24:34.763Z"
   },
   {
    "duration": 147,
    "start_time": "2022-03-13T16:24:35.399Z"
   },
   {
    "duration": 11,
    "start_time": "2022-03-13T16:24:35.548Z"
   },
   {
    "duration": 37,
    "start_time": "2022-03-13T16:24:35.561Z"
   },
   {
    "duration": 120,
    "start_time": "2022-03-13T16:24:35.599Z"
   },
   {
    "duration": 10,
    "start_time": "2022-03-13T16:24:35.721Z"
   },
   {
    "duration": 30,
    "start_time": "2022-03-13T16:24:35.733Z"
   },
   {
    "duration": 18,
    "start_time": "2022-03-13T16:24:35.766Z"
   },
   {
    "duration": 97,
    "start_time": "2022-03-13T16:24:35.787Z"
   },
   {
    "duration": 8,
    "start_time": "2022-03-13T16:24:35.886Z"
   },
   {
    "duration": 16,
    "start_time": "2022-03-13T16:24:35.896Z"
   },
   {
    "duration": 10,
    "start_time": "2022-03-13T16:24:35.915Z"
   },
   {
    "duration": 33,
    "start_time": "2022-03-13T16:24:35.927Z"
   },
   {
    "duration": 6,
    "start_time": "2022-03-13T16:24:35.962Z"
   },
   {
    "duration": 25,
    "start_time": "2022-03-13T16:24:35.969Z"
   },
   {
    "duration": 11,
    "start_time": "2022-03-13T16:24:35.996Z"
   },
   {
    "duration": 7,
    "start_time": "2022-03-13T16:24:36.008Z"
   },
   {
    "duration": 50,
    "start_time": "2022-03-13T16:24:36.017Z"
   },
   {
    "duration": 21,
    "start_time": "2022-03-13T16:24:36.069Z"
   },
   {
    "duration": 30,
    "start_time": "2022-03-13T16:24:36.092Z"
   },
   {
    "duration": 47,
    "start_time": "2022-03-13T16:24:36.124Z"
   },
   {
    "duration": 12,
    "start_time": "2022-03-13T16:24:36.173Z"
   },
   {
    "duration": 19,
    "start_time": "2022-03-13T16:24:36.188Z"
   },
   {
    "duration": 52,
    "start_time": "2022-03-13T16:24:36.209Z"
   },
   {
    "duration": 16,
    "start_time": "2022-03-13T16:24:36.263Z"
   },
   {
    "duration": 9,
    "start_time": "2022-03-13T16:24:36.281Z"
   },
   {
    "duration": 24,
    "start_time": "2022-03-13T16:24:36.292Z"
   },
   {
    "duration": 58,
    "start_time": "2022-03-13T16:24:36.318Z"
   },
   {
    "duration": 25,
    "start_time": "2022-03-13T16:24:36.377Z"
   },
   {
    "duration": 22,
    "start_time": "2022-03-13T16:24:36.404Z"
   },
   {
    "duration": 47,
    "start_time": "2022-03-13T16:24:36.428Z"
   },
   {
    "duration": 26,
    "start_time": "2022-03-13T16:24:36.477Z"
   },
   {
    "duration": 8,
    "start_time": "2022-03-13T16:24:36.504Z"
   },
   {
    "duration": 4,
    "start_time": "2022-03-13T16:24:36.514Z"
   },
   {
    "duration": 295,
    "start_time": "2022-03-13T16:24:36.520Z"
   },
   {
    "duration": 12,
    "start_time": "2022-03-13T16:24:36.817Z"
   },
   {
    "duration": 4621,
    "start_time": "2022-03-13T16:29:16.455Z"
   },
   {
    "duration": 197,
    "start_time": "2022-03-13T16:29:49.139Z"
   },
   {
    "duration": 5135,
    "start_time": "2022-03-13T16:30:01.053Z"
   },
   {
    "duration": 199,
    "start_time": "2022-03-13T16:36:28.000Z"
   },
   {
    "duration": 630,
    "start_time": "2022-03-13T16:36:56.123Z"
   },
   {
    "duration": 157,
    "start_time": "2022-03-13T16:36:56.755Z"
   },
   {
    "duration": 12,
    "start_time": "2022-03-13T16:36:56.914Z"
   },
   {
    "duration": 31,
    "start_time": "2022-03-13T16:36:56.928Z"
   },
   {
    "duration": 128,
    "start_time": "2022-03-13T16:36:56.961Z"
   },
   {
    "duration": 9,
    "start_time": "2022-03-13T16:36:57.090Z"
   },
   {
    "duration": 10,
    "start_time": "2022-03-13T16:36:57.101Z"
   },
   {
    "duration": 17,
    "start_time": "2022-03-13T16:36:57.113Z"
   },
   {
    "duration": 104,
    "start_time": "2022-03-13T16:36:57.133Z"
   },
   {
    "duration": 7,
    "start_time": "2022-03-13T16:36:57.239Z"
   },
   {
    "duration": 16,
    "start_time": "2022-03-13T16:36:57.259Z"
   },
   {
    "duration": 10,
    "start_time": "2022-03-13T16:36:57.277Z"
   },
   {
    "duration": 9,
    "start_time": "2022-03-13T16:36:57.289Z"
   },
   {
    "duration": 9,
    "start_time": "2022-03-13T16:36:57.299Z"
   },
   {
    "duration": 17,
    "start_time": "2022-03-13T16:36:57.310Z"
   },
   {
    "duration": 38,
    "start_time": "2022-03-13T16:36:57.328Z"
   },
   {
    "duration": 8,
    "start_time": "2022-03-13T16:36:57.367Z"
   },
   {
    "duration": 33,
    "start_time": "2022-03-13T16:36:57.377Z"
   },
   {
    "duration": 15,
    "start_time": "2022-03-13T16:36:57.411Z"
   },
   {
    "duration": 31,
    "start_time": "2022-03-13T16:36:57.458Z"
   },
   {
    "duration": 23,
    "start_time": "2022-03-13T16:36:57.491Z"
   },
   {
    "duration": 13,
    "start_time": "2022-03-13T16:36:57.516Z"
   },
   {
    "duration": 51,
    "start_time": "2022-03-13T16:36:57.531Z"
   },
   {
    "duration": 32,
    "start_time": "2022-03-13T16:36:57.584Z"
   },
   {
    "duration": 19,
    "start_time": "2022-03-13T16:36:57.617Z"
   },
   {
    "duration": 28,
    "start_time": "2022-03-13T16:36:57.638Z"
   },
   {
    "duration": 21,
    "start_time": "2022-03-13T16:36:57.670Z"
   },
   {
    "duration": 71,
    "start_time": "2022-03-13T16:36:57.693Z"
   },
   {
    "duration": 27,
    "start_time": "2022-03-13T16:36:57.765Z"
   },
   {
    "duration": 25,
    "start_time": "2022-03-13T16:36:57.793Z"
   },
   {
    "duration": 58,
    "start_time": "2022-03-13T16:36:57.819Z"
   },
   {
    "duration": 32,
    "start_time": "2022-03-13T16:36:57.879Z"
   },
   {
    "duration": 9,
    "start_time": "2022-03-13T16:36:57.913Z"
   },
   {
    "duration": 4,
    "start_time": "2022-03-13T16:36:57.924Z"
   },
   {
    "duration": 5836,
    "start_time": "2022-03-13T16:36:57.930Z"
   },
   {
    "duration": -1331,
    "start_time": "2022-03-13T16:37:05.099Z"
   },
   {
    "duration": 3,
    "start_time": "2022-03-13T16:38:01.388Z"
   },
   {
    "duration": 158,
    "start_time": "2022-03-13T16:38:01.393Z"
   },
   {
    "duration": 13,
    "start_time": "2022-03-13T16:38:01.553Z"
   },
   {
    "duration": 23,
    "start_time": "2022-03-13T16:38:01.568Z"
   },
   {
    "duration": 147,
    "start_time": "2022-03-13T16:38:01.592Z"
   },
   {
    "duration": 10,
    "start_time": "2022-03-13T16:38:01.740Z"
   },
   {
    "duration": 25,
    "start_time": "2022-03-13T16:38:01.760Z"
   },
   {
    "duration": 33,
    "start_time": "2022-03-13T16:38:01.787Z"
   },
   {
    "duration": 85,
    "start_time": "2022-03-13T16:38:01.823Z"
   },
   {
    "duration": 8,
    "start_time": "2022-03-13T16:38:01.911Z"
   },
   {
    "duration": 24,
    "start_time": "2022-03-13T16:38:01.921Z"
   },
   {
    "duration": 13,
    "start_time": "2022-03-13T16:38:01.947Z"
   },
   {
    "duration": 21,
    "start_time": "2022-03-13T16:38:01.962Z"
   },
   {
    "duration": 11,
    "start_time": "2022-03-13T16:38:01.985Z"
   },
   {
    "duration": 25,
    "start_time": "2022-03-13T16:38:01.998Z"
   },
   {
    "duration": 19,
    "start_time": "2022-03-13T16:38:02.025Z"
   },
   {
    "duration": 11,
    "start_time": "2022-03-13T16:38:02.046Z"
   },
   {
    "duration": 36,
    "start_time": "2022-03-13T16:38:02.059Z"
   },
   {
    "duration": 15,
    "start_time": "2022-03-13T16:38:02.097Z"
   },
   {
    "duration": 32,
    "start_time": "2022-03-13T16:38:02.113Z"
   },
   {
    "duration": 32,
    "start_time": "2022-03-13T16:38:02.146Z"
   },
   {
    "duration": 13,
    "start_time": "2022-03-13T16:38:02.179Z"
   },
   {
    "duration": 19,
    "start_time": "2022-03-13T16:38:02.194Z"
   },
   {
    "duration": 59,
    "start_time": "2022-03-13T16:38:02.215Z"
   },
   {
    "duration": 22,
    "start_time": "2022-03-13T16:38:02.276Z"
   },
   {
    "duration": 13,
    "start_time": "2022-03-13T16:38:02.300Z"
   },
   {
    "duration": 54,
    "start_time": "2022-03-13T16:38:02.318Z"
   },
   {
    "duration": 43,
    "start_time": "2022-03-13T16:38:02.375Z"
   },
   {
    "duration": 53,
    "start_time": "2022-03-13T16:38:02.420Z"
   },
   {
    "duration": 27,
    "start_time": "2022-03-13T16:38:02.476Z"
   },
   {
    "duration": 21,
    "start_time": "2022-03-13T16:38:02.505Z"
   },
   {
    "duration": 63,
    "start_time": "2022-03-13T16:38:02.527Z"
   },
   {
    "duration": 8,
    "start_time": "2022-03-13T16:38:02.592Z"
   },
   {
    "duration": 4,
    "start_time": "2022-03-13T16:38:02.602Z"
   },
   {
    "duration": 285,
    "start_time": "2022-03-13T16:38:02.608Z"
   },
   {
    "duration": 11,
    "start_time": "2022-03-13T16:38:02.895Z"
   },
   {
    "duration": 198,
    "start_time": "2022-03-13T17:08:35.262Z"
   },
   {
    "duration": 515,
    "start_time": "2022-03-13T17:08:47.001Z"
   },
   {
    "duration": 151,
    "start_time": "2022-03-13T17:08:47.518Z"
   },
   {
    "duration": 9,
    "start_time": "2022-03-13T17:08:47.671Z"
   },
   {
    "duration": 31,
    "start_time": "2022-03-13T17:08:47.682Z"
   },
   {
    "duration": 130,
    "start_time": "2022-03-13T17:08:47.715Z"
   },
   {
    "duration": 13,
    "start_time": "2022-03-13T17:08:47.847Z"
   },
   {
    "duration": 31,
    "start_time": "2022-03-13T17:08:47.862Z"
   },
   {
    "duration": 27,
    "start_time": "2022-03-13T17:08:47.895Z"
   },
   {
    "duration": 84,
    "start_time": "2022-03-13T17:08:47.925Z"
   },
   {
    "duration": 7,
    "start_time": "2022-03-13T17:08:48.011Z"
   },
   {
    "duration": 33,
    "start_time": "2022-03-13T17:08:48.021Z"
   },
   {
    "duration": 15,
    "start_time": "2022-03-13T17:08:48.056Z"
   },
   {
    "duration": 22,
    "start_time": "2022-03-13T17:08:48.073Z"
   },
   {
    "duration": 19,
    "start_time": "2022-03-13T17:08:48.096Z"
   },
   {
    "duration": 31,
    "start_time": "2022-03-13T17:08:48.117Z"
   },
   {
    "duration": 24,
    "start_time": "2022-03-13T17:08:48.150Z"
   },
   {
    "duration": 21,
    "start_time": "2022-03-13T17:08:48.176Z"
   },
   {
    "duration": 51,
    "start_time": "2022-03-13T17:08:48.199Z"
   },
   {
    "duration": 25,
    "start_time": "2022-03-13T17:08:48.252Z"
   },
   {
    "duration": 36,
    "start_time": "2022-03-13T17:08:48.279Z"
   },
   {
    "duration": 21,
    "start_time": "2022-03-13T17:08:48.317Z"
   },
   {
    "duration": 31,
    "start_time": "2022-03-13T17:08:48.340Z"
   },
   {
    "duration": 20,
    "start_time": "2022-03-13T17:08:48.373Z"
   },
   {
    "duration": 25,
    "start_time": "2022-03-13T17:08:48.395Z"
   },
   {
    "duration": 48,
    "start_time": "2022-03-13T17:08:48.422Z"
   },
   {
    "duration": 10,
    "start_time": "2022-03-13T17:08:48.472Z"
   },
   {
    "duration": 33,
    "start_time": "2022-03-13T17:08:48.486Z"
   },
   {
    "duration": 58,
    "start_time": "2022-03-13T17:08:48.521Z"
   },
   {
    "duration": 29,
    "start_time": "2022-03-13T17:08:48.580Z"
   },
   {
    "duration": 26,
    "start_time": "2022-03-13T17:08:48.610Z"
   },
   {
    "duration": 23,
    "start_time": "2022-03-13T17:08:48.658Z"
   },
   {
    "duration": 36,
    "start_time": "2022-03-13T17:08:48.683Z"
   },
   {
    "duration": 8,
    "start_time": "2022-03-13T17:08:48.721Z"
   },
   {
    "duration": 5,
    "start_time": "2022-03-13T17:08:48.759Z"
   },
   {
    "duration": 278,
    "start_time": "2022-03-13T17:08:48.766Z"
   },
   {
    "duration": 22,
    "start_time": "2022-03-13T17:08:49.047Z"
   },
   {
    "duration": 4583,
    "start_time": "2022-03-13T17:08:49.072Z"
   },
   {
    "duration": 1256,
    "start_time": "2022-03-13T17:10:02.271Z"
   },
   {
    "duration": 162,
    "start_time": "2022-03-13T17:10:03.529Z"
   },
   {
    "duration": 15,
    "start_time": "2022-03-13T17:10:03.693Z"
   },
   {
    "duration": 54,
    "start_time": "2022-03-13T17:10:03.711Z"
   },
   {
    "duration": 145,
    "start_time": "2022-03-13T17:10:03.768Z"
   },
   {
    "duration": 10,
    "start_time": "2022-03-13T17:10:03.914Z"
   },
   {
    "duration": 14,
    "start_time": "2022-03-13T17:10:03.926Z"
   },
   {
    "duration": 32,
    "start_time": "2022-03-13T17:10:03.943Z"
   },
   {
    "duration": 101,
    "start_time": "2022-03-13T17:10:03.977Z"
   },
   {
    "duration": 8,
    "start_time": "2022-03-13T17:10:04.080Z"
   },
   {
    "duration": 15,
    "start_time": "2022-03-13T17:10:04.091Z"
   },
   {
    "duration": 10,
    "start_time": "2022-03-13T17:10:04.108Z"
   },
   {
    "duration": 42,
    "start_time": "2022-03-13T17:10:04.120Z"
   },
   {
    "duration": 9,
    "start_time": "2022-03-13T17:10:04.164Z"
   },
   {
    "duration": 30,
    "start_time": "2022-03-13T17:10:04.174Z"
   },
   {
    "duration": 16,
    "start_time": "2022-03-13T17:10:04.206Z"
   },
   {
    "duration": 9,
    "start_time": "2022-03-13T17:10:04.224Z"
   },
   {
    "duration": 51,
    "start_time": "2022-03-13T17:10:04.235Z"
   },
   {
    "duration": 17,
    "start_time": "2022-03-13T17:10:04.290Z"
   },
   {
    "duration": 57,
    "start_time": "2022-03-13T17:10:04.309Z"
   },
   {
    "duration": 23,
    "start_time": "2022-03-13T17:10:04.368Z"
   },
   {
    "duration": 16,
    "start_time": "2022-03-13T17:10:04.393Z"
   },
   {
    "duration": 54,
    "start_time": "2022-03-13T17:10:04.414Z"
   },
   {
    "duration": 25,
    "start_time": "2022-03-13T17:10:04.471Z"
   },
   {
    "duration": 21,
    "start_time": "2022-03-13T17:10:04.498Z"
   },
   {
    "duration": 41,
    "start_time": "2022-03-13T17:10:04.521Z"
   },
   {
    "duration": 21,
    "start_time": "2022-03-13T17:10:04.564Z"
   },
   {
    "duration": 73,
    "start_time": "2022-03-13T17:10:04.587Z"
   },
   {
    "duration": 27,
    "start_time": "2022-03-13T17:10:04.662Z"
   },
   {
    "duration": 24,
    "start_time": "2022-03-13T17:10:04.691Z"
   },
   {
    "duration": 55,
    "start_time": "2022-03-13T17:10:04.717Z"
   },
   {
    "duration": 35,
    "start_time": "2022-03-13T17:10:04.774Z"
   },
   {
    "duration": 9,
    "start_time": "2022-03-13T17:10:04.810Z"
   },
   {
    "duration": 5,
    "start_time": "2022-03-13T17:10:04.821Z"
   },
   {
    "duration": 299,
    "start_time": "2022-03-13T17:10:04.828Z"
   },
   {
    "duration": 11,
    "start_time": "2022-03-13T17:10:05.128Z"
   },
   {
    "duration": 5491,
    "start_time": "2022-03-13T17:10:05.141Z"
   },
   {
    "duration": 1664,
    "start_time": "2022-03-13T17:10:24.437Z"
   },
   {
    "duration": 409,
    "start_time": "2022-03-13T17:26:11.125Z"
   },
   {
    "duration": 1770,
    "start_time": "2022-03-13T17:26:19.460Z"
   },
   {
    "duration": 205,
    "start_time": "2022-03-13T18:07:25.451Z"
   },
   {
    "duration": 212,
    "start_time": "2022-03-13T18:07:49.624Z"
   },
   {
    "duration": 187,
    "start_time": "2022-03-13T18:07:59.450Z"
   },
   {
    "duration": 196,
    "start_time": "2022-03-13T18:08:13.078Z"
   },
   {
    "duration": 206,
    "start_time": "2022-03-13T18:08:18.982Z"
   },
   {
    "duration": 1204,
    "start_time": "2022-03-13T18:10:16.341Z"
   },
   {
    "duration": 166,
    "start_time": "2022-03-13T18:10:17.547Z"
   },
   {
    "duration": 13,
    "start_time": "2022-03-13T18:10:17.715Z"
   },
   {
    "duration": 43,
    "start_time": "2022-03-13T18:10:17.730Z"
   },
   {
    "duration": 137,
    "start_time": "2022-03-13T18:10:17.775Z"
   },
   {
    "duration": 9,
    "start_time": "2022-03-13T18:10:17.914Z"
   },
   {
    "duration": 10,
    "start_time": "2022-03-13T18:10:17.925Z"
   },
   {
    "duration": 19,
    "start_time": "2022-03-13T18:10:17.959Z"
   },
   {
    "duration": 114,
    "start_time": "2022-03-13T18:10:17.981Z"
   },
   {
    "duration": 9,
    "start_time": "2022-03-13T18:10:18.097Z"
   },
   {
    "duration": 21,
    "start_time": "2022-03-13T18:10:18.108Z"
   },
   {
    "duration": 29,
    "start_time": "2022-03-13T18:10:18.132Z"
   },
   {
    "duration": 11,
    "start_time": "2022-03-13T18:10:18.163Z"
   },
   {
    "duration": 8,
    "start_time": "2022-03-13T18:10:18.176Z"
   },
   {
    "duration": 18,
    "start_time": "2022-03-13T18:10:18.186Z"
   },
   {
    "duration": 11,
    "start_time": "2022-03-13T18:10:18.206Z"
   },
   {
    "duration": 47,
    "start_time": "2022-03-13T18:10:18.219Z"
   },
   {
    "duration": 35,
    "start_time": "2022-03-13T18:10:18.268Z"
   },
   {
    "duration": 17,
    "start_time": "2022-03-13T18:10:18.304Z"
   },
   {
    "duration": 33,
    "start_time": "2022-03-13T18:10:18.359Z"
   },
   {
    "duration": 23,
    "start_time": "2022-03-13T18:10:18.394Z"
   },
   {
    "duration": 43,
    "start_time": "2022-03-13T18:10:18.419Z"
   },
   {
    "duration": 21,
    "start_time": "2022-03-13T18:10:18.466Z"
   },
   {
    "duration": 25,
    "start_time": "2022-03-13T18:10:18.489Z"
   },
   {
    "duration": 53,
    "start_time": "2022-03-13T18:10:18.516Z"
   },
   {
    "duration": 11,
    "start_time": "2022-03-13T18:10:18.571Z"
   },
   {
    "duration": 21,
    "start_time": "2022-03-13T18:10:18.584Z"
   },
   {
    "duration": 82,
    "start_time": "2022-03-13T18:10:18.606Z"
   },
   {
    "duration": 27,
    "start_time": "2022-03-13T18:10:18.690Z"
   },
   {
    "duration": 50,
    "start_time": "2022-03-13T18:10:18.719Z"
   },
   {
    "duration": 24,
    "start_time": "2022-03-13T18:10:18.771Z"
   },
   {
    "duration": 68,
    "start_time": "2022-03-13T18:10:18.797Z"
   },
   {
    "duration": 9,
    "start_time": "2022-03-13T18:10:18.867Z"
   },
   {
    "duration": 5,
    "start_time": "2022-03-13T18:10:18.878Z"
   },
   {
    "duration": 325,
    "start_time": "2022-03-13T18:10:18.884Z"
   },
   {
    "duration": 12,
    "start_time": "2022-03-13T18:10:19.211Z"
   },
   {
    "duration": 319,
    "start_time": "2022-03-13T18:10:19.225Z"
   },
   {
    "duration": -1299,
    "start_time": "2022-03-13T18:10:20.845Z"
   },
   {
    "duration": 224,
    "start_time": "2022-03-13T18:10:45.687Z"
   },
   {
    "duration": 194,
    "start_time": "2022-03-13T18:11:07.828Z"
   },
   {
    "duration": 5,
    "start_time": "2022-03-13T18:11:50.895Z"
   },
   {
    "duration": 193,
    "start_time": "2022-03-13T18:12:11.249Z"
   },
   {
    "duration": 33,
    "start_time": "2022-03-13T18:12:47.058Z"
   },
   {
    "duration": 33,
    "start_time": "2022-03-13T18:13:24.719Z"
   },
   {
    "duration": 5,
    "start_time": "2022-03-13T18:16:52.153Z"
   },
   {
    "duration": 46,
    "start_time": "2022-03-13T18:19:18.157Z"
   },
   {
    "duration": 6,
    "start_time": "2022-03-13T18:38:22.814Z"
   },
   {
    "duration": 9,
    "start_time": "2022-03-13T18:38:30.032Z"
   },
   {
    "duration": 6,
    "start_time": "2022-03-13T18:42:18.373Z"
   },
   {
    "duration": 5,
    "start_time": "2022-03-13T18:43:01.384Z"
   },
   {
    "duration": 6,
    "start_time": "2022-03-13T18:43:33.444Z"
   },
   {
    "duration": 5,
    "start_time": "2022-03-13T18:44:20.743Z"
   },
   {
    "duration": 4,
    "start_time": "2022-03-13T18:44:24.639Z"
   },
   {
    "duration": 213,
    "start_time": "2022-03-13T18:44:24.645Z"
   },
   {
    "duration": 10,
    "start_time": "2022-03-13T18:44:24.860Z"
   },
   {
    "duration": 41,
    "start_time": "2022-03-13T18:44:24.873Z"
   },
   {
    "duration": 144,
    "start_time": "2022-03-13T18:44:24.916Z"
   },
   {
    "duration": 12,
    "start_time": "2022-03-13T18:44:25.062Z"
   },
   {
    "duration": 19,
    "start_time": "2022-03-13T18:44:25.076Z"
   },
   {
    "duration": 46,
    "start_time": "2022-03-13T18:44:25.097Z"
   },
   {
    "duration": 85,
    "start_time": "2022-03-13T18:44:25.147Z"
   },
   {
    "duration": 8,
    "start_time": "2022-03-13T18:44:25.234Z"
   },
   {
    "duration": 21,
    "start_time": "2022-03-13T18:44:25.260Z"
   },
   {
    "duration": 24,
    "start_time": "2022-03-13T18:44:25.283Z"
   },
   {
    "duration": 41,
    "start_time": "2022-03-13T18:44:25.309Z"
   },
   {
    "duration": 30,
    "start_time": "2022-03-13T18:44:25.352Z"
   },
   {
    "duration": 49,
    "start_time": "2022-03-13T18:44:25.384Z"
   },
   {
    "duration": 32,
    "start_time": "2022-03-13T18:44:25.435Z"
   },
   {
    "duration": 34,
    "start_time": "2022-03-13T18:44:25.470Z"
   },
   {
    "duration": 57,
    "start_time": "2022-03-13T18:44:25.506Z"
   },
   {
    "duration": 26,
    "start_time": "2022-03-13T18:44:25.565Z"
   },
   {
    "duration": 31,
    "start_time": "2022-03-13T18:44:25.593Z"
   },
   {
    "duration": 46,
    "start_time": "2022-03-13T18:44:25.626Z"
   },
   {
    "duration": 15,
    "start_time": "2022-03-13T18:44:25.674Z"
   },
   {
    "duration": 41,
    "start_time": "2022-03-13T18:44:25.692Z"
   },
   {
    "duration": 76,
    "start_time": "2022-03-13T18:44:25.736Z"
   },
   {
    "duration": 25,
    "start_time": "2022-03-13T18:44:25.814Z"
   },
   {
    "duration": 15,
    "start_time": "2022-03-13T18:44:25.841Z"
   },
   {
    "duration": 40,
    "start_time": "2022-03-13T18:44:25.862Z"
   },
   {
    "duration": 41,
    "start_time": "2022-03-13T18:44:25.905Z"
   },
   {
    "duration": 31,
    "start_time": "2022-03-13T18:44:25.948Z"
   },
   {
    "duration": 25,
    "start_time": "2022-03-13T18:44:25.980Z"
   },
   {
    "duration": 69,
    "start_time": "2022-03-13T18:44:26.007Z"
   },
   {
    "duration": 37,
    "start_time": "2022-03-13T18:44:26.077Z"
   },
   {
    "duration": 43,
    "start_time": "2022-03-13T18:44:26.116Z"
   },
   {
    "duration": 6,
    "start_time": "2022-03-13T18:44:26.161Z"
   },
   {
    "duration": 296,
    "start_time": "2022-03-13T18:44:26.169Z"
   },
   {
    "duration": 12,
    "start_time": "2022-03-13T18:44:26.467Z"
   },
   {
    "duration": 31,
    "start_time": "2022-03-13T18:44:26.481Z"
   },
   {
    "duration": 63,
    "start_time": "2022-03-13T18:44:26.514Z"
   },
   {
    "duration": 5,
    "start_time": "2022-03-13T18:44:26.579Z"
   },
   {
    "duration": 8,
    "start_time": "2022-03-13T18:44:26.586Z"
   },
   {
    "duration": 10,
    "start_time": "2022-03-13T18:44:26.596Z"
   },
   {
    "duration": 51,
    "start_time": "2022-03-13T18:44:26.609Z"
   },
   {
    "duration": 1677,
    "start_time": "2022-03-13T18:44:26.663Z"
   },
   {
    "duration": 12,
    "start_time": "2022-03-13T18:45:54.081Z"
   },
   {
    "duration": 3,
    "start_time": "2022-03-13T18:50:54.091Z"
   },
   {
    "duration": 11453,
    "start_time": "2022-03-13T18:51:42.302Z"
   },
   {
    "duration": 1169,
    "start_time": "2022-03-13T18:52:29.368Z"
   },
   {
    "duration": 162,
    "start_time": "2022-03-13T18:52:30.539Z"
   },
   {
    "duration": 14,
    "start_time": "2022-03-13T18:52:30.703Z"
   },
   {
    "duration": 23,
    "start_time": "2022-03-13T18:52:30.719Z"
   },
   {
    "duration": 136,
    "start_time": "2022-03-13T18:52:30.760Z"
   },
   {
    "duration": 9,
    "start_time": "2022-03-13T18:52:30.898Z"
   },
   {
    "duration": 16,
    "start_time": "2022-03-13T18:52:30.908Z"
   },
   {
    "duration": 41,
    "start_time": "2022-03-13T18:52:30.928Z"
   },
   {
    "duration": 95,
    "start_time": "2022-03-13T18:52:30.972Z"
   },
   {
    "duration": 9,
    "start_time": "2022-03-13T18:52:31.069Z"
   },
   {
    "duration": 19,
    "start_time": "2022-03-13T18:52:31.080Z"
   },
   {
    "duration": 15,
    "start_time": "2022-03-13T18:52:31.101Z"
   },
   {
    "duration": 22,
    "start_time": "2022-03-13T18:52:31.118Z"
   },
   {
    "duration": 9,
    "start_time": "2022-03-13T18:52:31.158Z"
   },
   {
    "duration": 38,
    "start_time": "2022-03-13T18:52:31.169Z"
   },
   {
    "duration": 14,
    "start_time": "2022-03-13T18:52:31.209Z"
   },
   {
    "duration": 12,
    "start_time": "2022-03-13T18:52:31.225Z"
   },
   {
    "duration": 43,
    "start_time": "2022-03-13T18:52:31.239Z"
   },
   {
    "duration": 15,
    "start_time": "2022-03-13T18:52:31.284Z"
   },
   {
    "duration": 31,
    "start_time": "2022-03-13T18:52:31.302Z"
   },
   {
    "duration": 44,
    "start_time": "2022-03-13T18:52:31.334Z"
   },
   {
    "duration": 22,
    "start_time": "2022-03-13T18:52:31.380Z"
   },
   {
    "duration": 22,
    "start_time": "2022-03-13T18:52:31.406Z"
   },
   {
    "duration": 46,
    "start_time": "2022-03-13T18:52:31.431Z"
   },
   {
    "duration": 21,
    "start_time": "2022-03-13T18:52:31.479Z"
   },
   {
    "duration": 11,
    "start_time": "2022-03-13T18:52:31.502Z"
   },
   {
    "duration": 52,
    "start_time": "2022-03-13T18:52:31.515Z"
   },
   {
    "duration": 47,
    "start_time": "2022-03-13T18:52:31.568Z"
   },
   {
    "duration": 50,
    "start_time": "2022-03-13T18:52:31.617Z"
   },
   {
    "duration": 26,
    "start_time": "2022-03-13T18:52:31.669Z"
   },
   {
    "duration": 24,
    "start_time": "2022-03-13T18:52:31.696Z"
   },
   {
    "duration": 67,
    "start_time": "2022-03-13T18:52:31.722Z"
   },
   {
    "duration": 9,
    "start_time": "2022-03-13T18:52:31.791Z"
   },
   {
    "duration": 5,
    "start_time": "2022-03-13T18:52:31.802Z"
   },
   {
    "duration": 286,
    "start_time": "2022-03-13T18:52:31.808Z"
   },
   {
    "duration": 11,
    "start_time": "2022-03-13T18:52:32.096Z"
   },
   {
    "duration": 50,
    "start_time": "2022-03-13T18:52:32.109Z"
   },
   {
    "duration": 32,
    "start_time": "2022-03-13T18:52:32.161Z"
   },
   {
    "duration": 4,
    "start_time": "2022-03-13T18:52:32.195Z"
   },
   {
    "duration": 15,
    "start_time": "2022-03-13T18:52:32.201Z"
   },
   {
    "duration": 8,
    "start_time": "2022-03-13T18:52:32.218Z"
   },
   {
    "duration": 31,
    "start_time": "2022-03-13T18:52:32.228Z"
   },
   {
    "duration": 2039,
    "start_time": "2022-03-13T18:52:32.261Z"
   },
   {
    "duration": -1274,
    "start_time": "2022-03-13T18:52:35.576Z"
   },
   {
    "duration": -1277,
    "start_time": "2022-03-13T18:52:35.580Z"
   },
   {
    "duration": 3,
    "start_time": "2022-03-13T18:52:54.973Z"
   },
   {
    "duration": 7852,
    "start_time": "2022-03-13T18:52:55.613Z"
   },
   {
    "duration": 12633,
    "start_time": "2022-03-13T18:53:21.420Z"
   },
   {
    "duration": 4,
    "start_time": "2022-03-13T18:53:48.254Z"
   },
   {
    "duration": 2043,
    "start_time": "2022-03-13T18:53:48.933Z"
   },
   {
    "duration": 3,
    "start_time": "2022-03-13T18:55:36.668Z"
   },
   {
    "duration": 163,
    "start_time": "2022-03-13T18:55:36.674Z"
   },
   {
    "duration": 9,
    "start_time": "2022-03-13T18:55:36.839Z"
   },
   {
    "duration": 30,
    "start_time": "2022-03-13T18:55:36.851Z"
   },
   {
    "duration": 140,
    "start_time": "2022-03-13T18:55:36.883Z"
   },
   {
    "duration": 10,
    "start_time": "2022-03-13T18:55:37.024Z"
   },
   {
    "duration": 24,
    "start_time": "2022-03-13T18:55:37.036Z"
   },
   {
    "duration": 18,
    "start_time": "2022-03-13T18:55:37.062Z"
   },
   {
    "duration": 111,
    "start_time": "2022-03-13T18:55:37.083Z"
   },
   {
    "duration": 8,
    "start_time": "2022-03-13T18:55:37.196Z"
   },
   {
    "duration": 16,
    "start_time": "2022-03-13T18:55:37.206Z"
   },
   {
    "duration": 10,
    "start_time": "2022-03-13T18:55:37.224Z"
   },
   {
    "duration": 30,
    "start_time": "2022-03-13T18:55:37.236Z"
   },
   {
    "duration": 6,
    "start_time": "2022-03-13T18:55:37.268Z"
   },
   {
    "duration": 25,
    "start_time": "2022-03-13T18:55:37.275Z"
   },
   {
    "duration": 12,
    "start_time": "2022-03-13T18:55:37.301Z"
   },
   {
    "duration": 7,
    "start_time": "2022-03-13T18:55:37.315Z"
   },
   {
    "duration": 61,
    "start_time": "2022-03-13T18:55:37.324Z"
   },
   {
    "duration": 15,
    "start_time": "2022-03-13T18:55:37.387Z"
   },
   {
    "duration": 56,
    "start_time": "2022-03-13T18:55:37.404Z"
   },
   {
    "duration": 21,
    "start_time": "2022-03-13T18:55:37.462Z"
   },
   {
    "duration": 13,
    "start_time": "2022-03-13T18:55:37.485Z"
   },
   {
    "duration": 21,
    "start_time": "2022-03-13T18:55:37.499Z"
   },
   {
    "duration": 57,
    "start_time": "2022-03-13T18:55:37.522Z"
   },
   {
    "duration": 20,
    "start_time": "2022-03-13T18:55:37.580Z"
   },
   {
    "duration": 11,
    "start_time": "2022-03-13T18:55:37.601Z"
   },
   {
    "duration": 57,
    "start_time": "2022-03-13T18:55:37.616Z"
   },
   {
    "duration": 42,
    "start_time": "2022-03-13T18:55:37.675Z"
   },
   {
    "duration": 55,
    "start_time": "2022-03-13T18:55:37.719Z"
   },
   {
    "duration": 25,
    "start_time": "2022-03-13T18:55:37.775Z"
   },
   {
    "duration": 22,
    "start_time": "2022-03-13T18:55:37.802Z"
   },
   {
    "duration": 61,
    "start_time": "2022-03-13T18:55:37.825Z"
   },
   {
    "duration": 10,
    "start_time": "2022-03-13T18:55:37.888Z"
   },
   {
    "duration": 5,
    "start_time": "2022-03-13T18:55:37.900Z"
   },
   {
    "duration": 332,
    "start_time": "2022-03-13T18:55:37.907Z"
   },
   {
    "duration": 21,
    "start_time": "2022-03-13T18:55:38.241Z"
   },
   {
    "duration": 30,
    "start_time": "2022-03-13T18:55:38.264Z"
   },
   {
    "duration": 30,
    "start_time": "2022-03-13T18:55:38.295Z"
   },
   {
    "duration": 33,
    "start_time": "2022-03-13T18:55:38.327Z"
   },
   {
    "duration": 5,
    "start_time": "2022-03-13T18:55:38.362Z"
   },
   {
    "duration": 5,
    "start_time": "2022-03-13T18:55:38.369Z"
   },
   {
    "duration": 7,
    "start_time": "2022-03-13T18:55:38.376Z"
   },
   {
    "duration": 1349,
    "start_time": "2022-03-13T18:55:38.385Z"
   },
   {
    "duration": -1308,
    "start_time": "2022-03-13T18:55:41.044Z"
   },
   {
    "duration": -1313,
    "start_time": "2022-03-13T18:55:41.050Z"
   },
   {
    "duration": 2,
    "start_time": "2022-03-13T18:55:58.304Z"
   },
   {
    "duration": 19,
    "start_time": "2022-03-13T18:55:59.032Z"
   },
   {
    "duration": 33,
    "start_time": "2022-03-13T18:56:13.012Z"
   },
   {
    "duration": 5,
    "start_time": "2022-03-13T18:57:22.520Z"
   },
   {
    "duration": 7,
    "start_time": "2022-03-13T18:57:23.732Z"
   },
   {
    "duration": 5,
    "start_time": "2022-03-13T18:57:24.361Z"
   },
   {
    "duration": 2,
    "start_time": "2022-03-13T18:57:25.552Z"
   },
   {
    "duration": 22,
    "start_time": "2022-03-13T18:57:28.352Z"
   },
   {
    "duration": 4,
    "start_time": "2022-03-13T18:58:55.742Z"
   },
   {
    "duration": 3,
    "start_time": "2022-03-13T18:59:31.681Z"
   },
   {
    "duration": 236,
    "start_time": "2022-03-13T18:59:32.381Z"
   },
   {
    "duration": 13,
    "start_time": "2022-03-13T19:09:37.888Z"
   },
   {
    "duration": 12,
    "start_time": "2022-03-13T19:10:55.583Z"
   },
   {
    "duration": 12,
    "start_time": "2022-03-13T19:11:28.166Z"
   },
   {
    "duration": 11,
    "start_time": "2022-03-13T19:11:49.580Z"
   },
   {
    "duration": 6,
    "start_time": "2022-03-13T19:12:52.010Z"
   },
   {
    "duration": 4,
    "start_time": "2022-03-13T19:12:52.889Z"
   },
   {
    "duration": 5,
    "start_time": "2022-03-13T19:12:53.628Z"
   },
   {
    "duration": 19,
    "start_time": "2022-03-13T19:14:33.455Z"
   },
   {
    "duration": 4,
    "start_time": "2022-03-13T19:15:14.299Z"
   },
   {
    "duration": 5,
    "start_time": "2022-03-13T19:15:14.719Z"
   },
   {
    "duration": 5,
    "start_time": "2022-03-13T19:15:15.249Z"
   },
   {
    "duration": 1588,
    "start_time": "2022-03-13T19:15:51.365Z"
   },
   {
    "duration": 1632,
    "start_time": "2022-03-13T19:17:39.537Z"
   },
   {
    "duration": 13,
    "start_time": "2022-03-13T19:19:18.244Z"
   },
   {
    "duration": 11,
    "start_time": "2022-03-13T19:23:35.435Z"
   },
   {
    "duration": 190,
    "start_time": "2022-03-13T19:24:50.762Z"
   },
   {
    "duration": 19,
    "start_time": "2022-03-13T19:25:46.498Z"
   },
   {
    "duration": 21,
    "start_time": "2022-03-13T19:26:18.574Z"
   },
   {
    "duration": 218,
    "start_time": "2022-03-13T19:27:14.494Z"
   },
   {
    "duration": 203,
    "start_time": "2022-03-13T19:30:08.374Z"
   },
   {
    "duration": 177,
    "start_time": "2022-03-13T19:30:25.543Z"
   },
   {
    "duration": 21,
    "start_time": "2022-03-13T19:30:42.261Z"
   },
   {
    "duration": 21,
    "start_time": "2022-03-13T19:31:49.955Z"
   },
   {
    "duration": 19,
    "start_time": "2022-03-13T19:32:03.934Z"
   },
   {
    "duration": 12,
    "start_time": "2022-03-13T19:32:18.322Z"
   },
   {
    "duration": 1353,
    "start_time": "2022-03-13T19:47:34.530Z"
   },
   {
    "duration": 1680,
    "start_time": "2022-03-13T19:47:53.581Z"
   },
   {
    "duration": 1631,
    "start_time": "2022-03-13T19:48:11.272Z"
   },
   {
    "duration": 1121,
    "start_time": "2022-03-13T19:50:10.369Z"
   },
   {
    "duration": 153,
    "start_time": "2022-03-13T19:50:11.491Z"
   },
   {
    "duration": 14,
    "start_time": "2022-03-13T19:50:11.646Z"
   },
   {
    "duration": 24,
    "start_time": "2022-03-13T19:50:11.662Z"
   },
   {
    "duration": 145,
    "start_time": "2022-03-13T19:50:11.689Z"
   },
   {
    "duration": 9,
    "start_time": "2022-03-13T19:50:11.836Z"
   },
   {
    "duration": 9,
    "start_time": "2022-03-13T19:50:11.859Z"
   },
   {
    "duration": 19,
    "start_time": "2022-03-13T19:50:11.872Z"
   },
   {
    "duration": 108,
    "start_time": "2022-03-13T19:50:11.894Z"
   },
   {
    "duration": 9,
    "start_time": "2022-03-13T19:50:12.004Z"
   },
   {
    "duration": 18,
    "start_time": "2022-03-13T19:50:12.015Z"
   },
   {
    "duration": 28,
    "start_time": "2022-03-13T19:50:12.035Z"
   },
   {
    "duration": 8,
    "start_time": "2022-03-13T19:50:12.064Z"
   },
   {
    "duration": 7,
    "start_time": "2022-03-13T19:50:12.073Z"
   },
   {
    "duration": 40,
    "start_time": "2022-03-13T19:50:12.082Z"
   },
   {
    "duration": 10,
    "start_time": "2022-03-13T19:50:12.124Z"
   },
   {
    "duration": 11,
    "start_time": "2022-03-13T19:50:12.135Z"
   },
   {
    "duration": 32,
    "start_time": "2022-03-13T19:50:12.159Z"
   },
   {
    "duration": 15,
    "start_time": "2022-03-13T19:50:12.193Z"
   },
   {
    "duration": 55,
    "start_time": "2022-03-13T19:50:12.209Z"
   },
   {
    "duration": 23,
    "start_time": "2022-03-13T19:50:12.266Z"
   },
   {
    "duration": 13,
    "start_time": "2022-03-13T19:50:12.291Z"
   },
   {
    "duration": 19,
    "start_time": "2022-03-13T19:50:12.307Z"
   },
   {
    "duration": 52,
    "start_time": "2022-03-13T19:50:12.328Z"
   },
   {
    "duration": 17,
    "start_time": "2022-03-13T19:50:12.382Z"
   },
   {
    "duration": 11,
    "start_time": "2022-03-13T19:50:12.401Z"
   },
   {
    "duration": 47,
    "start_time": "2022-03-13T19:50:12.413Z"
   },
   {
    "duration": 42,
    "start_time": "2022-03-13T19:50:12.462Z"
   },
   {
    "duration": 27,
    "start_time": "2022-03-13T19:50:12.506Z"
   },
   {
    "duration": 24,
    "start_time": "2022-03-13T19:50:12.559Z"
   },
   {
    "duration": 21,
    "start_time": "2022-03-13T19:50:12.585Z"
   },
   {
    "duration": 58,
    "start_time": "2022-03-13T19:50:12.607Z"
   },
   {
    "duration": 8,
    "start_time": "2022-03-13T19:50:12.667Z"
   },
   {
    "duration": 4,
    "start_time": "2022-03-13T19:50:12.677Z"
   },
   {
    "duration": 279,
    "start_time": "2022-03-13T19:50:12.683Z"
   },
   {
    "duration": 11,
    "start_time": "2022-03-13T19:50:12.964Z"
   },
   {
    "duration": 29,
    "start_time": "2022-03-13T19:50:12.977Z"
   },
   {
    "duration": 58,
    "start_time": "2022-03-13T19:50:13.008Z"
   },
   {
    "duration": 18,
    "start_time": "2022-03-13T19:50:13.067Z"
   },
   {
    "duration": 10,
    "start_time": "2022-03-13T19:50:13.087Z"
   },
   {
    "duration": 1644,
    "start_time": "2022-03-13T19:50:13.098Z"
   },
   {
    "duration": 1664,
    "start_time": "2022-03-13T19:51:23.827Z"
   },
   {
    "duration": 270,
    "start_time": "2022-03-13T20:18:37.936Z"
   },
   {
    "duration": 2,
    "start_time": "2022-03-13T20:18:40.810Z"
   },
   {
    "duration": 202,
    "start_time": "2022-03-13T20:18:41.520Z"
   },
   {
    "duration": 395,
    "start_time": "2022-03-13T20:18:59.987Z"
   },
   {
    "duration": 6,
    "start_time": "2022-03-13T20:19:55.759Z"
   },
   {
    "duration": 3,
    "start_time": "2022-03-13T20:24:28.176Z"
   },
   {
    "duration": 63,
    "start_time": "2022-03-13T20:26:26.007Z"
   },
   {
    "duration": 12,
    "start_time": "2022-03-13T20:26:58.771Z"
   },
   {
    "duration": 12,
    "start_time": "2022-03-13T20:27:08.820Z"
   },
   {
    "duration": 14,
    "start_time": "2022-03-13T20:27:23.590Z"
   },
   {
    "duration": 29,
    "start_time": "2022-03-13T20:28:42.076Z"
   },
   {
    "duration": 30,
    "start_time": "2022-03-13T20:29:29.825Z"
   },
   {
    "duration": 232,
    "start_time": "2022-03-13T20:30:15.722Z"
   },
   {
    "duration": 45,
    "start_time": "2022-03-13T20:30:23.212Z"
   },
   {
    "duration": 5,
    "start_time": "2022-03-13T20:30:27.245Z"
   },
   {
    "duration": 5,
    "start_time": "2022-03-13T20:33:08.869Z"
   },
   {
    "duration": 623,
    "start_time": "2022-03-13T20:38:44.906Z"
   },
   {
    "duration": 589,
    "start_time": "2022-03-13T20:39:01.399Z"
   },
   {
    "duration": 833,
    "start_time": "2022-03-13T20:39:17.897Z"
   },
   {
    "duration": 795,
    "start_time": "2022-03-13T20:39:26.583Z"
   },
   {
    "duration": 620,
    "start_time": "2022-03-13T20:39:32.776Z"
   },
   {
    "duration": 619,
    "start_time": "2022-03-13T20:39:48.818Z"
   },
   {
    "duration": 2006,
    "start_time": "2022-03-13T20:42:22.761Z"
   },
   {
    "duration": 1939,
    "start_time": "2022-03-13T20:42:33.753Z"
   },
   {
    "duration": 855,
    "start_time": "2022-03-13T20:43:01.588Z"
   },
   {
    "duration": 638,
    "start_time": "2022-03-13T20:45:23.889Z"
   },
   {
    "duration": 1968,
    "start_time": "2022-03-13T20:46:41.152Z"
   },
   {
    "duration": 963,
    "start_time": "2022-03-13T20:47:33.347Z"
   },
   {
    "duration": 313,
    "start_time": "2022-03-14T05:37:04.288Z"
   },
   {
    "duration": 1471,
    "start_time": "2022-03-14T05:37:15.846Z"
   },
   {
    "duration": 239,
    "start_time": "2022-03-14T05:37:17.319Z"
   },
   {
    "duration": 23,
    "start_time": "2022-03-14T05:37:17.561Z"
   },
   {
    "duration": 49,
    "start_time": "2022-03-14T05:37:17.588Z"
   },
   {
    "duration": 148,
    "start_time": "2022-03-14T05:37:17.641Z"
   },
   {
    "duration": 14,
    "start_time": "2022-03-14T05:37:17.792Z"
   },
   {
    "duration": 29,
    "start_time": "2022-03-14T05:37:17.809Z"
   },
   {
    "duration": 46,
    "start_time": "2022-03-14T05:37:17.844Z"
   },
   {
    "duration": 111,
    "start_time": "2022-03-14T05:37:17.895Z"
   },
   {
    "duration": 11,
    "start_time": "2022-03-14T05:37:18.009Z"
   },
   {
    "duration": 42,
    "start_time": "2022-03-14T05:37:18.023Z"
   },
   {
    "duration": 44,
    "start_time": "2022-03-14T05:37:18.069Z"
   },
   {
    "duration": 44,
    "start_time": "2022-03-14T05:37:18.116Z"
   },
   {
    "duration": 36,
    "start_time": "2022-03-14T05:37:18.163Z"
   },
   {
    "duration": 36,
    "start_time": "2022-03-14T05:37:18.203Z"
   },
   {
    "duration": 46,
    "start_time": "2022-03-14T05:37:18.242Z"
   },
   {
    "duration": 57,
    "start_time": "2022-03-14T05:37:18.290Z"
   },
   {
    "duration": 63,
    "start_time": "2022-03-14T05:37:18.349Z"
   },
   {
    "duration": 19,
    "start_time": "2022-03-14T05:37:18.415Z"
   },
   {
    "duration": 56,
    "start_time": "2022-03-14T05:37:18.437Z"
   },
   {
    "duration": 26,
    "start_time": "2022-03-14T05:37:18.496Z"
   },
   {
    "duration": 24,
    "start_time": "2022-03-14T05:37:18.525Z"
   },
   {
    "duration": 44,
    "start_time": "2022-03-14T05:37:18.554Z"
   },
   {
    "duration": 45,
    "start_time": "2022-03-14T05:37:18.601Z"
   },
   {
    "duration": 25,
    "start_time": "2022-03-14T05:37:18.649Z"
   },
   {
    "duration": 14,
    "start_time": "2022-03-14T05:37:18.683Z"
   },
   {
    "duration": 41,
    "start_time": "2022-03-14T05:37:18.700Z"
   },
   {
    "duration": 68,
    "start_time": "2022-03-14T05:37:18.744Z"
   },
   {
    "duration": 36,
    "start_time": "2022-03-14T05:37:18.815Z"
   },
   {
    "duration": 51,
    "start_time": "2022-03-14T05:37:18.853Z"
   },
   {
    "duration": 31,
    "start_time": "2022-03-14T05:37:18.906Z"
   },
   {
    "duration": 76,
    "start_time": "2022-03-14T05:37:18.939Z"
   },
   {
    "duration": 12,
    "start_time": "2022-03-14T05:37:19.017Z"
   },
   {
    "duration": 25,
    "start_time": "2022-03-14T05:37:19.032Z"
   },
   {
    "duration": 434,
    "start_time": "2022-03-14T05:37:19.059Z"
   },
   {
    "duration": 4,
    "start_time": "2022-03-14T05:37:19.496Z"
   },
   {
    "duration": 35,
    "start_time": "2022-03-14T05:37:19.502Z"
   },
   {
    "duration": 45,
    "start_time": "2022-03-14T05:37:19.539Z"
   },
   {
    "duration": 47,
    "start_time": "2022-03-14T05:37:19.587Z"
   },
   {
    "duration": 56,
    "start_time": "2022-03-14T05:37:19.636Z"
   },
   {
    "duration": 25,
    "start_time": "2022-03-14T05:37:19.694Z"
   },
   {
    "duration": 26,
    "start_time": "2022-03-14T05:37:19.721Z"
   },
   {
    "duration": 2204,
    "start_time": "2022-03-14T05:37:19.750Z"
   },
   {
    "duration": 4,
    "start_time": "2022-03-14T05:37:21.957Z"
   },
   {
    "duration": 54,
    "start_time": "2022-03-14T05:37:21.964Z"
   },
   {
    "duration": 926,
    "start_time": "2022-03-14T05:37:22.021Z"
   },
   {
    "duration": 3283,
    "start_time": "2022-03-14T05:37:22.950Z"
   },
   {
    "duration": 1281,
    "start_time": "2022-03-14T05:37:26.236Z"
   },
   {
    "duration": 63,
    "start_time": "2022-03-14T05:37:27.519Z"
   },
   {
    "duration": 45,
    "start_time": "2022-03-14T05:37:27.584Z"
   },
   {
    "duration": 7,
    "start_time": "2022-03-14T05:37:27.631Z"
   },
   {
    "duration": 912,
    "start_time": "2022-03-14T05:37:27.640Z"
   },
   {
    "duration": 3336,
    "start_time": "2022-03-14T05:37:28.554Z"
   },
   {
    "duration": 1348,
    "start_time": "2022-03-14T05:37:31.893Z"
   },
   {
    "duration": 7,
    "start_time": "2022-03-14T05:38:23.697Z"
   },
   {
    "duration": 8,
    "start_time": "2022-03-14T05:45:38.576Z"
   },
   {
    "duration": 8,
    "start_time": "2022-03-14T05:46:12.063Z"
   },
   {
    "duration": 1427,
    "start_time": "2022-03-14T18:41:36.702Z"
   },
   {
    "duration": 1062,
    "start_time": "2022-03-14T18:41:47.223Z"
   },
   {
    "duration": 1026,
    "start_time": "2022-03-14T18:42:04.609Z"
   },
   {
    "duration": 878,
    "start_time": "2022-03-14T18:59:00.667Z"
   },
   {
    "duration": 46,
    "start_time": "2022-03-14T19:15:32.225Z"
   },
   {
    "duration": 1105,
    "start_time": "2022-03-14T19:15:33.497Z"
   },
   {
    "duration": 527,
    "start_time": "2022-03-14T19:15:50.494Z"
   },
   {
    "duration": 1070,
    "start_time": "2022-03-14T19:15:51.817Z"
   },
   {
    "duration": 5110,
    "start_time": "2022-03-14T19:16:31.244Z"
   },
   {
    "duration": 1651,
    "start_time": "2022-03-14T19:16:36.357Z"
   },
   {
    "duration": 1503,
    "start_time": "2022-03-14T19:16:58.247Z"
   },
   {
    "duration": 196,
    "start_time": "2022-03-14T19:16:59.753Z"
   },
   {
    "duration": 31,
    "start_time": "2022-03-14T19:16:59.952Z"
   },
   {
    "duration": 27,
    "start_time": "2022-03-14T19:16:59.986Z"
   },
   {
    "duration": 180,
    "start_time": "2022-03-14T19:17:00.016Z"
   },
   {
    "duration": 13,
    "start_time": "2022-03-14T19:17:00.199Z"
   },
   {
    "duration": 18,
    "start_time": "2022-03-14T19:17:00.215Z"
   },
   {
    "duration": 52,
    "start_time": "2022-03-14T19:17:00.236Z"
   },
   {
    "duration": 120,
    "start_time": "2022-03-14T19:17:00.291Z"
   },
   {
    "duration": 12,
    "start_time": "2022-03-14T19:17:00.413Z"
   },
   {
    "duration": 25,
    "start_time": "2022-03-14T19:17:00.428Z"
   },
   {
    "duration": 16,
    "start_time": "2022-03-14T19:17:00.484Z"
   },
   {
    "duration": 21,
    "start_time": "2022-03-14T19:17:00.503Z"
   },
   {
    "duration": 19,
    "start_time": "2022-03-14T19:17:00.527Z"
   },
   {
    "duration": 40,
    "start_time": "2022-03-14T19:17:00.548Z"
   },
   {
    "duration": 21,
    "start_time": "2022-03-14T19:17:00.591Z"
   },
   {
    "duration": 26,
    "start_time": "2022-03-14T19:17:00.615Z"
   },
   {
    "duration": 63,
    "start_time": "2022-03-14T19:17:00.644Z"
   },
   {
    "duration": 20,
    "start_time": "2022-03-14T19:17:00.709Z"
   },
   {
    "duration": 67,
    "start_time": "2022-03-14T19:17:00.732Z"
   },
   {
    "duration": 30,
    "start_time": "2022-03-14T19:17:00.802Z"
   },
   {
    "duration": 49,
    "start_time": "2022-03-14T19:17:00.834Z"
   },
   {
    "duration": 26,
    "start_time": "2022-03-14T19:17:00.888Z"
   },
   {
    "duration": 64,
    "start_time": "2022-03-14T19:17:00.917Z"
   },
   {
    "duration": 28,
    "start_time": "2022-03-14T19:17:00.984Z"
   },
   {
    "duration": 13,
    "start_time": "2022-03-14T19:17:01.015Z"
   },
   {
    "duration": 70,
    "start_time": "2022-03-14T19:17:01.031Z"
   },
   {
    "duration": 55,
    "start_time": "2022-03-14T19:17:01.104Z"
   },
   {
    "duration": 37,
    "start_time": "2022-03-14T19:17:01.183Z"
   },
   {
    "duration": 64,
    "start_time": "2022-03-14T19:17:01.223Z"
   },
   {
    "duration": 34,
    "start_time": "2022-03-14T19:17:01.290Z"
   },
   {
    "duration": 101,
    "start_time": "2022-03-14T19:17:01.327Z"
   },
   {
    "duration": 18,
    "start_time": "2022-03-14T19:17:01.431Z"
   },
   {
    "duration": 30,
    "start_time": "2022-03-14T19:17:01.452Z"
   },
   {
    "duration": 646,
    "start_time": "2022-03-14T19:17:01.486Z"
   },
   {
    "duration": 4,
    "start_time": "2022-03-14T19:17:02.134Z"
   },
   {
    "duration": 22,
    "start_time": "2022-03-14T19:17:02.141Z"
   },
   {
    "duration": 17,
    "start_time": "2022-03-14T19:17:02.183Z"
   },
   {
    "duration": 81,
    "start_time": "2022-03-14T19:17:02.203Z"
   },
   {
    "duration": 67,
    "start_time": "2022-03-14T19:17:02.287Z"
   },
   {
    "duration": 58,
    "start_time": "2022-03-14T19:17:02.356Z"
   },
   {
    "duration": 22,
    "start_time": "2022-03-14T19:17:02.417Z"
   },
   {
    "duration": 2243,
    "start_time": "2022-03-14T19:17:02.482Z"
   },
   {
    "duration": 4,
    "start_time": "2022-03-14T19:17:04.727Z"
   },
   {
    "duration": 13,
    "start_time": "2022-03-14T19:17:04.733Z"
   },
   {
    "duration": 1240,
    "start_time": "2022-03-14T19:17:04.749Z"
   },
   {
    "duration": 3769,
    "start_time": "2022-03-14T19:17:05.991Z"
   },
   {
    "duration": 1329,
    "start_time": "2022-03-14T19:17:09.762Z"
   },
   {
    "duration": 229,
    "start_time": "2022-03-14T19:17:10.865Z"
   },
   {
    "duration": 220,
    "start_time": "2022-03-14T19:17:10.875Z"
   },
   {
    "duration": 211,
    "start_time": "2022-03-14T19:17:10.886Z"
   },
   {
    "duration": 203,
    "start_time": "2022-03-14T19:17:10.895Z"
   },
   {
    "duration": 196,
    "start_time": "2022-03-14T19:17:10.904Z"
   },
   {
    "duration": 189,
    "start_time": "2022-03-14T19:17:10.912Z"
   },
   {
    "duration": 44,
    "start_time": "2022-03-14T19:18:05.567Z"
   },
   {
    "duration": 1248,
    "start_time": "2022-03-14T19:18:06.552Z"
   },
   {
    "duration": 358,
    "start_time": "2022-03-14T19:18:16.214Z"
   },
   {
    "duration": 1313,
    "start_time": "2022-03-14T19:18:16.872Z"
   },
   {
    "duration": 3634,
    "start_time": "2022-03-14T19:18:46.512Z"
   },
   {
    "duration": 1289,
    "start_time": "2022-03-14T19:18:50.149Z"
   },
   {
    "duration": 3933,
    "start_time": "2022-03-14T19:21:17.975Z"
   },
   {
    "duration": 1398,
    "start_time": "2022-03-14T19:21:21.911Z"
   },
   {
    "duration": 293,
    "start_time": "2022-03-14T19:25:58.836Z"
   },
   {
    "duration": 325,
    "start_time": "2022-03-14T19:26:14.376Z"
   },
   {
    "duration": 338,
    "start_time": "2022-03-14T19:26:32.297Z"
   },
   {
    "duration": 515,
    "start_time": "2022-03-14T19:26:53.482Z"
   },
   {
    "duration": 461,
    "start_time": "2022-03-14T19:27:05.387Z"
   },
   {
    "duration": 102,
    "start_time": "2022-03-14T19:29:48.207Z"
   },
   {
    "duration": 810,
    "start_time": "2022-03-14T19:33:27.358Z"
   },
   {
    "duration": 992,
    "start_time": "2022-03-14T19:33:44.834Z"
   },
   {
    "duration": 1014,
    "start_time": "2022-03-14T19:35:37.475Z"
   },
   {
    "duration": 920,
    "start_time": "2022-03-14T19:35:54.765Z"
   },
   {
    "duration": 1029,
    "start_time": "2022-03-14T19:36:42.218Z"
   },
   {
    "duration": 1013,
    "start_time": "2022-03-14T19:37:14.843Z"
   },
   {
    "duration": 975,
    "start_time": "2022-03-14T19:37:22.768Z"
   },
   {
    "duration": 1234,
    "start_time": "2022-03-14T19:37:38.615Z"
   },
   {
    "duration": 821,
    "start_time": "2022-03-14T19:37:59.749Z"
   },
   {
    "duration": 52,
    "start_time": "2022-03-14T19:38:06.064Z"
   },
   {
    "duration": 49,
    "start_time": "2022-03-14T19:38:06.847Z"
   },
   {
    "duration": 8,
    "start_time": "2022-03-14T19:38:09.198Z"
   },
   {
    "duration": 904,
    "start_time": "2022-03-14T19:38:23.778Z"
   },
   {
    "duration": 997,
    "start_time": "2022-03-14T19:39:28.728Z"
   },
   {
    "duration": 708,
    "start_time": "2022-03-14T19:40:47.038Z"
   },
   {
    "duration": 572,
    "start_time": "2022-03-14T19:41:28.322Z"
   },
   {
    "duration": 331,
    "start_time": "2022-03-15T05:19:59.761Z"
   },
   {
    "duration": 1076,
    "start_time": "2022-03-15T05:20:45.163Z"
   },
   {
    "duration": 138,
    "start_time": "2022-03-15T05:20:46.241Z"
   },
   {
    "duration": 11,
    "start_time": "2022-03-15T05:20:46.381Z"
   },
   {
    "duration": 20,
    "start_time": "2022-03-15T05:20:46.394Z"
   },
   {
    "duration": 112,
    "start_time": "2022-03-15T05:20:46.415Z"
   },
   {
    "duration": 8,
    "start_time": "2022-03-15T05:20:46.528Z"
   },
   {
    "duration": 9,
    "start_time": "2022-03-15T05:20:46.537Z"
   },
   {
    "duration": 14,
    "start_time": "2022-03-15T05:20:46.549Z"
   },
   {
    "duration": 86,
    "start_time": "2022-03-15T05:20:46.565Z"
   },
   {
    "duration": 7,
    "start_time": "2022-03-15T05:20:46.652Z"
   },
   {
    "duration": 14,
    "start_time": "2022-03-15T05:20:46.661Z"
   },
   {
    "duration": 15,
    "start_time": "2022-03-15T05:20:46.676Z"
   },
   {
    "duration": 9,
    "start_time": "2022-03-15T05:20:46.693Z"
   },
   {
    "duration": 7,
    "start_time": "2022-03-15T05:20:46.703Z"
   },
   {
    "duration": 29,
    "start_time": "2022-03-15T05:20:46.711Z"
   },
   {
    "duration": 10,
    "start_time": "2022-03-15T05:20:46.741Z"
   },
   {
    "duration": 8,
    "start_time": "2022-03-15T05:20:46.752Z"
   },
   {
    "duration": 31,
    "start_time": "2022-03-15T05:20:46.762Z"
   },
   {
    "duration": 13,
    "start_time": "2022-03-15T05:20:46.794Z"
   },
   {
    "duration": 28,
    "start_time": "2022-03-15T05:20:46.808Z"
   },
   {
    "duration": 17,
    "start_time": "2022-03-15T05:20:46.838Z"
   },
   {
    "duration": 10,
    "start_time": "2022-03-15T05:20:46.856Z"
   },
   {
    "duration": 32,
    "start_time": "2022-03-15T05:20:46.869Z"
   },
   {
    "duration": 20,
    "start_time": "2022-03-15T05:20:46.903Z"
   },
   {
    "duration": 17,
    "start_time": "2022-03-15T05:20:46.924Z"
   },
   {
    "duration": 10,
    "start_time": "2022-03-15T05:20:46.942Z"
   },
   {
    "duration": 19,
    "start_time": "2022-03-15T05:20:46.953Z"
   },
   {
    "duration": 59,
    "start_time": "2022-03-15T05:20:46.973Z"
   },
   {
    "duration": 21,
    "start_time": "2022-03-15T05:20:47.034Z"
   },
   {
    "duration": 18,
    "start_time": "2022-03-15T05:20:47.057Z"
   },
   {
    "duration": 33,
    "start_time": "2022-03-15T05:20:47.077Z"
   },
   {
    "duration": 27,
    "start_time": "2022-03-15T05:20:47.112Z"
   },
   {
    "duration": 7,
    "start_time": "2022-03-15T05:20:47.141Z"
   },
   {
    "duration": 4,
    "start_time": "2022-03-15T05:20:47.149Z"
   },
   {
    "duration": 251,
    "start_time": "2022-03-15T05:20:47.155Z"
   },
   {
    "duration": 3,
    "start_time": "2022-03-15T05:20:47.407Z"
   },
   {
    "duration": 12,
    "start_time": "2022-03-15T05:20:47.411Z"
   },
   {
    "duration": 10,
    "start_time": "2022-03-15T05:20:47.424Z"
   },
   {
    "duration": 26,
    "start_time": "2022-03-15T05:20:47.436Z"
   },
   {
    "duration": 51,
    "start_time": "2022-03-15T05:20:47.463Z"
   },
   {
    "duration": 15,
    "start_time": "2022-03-15T05:20:47.516Z"
   },
   {
    "duration": 9,
    "start_time": "2022-03-15T05:20:47.533Z"
   },
   {
    "duration": 1342,
    "start_time": "2022-03-15T05:20:47.543Z"
   },
   {
    "duration": 576,
    "start_time": "2022-03-15T05:20:48.887Z"
   },
   {
    "duration": 396,
    "start_time": "2022-03-15T05:20:49.464Z"
   },
   {
    "duration": 382,
    "start_time": "2022-03-15T05:20:49.862Z"
   },
   {
    "duration": 971,
    "start_time": "2022-03-15T05:20:49.275Z"
   },
   {
    "duration": 966,
    "start_time": "2022-03-15T05:20:49.281Z"
   },
   {
    "duration": 961,
    "start_time": "2022-03-15T05:20:49.287Z"
   },
   {
    "duration": 957,
    "start_time": "2022-03-15T05:20:49.292Z"
   },
   {
    "duration": 952,
    "start_time": "2022-03-15T05:20:49.298Z"
   },
   {
    "duration": 947,
    "start_time": "2022-03-15T05:20:49.304Z"
   },
   {
    "duration": 943,
    "start_time": "2022-03-15T05:20:49.309Z"
   },
   {
    "duration": 939,
    "start_time": "2022-03-15T05:20:49.314Z"
   },
   {
    "duration": 2,
    "start_time": "2022-03-15T05:22:49.454Z"
   },
   {
    "duration": 5,
    "start_time": "2022-03-15T05:22:54.389Z"
   },
   {
    "duration": 182,
    "start_time": "2022-03-15T05:29:02.751Z"
   },
   {
    "duration": 705,
    "start_time": "2022-03-15T05:29:05.461Z"
   },
   {
    "duration": 577,
    "start_time": "2022-03-15T05:37:49.083Z"
   },
   {
    "duration": 25,
    "start_time": "2022-03-15T05:37:53.775Z"
   },
   {
    "duration": 27,
    "start_time": "2022-03-15T05:37:55.780Z"
   },
   {
    "duration": 5,
    "start_time": "2022-03-15T05:38:01.463Z"
   },
   {
    "duration": 610,
    "start_time": "2022-03-15T05:38:02.917Z"
   },
   {
    "duration": 317,
    "start_time": "2022-03-15T05:39:47.219Z"
   },
   {
    "duration": 6,
    "start_time": "2022-03-15T05:41:18.081Z"
   },
   {
    "duration": 171,
    "start_time": "2022-03-15T05:45:03.542Z"
   },
   {
    "duration": 692,
    "start_time": "2022-03-15T05:45:38.518Z"
   },
   {
    "duration": 1797,
    "start_time": "2022-03-15T05:45:50.439Z"
   },
   {
    "duration": 727,
    "start_time": "2022-03-15T05:45:52.238Z"
   },
   {
    "duration": 17323,
    "start_time": "2022-03-15T05:45:59.957Z"
   },
   {
    "duration": 648,
    "start_time": "2022-03-15T05:46:17.282Z"
   },
   {
    "duration": 189,
    "start_time": "2022-03-15T05:47:16.225Z"
   },
   {
    "duration": 563,
    "start_time": "2022-03-15T05:47:17.190Z"
   },
   {
    "duration": 1757,
    "start_time": "2022-03-15T05:48:01.434Z"
   },
   {
    "duration": 666,
    "start_time": "2022-03-15T05:48:03.192Z"
   },
   {
    "duration": 1696,
    "start_time": "2022-03-15T05:48:08.918Z"
   },
   {
    "duration": 743,
    "start_time": "2022-03-15T05:48:11.400Z"
   },
   {
    "duration": 5,
    "start_time": "2022-03-15T05:50:56.156Z"
   },
   {
    "duration": 1068,
    "start_time": "2022-03-15T16:32:06.871Z"
   },
   {
    "duration": 160,
    "start_time": "2022-03-15T16:32:07.941Z"
   },
   {
    "duration": 11,
    "start_time": "2022-03-15T16:32:08.103Z"
   },
   {
    "duration": 34,
    "start_time": "2022-03-15T16:32:08.115Z"
   },
   {
    "duration": 121,
    "start_time": "2022-03-15T16:32:08.151Z"
   },
   {
    "duration": 8,
    "start_time": "2022-03-15T16:32:08.274Z"
   },
   {
    "duration": 15,
    "start_time": "2022-03-15T16:32:08.284Z"
   },
   {
    "duration": 32,
    "start_time": "2022-03-15T16:32:08.302Z"
   },
   {
    "duration": 79,
    "start_time": "2022-03-15T16:32:08.336Z"
   },
   {
    "duration": 7,
    "start_time": "2022-03-15T16:32:08.416Z"
   },
   {
    "duration": 34,
    "start_time": "2022-03-15T16:32:08.425Z"
   },
   {
    "duration": 27,
    "start_time": "2022-03-15T16:32:08.460Z"
   },
   {
    "duration": 32,
    "start_time": "2022-03-15T16:32:08.489Z"
   },
   {
    "duration": 14,
    "start_time": "2022-03-15T16:32:08.523Z"
   },
   {
    "duration": 47,
    "start_time": "2022-03-15T16:32:08.538Z"
   },
   {
    "duration": 20,
    "start_time": "2022-03-15T16:32:08.586Z"
   },
   {
    "duration": 24,
    "start_time": "2022-03-15T16:32:08.608Z"
   },
   {
    "duration": 43,
    "start_time": "2022-03-15T16:32:08.633Z"
   },
   {
    "duration": 12,
    "start_time": "2022-03-15T16:32:08.678Z"
   },
   {
    "duration": 27,
    "start_time": "2022-03-15T16:32:08.692Z"
   },
   {
    "duration": 19,
    "start_time": "2022-03-15T16:32:08.720Z"
   },
   {
    "duration": 10,
    "start_time": "2022-03-15T16:32:08.741Z"
   },
   {
    "duration": 17,
    "start_time": "2022-03-15T16:32:08.755Z"
   },
   {
    "duration": 41,
    "start_time": "2022-03-15T16:32:08.774Z"
   },
   {
    "duration": 17,
    "start_time": "2022-03-15T16:32:08.816Z"
   },
   {
    "duration": 10,
    "start_time": "2022-03-15T16:32:08.834Z"
   },
   {
    "duration": 21,
    "start_time": "2022-03-15T16:32:08.845Z"
   },
   {
    "duration": 62,
    "start_time": "2022-03-15T16:32:08.868Z"
   },
   {
    "duration": 23,
    "start_time": "2022-03-15T16:32:08.931Z"
   },
   {
    "duration": 21,
    "start_time": "2022-03-15T16:32:08.956Z"
   },
   {
    "duration": 40,
    "start_time": "2022-03-15T16:32:08.979Z"
   },
   {
    "duration": 30,
    "start_time": "2022-03-15T16:32:09.020Z"
   },
   {
    "duration": 7,
    "start_time": "2022-03-15T16:32:09.052Z"
   },
   {
    "duration": 4,
    "start_time": "2022-03-15T16:32:09.061Z"
   },
   {
    "duration": 256,
    "start_time": "2022-03-15T16:32:09.067Z"
   },
   {
    "duration": 2,
    "start_time": "2022-03-15T16:32:09.325Z"
   },
   {
    "duration": 11,
    "start_time": "2022-03-15T16:32:09.329Z"
   },
   {
    "duration": 10,
    "start_time": "2022-03-15T16:32:09.342Z"
   },
   {
    "duration": 50,
    "start_time": "2022-03-15T16:32:09.353Z"
   },
   {
    "duration": 26,
    "start_time": "2022-03-15T16:32:09.405Z"
   },
   {
    "duration": 14,
    "start_time": "2022-03-15T16:32:09.432Z"
   },
   {
    "duration": 10,
    "start_time": "2022-03-15T16:32:09.448Z"
   },
   {
    "duration": 1330,
    "start_time": "2022-03-15T16:32:09.459Z"
   },
   {
    "duration": 10,
    "start_time": "2022-03-15T16:32:10.791Z"
   },
   {
    "duration": 625,
    "start_time": "2022-03-15T16:32:10.802Z"
   },
   {
    "duration": 392,
    "start_time": "2022-03-15T16:32:11.429Z"
   },
   {
    "duration": 5,
    "start_time": "2022-03-15T16:32:11.823Z"
   },
   {
    "duration": 1781,
    "start_time": "2022-03-15T16:32:11.830Z"
   },
   {
    "duration": 726,
    "start_time": "2022-03-15T16:32:13.612Z"
   },
   {
    "duration": 27,
    "start_time": "2022-03-15T16:32:14.339Z"
   },
   {
    "duration": 38,
    "start_time": "2022-03-15T16:32:14.367Z"
   },
   {
    "duration": 590,
    "start_time": "2022-03-15T16:32:14.406Z"
   },
   {
    "duration": 323,
    "start_time": "2022-03-15T16:32:15.001Z"
   },
   {
    "duration": 4,
    "start_time": "2022-03-15T16:32:15.326Z"
   },
   {
    "duration": 1764,
    "start_time": "2022-03-15T16:32:15.332Z"
   },
   {
    "duration": 722,
    "start_time": "2022-03-15T16:32:17.101Z"
   },
   {
    "duration": 110,
    "start_time": "2022-03-15T16:54:05.707Z"
   },
   {
    "duration": 43,
    "start_time": "2022-03-15T16:56:39.717Z"
   },
   {
    "duration": 384,
    "start_time": "2022-03-15T17:07:19.381Z"
   },
   {
    "duration": 194,
    "start_time": "2022-03-15T17:07:39.601Z"
   },
   {
    "duration": 201,
    "start_time": "2022-03-15T17:08:13.076Z"
   },
   {
    "duration": 204,
    "start_time": "2022-03-15T17:08:35.037Z"
   },
   {
    "duration": 185,
    "start_time": "2022-03-15T17:08:49.205Z"
   },
   {
    "duration": 1290,
    "start_time": "2022-03-15T17:09:06.765Z"
   },
   {
    "duration": 1313,
    "start_time": "2022-03-15T17:09:22.651Z"
   },
   {
    "duration": 1353,
    "start_time": "2022-03-15T17:09:58.403Z"
   },
   {
    "duration": 3445,
    "start_time": "2022-03-15T17:10:07.898Z"
   },
   {
    "duration": 1427,
    "start_time": "2022-03-15T17:10:26.825Z"
   },
   {
    "duration": 2042,
    "start_time": "2022-03-15T17:14:36.862Z"
   },
   {
    "duration": 1336,
    "start_time": "2022-03-15T17:14:47.443Z"
   },
   {
    "duration": 43,
    "start_time": "2022-03-15T17:16:37.681Z"
   },
   {
    "duration": 331,
    "start_time": "2022-03-15T17:20:53.776Z"
   },
   {
    "duration": 434,
    "start_time": "2022-03-15T17:21:41.596Z"
   },
   {
    "duration": 113,
    "start_time": "2022-03-15T17:24:29.541Z"
   },
   {
    "duration": 111,
    "start_time": "2022-03-15T17:25:04.761Z"
   },
   {
    "duration": 232,
    "start_time": "2022-03-15T17:26:00.742Z"
   },
   {
    "duration": 47,
    "start_time": "2022-03-15T17:28:17.056Z"
   },
   {
    "duration": 8,
    "start_time": "2022-03-15T17:46:25.658Z"
   },
   {
    "duration": 4,
    "start_time": "2022-03-15T17:46:54.677Z"
   },
   {
    "duration": 8,
    "start_time": "2022-03-15T17:57:34.401Z"
   },
   {
    "duration": 9,
    "start_time": "2022-03-15T18:24:09.881Z"
   },
   {
    "duration": 3260,
    "start_time": "2022-03-15T18:36:22.744Z"
   },
   {
    "duration": 136,
    "start_time": "2022-03-15T18:36:26.006Z"
   },
   {
    "duration": 10,
    "start_time": "2022-03-15T18:36:26.144Z"
   },
   {
    "duration": 21,
    "start_time": "2022-03-15T18:36:26.156Z"
   },
   {
    "duration": 108,
    "start_time": "2022-03-15T18:36:26.178Z"
   },
   {
    "duration": 14,
    "start_time": "2022-03-15T18:36:26.288Z"
   },
   {
    "duration": 9,
    "start_time": "2022-03-15T18:36:26.303Z"
   },
   {
    "duration": 15,
    "start_time": "2022-03-15T18:36:26.314Z"
   },
   {
    "duration": 85,
    "start_time": "2022-03-15T18:36:26.331Z"
   },
   {
    "duration": 7,
    "start_time": "2022-03-15T18:36:26.418Z"
   },
   {
    "duration": 13,
    "start_time": "2022-03-15T18:36:26.427Z"
   },
   {
    "duration": 17,
    "start_time": "2022-03-15T18:36:26.442Z"
   },
   {
    "duration": 7,
    "start_time": "2022-03-15T18:36:26.460Z"
   },
   {
    "duration": 6,
    "start_time": "2022-03-15T18:36:26.469Z"
   },
   {
    "duration": 60,
    "start_time": "2022-03-15T18:36:26.477Z"
   },
   {
    "duration": 9,
    "start_time": "2022-03-15T18:36:26.538Z"
   },
   {
    "duration": 6,
    "start_time": "2022-03-15T18:36:26.549Z"
   },
   {
    "duration": 29,
    "start_time": "2022-03-15T18:36:26.556Z"
   },
   {
    "duration": 13,
    "start_time": "2022-03-15T18:36:26.586Z"
   },
   {
    "duration": 26,
    "start_time": "2022-03-15T18:36:26.601Z"
   },
   {
    "duration": 20,
    "start_time": "2022-03-15T18:36:26.628Z"
   },
   {
    "duration": 12,
    "start_time": "2022-03-15T18:36:26.649Z"
   },
   {
    "duration": 37,
    "start_time": "2022-03-15T18:36:26.664Z"
   },
   {
    "duration": 22,
    "start_time": "2022-03-15T18:36:26.703Z"
   },
   {
    "duration": 16,
    "start_time": "2022-03-15T18:36:26.726Z"
   },
   {
    "duration": 10,
    "start_time": "2022-03-15T18:36:26.744Z"
   },
   {
    "duration": 26,
    "start_time": "2022-03-15T18:36:26.756Z"
   },
   {
    "duration": 39,
    "start_time": "2022-03-15T18:36:26.802Z"
   },
   {
    "duration": 27,
    "start_time": "2022-03-15T18:36:26.842Z"
   },
   {
    "duration": 43,
    "start_time": "2022-03-15T18:36:26.870Z"
   },
   {
    "duration": 19,
    "start_time": "2022-03-15T18:36:26.915Z"
   },
   {
    "duration": 28,
    "start_time": "2022-03-15T18:36:26.936Z"
   },
   {
    "duration": 8,
    "start_time": "2022-03-15T18:36:26.966Z"
   },
   {
    "duration": 27,
    "start_time": "2022-03-15T18:36:26.975Z"
   },
   {
    "duration": 243,
    "start_time": "2022-03-15T18:36:27.003Z"
   },
   {
    "duration": 3,
    "start_time": "2022-03-15T18:36:27.247Z"
   },
   {
    "duration": 16,
    "start_time": "2022-03-15T18:36:27.252Z"
   },
   {
    "duration": 14,
    "start_time": "2022-03-15T18:36:27.270Z"
   },
   {
    "duration": 52,
    "start_time": "2022-03-15T18:36:27.286Z"
   },
   {
    "duration": 38,
    "start_time": "2022-03-15T18:36:27.340Z"
   },
   {
    "duration": 25,
    "start_time": "2022-03-15T18:36:27.380Z"
   },
   {
    "duration": 17,
    "start_time": "2022-03-15T18:36:27.406Z"
   },
   {
    "duration": 10,
    "start_time": "2022-03-15T18:36:27.424Z"
   },
   {
    "duration": 1519,
    "start_time": "2022-03-15T18:36:27.435Z"
   },
   {
    "duration": 3,
    "start_time": "2022-03-15T18:36:28.955Z"
   },
   {
    "duration": 704,
    "start_time": "2022-03-15T18:36:28.959Z"
   },
   {
    "duration": 342,
    "start_time": "2022-03-15T18:36:29.665Z"
   },
   {
    "duration": 5,
    "start_time": "2022-03-15T18:36:30.009Z"
   },
   {
    "duration": 1786,
    "start_time": "2022-03-15T18:36:30.015Z"
   },
   {
    "duration": 867,
    "start_time": "2022-03-15T18:36:31.802Z"
   },
   {
    "duration": 39,
    "start_time": "2022-03-15T18:36:32.671Z"
   },
   {
    "duration": 28,
    "start_time": "2022-03-15T18:36:32.712Z"
   },
   {
    "duration": 663,
    "start_time": "2022-03-15T18:36:32.741Z"
   },
   {
    "duration": 322,
    "start_time": "2022-03-15T18:36:33.406Z"
   },
   {
    "duration": 5,
    "start_time": "2022-03-15T18:36:33.730Z"
   },
   {
    "duration": 1788,
    "start_time": "2022-03-15T18:36:33.736Z"
   },
   {
    "duration": 732,
    "start_time": "2022-03-15T18:36:35.526Z"
   },
   {
    "duration": 94,
    "start_time": "2022-03-15T18:50:34.792Z"
   },
   {
    "duration": 7896,
    "start_time": "2022-03-15T18:51:43.590Z"
   },
   {
    "duration": 7602,
    "start_time": "2022-03-15T18:52:03.253Z"
   },
   {
    "duration": 3173,
    "start_time": "2022-03-15T18:52:29.188Z"
   },
   {
    "duration": 181,
    "start_time": "2022-03-15T18:52:32.363Z"
   },
   {
    "duration": 14,
    "start_time": "2022-03-15T18:52:32.547Z"
   },
   {
    "duration": 42,
    "start_time": "2022-03-15T18:52:32.563Z"
   },
   {
    "duration": 157,
    "start_time": "2022-03-15T18:52:32.607Z"
   },
   {
    "duration": 11,
    "start_time": "2022-03-15T18:52:32.766Z"
   },
   {
    "duration": 9,
    "start_time": "2022-03-15T18:52:32.778Z"
   },
   {
    "duration": 15,
    "start_time": "2022-03-15T18:52:32.802Z"
   },
   {
    "duration": 86,
    "start_time": "2022-03-15T18:52:32.820Z"
   },
   {
    "duration": 7,
    "start_time": "2022-03-15T18:52:32.908Z"
   },
   {
    "duration": 14,
    "start_time": "2022-03-15T18:52:32.916Z"
   },
   {
    "duration": 15,
    "start_time": "2022-03-15T18:52:32.932Z"
   },
   {
    "duration": 7,
    "start_time": "2022-03-15T18:52:32.949Z"
   },
   {
    "duration": 6,
    "start_time": "2022-03-15T18:52:32.957Z"
   },
   {
    "duration": 47,
    "start_time": "2022-03-15T18:52:32.964Z"
   },
   {
    "duration": 9,
    "start_time": "2022-03-15T18:52:33.013Z"
   },
   {
    "duration": 8,
    "start_time": "2022-03-15T18:52:33.024Z"
   },
   {
    "duration": 28,
    "start_time": "2022-03-15T18:52:33.034Z"
   },
   {
    "duration": 13,
    "start_time": "2022-03-15T18:52:33.064Z"
   },
   {
    "duration": 39,
    "start_time": "2022-03-15T18:52:33.079Z"
   },
   {
    "duration": 20,
    "start_time": "2022-03-15T18:52:33.119Z"
   },
   {
    "duration": 12,
    "start_time": "2022-03-15T18:52:33.141Z"
   },
   {
    "duration": 17,
    "start_time": "2022-03-15T18:52:33.157Z"
   },
   {
    "duration": 21,
    "start_time": "2022-03-15T18:52:33.201Z"
   },
   {
    "duration": 16,
    "start_time": "2022-03-15T18:52:33.223Z"
   },
   {
    "duration": 9,
    "start_time": "2022-03-15T18:52:33.241Z"
   },
   {
    "duration": 17,
    "start_time": "2022-03-15T18:52:33.252Z"
   },
   {
    "duration": 61,
    "start_time": "2022-03-15T18:52:33.271Z"
   },
   {
    "duration": 23,
    "start_time": "2022-03-15T18:52:33.334Z"
   },
   {
    "duration": 20,
    "start_time": "2022-03-15T18:52:33.359Z"
   },
   {
    "duration": 37,
    "start_time": "2022-03-15T18:52:33.380Z"
   },
   {
    "duration": 28,
    "start_time": "2022-03-15T18:52:33.419Z"
   },
   {
    "duration": 8,
    "start_time": "2022-03-15T18:52:33.449Z"
   },
   {
    "duration": 4,
    "start_time": "2022-03-15T18:52:33.459Z"
   },
   {
    "duration": 268,
    "start_time": "2022-03-15T18:52:33.465Z"
   },
   {
    "duration": 3,
    "start_time": "2022-03-15T18:52:33.735Z"
   },
   {
    "duration": 13,
    "start_time": "2022-03-15T18:52:33.740Z"
   },
   {
    "duration": 10,
    "start_time": "2022-03-15T18:52:33.755Z"
   },
   {
    "duration": 50,
    "start_time": "2022-03-15T18:52:33.767Z"
   },
   {
    "duration": 27,
    "start_time": "2022-03-15T18:52:33.818Z"
   },
   {
    "duration": 7,
    "start_time": "2022-03-15T18:52:33.846Z"
   },
   {
    "duration": 16,
    "start_time": "2022-03-15T18:52:33.854Z"
   },
   {
    "duration": 39,
    "start_time": "2022-03-15T18:52:33.872Z"
   },
   {
    "duration": 1525,
    "start_time": "2022-03-15T18:52:33.912Z"
   },
   {
    "duration": 3,
    "start_time": "2022-03-15T18:52:35.439Z"
   },
   {
    "duration": 643,
    "start_time": "2022-03-15T18:52:35.444Z"
   },
   {
    "duration": 501,
    "start_time": "2022-03-15T18:52:36.089Z"
   },
   {
    "duration": 9,
    "start_time": "2022-03-15T18:52:36.593Z"
   },
   {
    "duration": 1818,
    "start_time": "2022-03-15T18:52:36.604Z"
   },
   {
    "duration": 813,
    "start_time": "2022-03-15T18:52:38.423Z"
   },
   {
    "duration": 28,
    "start_time": "2022-03-15T18:52:39.238Z"
   },
   {
    "duration": 44,
    "start_time": "2022-03-15T18:52:39.268Z"
   },
   {
    "duration": 602,
    "start_time": "2022-03-15T18:52:39.314Z"
   },
   {
    "duration": 332,
    "start_time": "2022-03-15T18:52:39.918Z"
   },
   {
    "duration": 5,
    "start_time": "2022-03-15T18:52:40.251Z"
   },
   {
    "duration": 1803,
    "start_time": "2022-03-15T18:52:40.257Z"
   },
   {
    "duration": 711,
    "start_time": "2022-03-15T18:52:42.061Z"
   },
   {
    "duration": 13,
    "start_time": "2022-03-15T18:58:56.453Z"
   },
   {
    "duration": 3658,
    "start_time": "2022-03-15T19:01:28.667Z"
   },
   {
    "duration": 135,
    "start_time": "2022-03-15T19:01:32.327Z"
   },
   {
    "duration": 10,
    "start_time": "2022-03-15T19:01:32.464Z"
   },
   {
    "duration": 63,
    "start_time": "2022-03-15T19:01:32.475Z"
   },
   {
    "duration": 119,
    "start_time": "2022-03-15T19:01:32.540Z"
   },
   {
    "duration": 8,
    "start_time": "2022-03-15T19:01:32.661Z"
   },
   {
    "duration": 9,
    "start_time": "2022-03-15T19:01:32.671Z"
   },
   {
    "duration": 29,
    "start_time": "2022-03-15T19:01:32.682Z"
   },
   {
    "duration": 81,
    "start_time": "2022-03-15T19:01:32.713Z"
   },
   {
    "duration": 8,
    "start_time": "2022-03-15T19:01:32.796Z"
   },
   {
    "duration": 23,
    "start_time": "2022-03-15T19:01:32.806Z"
   },
   {
    "duration": 16,
    "start_time": "2022-03-15T19:01:32.831Z"
   },
   {
    "duration": 9,
    "start_time": "2022-03-15T19:01:32.849Z"
   },
   {
    "duration": 6,
    "start_time": "2022-03-15T19:01:32.860Z"
   },
   {
    "duration": 27,
    "start_time": "2022-03-15T19:01:32.868Z"
   },
   {
    "duration": 12,
    "start_time": "2022-03-15T19:01:32.896Z"
   },
   {
    "duration": 7,
    "start_time": "2022-03-15T19:01:32.910Z"
   },
   {
    "duration": 34,
    "start_time": "2022-03-15T19:01:32.919Z"
   },
   {
    "duration": 15,
    "start_time": "2022-03-15T19:01:32.954Z"
   },
   {
    "duration": 45,
    "start_time": "2022-03-15T19:01:32.971Z"
   },
   {
    "duration": 23,
    "start_time": "2022-03-15T19:01:33.018Z"
   },
   {
    "duration": 13,
    "start_time": "2022-03-15T19:01:33.042Z"
   },
   {
    "duration": 18,
    "start_time": "2022-03-15T19:01:33.059Z"
   },
   {
    "duration": 42,
    "start_time": "2022-03-15T19:01:33.078Z"
   },
   {
    "duration": 16,
    "start_time": "2022-03-15T19:01:33.122Z"
   },
   {
    "duration": 9,
    "start_time": "2022-03-15T19:01:33.139Z"
   },
   {
    "duration": 18,
    "start_time": "2022-03-15T19:01:33.150Z"
   },
   {
    "duration": 64,
    "start_time": "2022-03-15T19:01:33.169Z"
   },
   {
    "duration": 22,
    "start_time": "2022-03-15T19:01:33.234Z"
   },
   {
    "duration": 20,
    "start_time": "2022-03-15T19:01:33.258Z"
   },
   {
    "duration": 37,
    "start_time": "2022-03-15T19:01:33.280Z"
   },
   {
    "duration": 28,
    "start_time": "2022-03-15T19:01:33.319Z"
   },
   {
    "duration": 8,
    "start_time": "2022-03-15T19:01:33.349Z"
   },
   {
    "duration": 5,
    "start_time": "2022-03-15T19:01:33.358Z"
   },
   {
    "duration": 258,
    "start_time": "2022-03-15T19:01:33.364Z"
   },
   {
    "duration": 2,
    "start_time": "2022-03-15T19:01:33.624Z"
   },
   {
    "duration": 11,
    "start_time": "2022-03-15T19:01:33.627Z"
   },
   {
    "duration": 10,
    "start_time": "2022-03-15T19:01:33.640Z"
   },
   {
    "duration": 51,
    "start_time": "2022-03-15T19:01:33.651Z"
   },
   {
    "duration": 26,
    "start_time": "2022-03-15T19:01:33.703Z"
   },
   {
    "duration": 6,
    "start_time": "2022-03-15T19:01:33.731Z"
   },
   {
    "duration": 16,
    "start_time": "2022-03-15T19:01:33.739Z"
   },
   {
    "duration": 10,
    "start_time": "2022-03-15T19:01:33.756Z"
   },
   {
    "duration": 1758,
    "start_time": "2022-03-15T19:01:33.767Z"
   },
   {
    "duration": 2,
    "start_time": "2022-03-15T19:01:35.527Z"
   },
   {
    "duration": 847,
    "start_time": "2022-03-15T19:01:35.531Z"
   },
   {
    "duration": 353,
    "start_time": "2022-03-15T19:01:36.380Z"
   },
   {
    "duration": 6,
    "start_time": "2022-03-15T19:01:36.735Z"
   },
   {
    "duration": 1763,
    "start_time": "2022-03-15T19:01:36.742Z"
   },
   {
    "duration": 816,
    "start_time": "2022-03-15T19:01:38.507Z"
   },
   {
    "duration": 26,
    "start_time": "2022-03-15T19:01:39.325Z"
   },
   {
    "duration": 24,
    "start_time": "2022-03-15T19:01:39.352Z"
   },
   {
    "duration": 636,
    "start_time": "2022-03-15T19:01:39.378Z"
   },
   {
    "duration": 336,
    "start_time": "2022-03-15T19:01:40.016Z"
   },
   {
    "duration": 5,
    "start_time": "2022-03-15T19:01:40.354Z"
   },
   {
    "duration": 1777,
    "start_time": "2022-03-15T19:01:40.360Z"
   },
   {
    "duration": 691,
    "start_time": "2022-03-15T19:01:42.139Z"
   },
   {
    "duration": 1358,
    "start_time": "2022-03-26T09:09:07.070Z"
   },
   {
    "duration": 201,
    "start_time": "2022-03-26T09:09:08.430Z"
   },
   {
    "duration": 14,
    "start_time": "2022-03-26T09:09:08.632Z"
   },
   {
    "duration": 29,
    "start_time": "2022-03-26T09:09:08.649Z"
   },
   {
    "duration": 173,
    "start_time": "2022-03-26T09:09:08.680Z"
   },
   {
    "duration": 10,
    "start_time": "2022-03-26T09:09:08.855Z"
   },
   {
    "duration": 12,
    "start_time": "2022-03-26T09:09:08.866Z"
   },
   {
    "duration": 41,
    "start_time": "2022-03-26T09:09:08.879Z"
   },
   {
    "duration": 406,
    "start_time": "2022-03-26T09:09:08.922Z"
   },
   {
    "duration": 12,
    "start_time": "2022-03-26T09:09:09.332Z"
   },
   {
    "duration": 82,
    "start_time": "2022-03-26T09:09:09.345Z"
   },
   {
    "duration": 11,
    "start_time": "2022-03-26T09:09:09.429Z"
   },
   {
    "duration": 67,
    "start_time": "2022-03-26T09:09:09.443Z"
   },
   {
    "duration": 12,
    "start_time": "2022-03-26T09:09:09.511Z"
   },
   {
    "duration": 31,
    "start_time": "2022-03-26T09:09:09.524Z"
   },
   {
    "duration": 54,
    "start_time": "2022-03-26T09:09:09.557Z"
   },
   {
    "duration": 18,
    "start_time": "2022-03-26T09:09:09.613Z"
   },
   {
    "duration": 98,
    "start_time": "2022-03-26T09:09:09.633Z"
   },
   {
    "duration": 20,
    "start_time": "2022-03-26T09:09:09.733Z"
   },
   {
    "duration": 84,
    "start_time": "2022-03-26T09:09:09.754Z"
   },
   {
    "duration": 83,
    "start_time": "2022-03-26T09:09:09.840Z"
   },
   {
    "duration": 17,
    "start_time": "2022-03-26T09:09:09.925Z"
   },
   {
    "duration": 88,
    "start_time": "2022-03-26T09:09:09.944Z"
   },
   {
    "duration": 79,
    "start_time": "2022-03-26T09:09:10.034Z"
   },
   {
    "duration": 22,
    "start_time": "2022-03-26T09:09:10.114Z"
   },
   {
    "duration": 71,
    "start_time": "2022-03-26T09:09:10.138Z"
   },
   {
    "duration": 21,
    "start_time": "2022-03-26T09:09:10.211Z"
   },
   {
    "duration": 97,
    "start_time": "2022-03-26T09:09:10.236Z"
   },
   {
    "duration": 83,
    "start_time": "2022-03-26T09:09:10.334Z"
   },
   {
    "duration": 28,
    "start_time": "2022-03-26T09:09:10.419Z"
   },
   {
    "duration": 76,
    "start_time": "2022-03-26T09:09:10.448Z"
   },
   {
    "duration": 86,
    "start_time": "2022-03-26T09:09:10.526Z"
   },
   {
    "duration": 14,
    "start_time": "2022-03-26T09:09:10.613Z"
   },
   {
    "duration": 8,
    "start_time": "2022-03-26T09:09:10.629Z"
   },
   {
    "duration": 200,
    "start_time": "2022-03-26T09:09:10.638Z"
   },
   {
    "duration": 3,
    "start_time": "2022-03-26T09:09:10.840Z"
   },
   {
    "duration": 13,
    "start_time": "2022-03-26T09:09:10.844Z"
   },
   {
    "duration": 12,
    "start_time": "2022-03-26T09:09:10.859Z"
   },
   {
    "duration": 56,
    "start_time": "2022-03-26T09:09:10.872Z"
   },
   {
    "duration": 31,
    "start_time": "2022-03-26T09:09:10.930Z"
   },
   {
    "duration": 8,
    "start_time": "2022-03-26T09:09:10.963Z"
   },
   {
    "duration": 45,
    "start_time": "2022-03-26T09:09:10.973Z"
   },
   {
    "duration": 11,
    "start_time": "2022-03-26T09:09:11.019Z"
   },
   {
    "duration": 1342,
    "start_time": "2022-03-26T09:09:11.032Z"
   },
   {
    "duration": 2,
    "start_time": "2022-03-26T09:09:12.376Z"
   },
   {
    "duration": 600,
    "start_time": "2022-03-26T09:09:12.380Z"
   },
   {
    "duration": 260,
    "start_time": "2022-03-26T09:09:12.982Z"
   },
   {
    "duration": 6,
    "start_time": "2022-03-26T09:09:13.243Z"
   },
   {
    "duration": 1363,
    "start_time": "2022-03-26T09:09:13.250Z"
   },
   {
    "duration": 819,
    "start_time": "2022-03-26T09:09:14.615Z"
   },
   {
    "duration": 31,
    "start_time": "2022-03-26T09:09:15.436Z"
   },
   {
    "duration": 44,
    "start_time": "2022-03-26T09:09:15.468Z"
   },
   {
    "duration": 549,
    "start_time": "2022-03-26T09:09:15.514Z"
   },
   {
    "duration": 258,
    "start_time": "2022-03-26T09:09:16.065Z"
   },
   {
    "duration": 5,
    "start_time": "2022-03-26T09:09:16.325Z"
   },
   {
    "duration": 1391,
    "start_time": "2022-03-26T09:09:16.332Z"
   },
   {
    "duration": 699,
    "start_time": "2022-03-26T09:09:17.726Z"
   },
   {
    "duration": 4,
    "start_time": "2022-03-26T09:10:32.680Z"
   },
   {
    "duration": 5,
    "start_time": "2022-03-26T09:10:38.629Z"
   },
   {
    "duration": 10,
    "start_time": "2022-03-26T09:10:53.914Z"
   },
   {
    "duration": 45,
    "start_time": "2022-03-26T12:00:46.627Z"
   },
   {
    "duration": 1271,
    "start_time": "2022-03-26T12:00:56.773Z"
   },
   {
    "duration": 149,
    "start_time": "2022-03-26T12:00:58.046Z"
   },
   {
    "duration": 13,
    "start_time": "2022-03-26T12:00:58.197Z"
   },
   {
    "duration": 33,
    "start_time": "2022-03-26T12:00:58.212Z"
   },
   {
    "duration": 128,
    "start_time": "2022-03-26T12:00:58.247Z"
   },
   {
    "duration": 9,
    "start_time": "2022-03-26T12:00:58.377Z"
   },
   {
    "duration": 11,
    "start_time": "2022-03-26T12:00:58.388Z"
   },
   {
    "duration": 39,
    "start_time": "2022-03-26T12:00:58.401Z"
   },
   {
    "duration": 77,
    "start_time": "2022-03-26T12:00:58.442Z"
   },
   {
    "duration": 13,
    "start_time": "2022-03-26T12:00:58.521Z"
   },
   {
    "duration": 23,
    "start_time": "2022-03-26T12:00:58.536Z"
   },
   {
    "duration": 9,
    "start_time": "2022-03-26T12:00:58.561Z"
   },
   {
    "duration": 7,
    "start_time": "2022-03-26T12:00:58.572Z"
   },
   {
    "duration": 15,
    "start_time": "2022-03-26T12:00:58.580Z"
   },
   {
    "duration": 27,
    "start_time": "2022-03-26T12:00:58.597Z"
   },
   {
    "duration": 11,
    "start_time": "2022-03-26T12:00:58.625Z"
   },
   {
    "duration": 12,
    "start_time": "2022-03-26T12:00:58.637Z"
   },
   {
    "duration": 37,
    "start_time": "2022-03-26T12:00:58.651Z"
   },
   {
    "duration": 18,
    "start_time": "2022-03-26T12:00:58.689Z"
   },
   {
    "duration": 50,
    "start_time": "2022-03-26T12:00:58.708Z"
   },
   {
    "duration": 30,
    "start_time": "2022-03-26T12:00:58.759Z"
   },
   {
    "duration": 1438,
    "start_time": "2022-03-28T05:06:51.922Z"
   },
   {
    "duration": 162,
    "start_time": "2022-03-28T05:06:53.362Z"
   },
   {
    "duration": 13,
    "start_time": "2022-03-28T05:06:53.526Z"
   },
   {
    "duration": 28,
    "start_time": "2022-03-28T05:06:53.542Z"
   },
   {
    "duration": 150,
    "start_time": "2022-03-28T05:06:53.572Z"
   },
   {
    "duration": 15,
    "start_time": "2022-03-28T05:06:53.724Z"
   },
   {
    "duration": 13,
    "start_time": "2022-03-28T05:06:53.741Z"
   },
   {
    "duration": 23,
    "start_time": "2022-03-28T05:06:53.755Z"
   },
   {
    "duration": 96,
    "start_time": "2022-03-28T05:06:53.780Z"
   },
   {
    "duration": 8,
    "start_time": "2022-03-28T05:06:53.879Z"
   },
   {
    "duration": 22,
    "start_time": "2022-03-28T05:06:53.889Z"
   },
   {
    "duration": 21,
    "start_time": "2022-03-28T05:06:53.912Z"
   },
   {
    "duration": 11,
    "start_time": "2022-03-28T05:06:53.934Z"
   },
   {
    "duration": 13,
    "start_time": "2022-03-28T05:06:53.946Z"
   },
   {
    "duration": 39,
    "start_time": "2022-03-28T05:06:53.960Z"
   },
   {
    "duration": 11,
    "start_time": "2022-03-28T05:06:54.001Z"
   },
   {
    "duration": 27,
    "start_time": "2022-03-28T05:06:54.013Z"
   },
   {
    "duration": 38,
    "start_time": "2022-03-28T05:06:54.041Z"
   },
   {
    "duration": 20,
    "start_time": "2022-03-28T05:06:54.081Z"
   },
   {
    "duration": 30,
    "start_time": "2022-03-28T05:06:54.102Z"
   },
   {
    "duration": 39,
    "start_time": "2022-03-28T05:06:54.134Z"
   },
   {
    "duration": 26,
    "start_time": "2022-03-28T05:06:54.175Z"
   },
   {
    "duration": 30,
    "start_time": "2022-03-28T05:06:54.203Z"
   },
   {
    "duration": 25,
    "start_time": "2022-03-28T05:06:54.235Z"
   },
   {
    "duration": 27,
    "start_time": "2022-03-28T05:06:54.262Z"
   },
   {
    "duration": 47,
    "start_time": "2022-03-28T05:06:54.290Z"
   },
   {
    "duration": 16,
    "start_time": "2022-03-28T05:06:54.338Z"
   },
   {
    "duration": 23,
    "start_time": "2022-03-28T05:06:54.358Z"
   },
   {
    "duration": 73,
    "start_time": "2022-03-28T05:06:54.383Z"
   },
   {
    "duration": 31,
    "start_time": "2022-03-28T05:06:54.457Z"
   },
   {
    "duration": 48,
    "start_time": "2022-03-28T05:06:54.490Z"
   },
   {
    "duration": 25,
    "start_time": "2022-03-28T05:06:54.540Z"
   },
   {
    "duration": 36,
    "start_time": "2022-03-28T05:06:54.567Z"
   },
   {
    "duration": 35,
    "start_time": "2022-03-28T05:06:54.605Z"
   },
   {
    "duration": 3,
    "start_time": "2022-03-28T05:06:54.642Z"
   },
   {
    "duration": 14,
    "start_time": "2022-03-28T05:06:54.647Z"
   },
   {
    "duration": 17,
    "start_time": "2022-03-28T05:06:54.662Z"
   },
   {
    "duration": 155,
    "start_time": "2022-03-28T05:06:54.682Z"
   },
   {
    "duration": 10,
    "start_time": "2022-03-28T05:06:54.839Z"
   },
   {
    "duration": 6,
    "start_time": "2022-03-28T05:06:54.851Z"
   },
   {
    "duration": 12,
    "start_time": "2022-03-28T05:06:54.859Z"
   },
   {
    "duration": 20,
    "start_time": "2022-03-28T05:06:54.873Z"
   },
   {
    "duration": 61,
    "start_time": "2022-03-28T05:06:54.894Z"
   },
   {
    "duration": 32,
    "start_time": "2022-03-28T05:06:54.957Z"
   },
   {
    "duration": 8,
    "start_time": "2022-03-28T05:06:54.992Z"
   },
   {
    "duration": 20,
    "start_time": "2022-03-28T05:06:55.031Z"
   },
   {
    "duration": 13,
    "start_time": "2022-03-28T05:06:55.053Z"
   },
   {
    "duration": 1357,
    "start_time": "2022-03-28T05:06:55.067Z"
   },
   {
    "duration": 3,
    "start_time": "2022-03-28T05:06:56.426Z"
   },
   {
    "duration": 574,
    "start_time": "2022-03-28T05:06:56.430Z"
   },
   {
    "duration": 257,
    "start_time": "2022-03-28T05:06:57.006Z"
   },
   {
    "duration": 5,
    "start_time": "2022-03-28T05:06:57.265Z"
   },
   {
    "duration": 1293,
    "start_time": "2022-03-28T05:06:57.272Z"
   },
   {
    "duration": 761,
    "start_time": "2022-03-28T05:06:58.567Z"
   },
   {
    "duration": 29,
    "start_time": "2022-03-28T05:06:59.331Z"
   },
   {
    "duration": 30,
    "start_time": "2022-03-28T05:06:59.361Z"
   },
   {
    "duration": 582,
    "start_time": "2022-03-28T05:06:59.392Z"
   },
   {
    "duration": 258,
    "start_time": "2022-03-28T05:06:59.976Z"
   },
   {
    "duration": 5,
    "start_time": "2022-03-28T05:07:00.236Z"
   },
   {
    "duration": 1332,
    "start_time": "2022-03-28T05:07:00.242Z"
   },
   {
    "duration": 681,
    "start_time": "2022-03-28T05:07:01.576Z"
   },
   {
    "duration": 5,
    "start_time": "2022-03-28T05:17:16.823Z"
   },
   {
    "duration": 5,
    "start_time": "2022-03-28T05:17:40.361Z"
   },
   {
    "duration": 4,
    "start_time": "2022-03-28T05:17:59.775Z"
   },
   {
    "duration": 5,
    "start_time": "2022-03-28T05:18:19.847Z"
   },
   {
    "duration": 175,
    "start_time": "2022-03-28T05:23:28.705Z"
   },
   {
    "duration": 1252,
    "start_time": "2022-03-28T05:23:59.601Z"
   },
   {
    "duration": 176,
    "start_time": "2022-03-28T05:24:00.855Z"
   },
   {
    "duration": 14,
    "start_time": "2022-03-28T05:24:01.032Z"
   },
   {
    "duration": 31,
    "start_time": "2022-03-28T05:24:01.048Z"
   },
   {
    "duration": 161,
    "start_time": "2022-03-28T05:24:01.082Z"
   },
   {
    "duration": 11,
    "start_time": "2022-03-28T05:24:01.244Z"
   },
   {
    "duration": 32,
    "start_time": "2022-03-28T05:24:01.256Z"
   },
   {
    "duration": 33,
    "start_time": "2022-03-28T05:24:01.289Z"
   },
   {
    "duration": 97,
    "start_time": "2022-03-28T05:24:01.323Z"
   },
   {
    "duration": 9,
    "start_time": "2022-03-28T05:24:01.421Z"
   },
   {
    "duration": 23,
    "start_time": "2022-03-28T05:24:01.432Z"
   },
   {
    "duration": 33,
    "start_time": "2022-03-28T05:24:01.456Z"
   },
   {
    "duration": 9,
    "start_time": "2022-03-28T05:24:01.491Z"
   },
   {
    "duration": 19,
    "start_time": "2022-03-28T05:24:01.504Z"
   },
   {
    "duration": 46,
    "start_time": "2022-03-28T05:24:01.525Z"
   },
   {
    "duration": 25,
    "start_time": "2022-03-28T05:24:01.573Z"
   },
   {
    "duration": 20,
    "start_time": "2022-03-28T05:24:01.600Z"
   },
   {
    "duration": 52,
    "start_time": "2022-03-28T05:24:01.622Z"
   },
   {
    "duration": 22,
    "start_time": "2022-03-28T05:24:01.676Z"
   },
   {
    "duration": 52,
    "start_time": "2022-03-28T05:24:01.700Z"
   },
   {
    "duration": 28,
    "start_time": "2022-03-28T05:24:01.754Z"
   },
   {
    "duration": 19,
    "start_time": "2022-03-28T05:24:01.783Z"
   },
   {
    "duration": 45,
    "start_time": "2022-03-28T05:24:01.804Z"
   },
   {
    "duration": 29,
    "start_time": "2022-03-28T05:24:01.851Z"
   },
   {
    "duration": 24,
    "start_time": "2022-03-28T05:24:01.882Z"
   },
   {
    "duration": 18,
    "start_time": "2022-03-28T05:24:01.932Z"
   },
   {
    "duration": 25,
    "start_time": "2022-03-28T05:24:01.952Z"
   },
   {
    "duration": 76,
    "start_time": "2022-03-28T05:24:01.979Z"
   },
   {
    "duration": 32,
    "start_time": "2022-03-28T05:24:02.057Z"
   },
   {
    "duration": 50,
    "start_time": "2022-03-28T05:24:02.092Z"
   },
   {
    "duration": 27,
    "start_time": "2022-03-28T05:24:02.144Z"
   },
   {
    "duration": 59,
    "start_time": "2022-03-28T05:24:02.173Z"
   },
   {
    "duration": 15,
    "start_time": "2022-03-28T05:24:02.234Z"
   },
   {
    "duration": 5,
    "start_time": "2022-03-28T05:24:02.250Z"
   },
   {
    "duration": 8,
    "start_time": "2022-03-28T05:24:02.257Z"
   },
   {
    "duration": 8,
    "start_time": "2022-03-28T05:24:02.267Z"
   },
   {
    "duration": 166,
    "start_time": "2022-03-28T05:24:02.277Z"
   },
   {
    "duration": 9,
    "start_time": "2022-03-28T05:24:02.445Z"
   },
   {
    "duration": 14,
    "start_time": "2022-03-28T05:24:02.455Z"
   },
   {
    "duration": 17,
    "start_time": "2022-03-28T05:24:02.470Z"
   },
   {
    "duration": 19,
    "start_time": "2022-03-28T05:24:02.493Z"
   },
   {
    "duration": 34,
    "start_time": "2022-03-28T05:24:02.532Z"
   },
   {
    "duration": 34,
    "start_time": "2022-03-28T05:24:02.568Z"
   },
   {
    "duration": 30,
    "start_time": "2022-03-28T05:24:02.604Z"
   },
   {
    "duration": 20,
    "start_time": "2022-03-28T05:24:02.636Z"
   },
   {
    "duration": 12,
    "start_time": "2022-03-28T05:24:02.658Z"
   },
   {
    "duration": 1324,
    "start_time": "2022-03-28T05:24:02.672Z"
   },
   {
    "duration": 3,
    "start_time": "2022-03-28T05:24:03.998Z"
   },
   {
    "duration": 599,
    "start_time": "2022-03-28T05:24:04.003Z"
   },
   {
    "duration": 263,
    "start_time": "2022-03-28T05:24:04.604Z"
   },
   {
    "duration": 5,
    "start_time": "2022-03-28T05:24:04.869Z"
   },
   {
    "duration": 1313,
    "start_time": "2022-03-28T05:24:04.875Z"
   },
   {
    "duration": 749,
    "start_time": "2022-03-28T05:24:06.190Z"
   },
   {
    "duration": 28,
    "start_time": "2022-03-28T05:24:06.941Z"
   },
   {
    "duration": 27,
    "start_time": "2022-03-28T05:24:06.971Z"
   },
   {
    "duration": 579,
    "start_time": "2022-03-28T05:24:07.000Z"
   },
   {
    "duration": 246,
    "start_time": "2022-03-28T05:24:07.580Z"
   },
   {
    "duration": 8,
    "start_time": "2022-03-28T05:24:07.828Z"
   },
   {
    "duration": 1320,
    "start_time": "2022-03-28T05:24:07.838Z"
   },
   {
    "duration": 689,
    "start_time": "2022-03-28T05:24:09.160Z"
   },
   {
    "duration": 183,
    "start_time": "2022-03-28T05:33:07.732Z"
   },
   {
    "duration": 110,
    "start_time": "2022-03-28T05:33:24.322Z"
   },
   {
    "duration": 109,
    "start_time": "2022-03-28T05:33:52.611Z"
   },
   {
    "duration": 31,
    "start_time": "2022-03-28T05:34:48.521Z"
   },
   {
    "duration": 30,
    "start_time": "2022-03-28T05:35:40.144Z"
   },
   {
    "duration": 31,
    "start_time": "2022-03-28T05:36:27.621Z"
   },
   {
    "duration": 1239,
    "start_time": "2022-03-28T05:37:47.510Z"
   },
   {
    "duration": 171,
    "start_time": "2022-03-28T05:37:48.751Z"
   },
   {
    "duration": 16,
    "start_time": "2022-03-28T05:37:48.924Z"
   },
   {
    "duration": 29,
    "start_time": "2022-03-28T05:37:48.942Z"
   },
   {
    "duration": 150,
    "start_time": "2022-03-28T05:37:48.974Z"
   },
   {
    "duration": 11,
    "start_time": "2022-03-28T05:37:49.125Z"
   },
   {
    "duration": 14,
    "start_time": "2022-03-28T05:37:49.137Z"
   },
   {
    "duration": 24,
    "start_time": "2022-03-28T05:37:49.153Z"
   },
   {
    "duration": 99,
    "start_time": "2022-03-28T05:37:49.179Z"
   },
   {
    "duration": 8,
    "start_time": "2022-03-28T05:37:49.280Z"
   },
   {
    "duration": 22,
    "start_time": "2022-03-28T05:37:49.289Z"
   },
   {
    "duration": 22,
    "start_time": "2022-03-28T05:37:49.313Z"
   },
   {
    "duration": 12,
    "start_time": "2022-03-28T05:37:49.337Z"
   },
   {
    "duration": 12,
    "start_time": "2022-03-28T05:37:49.352Z"
   },
   {
    "duration": 40,
    "start_time": "2022-03-28T05:37:49.366Z"
   },
   {
    "duration": 10,
    "start_time": "2022-03-28T05:37:49.408Z"
   },
   {
    "duration": 13,
    "start_time": "2022-03-28T05:37:49.420Z"
   },
   {
    "duration": 38,
    "start_time": "2022-03-28T05:37:49.435Z"
   },
   {
    "duration": 19,
    "start_time": "2022-03-28T05:37:49.475Z"
   },
   {
    "duration": 46,
    "start_time": "2022-03-28T05:37:49.496Z"
   },
   {
    "duration": 27,
    "start_time": "2022-03-28T05:37:49.544Z"
   },
   {
    "duration": 17,
    "start_time": "2022-03-28T05:37:49.573Z"
   },
   {
    "duration": 47,
    "start_time": "2022-03-28T05:37:49.592Z"
   },
   {
    "duration": 30,
    "start_time": "2022-03-28T05:37:49.641Z"
   },
   {
    "duration": 27,
    "start_time": "2022-03-28T05:37:49.674Z"
   },
   {
    "duration": 43,
    "start_time": "2022-03-28T05:37:49.703Z"
   },
   {
    "duration": 25,
    "start_time": "2022-03-28T05:37:49.748Z"
   },
   {
    "duration": 73,
    "start_time": "2022-03-28T05:37:49.775Z"
   },
   {
    "duration": 32,
    "start_time": "2022-03-28T05:37:49.851Z"
   },
   {
    "duration": 53,
    "start_time": "2022-03-28T05:37:49.885Z"
   },
   {
    "duration": 26,
    "start_time": "2022-03-28T05:37:49.940Z"
   },
   {
    "duration": 36,
    "start_time": "2022-03-28T05:37:49.969Z"
   },
   {
    "duration": 15,
    "start_time": "2022-03-28T05:37:50.031Z"
   },
   {
    "duration": 7,
    "start_time": "2022-03-28T05:37:50.048Z"
   },
   {
    "duration": 14,
    "start_time": "2022-03-28T05:37:50.057Z"
   },
   {
    "duration": 7,
    "start_time": "2022-03-28T05:37:50.073Z"
   },
   {
    "duration": 172,
    "start_time": "2022-03-28T05:37:50.082Z"
   },
   {
    "duration": 10,
    "start_time": "2022-03-28T05:37:50.257Z"
   },
   {
    "duration": 3,
    "start_time": "2022-03-28T05:37:50.269Z"
   },
   {
    "duration": 15,
    "start_time": "2022-03-28T05:37:50.274Z"
   },
   {
    "duration": 46,
    "start_time": "2022-03-28T05:37:50.295Z"
   },
   {
    "duration": 32,
    "start_time": "2022-03-28T05:37:50.343Z"
   },
   {
    "duration": 31,
    "start_time": "2022-03-28T05:37:50.377Z"
   },
   {
    "duration": 8,
    "start_time": "2022-03-28T05:37:50.432Z"
   },
   {
    "duration": 19,
    "start_time": "2022-03-28T05:37:50.442Z"
   },
   {
    "duration": 11,
    "start_time": "2022-03-28T05:37:50.463Z"
   },
   {
    "duration": 59,
    "start_time": "2022-03-28T05:37:50.476Z"
   },
   {
    "duration": 1331,
    "start_time": "2022-03-28T05:37:50.537Z"
   },
   {
    "duration": 3,
    "start_time": "2022-03-28T05:37:51.869Z"
   },
   {
    "duration": 569,
    "start_time": "2022-03-28T05:37:51.874Z"
   },
   {
    "duration": 264,
    "start_time": "2022-03-28T05:37:52.445Z"
   },
   {
    "duration": 4,
    "start_time": "2022-03-28T05:37:52.711Z"
   },
   {
    "duration": 1283,
    "start_time": "2022-03-28T05:37:52.717Z"
   },
   {
    "duration": 752,
    "start_time": "2022-03-28T05:37:54.001Z"
   },
   {
    "duration": 30,
    "start_time": "2022-03-28T05:37:54.755Z"
   },
   {
    "duration": 46,
    "start_time": "2022-03-28T05:37:54.787Z"
   },
   {
    "duration": 559,
    "start_time": "2022-03-28T05:37:54.834Z"
   },
   {
    "duration": 246,
    "start_time": "2022-03-28T05:37:55.394Z"
   },
   {
    "duration": 5,
    "start_time": "2022-03-28T05:37:55.641Z"
   },
   {
    "duration": 1294,
    "start_time": "2022-03-28T05:37:55.647Z"
   },
   {
    "duration": 700,
    "start_time": "2022-03-28T05:37:56.943Z"
   },
   {
    "duration": 74,
    "start_time": "2022-03-28T08:02:21.589Z"
   },
   {
    "duration": 1837,
    "start_time": "2022-03-28T08:02:32.440Z"
   },
   {
    "duration": 207,
    "start_time": "2022-03-28T08:02:34.281Z"
   },
   {
    "duration": 21,
    "start_time": "2022-03-28T08:02:34.490Z"
   },
   {
    "duration": 51,
    "start_time": "2022-03-28T08:02:34.514Z"
   },
   {
    "duration": 182,
    "start_time": "2022-03-28T08:02:34.567Z"
   },
   {
    "duration": 14,
    "start_time": "2022-03-28T08:02:34.751Z"
   },
   {
    "duration": 14,
    "start_time": "2022-03-28T08:02:34.768Z"
   },
   {
    "duration": 59,
    "start_time": "2022-03-28T08:02:34.784Z"
   },
   {
    "duration": 113,
    "start_time": "2022-03-28T08:02:34.845Z"
   },
   {
    "duration": 12,
    "start_time": "2022-03-28T08:02:34.961Z"
   },
   {
    "duration": 29,
    "start_time": "2022-03-28T08:02:34.975Z"
   },
   {
    "duration": 17,
    "start_time": "2022-03-28T08:02:35.006Z"
   },
   {
    "duration": 29,
    "start_time": "2022-03-28T08:02:35.025Z"
   },
   {
    "duration": 20,
    "start_time": "2022-03-28T08:02:35.056Z"
   },
   {
    "duration": 33,
    "start_time": "2022-03-28T08:02:35.079Z"
   },
   {
    "duration": 17,
    "start_time": "2022-03-28T08:02:35.115Z"
   },
   {
    "duration": 16,
    "start_time": "2022-03-28T08:02:35.144Z"
   },
   {
    "duration": 56,
    "start_time": "2022-03-28T08:02:35.162Z"
   },
   {
    "duration": 48,
    "start_time": "2022-03-28T08:02:35.221Z"
   },
   {
    "duration": 73,
    "start_time": "2022-03-28T08:02:35.271Z"
   },
   {
    "duration": 37,
    "start_time": "2022-03-28T08:02:35.347Z"
   },
   {
    "duration": 23,
    "start_time": "2022-03-28T08:02:35.386Z"
   },
   {
    "duration": 54,
    "start_time": "2022-03-28T08:02:35.412Z"
   },
   {
    "duration": 38,
    "start_time": "2022-03-28T08:02:35.468Z"
   },
   {
    "duration": 61,
    "start_time": "2022-03-28T08:02:35.508Z"
   },
   {
    "duration": 22,
    "start_time": "2022-03-28T08:02:35.571Z"
   },
   {
    "duration": 52,
    "start_time": "2022-03-28T08:02:35.595Z"
   },
   {
    "duration": 59,
    "start_time": "2022-03-28T08:02:35.652Z"
   },
   {
    "duration": 58,
    "start_time": "2022-03-28T08:02:35.714Z"
   },
   {
    "duration": 38,
    "start_time": "2022-03-28T08:02:35.775Z"
   },
   {
    "duration": 56,
    "start_time": "2022-03-28T08:02:35.815Z"
   },
   {
    "duration": 51,
    "start_time": "2022-03-28T08:02:35.873Z"
   },
   {
    "duration": 18,
    "start_time": "2022-03-28T08:02:35.943Z"
   },
   {
    "duration": 5,
    "start_time": "2022-03-28T08:02:35.963Z"
   },
   {
    "duration": 18,
    "start_time": "2022-03-28T08:02:35.970Z"
   },
   {
    "duration": 10,
    "start_time": "2022-03-28T08:02:35.990Z"
   },
   {
    "duration": 257,
    "start_time": "2022-03-28T08:02:36.002Z"
   },
   {
    "duration": 11,
    "start_time": "2022-03-28T08:02:36.261Z"
   },
   {
    "duration": 12,
    "start_time": "2022-03-28T08:02:36.274Z"
   },
   {
    "duration": 27,
    "start_time": "2022-03-28T08:02:36.288Z"
   },
   {
    "duration": 42,
    "start_time": "2022-03-28T08:02:36.317Z"
   },
   {
    "duration": 50,
    "start_time": "2022-03-28T08:02:36.361Z"
   },
   {
    "duration": 69,
    "start_time": "2022-03-28T08:02:36.413Z"
   },
   {
    "duration": 12,
    "start_time": "2022-03-28T08:02:36.484Z"
   },
   {
    "duration": 53,
    "start_time": "2022-03-28T08:02:36.497Z"
   },
   {
    "duration": 17,
    "start_time": "2022-03-28T08:02:36.553Z"
   },
   {
    "duration": 52,
    "start_time": "2022-03-28T08:02:36.572Z"
   },
   {
    "duration": 14,
    "start_time": "2022-03-28T08:02:36.643Z"
   }
  ],
  "kernelspec": {
   "display_name": "Python 3 (ipykernel)",
   "language": "python",
   "name": "python3"
  },
  "language_info": {
   "codemirror_mode": {
    "name": "ipython",
    "version": 3
   },
   "file_extension": ".py",
   "mimetype": "text/x-python",
   "name": "python",
   "nbconvert_exporter": "python",
   "pygments_lexer": "ipython3",
   "version": "3.9.7"
  },
  "toc": {
   "base_numbering": 1,
   "nav_menu": {},
   "number_sections": true,
   "sideBar": true,
   "skip_h1_title": true,
   "title_cell": "Содержание",
   "title_sidebar": "Contents",
   "toc_cell": true,
   "toc_position": {
    "height": "calc(100% - 180px)",
    "left": "10px",
    "top": "150px",
    "width": "197.863px"
   },
   "toc_section_display": true,
   "toc_window_display": true
  }
 },
 "nbformat": 4,
 "nbformat_minor": 2
}
