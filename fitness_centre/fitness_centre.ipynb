{
 "cells": [
  {
   "cell_type": "markdown",
   "metadata": {
    "toc": true
   },
   "source": [
    "<h1>Содержание<span class=\"tocSkip\"></span></h1>\n",
    "<div class=\"toc\"><ul class=\"toc-item\"><li><span><a href=\"#Обзор-данных\" data-toc-modified-id=\"Обзор-данных-1\"><span class=\"toc-item-num\">1&nbsp;&nbsp;</span>Обзор данных</a></span><ul class=\"toc-item\"><li><span><a href=\"#Выводы\" data-toc-modified-id=\"Выводы-1.1\"><span class=\"toc-item-num\">1.1&nbsp;&nbsp;</span>Выводы</a></span></li></ul></li><li><span><a href=\"#Исследовательский-анализ-данных-(EDA)\" data-toc-modified-id=\"Исследовательский-анализ-данных-(EDA)-2\"><span class=\"toc-item-num\">2&nbsp;&nbsp;</span>Исследовательский анализ данных (EDA)</a></span><ul class=\"toc-item\"><li><span><a href=\"#Обработка-пропусков\" data-toc-modified-id=\"Обработка-пропусков-2.1\"><span class=\"toc-item-num\">2.1&nbsp;&nbsp;</span>Обработка пропусков</a></span></li><li><span><a href=\"#Обработка-дубликатов\" data-toc-modified-id=\"Обработка-дубликатов-2.2\"><span class=\"toc-item-num\">2.2&nbsp;&nbsp;</span>Обработка дубликатов</a></span></li><li><span><a href=\"#Анализ-средних-значений-и-стандартных-отклонений\" data-toc-modified-id=\"Анализ-средних-значений-и-стандартных-отклонений-2.3\"><span class=\"toc-item-num\">2.3&nbsp;&nbsp;</span>Анализ средних значений и стандартных отклонений</a></span></li><li><span><a href=\"#Анализ-распределений-признаков\" data-toc-modified-id=\"Анализ-распределений-признаков-2.4\"><span class=\"toc-item-num\">2.4&nbsp;&nbsp;</span>Анализ распределений признаков</a></span></li><li><span><a href=\"#Матрица-корреляций\" data-toc-modified-id=\"Матрица-корреляций-2.5\"><span class=\"toc-item-num\">2.5&nbsp;&nbsp;</span>Матрица корреляций</a></span></li><li><span><a href=\"#Выводы\" data-toc-modified-id=\"Выводы-2.6\"><span class=\"toc-item-num\">2.6&nbsp;&nbsp;</span>Выводы</a></span></li></ul></li><li><span><a href=\"#Построение-модели-прогнозирования-оттока-клиентов\" data-toc-modified-id=\"Построение-модели-прогнозирования-оттока-клиентов-3\"><span class=\"toc-item-num\">3&nbsp;&nbsp;</span>Построение модели прогнозирования оттока клиентов</a></span><ul class=\"toc-item\"><li><span><a href=\"#Выделение-обучающей-и-валидационной-выборок\" data-toc-modified-id=\"Выделение-обучающей-и-валидационной-выборок-3.1\"><span class=\"toc-item-num\">3.1&nbsp;&nbsp;</span>Выделение обучающей и валидационной выборок</a></span></li><li><span><a href=\"#Стандартизация-данных\" data-toc-modified-id=\"Стандартизация-данных-3.2\"><span class=\"toc-item-num\">3.2&nbsp;&nbsp;</span>Стандартизация данных</a></span></li><li><span><a href=\"#Модель-логистической-регрессии\" data-toc-modified-id=\"Модель-логистической-регрессии-3.3\"><span class=\"toc-item-num\">3.3&nbsp;&nbsp;</span>Модель логистической регрессии</a></span></li><li><span><a href=\"#Модель-случайного-леса\" data-toc-modified-id=\"Модель-случайного-леса-3.4\"><span class=\"toc-item-num\">3.4&nbsp;&nbsp;</span>Модель случайного леса</a></span></li><li><span><a href=\"#Сравнение-метрик-моделей\" data-toc-modified-id=\"Сравнение-метрик-моделей-3.5\"><span class=\"toc-item-num\">3.5&nbsp;&nbsp;</span>Сравнение метрик моделей</a></span></li><li><span><a href=\"#Выводы\" data-toc-modified-id=\"Выводы-3.6\"><span class=\"toc-item-num\">3.6&nbsp;&nbsp;</span>Выводы</a></span></li></ul></li><li><span><a href=\"#Кластеризация-клиентов\" data-toc-modified-id=\"Кластеризация-клиентов-4\"><span class=\"toc-item-num\">4&nbsp;&nbsp;</span>Кластеризация клиентов</a></span><ul class=\"toc-item\"><li><span><a href=\"#Стандартизация-данных\" data-toc-modified-id=\"Стандартизация-данных-4.1\"><span class=\"toc-item-num\">4.1&nbsp;&nbsp;</span>Стандартизация данных</a></span></li><li><span><a href=\"#Дендограмма\" data-toc-modified-id=\"Дендограмма-4.2\"><span class=\"toc-item-num\">4.2&nbsp;&nbsp;</span>Дендограмма</a></span></li><li><span><a href=\"#Модель-кластеризации-на-основании-алгоритма-K-Means\" data-toc-modified-id=\"Модель-кластеризации-на-основании-алгоритма-K-Means-4.3\"><span class=\"toc-item-num\">4.3&nbsp;&nbsp;</span>Модель кластеризации на основании алгоритма K-Means</a></span></li><li><span><a href=\"#Анализ-распределений-признаков\" data-toc-modified-id=\"Анализ-распределений-признаков-4.4\"><span class=\"toc-item-num\">4.4&nbsp;&nbsp;</span>Анализ распределений признаков</a></span></li><li><span><a href=\"#Выводы\" data-toc-modified-id=\"Выводы-4.5\"><span class=\"toc-item-num\">4.5&nbsp;&nbsp;</span>Выводы</a></span></li></ul></li><li><span><a href=\"#Выводы-и-базовые-рекомендации-по-работе-с-клиентами\" data-toc-modified-id=\"Выводы-и-базовые-рекомендации-по-работе-с-клиентами-5\"><span class=\"toc-item-num\">5&nbsp;&nbsp;</span>Выводы и базовые рекомендации по работе с клиентами</a></span></li></ul></div>"
   ]
  },
  {
   "cell_type": "markdown",
   "metadata": {},
   "source": [
    "# Анализ и подготовка план действий по удержанию клиентов фитнес-центра\n",
    "\n",
    "Сеть фитнес-центров «Культурист-датасаентист» разрабатывает стратегию взаимодействия с клиентами на основе аналитических данных.\n",
    "Распространённая проблема фитнес-клубов и других сервисов — отток клиентов. Как понять, что клиент больше не ходит? Можно записать в отток тех, кто попросил закрыть договор или удалил аккаунт. Однако клиенты не всегда уходят демонстративно: чаще перестают пользоваться сервисом тихо.\n",
    "Индикаторы оттока зависят от специфики отрасли. Для фитнес-центра можно считать, что клиент попал в отток, если за последний месяц ни разу не посетил спортзал. Конечно, не исключено, что он уехал на Бали и по приезде обязательно продолжит ходить на фитнес. Однако чаще бывает наоборот. Если клиент начал новую жизнь с понедельника, немного походил в спортзал, а потом пропал — скорее всего, он не вернётся.\n",
    "\n",
    "\n",
    "**Цель**:\n",
    "* сформировать типичные портреты клиентов: выделить несколько наиболее ярких групп и охарактеризовать их основные свойства;\n",
    "* проанализировать основные признаки, наиболее сильно влияющие на отток;\n",
    "* сформулировать основные выводы и разработать рекомендации по повышению качества работы с клиентами:\n",
    "    1) выделить целевые группы клиентов;\n",
    "    2) предложить меры по снижению оттока;\n",
    "    3) определить другие особенности взаимодействия с клиентами.\n",
    "\n",
    "Исследование пройдет в пять этапов:\n",
    "* Обзор данных,\n",
    "* Исследовательский анализ данных,\n",
    "* Построние модели прогнозирования оттока клиентов,\n",
    "* Кластеризация клиентов,\n",
    "* Формулировка выводов и рекомендаций."
   ]
  },
  {
   "cell_type": "markdown",
   "metadata": {},
   "source": [
    "## Обзор данных"
   ]
  },
  {
   "cell_type": "code",
   "execution_count": 1,
   "metadata": {},
   "outputs": [],
   "source": [
    "# импорт библиотек\n",
    "import pandas as pd\n",
    "\n",
    "import seaborn as sns\n",
    "\n",
    "import matplotlib.pyplot as plt\n",
    "\n",
    "from sklearn.model_selection import train_test_split\n",
    "\n",
    "from sklearn.linear_model import LogisticRegression\n",
    "\n",
    "from sklearn.ensemble import RandomForestClassifier\n",
    "\n",
    "from sklearn.preprocessing import StandardScaler\n",
    "\n",
    "from sklearn.metrics import accuracy_score, precision_score, recall_score\n",
    "\n",
    "from sklearn.cluster import KMeans\n",
    "\n",
    "from scipy.cluster.hierarchy import dendrogram, linkage\n",
    "\n",
    "import warnings\n",
    "warnings.filterwarnings('ignore')"
   ]
  },
  {
   "cell_type": "code",
   "execution_count": 2,
   "metadata": {},
   "outputs": [],
   "source": [
    "# чтение файла с данными и сохранение в data\n",
    "data = pd.read_csv('/datasets/gym_churn.csv')"
   ]
  },
  {
   "cell_type": "code",
   "execution_count": 3,
   "metadata": {},
   "outputs": [
    {
     "data": {
      "text/html": [
       "<div>\n",
       "<style scoped>\n",
       "    .dataframe tbody tr th:only-of-type {\n",
       "        vertical-align: middle;\n",
       "    }\n",
       "\n",
       "    .dataframe tbody tr th {\n",
       "        vertical-align: top;\n",
       "    }\n",
       "\n",
       "    .dataframe thead th {\n",
       "        text-align: right;\n",
       "    }\n",
       "</style>\n",
       "<table border=\"1\" class=\"dataframe\">\n",
       "  <thead>\n",
       "    <tr style=\"text-align: right;\">\n",
       "      <th></th>\n",
       "      <th>gender</th>\n",
       "      <th>Near_Location</th>\n",
       "      <th>Partner</th>\n",
       "      <th>Promo_friends</th>\n",
       "      <th>Phone</th>\n",
       "      <th>Contract_period</th>\n",
       "      <th>Group_visits</th>\n",
       "      <th>Age</th>\n",
       "      <th>Avg_additional_charges_total</th>\n",
       "      <th>Month_to_end_contract</th>\n",
       "      <th>Lifetime</th>\n",
       "      <th>Avg_class_frequency_total</th>\n",
       "      <th>Avg_class_frequency_current_month</th>\n",
       "      <th>Churn</th>\n",
       "    </tr>\n",
       "  </thead>\n",
       "  <tbody>\n",
       "    <tr>\n",
       "      <th>0</th>\n",
       "      <td>1</td>\n",
       "      <td>1</td>\n",
       "      <td>1</td>\n",
       "      <td>1</td>\n",
       "      <td>0</td>\n",
       "      <td>6</td>\n",
       "      <td>1</td>\n",
       "      <td>29</td>\n",
       "      <td>14.227470</td>\n",
       "      <td>5.0</td>\n",
       "      <td>3</td>\n",
       "      <td>0.020398</td>\n",
       "      <td>0.000000</td>\n",
       "      <td>0</td>\n",
       "    </tr>\n",
       "    <tr>\n",
       "      <th>1</th>\n",
       "      <td>0</td>\n",
       "      <td>1</td>\n",
       "      <td>0</td>\n",
       "      <td>0</td>\n",
       "      <td>1</td>\n",
       "      <td>12</td>\n",
       "      <td>1</td>\n",
       "      <td>31</td>\n",
       "      <td>113.202938</td>\n",
       "      <td>12.0</td>\n",
       "      <td>7</td>\n",
       "      <td>1.922936</td>\n",
       "      <td>1.910244</td>\n",
       "      <td>0</td>\n",
       "    </tr>\n",
       "    <tr>\n",
       "      <th>2</th>\n",
       "      <td>0</td>\n",
       "      <td>1</td>\n",
       "      <td>1</td>\n",
       "      <td>0</td>\n",
       "      <td>1</td>\n",
       "      <td>1</td>\n",
       "      <td>0</td>\n",
       "      <td>28</td>\n",
       "      <td>129.448479</td>\n",
       "      <td>1.0</td>\n",
       "      <td>2</td>\n",
       "      <td>1.859098</td>\n",
       "      <td>1.736502</td>\n",
       "      <td>0</td>\n",
       "    </tr>\n",
       "    <tr>\n",
       "      <th>3</th>\n",
       "      <td>0</td>\n",
       "      <td>1</td>\n",
       "      <td>1</td>\n",
       "      <td>1</td>\n",
       "      <td>1</td>\n",
       "      <td>12</td>\n",
       "      <td>1</td>\n",
       "      <td>33</td>\n",
       "      <td>62.669863</td>\n",
       "      <td>12.0</td>\n",
       "      <td>2</td>\n",
       "      <td>3.205633</td>\n",
       "      <td>3.357215</td>\n",
       "      <td>0</td>\n",
       "    </tr>\n",
       "    <tr>\n",
       "      <th>4</th>\n",
       "      <td>1</td>\n",
       "      <td>1</td>\n",
       "      <td>1</td>\n",
       "      <td>1</td>\n",
       "      <td>1</td>\n",
       "      <td>1</td>\n",
       "      <td>0</td>\n",
       "      <td>26</td>\n",
       "      <td>198.362265</td>\n",
       "      <td>1.0</td>\n",
       "      <td>3</td>\n",
       "      <td>1.113884</td>\n",
       "      <td>1.120078</td>\n",
       "      <td>0</td>\n",
       "    </tr>\n",
       "    <tr>\n",
       "      <th>5</th>\n",
       "      <td>1</td>\n",
       "      <td>1</td>\n",
       "      <td>0</td>\n",
       "      <td>0</td>\n",
       "      <td>1</td>\n",
       "      <td>1</td>\n",
       "      <td>1</td>\n",
       "      <td>34</td>\n",
       "      <td>450.743960</td>\n",
       "      <td>1.0</td>\n",
       "      <td>3</td>\n",
       "      <td>2.623477</td>\n",
       "      <td>2.637007</td>\n",
       "      <td>0</td>\n",
       "    </tr>\n",
       "    <tr>\n",
       "      <th>6</th>\n",
       "      <td>1</td>\n",
       "      <td>1</td>\n",
       "      <td>1</td>\n",
       "      <td>1</td>\n",
       "      <td>0</td>\n",
       "      <td>6</td>\n",
       "      <td>1</td>\n",
       "      <td>32</td>\n",
       "      <td>94.266389</td>\n",
       "      <td>6.0</td>\n",
       "      <td>2</td>\n",
       "      <td>1.138941</td>\n",
       "      <td>1.277242</td>\n",
       "      <td>0</td>\n",
       "    </tr>\n",
       "    <tr>\n",
       "      <th>7</th>\n",
       "      <td>0</td>\n",
       "      <td>1</td>\n",
       "      <td>0</td>\n",
       "      <td>0</td>\n",
       "      <td>1</td>\n",
       "      <td>1</td>\n",
       "      <td>0</td>\n",
       "      <td>30</td>\n",
       "      <td>217.786641</td>\n",
       "      <td>1.0</td>\n",
       "      <td>0</td>\n",
       "      <td>1.213502</td>\n",
       "      <td>1.049387</td>\n",
       "      <td>1</td>\n",
       "    </tr>\n",
       "    <tr>\n",
       "      <th>8</th>\n",
       "      <td>1</td>\n",
       "      <td>1</td>\n",
       "      <td>1</td>\n",
       "      <td>1</td>\n",
       "      <td>1</td>\n",
       "      <td>1</td>\n",
       "      <td>1</td>\n",
       "      <td>23</td>\n",
       "      <td>45.409909</td>\n",
       "      <td>1.0</td>\n",
       "      <td>1</td>\n",
       "      <td>1.106239</td>\n",
       "      <td>1.059333</td>\n",
       "      <td>0</td>\n",
       "    </tr>\n",
       "    <tr>\n",
       "      <th>9</th>\n",
       "      <td>0</td>\n",
       "      <td>1</td>\n",
       "      <td>0</td>\n",
       "      <td>0</td>\n",
       "      <td>1</td>\n",
       "      <td>1</td>\n",
       "      <td>0</td>\n",
       "      <td>31</td>\n",
       "      <td>65.310836</td>\n",
       "      <td>1.0</td>\n",
       "      <td>11</td>\n",
       "      <td>1.810852</td>\n",
       "      <td>1.951368</td>\n",
       "      <td>0</td>\n",
       "    </tr>\n",
       "  </tbody>\n",
       "</table>\n",
       "</div>"
      ],
      "text/plain": [
       "   gender  Near_Location  Partner  Promo_friends  Phone  Contract_period  \\\n",
       "0       1              1        1              1      0                6   \n",
       "1       0              1        0              0      1               12   \n",
       "2       0              1        1              0      1                1   \n",
       "3       0              1        1              1      1               12   \n",
       "4       1              1        1              1      1                1   \n",
       "5       1              1        0              0      1                1   \n",
       "6       1              1        1              1      0                6   \n",
       "7       0              1        0              0      1                1   \n",
       "8       1              1        1              1      1                1   \n",
       "9       0              1        0              0      1                1   \n",
       "\n",
       "   Group_visits  Age  Avg_additional_charges_total  Month_to_end_contract  \\\n",
       "0             1   29                     14.227470                    5.0   \n",
       "1             1   31                    113.202938                   12.0   \n",
       "2             0   28                    129.448479                    1.0   \n",
       "3             1   33                     62.669863                   12.0   \n",
       "4             0   26                    198.362265                    1.0   \n",
       "5             1   34                    450.743960                    1.0   \n",
       "6             1   32                     94.266389                    6.0   \n",
       "7             0   30                    217.786641                    1.0   \n",
       "8             1   23                     45.409909                    1.0   \n",
       "9             0   31                     65.310836                    1.0   \n",
       "\n",
       "   Lifetime  Avg_class_frequency_total  Avg_class_frequency_current_month  \\\n",
       "0         3                   0.020398                           0.000000   \n",
       "1         7                   1.922936                           1.910244   \n",
       "2         2                   1.859098                           1.736502   \n",
       "3         2                   3.205633                           3.357215   \n",
       "4         3                   1.113884                           1.120078   \n",
       "5         3                   2.623477                           2.637007   \n",
       "6         2                   1.138941                           1.277242   \n",
       "7         0                   1.213502                           1.049387   \n",
       "8         1                   1.106239                           1.059333   \n",
       "9        11                   1.810852                           1.951368   \n",
       "\n",
       "   Churn  \n",
       "0      0  \n",
       "1      0  \n",
       "2      0  \n",
       "3      0  \n",
       "4      0  \n",
       "5      0  \n",
       "6      0  \n",
       "7      1  \n",
       "8      0  \n",
       "9      0  "
      ]
     },
     "execution_count": 3,
     "metadata": {},
     "output_type": "execute_result"
    }
   ],
   "source": [
    "# получение первых 10 строк таблицы data\n",
    "data.head(10)"
   ]
  },
  {
   "cell_type": "code",
   "execution_count": 4,
   "metadata": {},
   "outputs": [
    {
     "data": {
      "text/html": [
       "<div>\n",
       "<style scoped>\n",
       "    .dataframe tbody tr th:only-of-type {\n",
       "        vertical-align: middle;\n",
       "    }\n",
       "\n",
       "    .dataframe tbody tr th {\n",
       "        vertical-align: top;\n",
       "    }\n",
       "\n",
       "    .dataframe thead th {\n",
       "        text-align: right;\n",
       "    }\n",
       "</style>\n",
       "<table border=\"1\" class=\"dataframe\">\n",
       "  <thead>\n",
       "    <tr style=\"text-align: right;\">\n",
       "      <th></th>\n",
       "      <th>gender</th>\n",
       "      <th>Near_Location</th>\n",
       "      <th>Partner</th>\n",
       "      <th>Promo_friends</th>\n",
       "      <th>Phone</th>\n",
       "      <th>Contract_period</th>\n",
       "      <th>Group_visits</th>\n",
       "      <th>Age</th>\n",
       "      <th>Avg_additional_charges_total</th>\n",
       "      <th>Month_to_end_contract</th>\n",
       "      <th>Lifetime</th>\n",
       "      <th>Avg_class_frequency_total</th>\n",
       "      <th>Avg_class_frequency_current_month</th>\n",
       "      <th>Churn</th>\n",
       "    </tr>\n",
       "  </thead>\n",
       "  <tbody>\n",
       "    <tr>\n",
       "      <th>3990</th>\n",
       "      <td>1</td>\n",
       "      <td>0</td>\n",
       "      <td>1</td>\n",
       "      <td>0</td>\n",
       "      <td>1</td>\n",
       "      <td>12</td>\n",
       "      <td>0</td>\n",
       "      <td>33</td>\n",
       "      <td>31.771147</td>\n",
       "      <td>8.0</td>\n",
       "      <td>10</td>\n",
       "      <td>1.831577</td>\n",
       "      <td>1.924509</td>\n",
       "      <td>0</td>\n",
       "    </tr>\n",
       "    <tr>\n",
       "      <th>3991</th>\n",
       "      <td>1</td>\n",
       "      <td>0</td>\n",
       "      <td>1</td>\n",
       "      <td>0</td>\n",
       "      <td>1</td>\n",
       "      <td>6</td>\n",
       "      <td>0</td>\n",
       "      <td>33</td>\n",
       "      <td>69.301270</td>\n",
       "      <td>6.0</td>\n",
       "      <td>1</td>\n",
       "      <td>1.367289</td>\n",
       "      <td>1.435721</td>\n",
       "      <td>0</td>\n",
       "    </tr>\n",
       "    <tr>\n",
       "      <th>3992</th>\n",
       "      <td>0</td>\n",
       "      <td>1</td>\n",
       "      <td>1</td>\n",
       "      <td>1</td>\n",
       "      <td>1</td>\n",
       "      <td>12</td>\n",
       "      <td>0</td>\n",
       "      <td>31</td>\n",
       "      <td>223.102448</td>\n",
       "      <td>8.0</td>\n",
       "      <td>4</td>\n",
       "      <td>3.855916</td>\n",
       "      <td>3.797062</td>\n",
       "      <td>0</td>\n",
       "    </tr>\n",
       "    <tr>\n",
       "      <th>3993</th>\n",
       "      <td>0</td>\n",
       "      <td>1</td>\n",
       "      <td>1</td>\n",
       "      <td>0</td>\n",
       "      <td>1</td>\n",
       "      <td>1</td>\n",
       "      <td>0</td>\n",
       "      <td>33</td>\n",
       "      <td>231.778628</td>\n",
       "      <td>1.0</td>\n",
       "      <td>3</td>\n",
       "      <td>1.418791</td>\n",
       "      <td>1.450442</td>\n",
       "      <td>0</td>\n",
       "    </tr>\n",
       "    <tr>\n",
       "      <th>3994</th>\n",
       "      <td>1</td>\n",
       "      <td>1</td>\n",
       "      <td>0</td>\n",
       "      <td>0</td>\n",
       "      <td>1</td>\n",
       "      <td>1</td>\n",
       "      <td>0</td>\n",
       "      <td>26</td>\n",
       "      <td>31.066721</td>\n",
       "      <td>1.0</td>\n",
       "      <td>1</td>\n",
       "      <td>1.157451</td>\n",
       "      <td>0.269597</td>\n",
       "      <td>1</td>\n",
       "    </tr>\n",
       "    <tr>\n",
       "      <th>3995</th>\n",
       "      <td>1</td>\n",
       "      <td>1</td>\n",
       "      <td>1</td>\n",
       "      <td>0</td>\n",
       "      <td>1</td>\n",
       "      <td>12</td>\n",
       "      <td>0</td>\n",
       "      <td>33</td>\n",
       "      <td>2.406023</td>\n",
       "      <td>12.0</td>\n",
       "      <td>8</td>\n",
       "      <td>2.284497</td>\n",
       "      <td>2.349070</td>\n",
       "      <td>0</td>\n",
       "    </tr>\n",
       "    <tr>\n",
       "      <th>3996</th>\n",
       "      <td>0</td>\n",
       "      <td>1</td>\n",
       "      <td>0</td>\n",
       "      <td>0</td>\n",
       "      <td>1</td>\n",
       "      <td>1</td>\n",
       "      <td>1</td>\n",
       "      <td>29</td>\n",
       "      <td>68.883764</td>\n",
       "      <td>1.0</td>\n",
       "      <td>1</td>\n",
       "      <td>1.277168</td>\n",
       "      <td>0.292859</td>\n",
       "      <td>1</td>\n",
       "    </tr>\n",
       "    <tr>\n",
       "      <th>3997</th>\n",
       "      <td>1</td>\n",
       "      <td>1</td>\n",
       "      <td>1</td>\n",
       "      <td>1</td>\n",
       "      <td>1</td>\n",
       "      <td>12</td>\n",
       "      <td>0</td>\n",
       "      <td>28</td>\n",
       "      <td>78.250542</td>\n",
       "      <td>11.0</td>\n",
       "      <td>2</td>\n",
       "      <td>2.786146</td>\n",
       "      <td>2.831439</td>\n",
       "      <td>0</td>\n",
       "    </tr>\n",
       "    <tr>\n",
       "      <th>3998</th>\n",
       "      <td>0</td>\n",
       "      <td>1</td>\n",
       "      <td>1</td>\n",
       "      <td>1</td>\n",
       "      <td>1</td>\n",
       "      <td>6</td>\n",
       "      <td>0</td>\n",
       "      <td>32</td>\n",
       "      <td>61.912657</td>\n",
       "      <td>5.0</td>\n",
       "      <td>3</td>\n",
       "      <td>1.630108</td>\n",
       "      <td>1.596237</td>\n",
       "      <td>0</td>\n",
       "    </tr>\n",
       "    <tr>\n",
       "      <th>3999</th>\n",
       "      <td>1</td>\n",
       "      <td>0</td>\n",
       "      <td>1</td>\n",
       "      <td>0</td>\n",
       "      <td>0</td>\n",
       "      <td>12</td>\n",
       "      <td>1</td>\n",
       "      <td>30</td>\n",
       "      <td>178.861814</td>\n",
       "      <td>12.0</td>\n",
       "      <td>1</td>\n",
       "      <td>1.101832</td>\n",
       "      <td>1.035270</td>\n",
       "      <td>0</td>\n",
       "    </tr>\n",
       "  </tbody>\n",
       "</table>\n",
       "</div>"
      ],
      "text/plain": [
       "      gender  Near_Location  Partner  Promo_friends  Phone  Contract_period  \\\n",
       "3990       1              0        1              0      1               12   \n",
       "3991       1              0        1              0      1                6   \n",
       "3992       0              1        1              1      1               12   \n",
       "3993       0              1        1              0      1                1   \n",
       "3994       1              1        0              0      1                1   \n",
       "3995       1              1        1              0      1               12   \n",
       "3996       0              1        0              0      1                1   \n",
       "3997       1              1        1              1      1               12   \n",
       "3998       0              1        1              1      1                6   \n",
       "3999       1              0        1              0      0               12   \n",
       "\n",
       "      Group_visits  Age  Avg_additional_charges_total  Month_to_end_contract  \\\n",
       "3990             0   33                     31.771147                    8.0   \n",
       "3991             0   33                     69.301270                    6.0   \n",
       "3992             0   31                    223.102448                    8.0   \n",
       "3993             0   33                    231.778628                    1.0   \n",
       "3994             0   26                     31.066721                    1.0   \n",
       "3995             0   33                      2.406023                   12.0   \n",
       "3996             1   29                     68.883764                    1.0   \n",
       "3997             0   28                     78.250542                   11.0   \n",
       "3998             0   32                     61.912657                    5.0   \n",
       "3999             1   30                    178.861814                   12.0   \n",
       "\n",
       "      Lifetime  Avg_class_frequency_total  Avg_class_frequency_current_month  \\\n",
       "3990        10                   1.831577                           1.924509   \n",
       "3991         1                   1.367289                           1.435721   \n",
       "3992         4                   3.855916                           3.797062   \n",
       "3993         3                   1.418791                           1.450442   \n",
       "3994         1                   1.157451                           0.269597   \n",
       "3995         8                   2.284497                           2.349070   \n",
       "3996         1                   1.277168                           0.292859   \n",
       "3997         2                   2.786146                           2.831439   \n",
       "3998         3                   1.630108                           1.596237   \n",
       "3999         1                   1.101832                           1.035270   \n",
       "\n",
       "      Churn  \n",
       "3990      0  \n",
       "3991      0  \n",
       "3992      0  \n",
       "3993      0  \n",
       "3994      1  \n",
       "3995      0  \n",
       "3996      1  \n",
       "3997      0  \n",
       "3998      0  \n",
       "3999      0  "
      ]
     },
     "execution_count": 4,
     "metadata": {},
     "output_type": "execute_result"
    }
   ],
   "source": [
    "# получение последних 10 строк таблицы data\n",
    "data.tail(10)"
   ]
  },
  {
   "cell_type": "code",
   "execution_count": 5,
   "metadata": {},
   "outputs": [
    {
     "data": {
      "text/plain": [
       "Index(['gender', 'near_location', 'partner', 'promo_friends', 'phone',\n",
       "       'contract_period', 'group_visits', 'age',\n",
       "       'avg_additional_charges_total', 'month_to_end_contract', 'lifetime',\n",
       "       'avg_class_frequency_total', 'avg_class_frequency_current_month',\n",
       "       'churn'],\n",
       "      dtype='object')"
      ]
     },
     "execution_count": 5,
     "metadata": {},
     "output_type": "execute_result"
    }
   ],
   "source": [
    "# изменение регистра названий столбцов\n",
    "data.columns = data.columns.str.lower()\n",
    "data.columns"
   ]
  },
  {
   "cell_type": "code",
   "execution_count": 6,
   "metadata": {},
   "outputs": [
    {
     "name": "stdout",
     "output_type": "stream",
     "text": [
      "<class 'pandas.core.frame.DataFrame'>\n",
      "RangeIndex: 4000 entries, 0 to 3999\n",
      "Data columns (total 14 columns):\n",
      " #   Column                             Non-Null Count  Dtype  \n",
      "---  ------                             --------------  -----  \n",
      " 0   gender                             4000 non-null   int64  \n",
      " 1   near_location                      4000 non-null   int64  \n",
      " 2   partner                            4000 non-null   int64  \n",
      " 3   promo_friends                      4000 non-null   int64  \n",
      " 4   phone                              4000 non-null   int64  \n",
      " 5   contract_period                    4000 non-null   int64  \n",
      " 6   group_visits                       4000 non-null   int64  \n",
      " 7   age                                4000 non-null   int64  \n",
      " 8   avg_additional_charges_total       4000 non-null   float64\n",
      " 9   month_to_end_contract              4000 non-null   float64\n",
      " 10  lifetime                           4000 non-null   int64  \n",
      " 11  avg_class_frequency_total          4000 non-null   float64\n",
      " 12  avg_class_frequency_current_month  4000 non-null   float64\n",
      " 13  churn                              4000 non-null   int64  \n",
      "dtypes: float64(4), int64(10)\n",
      "memory usage: 437.6 KB\n"
     ]
    }
   ],
   "source": [
    "# получение общей информации о данных в таблице data\n",
    "data.info()"
   ]
  },
  {
   "cell_type": "markdown",
   "metadata": {},
   "source": [
    "### Выводы\n",
    "\n",
    "В таблице 14 столбцов и 4000 наблюдений. Типы данных `int64`, `float64`.\n",
    "\n",
    "Согласно документации к данным:\n",
    "   * Данные клиента за предыдущий до проверки факта оттока месяц:\n",
    "      * `gender` — пол;\n",
    "      * `Near_Location` — проживание или работа в районе, где находится фитнес-центр;\n",
    "      * `Partner` — сотрудник компании-партнёра клуба (сотрудничество с компаниями, чьи сотрудники могут получать скидки на абонемент — в таком случае фитнес-центр хранит информацию о работодателе клиента);\n",
    "      * `Promo_friends` — факт первоначальной записи в рамках акции «приведи друга» (использовал промо-код от знакомого при оплате первого абонемента);\n",
    "      * `Phone` — наличие контактного телефона;\n",
    "      * `Age` — возраст;\n",
    "      * `Lifetime` — время с момента первого обращения в фитнес-центр (в месяцах).\n",
    "   * Информация на основе журнала посещений, покупок и информация о текущем статусе абонемента клиента:\n",
    "       * `Contract_period` — длительность текущего действующего абонемента (месяц, 6 месяцев, год);\n",
    "       * `Month_to_end_contract` — срок до окончания текущего действующего абонемента (в месяцах);\n",
    "       * `Group_visits` — факт посещения групповых занятий;\n",
    "       * `Avg_class_frequency_total` — средняя частота посещений в неделю за все время с начала действия абонемента;\n",
    "       * `Avg_class_frequency_current_month` — средняя частота посещений в неделю за предыдущий месяц;\n",
    "       * `Avg_additional_charges_total` — суммарная выручка от других услуг фитнес-центра: кафе, спорттовары, косметический и массажный салон.\n",
    "   * `Churn` — факт оттока в текущем месяце."
   ]
  },
  {
   "cell_type": "markdown",
   "metadata": {},
   "source": [
    "## Исследовательский анализ данных (EDA)"
   ]
  },
  {
   "cell_type": "markdown",
   "metadata": {},
   "source": [
    "### Обработка пропусков"
   ]
  },
  {
   "cell_type": "code",
   "execution_count": 7,
   "metadata": {},
   "outputs": [
    {
     "data": {
      "text/plain": [
       "gender                               0\n",
       "near_location                        0\n",
       "partner                              0\n",
       "promo_friends                        0\n",
       "phone                                0\n",
       "contract_period                      0\n",
       "group_visits                         0\n",
       "age                                  0\n",
       "avg_additional_charges_total         0\n",
       "month_to_end_contract                0\n",
       "lifetime                             0\n",
       "avg_class_frequency_total            0\n",
       "avg_class_frequency_current_month    0\n",
       "churn                                0\n",
       "dtype: int64"
      ]
     },
     "execution_count": 7,
     "metadata": {},
     "output_type": "execute_result"
    }
   ],
   "source": [
    "# подсчёт пропусков\n",
    "data.isna().sum()"
   ]
  },
  {
   "cell_type": "markdown",
   "metadata": {},
   "source": [
    "### Обработка дубликатов"
   ]
  },
  {
   "cell_type": "code",
   "execution_count": 8,
   "metadata": {},
   "outputs": [
    {
     "data": {
      "text/plain": [
       "0"
      ]
     },
     "execution_count": 8,
     "metadata": {},
     "output_type": "execute_result"
    }
   ],
   "source": [
    "# подсчёт явных дубликатов\n",
    "data.duplicated().sum()"
   ]
  },
  {
   "cell_type": "markdown",
   "metadata": {},
   "source": [
    "### Анализ средних значений и стандартных отклонений"
   ]
  },
  {
   "cell_type": "code",
   "execution_count": 9,
   "metadata": {},
   "outputs": [
    {
     "data": {
      "text/html": [
       "<div>\n",
       "<style scoped>\n",
       "    .dataframe tbody tr th:only-of-type {\n",
       "        vertical-align: middle;\n",
       "    }\n",
       "\n",
       "    .dataframe tbody tr th {\n",
       "        vertical-align: top;\n",
       "    }\n",
       "\n",
       "    .dataframe thead th {\n",
       "        text-align: right;\n",
       "    }\n",
       "</style>\n",
       "<table border=\"1\" class=\"dataframe\">\n",
       "  <thead>\n",
       "    <tr style=\"text-align: right;\">\n",
       "      <th></th>\n",
       "      <th>count</th>\n",
       "      <th>mean</th>\n",
       "      <th>std</th>\n",
       "      <th>min</th>\n",
       "      <th>25%</th>\n",
       "      <th>50%</th>\n",
       "      <th>75%</th>\n",
       "      <th>max</th>\n",
       "    </tr>\n",
       "  </thead>\n",
       "  <tbody>\n",
       "    <tr>\n",
       "      <th>gender</th>\n",
       "      <td>4000.0</td>\n",
       "      <td>0.510250</td>\n",
       "      <td>0.499957</td>\n",
       "      <td>0.000000</td>\n",
       "      <td>0.000000</td>\n",
       "      <td>1.000000</td>\n",
       "      <td>1.000000</td>\n",
       "      <td>1.000000</td>\n",
       "    </tr>\n",
       "    <tr>\n",
       "      <th>near_location</th>\n",
       "      <td>4000.0</td>\n",
       "      <td>0.845250</td>\n",
       "      <td>0.361711</td>\n",
       "      <td>0.000000</td>\n",
       "      <td>1.000000</td>\n",
       "      <td>1.000000</td>\n",
       "      <td>1.000000</td>\n",
       "      <td>1.000000</td>\n",
       "    </tr>\n",
       "    <tr>\n",
       "      <th>partner</th>\n",
       "      <td>4000.0</td>\n",
       "      <td>0.486750</td>\n",
       "      <td>0.499887</td>\n",
       "      <td>0.000000</td>\n",
       "      <td>0.000000</td>\n",
       "      <td>0.000000</td>\n",
       "      <td>1.000000</td>\n",
       "      <td>1.000000</td>\n",
       "    </tr>\n",
       "    <tr>\n",
       "      <th>promo_friends</th>\n",
       "      <td>4000.0</td>\n",
       "      <td>0.308500</td>\n",
       "      <td>0.461932</td>\n",
       "      <td>0.000000</td>\n",
       "      <td>0.000000</td>\n",
       "      <td>0.000000</td>\n",
       "      <td>1.000000</td>\n",
       "      <td>1.000000</td>\n",
       "    </tr>\n",
       "    <tr>\n",
       "      <th>phone</th>\n",
       "      <td>4000.0</td>\n",
       "      <td>0.903500</td>\n",
       "      <td>0.295313</td>\n",
       "      <td>0.000000</td>\n",
       "      <td>1.000000</td>\n",
       "      <td>1.000000</td>\n",
       "      <td>1.000000</td>\n",
       "      <td>1.000000</td>\n",
       "    </tr>\n",
       "    <tr>\n",
       "      <th>contract_period</th>\n",
       "      <td>4000.0</td>\n",
       "      <td>4.681250</td>\n",
       "      <td>4.549706</td>\n",
       "      <td>1.000000</td>\n",
       "      <td>1.000000</td>\n",
       "      <td>1.000000</td>\n",
       "      <td>6.000000</td>\n",
       "      <td>12.000000</td>\n",
       "    </tr>\n",
       "    <tr>\n",
       "      <th>group_visits</th>\n",
       "      <td>4000.0</td>\n",
       "      <td>0.412250</td>\n",
       "      <td>0.492301</td>\n",
       "      <td>0.000000</td>\n",
       "      <td>0.000000</td>\n",
       "      <td>0.000000</td>\n",
       "      <td>1.000000</td>\n",
       "      <td>1.000000</td>\n",
       "    </tr>\n",
       "    <tr>\n",
       "      <th>age</th>\n",
       "      <td>4000.0</td>\n",
       "      <td>29.184250</td>\n",
       "      <td>3.258367</td>\n",
       "      <td>18.000000</td>\n",
       "      <td>27.000000</td>\n",
       "      <td>29.000000</td>\n",
       "      <td>31.000000</td>\n",
       "      <td>41.000000</td>\n",
       "    </tr>\n",
       "    <tr>\n",
       "      <th>avg_additional_charges_total</th>\n",
       "      <td>4000.0</td>\n",
       "      <td>146.943728</td>\n",
       "      <td>96.355602</td>\n",
       "      <td>0.148205</td>\n",
       "      <td>68.868830</td>\n",
       "      <td>136.220159</td>\n",
       "      <td>210.949625</td>\n",
       "      <td>552.590740</td>\n",
       "    </tr>\n",
       "    <tr>\n",
       "      <th>month_to_end_contract</th>\n",
       "      <td>4000.0</td>\n",
       "      <td>4.322750</td>\n",
       "      <td>4.191297</td>\n",
       "      <td>1.000000</td>\n",
       "      <td>1.000000</td>\n",
       "      <td>1.000000</td>\n",
       "      <td>6.000000</td>\n",
       "      <td>12.000000</td>\n",
       "    </tr>\n",
       "    <tr>\n",
       "      <th>lifetime</th>\n",
       "      <td>4000.0</td>\n",
       "      <td>3.724750</td>\n",
       "      <td>3.749267</td>\n",
       "      <td>0.000000</td>\n",
       "      <td>1.000000</td>\n",
       "      <td>3.000000</td>\n",
       "      <td>5.000000</td>\n",
       "      <td>31.000000</td>\n",
       "    </tr>\n",
       "    <tr>\n",
       "      <th>avg_class_frequency_total</th>\n",
       "      <td>4000.0</td>\n",
       "      <td>1.879020</td>\n",
       "      <td>0.972245</td>\n",
       "      <td>0.000000</td>\n",
       "      <td>1.180875</td>\n",
       "      <td>1.832768</td>\n",
       "      <td>2.536078</td>\n",
       "      <td>6.023668</td>\n",
       "    </tr>\n",
       "    <tr>\n",
       "      <th>avg_class_frequency_current_month</th>\n",
       "      <td>4000.0</td>\n",
       "      <td>1.767052</td>\n",
       "      <td>1.052906</td>\n",
       "      <td>0.000000</td>\n",
       "      <td>0.963003</td>\n",
       "      <td>1.719574</td>\n",
       "      <td>2.510336</td>\n",
       "      <td>6.146783</td>\n",
       "    </tr>\n",
       "    <tr>\n",
       "      <th>churn</th>\n",
       "      <td>4000.0</td>\n",
       "      <td>0.265250</td>\n",
       "      <td>0.441521</td>\n",
       "      <td>0.000000</td>\n",
       "      <td>0.000000</td>\n",
       "      <td>0.000000</td>\n",
       "      <td>1.000000</td>\n",
       "      <td>1.000000</td>\n",
       "    </tr>\n",
       "  </tbody>\n",
       "</table>\n",
       "</div>"
      ],
      "text/plain": [
       "                                    count        mean        std        min  \\\n",
       "gender                             4000.0    0.510250   0.499957   0.000000   \n",
       "near_location                      4000.0    0.845250   0.361711   0.000000   \n",
       "partner                            4000.0    0.486750   0.499887   0.000000   \n",
       "promo_friends                      4000.0    0.308500   0.461932   0.000000   \n",
       "phone                              4000.0    0.903500   0.295313   0.000000   \n",
       "contract_period                    4000.0    4.681250   4.549706   1.000000   \n",
       "group_visits                       4000.0    0.412250   0.492301   0.000000   \n",
       "age                                4000.0   29.184250   3.258367  18.000000   \n",
       "avg_additional_charges_total       4000.0  146.943728  96.355602   0.148205   \n",
       "month_to_end_contract              4000.0    4.322750   4.191297   1.000000   \n",
       "lifetime                           4000.0    3.724750   3.749267   0.000000   \n",
       "avg_class_frequency_total          4000.0    1.879020   0.972245   0.000000   \n",
       "avg_class_frequency_current_month  4000.0    1.767052   1.052906   0.000000   \n",
       "churn                              4000.0    0.265250   0.441521   0.000000   \n",
       "\n",
       "                                         25%         50%         75%  \\\n",
       "gender                              0.000000    1.000000    1.000000   \n",
       "near_location                       1.000000    1.000000    1.000000   \n",
       "partner                             0.000000    0.000000    1.000000   \n",
       "promo_friends                       0.000000    0.000000    1.000000   \n",
       "phone                               1.000000    1.000000    1.000000   \n",
       "contract_period                     1.000000    1.000000    6.000000   \n",
       "group_visits                        0.000000    0.000000    1.000000   \n",
       "age                                27.000000   29.000000   31.000000   \n",
       "avg_additional_charges_total       68.868830  136.220159  210.949625   \n",
       "month_to_end_contract               1.000000    1.000000    6.000000   \n",
       "lifetime                            1.000000    3.000000    5.000000   \n",
       "avg_class_frequency_total           1.180875    1.832768    2.536078   \n",
       "avg_class_frequency_current_month   0.963003    1.719574    2.510336   \n",
       "churn                               0.000000    0.000000    1.000000   \n",
       "\n",
       "                                          max  \n",
       "gender                               1.000000  \n",
       "near_location                        1.000000  \n",
       "partner                              1.000000  \n",
       "promo_friends                        1.000000  \n",
       "phone                                1.000000  \n",
       "contract_period                     12.000000  \n",
       "group_visits                         1.000000  \n",
       "age                                 41.000000  \n",
       "avg_additional_charges_total       552.590740  \n",
       "month_to_end_contract               12.000000  \n",
       "lifetime                            31.000000  \n",
       "avg_class_frequency_total            6.023668  \n",
       "avg_class_frequency_current_month    6.146783  \n",
       "churn                                1.000000  "
      ]
     },
     "execution_count": 9,
     "metadata": {},
     "output_type": "execute_result"
    }
   ],
   "source": [
    "# получение общей информации о данных в таблице data\n",
    "data.describe().T"
   ]
  },
  {
   "cell_type": "code",
   "execution_count": 10,
   "metadata": {},
   "outputs": [
    {
     "data": {
      "text/html": [
       "<div>\n",
       "<style scoped>\n",
       "    .dataframe tbody tr th:only-of-type {\n",
       "        vertical-align: middle;\n",
       "    }\n",
       "\n",
       "    .dataframe tbody tr th {\n",
       "        vertical-align: top;\n",
       "    }\n",
       "\n",
       "    .dataframe thead th {\n",
       "        text-align: right;\n",
       "    }\n",
       "</style>\n",
       "<table border=\"1\" class=\"dataframe\">\n",
       "  <thead>\n",
       "    <tr style=\"text-align: right;\">\n",
       "      <th>churn</th>\n",
       "      <th>0</th>\n",
       "      <th>1</th>\n",
       "    </tr>\n",
       "  </thead>\n",
       "  <tbody>\n",
       "    <tr>\n",
       "      <th>gender</th>\n",
       "      <td>0.510037</td>\n",
       "      <td>0.510839</td>\n",
       "    </tr>\n",
       "    <tr>\n",
       "      <th>near_location</th>\n",
       "      <td>0.873086</td>\n",
       "      <td>0.768143</td>\n",
       "    </tr>\n",
       "    <tr>\n",
       "      <th>partner</th>\n",
       "      <td>0.534195</td>\n",
       "      <td>0.355325</td>\n",
       "    </tr>\n",
       "    <tr>\n",
       "      <th>promo_friends</th>\n",
       "      <td>0.353522</td>\n",
       "      <td>0.183789</td>\n",
       "    </tr>\n",
       "    <tr>\n",
       "      <th>phone</th>\n",
       "      <td>0.903709</td>\n",
       "      <td>0.902922</td>\n",
       "    </tr>\n",
       "    <tr>\n",
       "      <th>contract_period</th>\n",
       "      <td>5.747193</td>\n",
       "      <td>1.728558</td>\n",
       "    </tr>\n",
       "    <tr>\n",
       "      <th>group_visits</th>\n",
       "      <td>0.464103</td>\n",
       "      <td>0.268615</td>\n",
       "    </tr>\n",
       "    <tr>\n",
       "      <th>age</th>\n",
       "      <td>29.976523</td>\n",
       "      <td>26.989632</td>\n",
       "    </tr>\n",
       "    <tr>\n",
       "      <th>avg_additional_charges_total</th>\n",
       "      <td>158.445715</td>\n",
       "      <td>115.082899</td>\n",
       "    </tr>\n",
       "    <tr>\n",
       "      <th>month_to_end_contract</th>\n",
       "      <td>5.283089</td>\n",
       "      <td>1.662582</td>\n",
       "    </tr>\n",
       "    <tr>\n",
       "      <th>lifetime</th>\n",
       "      <td>4.711807</td>\n",
       "      <td>0.990575</td>\n",
       "    </tr>\n",
       "    <tr>\n",
       "      <th>avg_class_frequency_total</th>\n",
       "      <td>2.024876</td>\n",
       "      <td>1.474995</td>\n",
       "    </tr>\n",
       "    <tr>\n",
       "      <th>avg_class_frequency_current_month</th>\n",
       "      <td>2.027882</td>\n",
       "      <td>1.044546</td>\n",
       "    </tr>\n",
       "  </tbody>\n",
       "</table>\n",
       "</div>"
      ],
      "text/plain": [
       "churn                                       0           1\n",
       "gender                               0.510037    0.510839\n",
       "near_location                        0.873086    0.768143\n",
       "partner                              0.534195    0.355325\n",
       "promo_friends                        0.353522    0.183789\n",
       "phone                                0.903709    0.902922\n",
       "contract_period                      5.747193    1.728558\n",
       "group_visits                         0.464103    0.268615\n",
       "age                                 29.976523   26.989632\n",
       "avg_additional_charges_total       158.445715  115.082899\n",
       "month_to_end_contract                5.283089    1.662582\n",
       "lifetime                             4.711807    0.990575\n",
       "avg_class_frequency_total            2.024876    1.474995\n",
       "avg_class_frequency_current_month    2.027882    1.044546"
      ]
     },
     "execution_count": 10,
     "metadata": {},
     "output_type": "execute_result"
    }
   ],
   "source": [
    "data.groupby('churn').mean().T"
   ]
  },
  {
   "cell_type": "markdown",
   "metadata": {},
   "source": [
    "### Анализ распределений признаков"
   ]
  },
  {
   "cell_type": "code",
   "execution_count": 11,
   "metadata": {},
   "outputs": [
    {
     "data": {
      "image/png": "[encoded data removed]",
      "text/plain": [
       "<Figure size 1080x1440 with 12 Axes>"
      ]
     },
     "metadata": {
      "needs_background": "light"
     },
     "output_type": "display_data"
    }
   ],
   "source": [
    "# построение столбчатых гистограмм и распределений признаков для тех, кто ушёл(отток) и тех, кто остался(не попали в отток)\n",
    "research = ['gender', 'near_location', 'partner', 'promo_friends', 'phone',  'contract_period', 'group_visits', 'age', \n",
    "            'avg_additional_charges_total', 'lifetime', 'avg_class_frequency_total', 'avg_class_frequency_current_month' ]\n",
    "col_count, row_count = 2,6\n",
    "plt.figure(figsize = (15,20))\n",
    "for i, j in enumerate(research):\n",
    "    for churn in data['churn'].unique():\n",
    "        current = data.query('churn == @churn')\n",
    "        sns.distplot(current[j], ax = plt.subplot(row_count, col_count, i+1))\n",
    "    plt.title(j)\n",
    "    plt.legend(data['churn'].unique())\n",
    "    \n",
    "plt.suptitle('Распределение параметров по оттоку')\n",
    "\n",
    "plt.tight_layout()     "
   ]
  },
  {
   "cell_type": "markdown",
   "metadata": {},
   "source": [
    "### Матрица корреляций"
   ]
  },
  {
   "cell_type": "code",
   "execution_count": 12,
   "metadata": {},
   "outputs": [
    {
     "data": {
      "text/plain": [
       "<AxesSubplot:>"
      ]
     },
     "execution_count": 12,
     "metadata": {},
     "output_type": "execute_result"
    },
    {
     "data": {
      "image/png": "[encoded data removed]",
      "text/plain": [
       "<Figure size 1080x432 with 2 Axes>"
      ]
     },
     "metadata": {
      "needs_background": "light"
     },
     "output_type": "display_data"
    }
   ],
   "source": [
    "# построение матрицы корреляций\n",
    "#data_corr = data.corr()\n",
    "plt.figure(figsize = (15,6))\n",
    "sns.heatmap(data.corr(), annot=True, fmt = '.2g')"
   ]
  },
  {
   "cell_type": "markdown",
   "metadata": {},
   "source": [
    "Следюущие признаки сильно коррелируют:\n",
    "* `avg_class_frequency_current_month` — средняя частота посещений в неделю за предыдущий месяц и `avg_class_frequency_total`— средняя частота посещений в неделю за все время с начала действия абонемента,\n",
    "* `contract_period` — длительность текущего действующего абонемента (месяц, 6 месяцев, год) и `month_to_end_contract` — срок до окончания текущего действующего абонемента (в месяцах).\n",
    "\n",
    "Оставим признаки `avg_class_frequency_total` и `contract_period`"
   ]
  },
  {
   "cell_type": "code",
   "execution_count": 13,
   "metadata": {},
   "outputs": [],
   "source": [
    "#удаление признаков, которые сильно коррелируют\n",
    "data_filter = data.drop(['avg_class_frequency_total', 'month_to_end_contract'], axis=1)"
   ]
  },
  {
   "cell_type": "code",
   "execution_count": 14,
   "metadata": {},
   "outputs": [
    {
     "data": {
      "text/plain": [
       "<AxesSubplot:>"
      ]
     },
     "execution_count": 14,
     "metadata": {},
     "output_type": "execute_result"
    },
    {
     "data": {
      "image/png": "[encoded data removed]",
      "text/plain": [
       "<Figure size 1080x432 with 2 Axes>"
      ]
     },
     "metadata": {
      "needs_background": "light"
     },
     "output_type": "display_data"
    }
   ],
   "source": [
    "plt.figure(figsize = (15,6))\n",
    "sns.heatmap(data_filter.corr(), annot=True, fmt = '.2g')"
   ]
  },
  {
   "cell_type": "markdown",
   "metadata": {},
   "source": [
    "### Выводы\n",
    "\n",
    "В рамках данного этапа были проведены проверки на пропуски и явные дубликаты, пропуски и дубликаты отсутствуют.\n",
    "\n",
    "В рассматриваемых данных выявлена следующая информация:\n",
    "* Доля мужчин и женщин равно, \n",
    "* 85% клиентов живет рядом с фитнес-центром или работает,\n",
    "* Примерно половина клиентов являются сотрудниками компаний-партнёра клуба, \n",
    "* Около 30% клиентов пришли по акции \"Приведи друга\",\n",
    "* Известны мобильные номера примерно 90% клиентов,\n",
    "* Средняя длительность текущего действующего абонемента - 4.6 месяцев,\n",
    "* Около 40% клиентов посещают групповые занятия,\n",
    "* Средний возраст клиентов 29 лет,\n",
    "* Средняя суммарная выручка от других услуг фитнес-центра - 146\n",
    "* Средний срок до окончания текущего действующего абонемента - 4.3 месяцев\n",
    "* Среднее время с момента первого обращения в фитнес-центр - 3.7 месяцев\n",
    "* Средняя частота посещений за все время - 1.87 раз в неделю\n",
    "* Средняя частота посещений за последний месяц - 1.76 раз в неделю\n",
    "* Доля оттока - 27%\n",
    "\n",
    "Если рассматривать данную информацию в разрезе ушедших и оставшхся клиентов:\n",
    "* ПОл не влияет на уход клиента, \n",
    "* Реже уходят клиенты, которые живут рядом с фитнес-центром или работают,\n",
    "* Реже уходят клиенты, которые являются сотрудниками компаний-партнёра клуба, \n",
    "* В 2 раза реже уходят клиенты, которые пришли по акции \"Приведи друга\",\n",
    "* Наличие мобильного телефона не влияет на уход клиента,\n",
    "* Средняя длительность текущего действующего абонемента у тех, кто остается больше, что логично. Уходят те, у которых абонемент около месяца,\n",
    "* Оставшиеся клиенты больше посещали групповые занятия,\n",
    "* Средний возраст оставшихся клиентов 29 лет, у ушедших - 26,\n",
    "* Средняя суммарная выручка от других услуг фитнес-центра - 158 у оставшихся и 115 - у ушедших,\n",
    "* Средний срок до окончания текущего действующего абонемента - 5.2 месяцев, у ушедших около месяца,\n",
    "* Среднее время с момента первого обращения в фитнес-центр у ушедших около месяца,\n",
    "* Средняя частота посещений за все время в почти 2 раза меньше у ушедших,\n",
    "* Средняя частота посещений за последний месяц в 2 раза меньше у ушедших.\n",
    "\n",
    "Матрица корреляций показала, что следюущие признаки сильно коррелируют:\n",
    "* `avg_class_frequency_current_month` — средняя частота посещений в неделю за предыдущий месяц и `avg_class_frequency_total`— средняя частота посещений в неделю за все время с начала действия абонемента,\n",
    "* `contract_period` — длительность текущего действующего абонемента (месяц, 6 месяцев, год) и `month_to_end_contract` — срок до окончания текущего действующего абонемента (в месяцах).\n",
    "\n",
    "Оставили признаки `avg_class_frequency_total` и `contract_period` и исключили `avg_class_frequency_current_month` и `month_to_end_contract`."
   ]
  },
  {
   "cell_type": "markdown",
   "metadata": {},
   "source": [
    "## Построение модели прогнозирования оттока клиентов"
   ]
  },
  {
   "cell_type": "code",
   "execution_count": 15,
   "metadata": {},
   "outputs": [],
   "source": [
    "# определение функции, которая будет выводить наши метрики\n",
    "def print_all_metrics(y_true, y_pred, y_proba, title='Метрики классификации'):\n",
    "    print(title)\n",
    "    print('\\tAccuracy: {:.2f}'.format(accuracy_score(y_true, y_pred)))\n",
    "    print('\\tPrecision: {:.2f}'.format(precision_score(y_true, y_pred)))\n",
    "    print('\\tRecall: {:.2f}'.format(recall_score(y_true, y_pred)))"
   ]
  },
  {
   "cell_type": "code",
   "execution_count": 16,
   "metadata": {},
   "outputs": [
    {
     "data": {
      "text/plain": [
       "0    2939\n",
       "1    1061\n",
       "Name: churn, dtype: int64"
      ]
     },
     "execution_count": 16,
     "metadata": {},
     "output_type": "execute_result"
    }
   ],
   "source": [
    "# соотносение классов для набора данных\n",
    "data_filter['churn'].value_counts()"
   ]
  },
  {
   "cell_type": "markdown",
   "metadata": {},
   "source": [
    "### Выделение обучающей и валидационной выборок"
   ]
  },
  {
   "cell_type": "code",
   "execution_count": 17,
   "metadata": {},
   "outputs": [],
   "source": [
    "# разделиение данных на признаки (матрица X) и целевую переменную (y)\n",
    "X = data_filter.drop('churn', axis=1)\n",
    "y = data_filter['churn']"
   ]
  },
  {
   "cell_type": "code",
   "execution_count": 18,
   "metadata": {},
   "outputs": [],
   "source": [
    "# разделяение модели на обучающую и валидационную выборку\n",
    "X_train, X_test, y_train, y_test = train_test_split(\n",
    "    X, y, test_size=0.2, random_state=0, stratify=y\n",
    ")"
   ]
  },
  {
   "cell_type": "markdown",
   "metadata": {},
   "source": [
    "### Стандартизация данных"
   ]
  },
  {
   "cell_type": "code",
   "execution_count": 19,
   "metadata": {},
   "outputs": [
    {
     "data": {
      "text/plain": [
       "StandardScaler()"
      ]
     },
     "execution_count": 19,
     "metadata": {},
     "output_type": "execute_result"
    }
   ],
   "source": [
    "# обучение StandartScaler на обучающей выборке\n",
    "scaler = StandardScaler()\n",
    "scaler.fit(X_train)"
   ]
  },
  {
   "cell_type": "code",
   "execution_count": 20,
   "metadata": {},
   "outputs": [],
   "source": [
    "# преобразование обучающих и валидационных данных\n",
    "X_train_st = scaler.transform(X_train)\n",
    "X_test_st = scaler.transform(X_test)"
   ]
  },
  {
   "cell_type": "markdown",
   "metadata": {},
   "source": [
    "### Модель логистической регрессии"
   ]
  },
  {
   "cell_type": "code",
   "execution_count": 21,
   "metadata": {},
   "outputs": [],
   "source": [
    "# задание алгоритма для модели логистической регрессии\n",
    "lr_model = LogisticRegression(random_state=0)"
   ]
  },
  {
   "cell_type": "code",
   "execution_count": 22,
   "metadata": {},
   "outputs": [
    {
     "data": {
      "text/plain": [
       "LogisticRegression(random_state=0)"
      ]
     },
     "execution_count": 22,
     "metadata": {},
     "output_type": "execute_result"
    }
   ],
   "source": [
    "# обучение модели\n",
    "lr_model.fit(X_train_st, y_train)"
   ]
  },
  {
   "cell_type": "code",
   "execution_count": 23,
   "metadata": {},
   "outputs": [],
   "source": [
    "# применение обученной модели для прогнозирования\n",
    "lr_predictions = lr_model.predict(X_test_st)\n",
    "lr_probabilities = lr_model.predict_proba(X_test_st)[:, 1]"
   ]
  },
  {
   "cell_type": "markdown",
   "metadata": {},
   "source": [
    "### Модель случайного леса"
   ]
  },
  {
   "cell_type": "code",
   "execution_count": 24,
   "metadata": {},
   "outputs": [],
   "source": [
    "# задание алгоритма для модели на основе алгоритма случайного леса\n",
    "rf_model = RandomForestClassifier(random_state = 0)"
   ]
  },
  {
   "cell_type": "code",
   "execution_count": 25,
   "metadata": {},
   "outputs": [
    {
     "data": {
      "text/plain": [
       "RandomForestClassifier(random_state=0)"
      ]
     },
     "execution_count": 25,
     "metadata": {},
     "output_type": "execute_result"
    }
   ],
   "source": [
    "# обучение модели случайного леса\n",
    "rf_model.fit(X_train_st, y_train)"
   ]
  },
  {
   "cell_type": "code",
   "execution_count": 26,
   "metadata": {},
   "outputs": [],
   "source": [
    "# применение обученной модели для прогнозирования\n",
    "rf_predictions = rf_model.predict(X_test_st)\n",
    "rf_probabilities = rf_model.predict_proba(X_test_st)[:, 1]"
   ]
  },
  {
   "cell_type": "markdown",
   "metadata": {},
   "source": [
    "### Сравнение метрик моделей"
   ]
  },
  {
   "cell_type": "code",
   "execution_count": 27,
   "metadata": {},
   "outputs": [
    {
     "name": "stdout",
     "output_type": "stream",
     "text": [
      "Метрики для модели логистической регрессии:\n",
      "\tAccuracy: 0.92\n",
      "\tPrecision: 0.85\n",
      "\tRecall: 0.84\n"
     ]
    }
   ],
   "source": [
    "# вывод метрик\n",
    "print_all_metrics(\n",
    "    y_test,\n",
    "    lr_predictions,\n",
    "    lr_probabilities,\n",
    "    title='Метрики для модели логистической регрессии:',\n",
    ")\n"
   ]
  },
  {
   "cell_type": "code",
   "execution_count": 28,
   "metadata": {},
   "outputs": [
    {
     "name": "stdout",
     "output_type": "stream",
     "text": [
      "Метрики для модели случайного леса:\n",
      "\tAccuracy: 0.91\n",
      "\tPrecision: 0.85\n",
      "\tRecall: 0.77\n"
     ]
    }
   ],
   "source": [
    "# вывод метрик\n",
    "print_all_metrics(\n",
    "    y_test,\n",
    "    rf_predictions,\n",
    "    rf_probabilities, \n",
    "    title='Метрики для модели случайного леса:'\n",
    ")"
   ]
  },
  {
   "cell_type": "code",
   "execution_count": 29,
   "metadata": {},
   "outputs": [
    {
     "data": {
      "text/html": [
       "<div>\n",
       "<style scoped>\n",
       "    .dataframe tbody tr th:only-of-type {\n",
       "        vertical-align: middle;\n",
       "    }\n",
       "\n",
       "    .dataframe tbody tr th {\n",
       "        vertical-align: top;\n",
       "    }\n",
       "\n",
       "    .dataframe thead th {\n",
       "        text-align: right;\n",
       "    }\n",
       "</style>\n",
       "<table border=\"1\" class=\"dataframe\">\n",
       "  <thead>\n",
       "    <tr style=\"text-align: right;\">\n",
       "      <th></th>\n",
       "      <th>feature</th>\n",
       "      <th>coef</th>\n",
       "    </tr>\n",
       "  </thead>\n",
       "  <tbody>\n",
       "    <tr>\n",
       "      <th>9</th>\n",
       "      <td>lifetime</td>\n",
       "      <td>3.649607</td>\n",
       "    </tr>\n",
       "    <tr>\n",
       "      <th>5</th>\n",
       "      <td>contract_period</td>\n",
       "      <td>1.406058</td>\n",
       "    </tr>\n",
       "    <tr>\n",
       "      <th>10</th>\n",
       "      <td>avg_class_frequency_current_month</td>\n",
       "      <td>1.294443</td>\n",
       "    </tr>\n",
       "    <tr>\n",
       "      <th>7</th>\n",
       "      <td>age</td>\n",
       "      <td>1.172619</td>\n",
       "    </tr>\n",
       "    <tr>\n",
       "      <th>8</th>\n",
       "      <td>avg_additional_charges_total</td>\n",
       "      <td>0.571324</td>\n",
       "    </tr>\n",
       "    <tr>\n",
       "      <th>6</th>\n",
       "      <td>group_visits</td>\n",
       "      <td>0.383113</td>\n",
       "    </tr>\n",
       "    <tr>\n",
       "      <th>3</th>\n",
       "      <td>promo_friends</td>\n",
       "      <td>0.153522</td>\n",
       "    </tr>\n",
       "    <tr>\n",
       "      <th>4</th>\n",
       "      <td>phone</td>\n",
       "      <td>0.076802</td>\n",
       "    </tr>\n",
       "    <tr>\n",
       "      <th>1</th>\n",
       "      <td>near_location</td>\n",
       "      <td>0.063778</td>\n",
       "    </tr>\n",
       "    <tr>\n",
       "      <th>2</th>\n",
       "      <td>partner</td>\n",
       "      <td>0.057374</td>\n",
       "    </tr>\n",
       "    <tr>\n",
       "      <th>0</th>\n",
       "      <td>gender</td>\n",
       "      <td>0.024703</td>\n",
       "    </tr>\n",
       "  </tbody>\n",
       "</table>\n",
       "</div>"
      ],
      "text/plain": [
       "                              feature      coef\n",
       "9                            lifetime  3.649607\n",
       "5                     contract_period  1.406058\n",
       "10  avg_class_frequency_current_month  1.294443\n",
       "7                                 age  1.172619\n",
       "8        avg_additional_charges_total  0.571324\n",
       "6                        group_visits  0.383113\n",
       "3                       promo_friends  0.153522\n",
       "4                               phone  0.076802\n",
       "1                       near_location  0.063778\n",
       "2                             partner  0.057374\n",
       "0                              gender  0.024703"
      ]
     },
     "execution_count": 29,
     "metadata": {},
     "output_type": "execute_result"
    }
   ],
   "source": [
    "# вывод кэффициентов признаков модели логистической регрессии\n",
    "features_lr = pd.DataFrame(lr_model.coef_.T, X.columns).reset_index()\n",
    "features_lr.columns = ['feature', 'coef']\n",
    "features_lr['coef'] = features_lr['coef'].apply(lambda x: abs(x))\n",
    "features_lr = features_lr.sort_values(by='coef', ascending=False)\n",
    "features_lr"
   ]
  },
  {
   "cell_type": "code",
   "execution_count": 30,
   "metadata": {},
   "outputs": [
    {
     "data": {
      "text/html": [
       "<div>\n",
       "<style scoped>\n",
       "    .dataframe tbody tr th:only-of-type {\n",
       "        vertical-align: middle;\n",
       "    }\n",
       "\n",
       "    .dataframe tbody tr th {\n",
       "        vertical-align: top;\n",
       "    }\n",
       "\n",
       "    .dataframe thead th {\n",
       "        text-align: right;\n",
       "    }\n",
       "</style>\n",
       "<table border=\"1\" class=\"dataframe\">\n",
       "  <thead>\n",
       "    <tr style=\"text-align: right;\">\n",
       "      <th></th>\n",
       "      <th>feature</th>\n",
       "      <th>importances</th>\n",
       "    </tr>\n",
       "  </thead>\n",
       "  <tbody>\n",
       "    <tr>\n",
       "      <th>9</th>\n",
       "      <td>lifetime</td>\n",
       "      <td>0.317762</td>\n",
       "    </tr>\n",
       "    <tr>\n",
       "      <th>10</th>\n",
       "      <td>avg_class_frequency_current_month</td>\n",
       "      <td>0.215782</td>\n",
       "    </tr>\n",
       "    <tr>\n",
       "      <th>7</th>\n",
       "      <td>age</td>\n",
       "      <td>0.144186</td>\n",
       "    </tr>\n",
       "    <tr>\n",
       "      <th>8</th>\n",
       "      <td>avg_additional_charges_total</td>\n",
       "      <td>0.122384</td>\n",
       "    </tr>\n",
       "    <tr>\n",
       "      <th>5</th>\n",
       "      <td>contract_period</td>\n",
       "      <td>0.110377</td>\n",
       "    </tr>\n",
       "    <tr>\n",
       "      <th>6</th>\n",
       "      <td>group_visits</td>\n",
       "      <td>0.020768</td>\n",
       "    </tr>\n",
       "    <tr>\n",
       "      <th>2</th>\n",
       "      <td>partner</td>\n",
       "      <td>0.016854</td>\n",
       "    </tr>\n",
       "    <tr>\n",
       "      <th>0</th>\n",
       "      <td>gender</td>\n",
       "      <td>0.016574</td>\n",
       "    </tr>\n",
       "    <tr>\n",
       "      <th>3</th>\n",
       "      <td>promo_friends</td>\n",
       "      <td>0.013606</td>\n",
       "    </tr>\n",
       "    <tr>\n",
       "      <th>1</th>\n",
       "      <td>near_location</td>\n",
       "      <td>0.013045</td>\n",
       "    </tr>\n",
       "    <tr>\n",
       "      <th>4</th>\n",
       "      <td>phone</td>\n",
       "      <td>0.008662</td>\n",
       "    </tr>\n",
       "  </tbody>\n",
       "</table>\n",
       "</div>"
      ],
      "text/plain": [
       "                              feature  importances\n",
       "9                            lifetime     0.317762\n",
       "10  avg_class_frequency_current_month     0.215782\n",
       "7                                 age     0.144186\n",
       "8        avg_additional_charges_total     0.122384\n",
       "5                     contract_period     0.110377\n",
       "6                        group_visits     0.020768\n",
       "2                             partner     0.016854\n",
       "0                              gender     0.016574\n",
       "3                       promo_friends     0.013606\n",
       "1                       near_location     0.013045\n",
       "4                               phone     0.008662"
      ]
     },
     "execution_count": 30,
     "metadata": {},
     "output_type": "execute_result"
    }
   ],
   "source": [
    "# вывод кэффициентов признаков модели случайного леса\n",
    "features_rf = pd.DataFrame(rf_model.feature_importances_.T, X.columns).reset_index()\n",
    "features_rf.columns = ['feature', 'importances']\n",
    "features_rf['importances'] = features_rf['importances'].apply(lambda x: abs(x))\n",
    "features_rf = features_rf.sort_values(by='importances', ascending=False)\n",
    "features_rf"
   ]
  },
  {
   "cell_type": "markdown",
   "metadata": {},
   "source": [
    "### Выводы\n",
    "\n",
    "В рамках данного этапа были определены признаки и целевая переменная. Данные были разделены на обучающую и тестовую выборки в соотношении 80 на 20 с учетом пропорций ушедших и оставшихсчя клиентов в обучающей и тестовой выборке.\n",
    "\n",
    "Перед обучением данные были стандартизированы на обучающей выборке. После этого были обучены две модели: логистическая регрессия и случайный лес.\n",
    "\n",
    "Были получены следующие метрики:\n",
    "* для модели логистической регрессии:\n",
    "\t* Accuracy (доля правильных ответов): 0.92\n",
    "\t* Precision (точность): 0.85\n",
    "\t* Recall (полнота): 0.84\n",
    "* для модели случайного леса:\n",
    "\t* Accuracy (доля правильных ответов): 0.91\n",
    "\t* Precision (точность): 0.85\n",
    "\t* Recall (полнота): 0.77\n",
    "    \n",
    "Таким образом, обе модели достаточно хорошо способны делать прогноз. Однако, модель логистической регрессии подходит больше по всем показателям."
   ]
  },
  {
   "cell_type": "markdown",
   "metadata": {},
   "source": [
    "## Кластеризация клиентов"
   ]
  },
  {
   "cell_type": "markdown",
   "metadata": {},
   "source": [
    "### Стандартизация данных"
   ]
  },
  {
   "cell_type": "code",
   "execution_count": 31,
   "metadata": {},
   "outputs": [],
   "source": [
    "# стандартизация признаков\n",
    "X_sc = scaler.fit_transform(X)"
   ]
  },
  {
   "cell_type": "markdown",
   "metadata": {},
   "source": [
    "### Дендограмма"
   ]
  },
  {
   "cell_type": "code",
   "execution_count": 32,
   "metadata": {},
   "outputs": [],
   "source": [
    "# построение матрицы расстояний\n",
    "linked = linkage(X_sc, method = 'ward') "
   ]
  },
  {
   "cell_type": "code",
   "execution_count": 33,
   "metadata": {},
   "outputs": [
    {
     "data": {
      "image/png": "[encoded data removed]",
      "text/plain": [
       "<Figure size 1080x720 with 1 Axes>"
      ]
     },
     "metadata": {
      "needs_background": "light"
     },
     "output_type": "display_data"
    }
   ],
   "source": [
    "#построение дендограммы\n",
    "plt.figure(figsize=(15, 10))\n",
    "dendrogram(linked, orientation='top')\n",
    "plt.title('Кластеризация клиентов')\n",
    "plt.show() "
   ]
  },
  {
   "cell_type": "markdown",
   "metadata": {},
   "source": [
    "Предложенное оптимальное число кластеров 4 — четыре разных цветов на графике."
   ]
  },
  {
   "cell_type": "markdown",
   "metadata": {},
   "source": [
    "### Модель кластеризации на основании алгоритма K-Means"
   ]
  },
  {
   "cell_type": "code",
   "execution_count": 34,
   "metadata": {},
   "outputs": [],
   "source": [
    "# задание модели k_means с числом кластеров 5 и фиксируем значение random_state\n",
    "km = KMeans(n_clusters=5, random_state=0)"
   ]
  },
  {
   "cell_type": "code",
   "execution_count": 35,
   "metadata": {},
   "outputs": [],
   "source": [
    "# прогнозирование кластеров для наблюдений\n",
    "labels = km.fit_predict(X_sc)"
   ]
  },
  {
   "cell_type": "code",
   "execution_count": 36,
   "metadata": {},
   "outputs": [],
   "source": [
    "# сохранение метки кластера в поле датасета\n",
    "data_filter['cluster_km'] = labels"
   ]
  },
  {
   "cell_type": "code",
   "execution_count": 37,
   "metadata": {},
   "outputs": [
    {
     "data": {
      "text/html": [
       "<div>\n",
       "<style scoped>\n",
       "    .dataframe tbody tr th:only-of-type {\n",
       "        vertical-align: middle;\n",
       "    }\n",
       "\n",
       "    .dataframe tbody tr th {\n",
       "        vertical-align: top;\n",
       "    }\n",
       "\n",
       "    .dataframe thead th {\n",
       "        text-align: right;\n",
       "    }\n",
       "</style>\n",
       "<table border=\"1\" class=\"dataframe\">\n",
       "  <thead>\n",
       "    <tr style=\"text-align: right;\">\n",
       "      <th>cluster_km</th>\n",
       "      <th>0</th>\n",
       "      <th>1</th>\n",
       "      <th>2</th>\n",
       "      <th>3</th>\n",
       "      <th>4</th>\n",
       "    </tr>\n",
       "  </thead>\n",
       "  <tbody>\n",
       "    <tr>\n",
       "      <th>gender</th>\n",
       "      <td>0.496447</td>\n",
       "      <td>0.500000</td>\n",
       "      <td>0.500940</td>\n",
       "      <td>0.534260</td>\n",
       "      <td>0.523316</td>\n",
       "    </tr>\n",
       "    <tr>\n",
       "      <th>near_location</th>\n",
       "      <td>0.995939</td>\n",
       "      <td>0.000000</td>\n",
       "      <td>1.000000</td>\n",
       "      <td>0.996028</td>\n",
       "      <td>0.862694</td>\n",
       "    </tr>\n",
       "    <tr>\n",
       "      <th>partner</th>\n",
       "      <td>0.892386</td>\n",
       "      <td>0.489247</td>\n",
       "      <td>0.217105</td>\n",
       "      <td>0.379345</td>\n",
       "      <td>0.471503</td>\n",
       "    </tr>\n",
       "    <tr>\n",
       "      <th>promo_friends</th>\n",
       "      <td>1.000000</td>\n",
       "      <td>0.078853</td>\n",
       "      <td>0.072368</td>\n",
       "      <td>0.009930</td>\n",
       "      <td>0.305699</td>\n",
       "    </tr>\n",
       "    <tr>\n",
       "      <th>phone</th>\n",
       "      <td>1.000000</td>\n",
       "      <td>1.000000</td>\n",
       "      <td>1.000000</td>\n",
       "      <td>1.000000</td>\n",
       "      <td>0.000000</td>\n",
       "    </tr>\n",
       "    <tr>\n",
       "      <th>contract_period</th>\n",
       "      <td>6.922843</td>\n",
       "      <td>2.994624</td>\n",
       "      <td>2.010338</td>\n",
       "      <td>6.208540</td>\n",
       "      <td>4.777202</td>\n",
       "    </tr>\n",
       "    <tr>\n",
       "      <th>group_visits</th>\n",
       "      <td>0.524873</td>\n",
       "      <td>0.232975</td>\n",
       "      <td>0.277256</td>\n",
       "      <td>0.538232</td>\n",
       "      <td>0.427461</td>\n",
       "    </tr>\n",
       "    <tr>\n",
       "      <th>age</th>\n",
       "      <td>29.606091</td>\n",
       "      <td>28.679211</td>\n",
       "      <td>27.583647</td>\n",
       "      <td>30.699106</td>\n",
       "      <td>29.297927</td>\n",
       "    </tr>\n",
       "    <tr>\n",
       "      <th>avg_additional_charges_total</th>\n",
       "      <td>153.424651</td>\n",
       "      <td>137.125763</td>\n",
       "      <td>119.339956</td>\n",
       "      <td>176.259567</td>\n",
       "      <td>144.208179</td>\n",
       "    </tr>\n",
       "    <tr>\n",
       "      <th>lifetime</th>\n",
       "      <td>4.283249</td>\n",
       "      <td>2.974910</td>\n",
       "      <td>1.922932</td>\n",
       "      <td>5.415094</td>\n",
       "      <td>3.940415</td>\n",
       "    </tr>\n",
       "    <tr>\n",
       "      <th>avg_class_frequency_current_month</th>\n",
       "      <td>1.919520</td>\n",
       "      <td>1.597146</td>\n",
       "      <td>1.203319</td>\n",
       "      <td>2.324220</td>\n",
       "      <td>1.723967</td>\n",
       "    </tr>\n",
       "    <tr>\n",
       "      <th>churn</th>\n",
       "      <td>0.119797</td>\n",
       "      <td>0.403226</td>\n",
       "      <td>0.563910</td>\n",
       "      <td>0.014896</td>\n",
       "      <td>0.266839</td>\n",
       "    </tr>\n",
       "  </tbody>\n",
       "</table>\n",
       "</div>"
      ],
      "text/plain": [
       "cluster_km                                  0           1           2  \\\n",
       "gender                               0.496447    0.500000    0.500940   \n",
       "near_location                        0.995939    0.000000    1.000000   \n",
       "partner                              0.892386    0.489247    0.217105   \n",
       "promo_friends                        1.000000    0.078853    0.072368   \n",
       "phone                                1.000000    1.000000    1.000000   \n",
       "contract_period                      6.922843    2.994624    2.010338   \n",
       "group_visits                         0.524873    0.232975    0.277256   \n",
       "age                                 29.606091   28.679211   27.583647   \n",
       "avg_additional_charges_total       153.424651  137.125763  119.339956   \n",
       "lifetime                             4.283249    2.974910    1.922932   \n",
       "avg_class_frequency_current_month    1.919520    1.597146    1.203319   \n",
       "churn                                0.119797    0.403226    0.563910   \n",
       "\n",
       "cluster_km                                  3           4  \n",
       "gender                               0.534260    0.523316  \n",
       "near_location                        0.996028    0.862694  \n",
       "partner                              0.379345    0.471503  \n",
       "promo_friends                        0.009930    0.305699  \n",
       "phone                                1.000000    0.000000  \n",
       "contract_period                      6.208540    4.777202  \n",
       "group_visits                         0.538232    0.427461  \n",
       "age                                 30.699106   29.297927  \n",
       "avg_additional_charges_total       176.259567  144.208179  \n",
       "lifetime                             5.415094    3.940415  \n",
       "avg_class_frequency_current_month    2.324220    1.723967  \n",
       "churn                                0.014896    0.266839  "
      ]
     },
     "execution_count": 37,
     "metadata": {},
     "output_type": "execute_result"
    }
   ],
   "source": [
    "# вывод статистики по средним значениям признаков по кластеру\n",
    "clusters = data_filter.groupby(['cluster_km']).mean()\n",
    "clusters.T"
   ]
  },
  {
   "cell_type": "markdown",
   "metadata": {},
   "source": [
    "### Анализ распределений признаков"
   ]
  },
  {
   "cell_type": "code",
   "execution_count": 38,
   "metadata": {},
   "outputs": [
    {
     "data": {
      "image/png": "[encoded data removed]",
      "text/plain": [
       "<Figure size 1080x1800 with 11 Axes>"
      ]
     },
     "metadata": {
      "needs_background": "light"
     },
     "output_type": "display_data"
    }
   ],
   "source": [
    "# построение столбчатых гистограмм и распределений признаков\n",
    "research = ['gender', 'near_location', 'partner', 'promo_friends', 'phone',  'contract_period', 'group_visits', 'age', \n",
    "            'avg_additional_charges_total', 'lifetime', 'avg_class_frequency_current_month' ]\n",
    "col_count, row_count = 2,6\n",
    "plt.figure(figsize = (15,25))\n",
    "for i, j in enumerate(research):\n",
    "    for claster in data_filter['cluster_km'].unique():\n",
    "        current = data_filter.query('cluster_km == @claster')\n",
    "        sns.distplot(current[j], ax = plt.subplot(row_count, col_count, i+1))\n",
    "    plt.title(j)\n",
    "    plt.legend(data_filter['cluster_km'].unique())\n",
    "    \n",
    "plt.suptitle('Распределение параметров по кластерам')\n",
    "\n",
    "plt.tight_layout()"
   ]
  },
  {
   "cell_type": "code",
   "execution_count": 39,
   "metadata": {},
   "outputs": [
    {
     "data": {
      "text/plain": [
       "cluster_km\n",
       "0    11.98\n",
       "1    40.32\n",
       "2    56.39\n",
       "3     1.49\n",
       "4    26.68\n",
       "Name: churn, dtype: float64"
      ]
     },
     "execution_count": 39,
     "metadata": {},
     "output_type": "execute_result"
    }
   ],
   "source": [
    "# определение доли оттока по кластерам\n",
    "round(clusters['churn'] * 100, 2)"
   ]
  },
  {
   "cell_type": "markdown",
   "metadata": {},
   "source": [
    "### Выводы\n",
    "\n",
    "Кластер 0 характеризуется:\n",
    "* равным количеством мужчин и женщин;\n",
    "* клиентами, которые живут рядом с фитнес-центром или работают;\n",
    "* клиентами, большинство из которых (около 90%) пришло от компаний-партнёров клуба;\n",
    "* клиентами, которые (100%) пришли в рамках акции «приведи друга»;\n",
    "* наличием контактного телефона;\n",
    "* абонементом на 1, 6 и 12 месяцев с примерно равным распределением и небольшим преобладанием 12 месяцев;\n",
    "* клиентами, около половины которых посещает групповые занятия;\n",
    "* средним возрастом около 29 лет;\n",
    "* средней суммарной выручкой от других услуг фитнес-центра 153;\n",
    "* средним сроком от начала пользования услугами 4,2 месяца;\n",
    "* посещением около 2 раз в неделю.\n",
    "\n",
    "Кластер 1 характеризуется:\n",
    "* равным количеством мужчин и женщин;\n",
    "* клиентами, которые живут или работают вдали от фитнес-центра;\n",
    "* клиентами, половина из которых пришла от компаний-партнёров клуба;\n",
    "* клиентами, большинство из которых (около 73%) пришли не в рамках акции «приведи друга»;\n",
    "* наличием контактного телефона;\n",
    "* абонементом на 1, 6 и 12 месяцев с преобладанием 1 месяца;\n",
    "* клиентами, около 23% которых посещает групповые занятия;\n",
    "* средним возрастом около 28 лет;\n",
    "* средней суммарной выручкой от других услуг фитнес-центра 137;\n",
    "* средним сроком от начала пользования услугами 3 месяца;\n",
    "* посещением около 1,5 раз в неделю.\n",
    "\n",
    "Кластер 2 характеризуется:\n",
    "* равным количеством мужчин и женщин;\n",
    "* клиентами, которые живут рядом с фитнес-центром или работают;\n",
    "* клиентами, большинство из которых (около 80%) пришли не от компаний-партнёров клуба;\n",
    "* клиентами, большинство из которых (около 73%) пришли не в рамках акции «приведи друга»;\n",
    "* наличием контактного телефона;\n",
    "* абонементом на 1, 6 и 12 месяцев со значительным преобладанием абонементов на 1 месяц;\n",
    "* клиентами, около 27% которых посещает групповые занятия;\n",
    "* средним возрастом около 27 лет;\n",
    "* средней суммарной выручкой от других услуг фитнес-центра 119;\n",
    "* средним сроком от начала пользования услугами 2 месяца;\n",
    "* посещением около 1 раза в неделю.\n",
    "\n",
    "Кластер 3 характеризуется:\n",
    "* равным количеством мужчин и женщин;\n",
    "* клиентами, которые живут рядом с фитнес-центром или работают;\n",
    "* клиентами, большинство из которых (около 65%) пришли не от компаний-партнёров клуба;\n",
    "* клиентами, которые пришли не в рамках акции «приведи друга»;\n",
    "* наличием контактного телефона;\n",
    "* абонементом на 1, 6 и 12 месяцев с примерно равным распределением;\n",
    "* клиентами, около половины которых посещает групповые занятия;\n",
    "* средним возрастом около 30 лет;\n",
    "* средней суммарной выручкой от других услуг фитнес-центра 176;\n",
    "* средним сроком от начала пользования услугами 5,5 месяца;\n",
    "* посещением около 2-2,5 раз в неделю.\n",
    "\n",
    "Кластер 4 характеризуется:\n",
    "* равным количеством мужчин и женщин;\n",
    "* клиентами, большинство из которых живут рядом с фитнес-центром или работают;\n",
    "* клиентами, половина из которых (около 47%) пришли от компаний-партнёров клуба;\n",
    "* клиентами, большинство из которых (около 70%) пришли не в рамках акции «приведи друга»;\n",
    "* отсутствием контактного телефона;\n",
    "* абонементом на 1, 6 и 12 месяцев с примерно равным распределением и небольшим преобладанием 1 месяца;\n",
    "* клиентами, около 40% которых посещает групповые занятия;\n",
    "* средним возрастом в 29-29,5 лет;\n",
    "* средней суммарной выручкой от других услуг фитнес-центра 144;\n",
    "* средним сроком от начала пользования услугами 4 месяца;\n",
    "* посещением около 1,5-2 раз в неделю.\n",
    "\n",
    "0 и 3 кластеры надежны, доля оттока составляет 12% и 1,5%. А склонны к оттоку 1 кластер - 40%, 2 - 56% и 4 - 27%."
   ]
  },
  {
   "cell_type": "markdown",
   "metadata": {},
   "source": [
    "## Выводы и базовые рекомендации по работе с клиентами\n",
    "\n",
    "Было проведено исследование данных о клиентах фитнес-центра «Культурист-датасаентист». Эти данные содержат в себе информацию о 4 000 клиентов и 14 показателях, один из которых (отток клиентов выбран в модели в качестве целевого переменого). Анализируемыми показателями, которые влияют на отток выбраны следующие характеристики клиентов: пол, близость к фитнес-центру, принадлежность к компании-партнёру фитнес-центра, факт первоначальной записи в рамках промо-акции «приведи друга», наличие контактного телефона, возраст, время с момента первого обращения в фитнес-центр, длительность текущего действующего абонемента, срок до окончания действующего абонемента, факт посещения групповых занятий, средняя частота посещений в неделю за все время с начала действия абонемента и за предыдущий месяц, суммарная выручка от других услуг фитнес-центра.\n",
    "\n",
    "Для прогнозирования оттока клиентов были рассмотрены модели логистической регрессии и случайного леса. Были получены следующие метрики:\n",
    "* для модели логистической регрессии: Accuracy (доля правильных ответов): 0.90, Precision (точность): 0.79, Recall (полнота): 0.82\n",
    "* для модели случайного леса: Accuracy (доля правильных ответов): 0.90, Precision (точность): 0.81, Recall (полнота): 0.75\n",
    "\n",
    "Таким образом, обе модели достаточно хорошо способны делать прогноз. Однако, модель логистической регрессии подходит больше по всем показателям.\n",
    "\n",
    "Для кластеризации клиентов были рассмотрены методы K-Means и Агломеративная иерархическая кластеризация. Агломеративная иерархическая кластеризация выдало 4 кластера, которые были визуализированы на дендограмме. Для метода K-Means было задано число кластеров равное 5.\n",
    "\n",
    "Выделенные кластеры имеют следующие отличительные характеристики.\n",
    "\n",
    "Кластер 0 - это клиенты,находящиеся поблизости от фитнес-центра, большинство из которых пришло от компании-партнёров и по промо-акции от друзей, с абонементом на 1, 6 и 12 месяцев в примерно равных пропорциях с небольшим преобладанием 12 месяцев, около половины которых посещает групповые занятия, с высоким уровнем дополнительных оплат, некоторое время являющиеся клиентами, посещающие фитнес-центр около 2 раз в неделю. Для них доля оттока близка к 12% - это один из  надёжных кластеров.\n",
    "\n",
    "Кластер 1 - это клиенты, живущие или работающие вдали от фитнес-центра, пришедшие примерно в равных пропорциях от компаний-партнёров и не от них, большинство из них пришло не по промо-акции от друзей, с абонементами на 1, 6 и 12 месяцев (с преобладанием абонементов на 1 месяц), для большинства из которых групповые занятия не важны, со средним уровнем дополнительных оплат, небольшим сроком от начала пользования услугами, посещающие фитнес-центр около 1,5 раз в неделю. Для них доля оттока близка к 40% - это в очень большой степени склонный к оттоку кластер.\n",
    "\n",
    "Кластер 2 - это клиенты, находящиеся поблизости от фитнес-центра, большинство из которых пришло не от компаний-партнёров и не по промо-акции от друзей, с абонементом на 1, 6 и 12 месяцев (со значительным преобладанием первых), для трети из которых групповые занятия важны, с низким уровнем дополнительных оплат, являющиеся \"новыми\" клиентами, посещающие фитнес-центр около 1 раза в неделю. Для них доля оттока близка к 56% - это наиболее склонный к оттоку кластер.\n",
    "\n",
    "Кластер 3 - клиенты, которые живут или работают возле фитнес-центра, большинтсво которых пришли не от компаний-партнёров и не по промо-акции от друзей, с абонементами на 1, 6 и 12 месяцев (с примерно равным распределением 1, 6 и 12 месяцев), около половины из которых посещает групповые занятия, с очень высоким уровнем дополнительных оплат, являющиеся нашими постоянными \"давними\" клиентами, посещающие фитнес-центр около 2-2,5 раз в неделю. Для них доля оттока близка к 1,5% - это самый надёжный кластер.\n",
    "\n",
    "Кластер 4 - это клиенты, большинство из которых находится вблизи от фитнес-центра, пришедшие примерно в равных пропорциях от компаний-партнёров и не от них, большинство из них пришло не по промо-акции от друзей, без контактных данных, с абонементами на 1, 6 и 12 месяцев (с примерно равным распределением и небольшим преобладанием абонементов на 1 месяц), для большинства из которых (60%) групповые занятия не важны, со средним уровнем дополнительных оплат, некоторое время являющиеся нашими клиентами, посещающие фитнес-центр около 1,5-2 раз в неделю. Для них доля оттока близка к 27%.\n",
    "\n",
    "Рекомендации:\n",
    "1. Сделать абонементы родитель+ребенок и занятия для людей старшего возраста для привлечения больше возрастных категорий. Минимальный возраст клиента сейчас составляет 18 лет, а максимальный 41.\n",
    "2. Заключать больше сотрудничества с компаниями, чьи сотрудники могут получать скидки на абонемент. Такие клиенты реже уходят\n",
    "3. Привлекать больше клиентов поблизости от фитнес-центра.\n",
    "4. Сделать долгосрочные абонементы более привлекательными для клиентов.\n",
    "5. Добавить скидки к дополнительным услугам для обладателей долгосрочных абонементов, т.к. такие клиенты больше пользуются дополнительными услугами."
   ]
  }
 ],
 "metadata": {
  "ExecuteTimeLog": [
   {
    "duration": 1303,
    "start_time": "2022-07-03T17:34:34.059Z"
   },
   {
    "duration": 146,
    "start_time": "2022-07-03T17:35:44.417Z"
   },
   {
    "duration": 16,
    "start_time": "2022-07-03T17:35:57.400Z"
   },
   {
    "duration": 12,
    "start_time": "2022-07-03T17:38:10.792Z"
   },
   {
    "duration": 11,
    "start_time": "2022-07-03T17:38:33.919Z"
   },
   {
    "duration": 5,
    "start_time": "2022-07-03T17:40:53.359Z"
   },
   {
    "duration": 5,
    "start_time": "2022-07-03T17:41:38.849Z"
   },
   {
    "duration": 9,
    "start_time": "2022-07-03T17:41:39.750Z"
   },
   {
    "duration": 41,
    "start_time": "2022-07-03T17:42:45.759Z"
   },
   {
    "duration": 6,
    "start_time": "2022-07-03T17:51:58.734Z"
   },
   {
    "duration": 7,
    "start_time": "2022-07-03T17:52:39.634Z"
   },
   {
    "duration": 39,
    "start_time": "2022-07-03T17:53:15.899Z"
   },
   {
    "duration": 4,
    "start_time": "2022-07-03T17:55:17.858Z"
   },
   {
    "duration": 77,
    "start_time": "2022-07-03T17:55:55.214Z"
   },
   {
    "duration": 62,
    "start_time": "2022-07-03T17:56:53.959Z"
   },
   {
    "duration": 74,
    "start_time": "2022-07-03T17:59:26.754Z"
   },
   {
    "duration": 59,
    "start_time": "2022-07-03T18:00:28.788Z"
   },
   {
    "duration": 13,
    "start_time": "2022-07-03T18:00:46.889Z"
   },
   {
    "duration": 53,
    "start_time": "2022-07-03T18:07:22.892Z"
   },
   {
    "duration": 2813,
    "start_time": "2022-07-03T18:08:06.954Z"
   },
   {
    "duration": 2838,
    "start_time": "2022-07-03T18:08:43.919Z"
   },
   {
    "duration": 2962,
    "start_time": "2022-07-03T18:08:58.989Z"
   },
   {
    "duration": 5,
    "start_time": "2022-07-03T18:11:11.519Z"
   },
   {
    "duration": 1357,
    "start_time": "2022-07-03T18:15:52.207Z"
   },
   {
    "duration": 1385,
    "start_time": "2022-07-03T18:17:05.951Z"
   },
   {
    "duration": 1289,
    "start_time": "2022-07-03T18:17:53.098Z"
   },
   {
    "duration": 1250,
    "start_time": "2022-07-03T18:18:02.190Z"
   },
   {
    "duration": 1337,
    "start_time": "2022-07-03T18:19:07.848Z"
   },
   {
    "duration": 1609,
    "start_time": "2022-07-03T18:19:49.568Z"
   },
   {
    "duration": 1297,
    "start_time": "2022-07-03T18:19:57.429Z"
   },
   {
    "duration": 1254,
    "start_time": "2022-07-03T18:20:11.828Z"
   },
   {
    "duration": 1295,
    "start_time": "2022-07-03T18:20:22.958Z"
   },
   {
    "duration": 1368,
    "start_time": "2022-07-03T18:20:34.565Z"
   },
   {
    "duration": 308,
    "start_time": "2022-07-03T18:23:28.366Z"
   },
   {
    "duration": 4,
    "start_time": "2022-07-03T18:24:19.933Z"
   },
   {
    "duration": 5,
    "start_time": "2022-07-03T18:25:38.257Z"
   },
   {
    "duration": 4,
    "start_time": "2022-07-03T18:26:44.566Z"
   },
   {
    "duration": 6,
    "start_time": "2022-07-03T18:27:52.708Z"
   },
   {
    "duration": 104,
    "start_time": "2022-07-03T18:28:50.078Z"
   },
   {
    "duration": 4,
    "start_time": "2022-07-03T18:29:06.694Z"
   },
   {
    "duration": 8,
    "start_time": "2022-07-03T18:29:10.068Z"
   },
   {
    "duration": 7,
    "start_time": "2022-07-03T18:29:57.109Z"
   },
   {
    "duration": 2,
    "start_time": "2022-07-03T18:30:40.258Z"
   },
   {
    "duration": 75,
    "start_time": "2022-07-03T18:30:56.160Z"
   },
   {
    "duration": 5,
    "start_time": "2022-07-03T18:31:33.326Z"
   },
   {
    "duration": 12,
    "start_time": "2022-07-03T18:31:56.429Z"
   },
   {
    "duration": 3,
    "start_time": "2022-07-03T18:32:39.485Z"
   },
   {
    "duration": 7,
    "start_time": "2022-07-03T18:32:44.187Z"
   },
   {
    "duration": 10,
    "start_time": "2022-07-03T18:35:18.880Z"
   },
   {
    "duration": 10,
    "start_time": "2022-07-03T18:35:42.436Z"
   },
   {
    "duration": 3,
    "start_time": "2022-07-03T18:35:46.327Z"
   },
   {
    "duration": 336,
    "start_time": "2022-07-03T18:36:08.083Z"
   },
   {
    "duration": 44,
    "start_time": "2022-07-03T18:36:32.007Z"
   },
   {
    "duration": 8,
    "start_time": "2022-07-03T18:36:48.755Z"
   },
   {
    "duration": 18,
    "start_time": "2022-07-03T18:38:13.966Z"
   },
   {
    "duration": 4,
    "start_time": "2022-07-03T18:41:01.750Z"
   },
   {
    "duration": 550,
    "start_time": "2022-07-03T18:42:40.866Z"
   },
   {
    "duration": 7,
    "start_time": "2022-07-03T18:44:28.190Z"
   },
   {
    "duration": 565,
    "start_time": "2022-07-03T18:44:28.708Z"
   },
   {
    "duration": 106592,
    "start_time": "2022-07-03T18:44:30.028Z"
   },
   {
    "duration": 110092,
    "start_time": "2022-07-03T18:47:29.498Z"
   },
   {
    "duration": 2,
    "start_time": "2022-07-03T18:49:19.592Z"
   },
   {
    "duration": 1547,
    "start_time": "2022-07-03T18:49:19.595Z"
   },
   {
    "duration": 4,
    "start_time": "2022-07-03T18:50:21.310Z"
   },
   {
    "duration": 17,
    "start_time": "2022-07-03T18:51:21.739Z"
   },
   {
    "duration": 2918,
    "start_time": "2022-07-03T18:53:39.935Z"
   },
   {
    "duration": 3661,
    "start_time": "2022-07-03T18:54:32.057Z"
   },
   {
    "duration": 3702,
    "start_time": "2022-07-03T18:55:25.652Z"
   },
   {
    "duration": 3072,
    "start_time": "2022-07-03T18:55:37.757Z"
   },
   {
    "duration": 3355,
    "start_time": "2022-07-03T18:55:46.302Z"
   },
   {
    "duration": 3080,
    "start_time": "2022-07-03T18:56:15.807Z"
   },
   {
    "duration": 36,
    "start_time": "2022-07-03T19:02:44.406Z"
   },
   {
    "duration": 35,
    "start_time": "2022-07-03T19:04:03.485Z"
   },
   {
    "duration": 4724,
    "start_time": "2022-07-03T19:05:45.996Z"
   },
   {
    "duration": 4941,
    "start_time": "2022-07-03T19:07:48.406Z"
   },
   {
    "duration": 5522,
    "start_time": "2022-07-03T19:09:02.967Z"
   },
   {
    "duration": 3699,
    "start_time": "2022-07-03T19:09:49.922Z"
   },
   {
    "duration": 14,
    "start_time": "2022-07-03T19:12:08.969Z"
   },
   {
    "duration": 18,
    "start_time": "2022-07-03T19:12:25.308Z"
   },
   {
    "duration": 5,
    "start_time": "2022-07-03T19:12:52.268Z"
   },
   {
    "duration": 5,
    "start_time": "2022-07-03T19:13:16.789Z"
   },
   {
    "duration": 6,
    "start_time": "2022-07-03T19:13:31.374Z"
   },
   {
    "duration": 4,
    "start_time": "2022-07-03T19:28:53.643Z"
   },
   {
    "duration": 5,
    "start_time": "2022-07-03T19:29:04.748Z"
   },
   {
    "duration": 1777,
    "start_time": "2022-07-03T19:29:34.597Z"
   },
   {
    "duration": 1472,
    "start_time": "2022-07-03T19:31:31.460Z"
   },
   {
    "duration": 34,
    "start_time": "2022-07-03T19:31:32.934Z"
   },
   {
    "duration": 17,
    "start_time": "2022-07-03T19:31:32.970Z"
   },
   {
    "duration": 12,
    "start_time": "2022-07-03T19:31:32.989Z"
   },
   {
    "duration": 10,
    "start_time": "2022-07-03T19:31:33.003Z"
   },
   {
    "duration": 12,
    "start_time": "2022-07-03T19:31:33.014Z"
   },
   {
    "duration": 8,
    "start_time": "2022-07-03T19:31:33.027Z"
   },
   {
    "duration": 12,
    "start_time": "2022-07-03T19:31:33.037Z"
   },
   {
    "duration": 47,
    "start_time": "2022-07-03T19:31:33.050Z"
   },
   {
    "duration": 10,
    "start_time": "2022-07-03T19:31:33.099Z"
   },
   {
    "duration": 120,
    "start_time": "2022-07-03T19:31:33.129Z"
   },
   {
    "duration": 0,
    "start_time": "2022-07-03T19:31:33.251Z"
   },
   {
    "duration": 0,
    "start_time": "2022-07-03T19:31:33.252Z"
   },
   {
    "duration": 0,
    "start_time": "2022-07-03T19:31:33.254Z"
   },
   {
    "duration": 0,
    "start_time": "2022-07-03T19:31:33.256Z"
   },
   {
    "duration": 0,
    "start_time": "2022-07-03T19:31:33.257Z"
   },
   {
    "duration": 0,
    "start_time": "2022-07-03T19:31:33.258Z"
   },
   {
    "duration": 0,
    "start_time": "2022-07-03T19:31:33.260Z"
   },
   {
    "duration": 0,
    "start_time": "2022-07-03T19:31:33.261Z"
   },
   {
    "duration": 0,
    "start_time": "2022-07-03T19:31:33.262Z"
   },
   {
    "duration": 1,
    "start_time": "2022-07-03T19:31:33.263Z"
   },
   {
    "duration": 0,
    "start_time": "2022-07-03T19:31:33.268Z"
   },
   {
    "duration": 0,
    "start_time": "2022-07-03T19:31:33.269Z"
   },
   {
    "duration": 0,
    "start_time": "2022-07-03T19:31:33.274Z"
   },
   {
    "duration": 0,
    "start_time": "2022-07-03T19:31:33.275Z"
   },
   {
    "duration": 0,
    "start_time": "2022-07-03T19:31:33.276Z"
   },
   {
    "duration": 0,
    "start_time": "2022-07-03T19:31:33.277Z"
   },
   {
    "duration": 0,
    "start_time": "2022-07-03T19:31:33.277Z"
   },
   {
    "duration": 0,
    "start_time": "2022-07-03T19:31:33.278Z"
   },
   {
    "duration": 0,
    "start_time": "2022-07-03T19:31:33.279Z"
   },
   {
    "duration": 0,
    "start_time": "2022-07-03T19:31:33.280Z"
   },
   {
    "duration": 0,
    "start_time": "2022-07-03T19:31:33.281Z"
   },
   {
    "duration": 0,
    "start_time": "2022-07-03T19:31:33.282Z"
   },
   {
    "duration": 0,
    "start_time": "2022-07-03T19:31:33.283Z"
   },
   {
    "duration": 0,
    "start_time": "2022-07-03T19:31:33.284Z"
   },
   {
    "duration": 0,
    "start_time": "2022-07-03T19:31:33.286Z"
   },
   {
    "duration": 0,
    "start_time": "2022-07-03T19:31:33.329Z"
   },
   {
    "duration": 3,
    "start_time": "2022-07-03T19:33:36.999Z"
   },
   {
    "duration": 1342,
    "start_time": "2022-07-03T19:33:43.947Z"
   },
   {
    "duration": 41,
    "start_time": "2022-07-03T19:33:45.292Z"
   },
   {
    "duration": 16,
    "start_time": "2022-07-03T19:33:45.335Z"
   },
   {
    "duration": 19,
    "start_time": "2022-07-03T19:33:45.353Z"
   },
   {
    "duration": 19,
    "start_time": "2022-07-03T19:33:45.374Z"
   },
   {
    "duration": 30,
    "start_time": "2022-07-03T19:33:45.395Z"
   },
   {
    "duration": 20,
    "start_time": "2022-07-03T19:33:45.427Z"
   },
   {
    "duration": 12,
    "start_time": "2022-07-03T19:33:45.450Z"
   },
   {
    "duration": 65,
    "start_time": "2022-07-03T19:33:45.463Z"
   },
   {
    "duration": 12,
    "start_time": "2022-07-03T19:33:45.530Z"
   },
   {
    "duration": 3732,
    "start_time": "2022-07-03T19:33:45.544Z"
   },
   {
    "duration": 1533,
    "start_time": "2022-07-03T19:33:49.277Z"
   },
   {
    "duration": 4,
    "start_time": "2022-07-03T19:33:50.812Z"
   },
   {
    "duration": 1156,
    "start_time": "2022-07-03T19:33:50.828Z"
   },
   {
    "duration": 3,
    "start_time": "2022-07-03T19:33:51.986Z"
   },
   {
    "duration": 15,
    "start_time": "2022-07-03T19:33:51.990Z"
   },
   {
    "duration": 8,
    "start_time": "2022-07-03T19:33:52.007Z"
   },
   {
    "duration": 16,
    "start_time": "2022-07-03T19:33:52.017Z"
   },
   {
    "duration": 10,
    "start_time": "2022-07-03T19:33:52.034Z"
   },
   {
    "duration": 19,
    "start_time": "2022-07-03T19:33:52.046Z"
   },
   {
    "duration": 3,
    "start_time": "2022-07-03T19:33:52.066Z"
   },
   {
    "duration": 163,
    "start_time": "2022-07-03T19:33:52.072Z"
   },
   {
    "duration": 96,
    "start_time": "2022-07-03T19:33:52.236Z"
   },
   {
    "duration": 96,
    "start_time": "2022-07-03T19:33:52.337Z"
   },
   {
    "duration": 5,
    "start_time": "2022-07-03T19:33:52.435Z"
   },
   {
    "duration": 284,
    "start_time": "2022-07-03T19:33:52.441Z"
   },
   {
    "duration": 46,
    "start_time": "2022-07-03T19:33:52.729Z"
   },
   {
    "duration": 6,
    "start_time": "2022-07-03T19:33:52.776Z"
   },
   {
    "duration": 14,
    "start_time": "2022-07-03T19:33:52.783Z"
   },
   {
    "duration": 511,
    "start_time": "2022-07-03T19:33:52.799Z"
   },
   {
    "duration": 104488,
    "start_time": "2022-07-03T19:33:53.311Z"
   },
   {
    "duration": 2,
    "start_time": "2022-07-03T19:35:37.801Z"
   },
   {
    "duration": 1324,
    "start_time": "2022-07-03T19:35:37.805Z"
   },
   {
    "duration": 3,
    "start_time": "2022-07-03T19:35:39.131Z"
   },
   {
    "duration": 19,
    "start_time": "2022-07-03T19:35:39.136Z"
   },
   {
    "duration": 4678,
    "start_time": "2022-07-03T19:35:39.156Z"
   },
   {
    "duration": 5,
    "start_time": "2022-07-03T19:35:43.836Z"
   },
   {
    "duration": 1535,
    "start_time": "2022-07-04T17:03:17.051Z"
   },
   {
    "duration": 45,
    "start_time": "2022-07-04T17:03:18.589Z"
   },
   {
    "duration": 16,
    "start_time": "2022-07-04T17:03:18.636Z"
   },
   {
    "duration": 14,
    "start_time": "2022-07-04T17:03:18.654Z"
   },
   {
    "duration": 7,
    "start_time": "2022-07-04T17:03:18.670Z"
   },
   {
    "duration": 14,
    "start_time": "2022-07-04T17:03:18.678Z"
   },
   {
    "duration": 6,
    "start_time": "2022-07-04T17:03:18.693Z"
   },
   {
    "duration": 8,
    "start_time": "2022-07-04T17:03:18.701Z"
   },
   {
    "duration": 46,
    "start_time": "2022-07-04T17:03:18.711Z"
   },
   {
    "duration": 11,
    "start_time": "2022-07-04T17:03:18.759Z"
   },
   {
    "duration": 3564,
    "start_time": "2022-07-04T17:03:18.772Z"
   },
   {
    "duration": 1392,
    "start_time": "2022-07-04T17:03:22.338Z"
   },
   {
    "duration": 4,
    "start_time": "2022-07-04T17:03:23.731Z"
   },
   {
    "duration": 1086,
    "start_time": "2022-07-04T17:03:23.738Z"
   },
   {
    "duration": 3,
    "start_time": "2022-07-04T17:03:24.826Z"
   },
   {
    "duration": 10,
    "start_time": "2022-07-04T17:03:24.831Z"
   },
   {
    "duration": 13,
    "start_time": "2022-07-04T17:03:24.842Z"
   },
   {
    "duration": 15,
    "start_time": "2022-07-04T17:03:24.857Z"
   },
   {
    "duration": 11,
    "start_time": "2022-07-04T17:03:24.874Z"
   },
   {
    "duration": 6,
    "start_time": "2022-07-04T17:03:24.887Z"
   },
   {
    "duration": 2,
    "start_time": "2022-07-04T17:03:24.901Z"
   },
   {
    "duration": 104,
    "start_time": "2022-07-04T17:03:24.905Z"
   },
   {
    "duration": 102,
    "start_time": "2022-07-04T17:03:25.011Z"
   },
   {
    "duration": 18,
    "start_time": "2022-07-04T17:03:25.201Z"
   },
   {
    "duration": 3,
    "start_time": "2022-07-04T17:03:25.221Z"
   },
   {
    "duration": 335,
    "start_time": "2022-07-04T17:03:25.225Z"
   },
   {
    "duration": 51,
    "start_time": "2022-07-04T17:03:25.561Z"
   },
   {
    "duration": 7,
    "start_time": "2022-07-04T17:03:25.614Z"
   },
   {
    "duration": 8,
    "start_time": "2022-07-04T17:03:25.622Z"
   },
   {
    "duration": 580,
    "start_time": "2022-07-04T17:03:25.632Z"
   },
   {
    "duration": 107801,
    "start_time": "2022-07-04T17:03:26.214Z"
   },
   {
    "duration": 2,
    "start_time": "2022-07-04T17:05:14.017Z"
   },
   {
    "duration": 1285,
    "start_time": "2022-07-04T17:05:14.020Z"
   },
   {
    "duration": 3,
    "start_time": "2022-07-04T17:05:15.307Z"
   },
   {
    "duration": 41,
    "start_time": "2022-07-04T17:05:15.401Z"
   },
   {
    "duration": 4666,
    "start_time": "2022-07-04T17:05:15.444Z"
   },
   {
    "duration": 6,
    "start_time": "2022-07-04T17:05:20.111Z"
   },
   {
    "duration": 46,
    "start_time": "2022-07-04T17:25:59.725Z"
   },
   {
    "duration": 4743,
    "start_time": "2022-07-04T17:49:55.345Z"
   },
   {
    "duration": 1665,
    "start_time": "2022-07-04T17:50:32.096Z"
   },
   {
    "duration": 1485,
    "start_time": "2022-07-04T17:50:50.217Z"
   },
   {
    "duration": 4,
    "start_time": "2022-07-04T17:51:54.824Z"
   },
   {
    "duration": 1182,
    "start_time": "2022-07-04T17:51:55.685Z"
   },
   {
    "duration": 1275,
    "start_time": "2022-07-04T17:52:06.506Z"
   },
   {
    "duration": 4,
    "start_time": "2022-07-04T17:52:19.115Z"
   },
   {
    "duration": 6,
    "start_time": "2022-07-04T17:52:19.778Z"
   },
   {
    "duration": 6,
    "start_time": "2022-07-04T17:52:21.045Z"
   },
   {
    "duration": 7,
    "start_time": "2022-07-04T17:52:22.317Z"
   },
   {
    "duration": 10,
    "start_time": "2022-07-04T17:52:22.876Z"
   },
   {
    "duration": 8,
    "start_time": "2022-07-04T17:52:23.386Z"
   },
   {
    "duration": 3,
    "start_time": "2022-07-04T17:52:24.727Z"
   },
   {
    "duration": 195,
    "start_time": "2022-07-04T17:52:25.318Z"
   },
   {
    "duration": 4,
    "start_time": "2022-07-04T17:52:25.860Z"
   },
   {
    "duration": 8,
    "start_time": "2022-07-04T17:52:26.555Z"
   },
   {
    "duration": 4,
    "start_time": "2022-07-04T17:52:31.360Z"
   },
   {
    "duration": 301,
    "start_time": "2022-07-04T17:52:31.707Z"
   },
   {
    "duration": 55,
    "start_time": "2022-07-04T17:52:32.097Z"
   },
   {
    "duration": 9,
    "start_time": "2022-07-04T17:52:32.763Z"
   },
   {
    "duration": 5,
    "start_time": "2022-07-04T17:53:29.986Z"
   },
   {
    "duration": 1138,
    "start_time": "2022-07-04T17:53:30.876Z"
   },
   {
    "duration": 4,
    "start_time": "2022-07-04T17:53:33.184Z"
   },
   {
    "duration": 6,
    "start_time": "2022-07-04T17:53:34.016Z"
   },
   {
    "duration": 4,
    "start_time": "2022-07-04T17:53:35.066Z"
   },
   {
    "duration": 7,
    "start_time": "2022-07-04T17:53:36.217Z"
   },
   {
    "duration": 7,
    "start_time": "2022-07-04T17:53:36.796Z"
   },
   {
    "duration": 9,
    "start_time": "2022-07-04T17:53:37.625Z"
   },
   {
    "duration": 3,
    "start_time": "2022-07-04T17:53:38.906Z"
   },
   {
    "duration": 14,
    "start_time": "2022-07-04T17:53:39.532Z"
   },
   {
    "duration": 5,
    "start_time": "2022-07-04T17:53:40.276Z"
   },
   {
    "duration": 7,
    "start_time": "2022-07-04T17:53:41.084Z"
   },
   {
    "duration": 3,
    "start_time": "2022-07-04T17:53:43.863Z"
   },
   {
    "duration": 419,
    "start_time": "2022-07-04T17:53:44.519Z"
   },
   {
    "duration": 52,
    "start_time": "2022-07-04T17:53:45.062Z"
   },
   {
    "duration": 7,
    "start_time": "2022-07-04T17:53:46.207Z"
   },
   {
    "duration": 7,
    "start_time": "2022-07-04T17:57:00.378Z"
   },
   {
    "duration": 12,
    "start_time": "2022-07-04T17:57:17.322Z"
   },
   {
    "duration": 1380,
    "start_time": "2022-07-04T17:58:55.268Z"
   },
   {
    "duration": 19,
    "start_time": "2022-07-04T17:58:56.650Z"
   },
   {
    "duration": 15,
    "start_time": "2022-07-04T17:58:56.671Z"
   },
   {
    "duration": 12,
    "start_time": "2022-07-04T17:58:56.688Z"
   },
   {
    "duration": 7,
    "start_time": "2022-07-04T17:58:56.702Z"
   },
   {
    "duration": 16,
    "start_time": "2022-07-04T17:58:56.710Z"
   },
   {
    "duration": 5,
    "start_time": "2022-07-04T17:58:56.727Z"
   },
   {
    "duration": 6,
    "start_time": "2022-07-04T17:58:56.734Z"
   },
   {
    "duration": 40,
    "start_time": "2022-07-04T17:58:56.741Z"
   },
   {
    "duration": 12,
    "start_time": "2022-07-04T17:58:56.801Z"
   },
   {
    "duration": 3625,
    "start_time": "2022-07-04T17:58:56.815Z"
   },
   {
    "duration": 1575,
    "start_time": "2022-07-04T17:59:00.442Z"
   },
   {
    "duration": 4,
    "start_time": "2022-07-04T17:59:02.018Z"
   },
   {
    "duration": 1120,
    "start_time": "2022-07-04T17:59:02.025Z"
   },
   {
    "duration": 3,
    "start_time": "2022-07-04T17:59:03.146Z"
   },
   {
    "duration": 16,
    "start_time": "2022-07-04T17:59:03.151Z"
   },
   {
    "duration": 8,
    "start_time": "2022-07-04T17:59:03.168Z"
   },
   {
    "duration": 14,
    "start_time": "2022-07-04T17:59:03.177Z"
   },
   {
    "duration": 14,
    "start_time": "2022-07-04T17:59:03.192Z"
   },
   {
    "duration": 11,
    "start_time": "2022-07-04T17:59:03.208Z"
   },
   {
    "duration": 3,
    "start_time": "2022-07-04T17:59:03.220Z"
   },
   {
    "duration": 82,
    "start_time": "2022-07-04T17:59:03.224Z"
   },
   {
    "duration": 193,
    "start_time": "2022-07-04T17:59:03.308Z"
   },
   {
    "duration": 2,
    "start_time": "2022-07-04T17:59:03.503Z"
   },
   {
    "duration": 319,
    "start_time": "2022-07-04T17:59:03.507Z"
   },
   {
    "duration": 58,
    "start_time": "2022-07-04T17:59:03.828Z"
   },
   {
    "duration": 21,
    "start_time": "2022-07-04T17:59:03.887Z"
   },
   {
    "duration": 10,
    "start_time": "2022-07-04T17:59:03.910Z"
   },
   {
    "duration": 20,
    "start_time": "2022-07-04T17:59:03.922Z"
   },
   {
    "duration": 14,
    "start_time": "2022-07-04T17:59:03.944Z"
   },
   {
    "duration": 611,
    "start_time": "2022-07-04T17:59:03.960Z"
   },
   {
    "duration": 112082,
    "start_time": "2022-07-04T17:59:04.573Z"
   },
   {
    "duration": 3,
    "start_time": "2022-07-04T18:00:56.656Z"
   },
   {
    "duration": 1151,
    "start_time": "2022-07-04T18:00:56.661Z"
   },
   {
    "duration": 87,
    "start_time": "2022-07-04T18:00:57.815Z"
   },
   {
    "duration": 31,
    "start_time": "2022-07-04T18:00:57.904Z"
   },
   {
    "duration": 5832,
    "start_time": "2022-07-04T18:00:57.937Z"
   },
   {
    "duration": 0,
    "start_time": "2022-07-04T18:01:03.771Z"
   },
   {
    "duration": 4,
    "start_time": "2022-07-04T18:05:12.948Z"
   },
   {
    "duration": 5,
    "start_time": "2022-07-04T18:05:21.900Z"
   },
   {
    "duration": 5,
    "start_time": "2022-07-04T18:05:23.089Z"
   },
   {
    "duration": 7,
    "start_time": "2022-07-04T18:05:23.635Z"
   },
   {
    "duration": 7,
    "start_time": "2022-07-04T18:05:24.229Z"
   },
   {
    "duration": 3,
    "start_time": "2022-07-04T18:05:25.230Z"
   },
   {
    "duration": 355,
    "start_time": "2022-07-04T18:05:25.749Z"
   },
   {
    "duration": 5,
    "start_time": "2022-07-04T18:05:26.279Z"
   },
   {
    "duration": 3,
    "start_time": "2022-07-04T18:05:27.620Z"
   },
   {
    "duration": 298,
    "start_time": "2022-07-04T18:05:28.080Z"
   },
   {
    "duration": 239,
    "start_time": "2022-07-04T18:05:28.465Z"
   },
   {
    "duration": 8,
    "start_time": "2022-07-04T18:05:30.295Z"
   },
   {
    "duration": 7,
    "start_time": "2022-07-04T18:05:32.220Z"
   },
   {
    "duration": 15,
    "start_time": "2022-07-04T18:05:53.916Z"
   },
   {
    "duration": 8,
    "start_time": "2022-07-04T18:06:01.044Z"
   },
   {
    "duration": 3,
    "start_time": "2022-07-04T18:06:04.645Z"
   },
   {
    "duration": 962,
    "start_time": "2022-07-04T18:06:05.243Z"
   },
   {
    "duration": 5,
    "start_time": "2022-07-04T18:06:06.208Z"
   },
   {
    "duration": 19,
    "start_time": "2022-07-04T18:06:06.945Z"
   },
   {
    "duration": 3,
    "start_time": "2022-07-04T18:08:05.867Z"
   },
   {
    "duration": 319,
    "start_time": "2022-07-04T18:08:06.643Z"
   },
   {
    "duration": 51,
    "start_time": "2022-07-04T18:08:07.160Z"
   },
   {
    "duration": 8,
    "start_time": "2022-07-04T18:08:08.354Z"
   },
   {
    "duration": 8,
    "start_time": "2022-07-04T18:08:09.345Z"
   },
   {
    "duration": 1589,
    "start_time": "2022-07-04T18:08:23.782Z"
   },
   {
    "duration": 23,
    "start_time": "2022-07-04T18:08:25.373Z"
   },
   {
    "duration": 42,
    "start_time": "2022-07-04T18:08:25.398Z"
   },
   {
    "duration": 13,
    "start_time": "2022-07-04T18:08:25.443Z"
   },
   {
    "duration": 9,
    "start_time": "2022-07-04T18:08:25.457Z"
   },
   {
    "duration": 21,
    "start_time": "2022-07-04T18:08:25.468Z"
   },
   {
    "duration": 6,
    "start_time": "2022-07-04T18:08:25.491Z"
   },
   {
    "duration": 26,
    "start_time": "2022-07-04T18:08:25.499Z"
   },
   {
    "duration": 50,
    "start_time": "2022-07-04T18:08:25.527Z"
   },
   {
    "duration": 11,
    "start_time": "2022-07-04T18:08:25.581Z"
   },
   {
    "duration": 3939,
    "start_time": "2022-07-04T18:08:25.594Z"
   },
   {
    "duration": 1624,
    "start_time": "2022-07-04T18:08:29.534Z"
   },
   {
    "duration": 4,
    "start_time": "2022-07-04T18:08:31.160Z"
   },
   {
    "duration": 1217,
    "start_time": "2022-07-04T18:08:31.166Z"
   },
   {
    "duration": 4,
    "start_time": "2022-07-04T18:08:32.385Z"
   },
   {
    "duration": 39,
    "start_time": "2022-07-04T18:08:32.390Z"
   },
   {
    "duration": 10,
    "start_time": "2022-07-04T18:08:32.431Z"
   },
   {
    "duration": 14,
    "start_time": "2022-07-04T18:08:32.443Z"
   },
   {
    "duration": 12,
    "start_time": "2022-07-04T18:08:32.459Z"
   },
   {
    "duration": 11,
    "start_time": "2022-07-04T18:08:32.472Z"
   },
   {
    "duration": 39,
    "start_time": "2022-07-04T18:08:32.484Z"
   },
   {
    "duration": 75,
    "start_time": "2022-07-04T18:08:32.525Z"
   },
   {
    "duration": 117,
    "start_time": "2022-07-04T18:08:32.604Z"
   },
   {
    "duration": 9,
    "start_time": "2022-07-04T18:08:32.723Z"
   },
   {
    "duration": 319,
    "start_time": "2022-07-04T18:08:32.733Z"
   },
   {
    "duration": 51,
    "start_time": "2022-07-04T18:08:33.053Z"
   },
   {
    "duration": 8,
    "start_time": "2022-07-04T18:08:33.106Z"
   },
   {
    "duration": 21,
    "start_time": "2022-07-04T18:08:33.118Z"
   },
   {
    "duration": 19,
    "start_time": "2022-07-04T18:08:33.141Z"
   },
   {
    "duration": 17,
    "start_time": "2022-07-04T18:08:33.162Z"
   },
   {
    "duration": 619,
    "start_time": "2022-07-04T18:08:33.180Z"
   },
   {
    "duration": 121788,
    "start_time": "2022-07-04T18:08:33.800Z"
   },
   {
    "duration": 2,
    "start_time": "2022-07-04T18:10:35.590Z"
   },
   {
    "duration": 1115,
    "start_time": "2022-07-04T18:10:35.594Z"
   },
   {
    "duration": 4,
    "start_time": "2022-07-04T18:10:36.800Z"
   },
   {
    "duration": 29,
    "start_time": "2022-07-04T18:10:36.805Z"
   },
   {
    "duration": 5431,
    "start_time": "2022-07-04T18:10:36.836Z"
   },
   {
    "duration": 7,
    "start_time": "2022-07-04T18:10:42.269Z"
   },
   {
    "duration": 4,
    "start_time": "2022-07-04T18:12:41.143Z"
   },
   {
    "duration": 4,
    "start_time": "2022-07-04T18:12:45.606Z"
   },
   {
    "duration": 7,
    "start_time": "2022-07-04T18:12:46.020Z"
   },
   {
    "duration": 5,
    "start_time": "2022-07-04T18:12:46.951Z"
   },
   {
    "duration": 6,
    "start_time": "2022-07-04T18:12:48.044Z"
   },
   {
    "duration": 9,
    "start_time": "2022-07-04T18:12:48.520Z"
   },
   {
    "duration": 7,
    "start_time": "2022-07-04T18:12:49.080Z"
   },
   {
    "duration": 3,
    "start_time": "2022-07-04T18:12:50.330Z"
   },
   {
    "duration": 15,
    "start_time": "2022-07-04T18:12:50.760Z"
   },
   {
    "duration": 4,
    "start_time": "2022-07-04T18:12:51.190Z"
   },
   {
    "duration": 3,
    "start_time": "2022-07-04T18:12:52.151Z"
   },
   {
    "duration": 354,
    "start_time": "2022-07-04T18:12:52.551Z"
   },
   {
    "duration": 57,
    "start_time": "2022-07-04T18:12:52.907Z"
   },
   {
    "duration": 9,
    "start_time": "2022-07-04T18:12:53.942Z"
   },
   {
    "duration": 12,
    "start_time": "2022-07-04T18:12:55.392Z"
   },
   {
    "duration": 4,
    "start_time": "2022-07-04T18:13:30.791Z"
   },
   {
    "duration": 1601,
    "start_time": "2022-07-04T18:13:31.829Z"
   },
   {
    "duration": 5,
    "start_time": "2022-07-04T18:13:41.309Z"
   },
   {
    "duration": 5,
    "start_time": "2022-07-04T18:13:42.711Z"
   },
   {
    "duration": 10,
    "start_time": "2022-07-04T18:13:43.470Z"
   },
   {
    "duration": 10,
    "start_time": "2022-07-04T18:13:43.942Z"
   },
   {
    "duration": 6,
    "start_time": "2022-07-04T18:13:45.121Z"
   },
   {
    "duration": 254,
    "start_time": "2022-07-04T18:13:45.751Z"
   },
   {
    "duration": 4,
    "start_time": "2022-07-04T18:13:46.202Z"
   },
   {
    "duration": 4,
    "start_time": "2022-07-04T18:13:47.078Z"
   },
   {
    "duration": 341,
    "start_time": "2022-07-04T18:13:47.552Z"
   },
   {
    "duration": 50,
    "start_time": "2022-07-04T18:13:48.226Z"
   },
   {
    "duration": 7,
    "start_time": "2022-07-04T18:13:50.320Z"
   },
   {
    "duration": 9,
    "start_time": "2022-07-04T18:13:51.387Z"
   },
   {
    "duration": 17,
    "start_time": "2022-07-04T18:14:05.309Z"
   },
   {
    "duration": 10,
    "start_time": "2022-07-04T18:14:10.820Z"
   },
   {
    "duration": 3,
    "start_time": "2022-07-04T18:14:15.321Z"
   },
   {
    "duration": 1193,
    "start_time": "2022-07-04T18:14:15.808Z"
   },
   {
    "duration": 3,
    "start_time": "2022-07-04T18:14:17.004Z"
   },
   {
    "duration": 23,
    "start_time": "2022-07-04T18:14:17.009Z"
   },
   {
    "duration": 5,
    "start_time": "2022-07-04T18:14:58.798Z"
   },
   {
    "duration": 1188,
    "start_time": "2022-07-04T18:14:59.651Z"
   },
   {
    "duration": 4,
    "start_time": "2022-07-04T18:15:02.206Z"
   },
   {
    "duration": 8,
    "start_time": "2022-07-04T18:15:02.743Z"
   },
   {
    "duration": 6,
    "start_time": "2022-07-04T18:15:05.160Z"
   },
   {
    "duration": 8,
    "start_time": "2022-07-04T18:15:06.044Z"
   },
   {
    "duration": 10,
    "start_time": "2022-07-04T18:15:06.272Z"
   },
   {
    "duration": 10,
    "start_time": "2022-07-04T18:15:06.522Z"
   },
   {
    "duration": 3,
    "start_time": "2022-07-04T18:15:07.206Z"
   },
   {
    "duration": 16,
    "start_time": "2022-07-04T18:15:07.446Z"
   },
   {
    "duration": 4,
    "start_time": "2022-07-04T18:15:07.710Z"
   },
   {
    "duration": 2,
    "start_time": "2022-07-04T18:15:08.822Z"
   },
   {
    "duration": 303,
    "start_time": "2022-07-04T18:15:09.363Z"
   },
   {
    "duration": 50,
    "start_time": "2022-07-04T18:15:09.942Z"
   },
   {
    "duration": 8,
    "start_time": "2022-07-04T18:15:11.151Z"
   },
   {
    "duration": 8,
    "start_time": "2022-07-04T18:15:12.278Z"
   },
   {
    "duration": 9,
    "start_time": "2022-07-04T18:15:30.401Z"
   },
   {
    "duration": 3,
    "start_time": "2022-07-04T18:15:33.983Z"
   },
   {
    "duration": 1043,
    "start_time": "2022-07-04T18:15:34.471Z"
   },
   {
    "duration": 80,
    "start_time": "2022-07-04T18:15:35.522Z"
   },
   {
    "duration": 113,
    "start_time": "2022-07-04T18:15:35.604Z"
   },
   {
    "duration": 4,
    "start_time": "2022-07-04T18:16:26.451Z"
   },
   {
    "duration": 1168,
    "start_time": "2022-07-04T18:16:27.381Z"
   },
   {
    "duration": 4,
    "start_time": "2022-07-04T18:16:28.551Z"
   },
   {
    "duration": 19,
    "start_time": "2022-07-04T18:16:28.557Z"
   },
   {
    "duration": 4,
    "start_time": "2022-07-04T18:16:29.002Z"
   },
   {
    "duration": 7,
    "start_time": "2022-07-04T18:16:29.500Z"
   },
   {
    "duration": 8,
    "start_time": "2022-07-04T18:16:29.799Z"
   },
   {
    "duration": 7,
    "start_time": "2022-07-04T18:16:30.062Z"
   },
   {
    "duration": 3,
    "start_time": "2022-07-04T18:16:30.888Z"
   },
   {
    "duration": 55,
    "start_time": "2022-07-04T18:16:31.261Z"
   },
   {
    "duration": 5,
    "start_time": "2022-07-04T18:16:31.754Z"
   },
   {
    "duration": 3,
    "start_time": "2022-07-04T18:16:33.401Z"
   },
   {
    "duration": 317,
    "start_time": "2022-07-04T18:16:33.684Z"
   },
   {
    "duration": 59,
    "start_time": "2022-07-04T18:16:34.003Z"
   },
   {
    "duration": 9,
    "start_time": "2022-07-04T18:16:35.471Z"
   },
   {
    "duration": 10,
    "start_time": "2022-07-04T18:16:36.771Z"
   },
   {
    "duration": 13,
    "start_time": "2022-07-04T18:16:49.988Z"
   },
   {
    "duration": 3,
    "start_time": "2022-07-04T18:16:58.248Z"
   },
   {
    "duration": 1490,
    "start_time": "2022-07-04T18:16:58.911Z"
   },
   {
    "duration": 4,
    "start_time": "2022-07-04T18:17:00.403Z"
   },
   {
    "duration": 117,
    "start_time": "2022-07-04T18:17:00.409Z"
   },
   {
    "duration": 4,
    "start_time": "2022-07-04T18:17:47.002Z"
   },
   {
    "duration": 1169,
    "start_time": "2022-07-04T18:17:47.624Z"
   },
   {
    "duration": 4,
    "start_time": "2022-07-04T18:17:49.014Z"
   },
   {
    "duration": 8,
    "start_time": "2022-07-04T18:17:49.177Z"
   },
   {
    "duration": 6,
    "start_time": "2022-07-04T18:17:49.601Z"
   },
   {
    "duration": 6,
    "start_time": "2022-07-04T18:17:50.243Z"
   },
   {
    "duration": 7,
    "start_time": "2022-07-04T18:17:50.482Z"
   },
   {
    "duration": 7,
    "start_time": "2022-07-04T18:17:51.001Z"
   },
   {
    "duration": 3,
    "start_time": "2022-07-04T18:17:51.863Z"
   },
   {
    "duration": 61,
    "start_time": "2022-07-04T18:17:52.242Z"
   },
   {
    "duration": 5,
    "start_time": "2022-07-04T18:17:52.475Z"
   },
   {
    "duration": 3,
    "start_time": "2022-07-04T18:17:53.523Z"
   },
   {
    "duration": 519,
    "start_time": "2022-07-04T18:17:53.991Z"
   },
   {
    "duration": 71,
    "start_time": "2022-07-04T18:17:55.191Z"
   },
   {
    "duration": 11,
    "start_time": "2022-07-04T18:17:56.389Z"
   },
   {
    "duration": 9,
    "start_time": "2022-07-04T18:17:57.781Z"
   },
   {
    "duration": 4,
    "start_time": "2022-07-04T18:18:24.957Z"
   },
   {
    "duration": 1285,
    "start_time": "2022-07-04T18:18:25.592Z"
   },
   {
    "duration": 4,
    "start_time": "2022-07-04T18:18:26.880Z"
   },
   {
    "duration": 17,
    "start_time": "2022-07-04T18:18:26.886Z"
   },
   {
    "duration": 5,
    "start_time": "2022-07-04T18:18:27.166Z"
   },
   {
    "duration": 6,
    "start_time": "2022-07-04T18:18:27.681Z"
   },
   {
    "duration": 8,
    "start_time": "2022-07-04T18:18:27.906Z"
   },
   {
    "duration": 8,
    "start_time": "2022-07-04T18:18:28.160Z"
   },
   {
    "duration": 3,
    "start_time": "2022-07-04T18:18:28.800Z"
   },
   {
    "duration": 1463,
    "start_time": "2022-07-04T18:18:29.045Z"
   },
   {
    "duration": 89,
    "start_time": "2022-07-04T18:18:30.513Z"
   },
   {
    "duration": 22,
    "start_time": "2022-07-04T18:18:30.604Z"
   },
   {
    "duration": 407,
    "start_time": "2022-07-04T18:18:30.806Z"
   },
   {
    "duration": 66,
    "start_time": "2022-07-04T18:18:32.106Z"
   },
   {
    "duration": 11,
    "start_time": "2022-07-04T18:18:33.160Z"
   },
   {
    "duration": 9,
    "start_time": "2022-07-04T18:18:34.246Z"
   },
   {
    "duration": 15,
    "start_time": "2022-07-04T18:18:36.158Z"
   },
   {
    "duration": 10,
    "start_time": "2022-07-04T18:18:42.561Z"
   },
   {
    "duration": 4,
    "start_time": "2022-07-04T18:18:46.556Z"
   },
   {
    "duration": 1425,
    "start_time": "2022-07-04T18:18:46.980Z"
   },
   {
    "duration": 5,
    "start_time": "2022-07-04T18:18:48.407Z"
   },
   {
    "duration": 37,
    "start_time": "2022-07-04T18:18:48.415Z"
   },
   {
    "duration": 5,
    "start_time": "2022-07-04T18:20:28.344Z"
   },
   {
    "duration": 1195,
    "start_time": "2022-07-04T18:20:29.758Z"
   },
   {
    "duration": 4,
    "start_time": "2022-07-04T18:20:30.956Z"
   },
   {
    "duration": 22,
    "start_time": "2022-07-04T18:20:30.962Z"
   },
   {
    "duration": 6,
    "start_time": "2022-07-04T18:20:31.275Z"
   },
   {
    "duration": 7,
    "start_time": "2022-07-04T18:20:32.117Z"
   },
   {
    "duration": 9,
    "start_time": "2022-07-04T18:20:32.755Z"
   },
   {
    "duration": 9,
    "start_time": "2022-07-04T18:20:33.108Z"
   },
   {
    "duration": 3,
    "start_time": "2022-07-04T18:20:33.579Z"
   },
   {
    "duration": 42,
    "start_time": "2022-07-04T18:20:33.959Z"
   },
   {
    "duration": 4,
    "start_time": "2022-07-04T18:20:34.200Z"
   },
   {
    "duration": 5,
    "start_time": "2022-07-04T18:20:34.837Z"
   },
   {
    "duration": 352,
    "start_time": "2022-07-04T18:20:35.082Z"
   },
   {
    "duration": 51,
    "start_time": "2022-07-04T18:20:35.437Z"
   },
   {
    "duration": 9,
    "start_time": "2022-07-04T18:20:35.978Z"
   },
   {
    "duration": 9,
    "start_time": "2022-07-04T18:20:37.389Z"
   },
   {
    "duration": 8,
    "start_time": "2022-07-04T18:21:22.765Z"
   },
   {
    "duration": 3,
    "start_time": "2022-07-04T18:21:25.979Z"
   },
   {
    "duration": 947,
    "start_time": "2022-07-04T18:21:26.461Z"
   },
   {
    "duration": 90,
    "start_time": "2022-07-04T18:21:27.411Z"
   },
   {
    "duration": 28,
    "start_time": "2022-07-04T18:21:27.504Z"
   },
   {
    "duration": 15,
    "start_time": "2022-07-04T18:55:45.904Z"
   },
   {
    "duration": 5523,
    "start_time": "2022-07-04T19:20:31.780Z"
   },
   {
    "duration": 1274,
    "start_time": "2022-07-04T20:11:19.570Z"
   },
   {
    "duration": 20,
    "start_time": "2022-07-04T20:11:20.845Z"
   },
   {
    "duration": 16,
    "start_time": "2022-07-04T20:11:20.867Z"
   },
   {
    "duration": 22,
    "start_time": "2022-07-04T20:11:20.885Z"
   },
   {
    "duration": 12,
    "start_time": "2022-07-04T20:11:20.910Z"
   },
   {
    "duration": 23,
    "start_time": "2022-07-04T20:11:20.923Z"
   },
   {
    "duration": 6,
    "start_time": "2022-07-04T20:11:20.948Z"
   },
   {
    "duration": 11,
    "start_time": "2022-07-04T20:11:20.956Z"
   },
   {
    "duration": 48,
    "start_time": "2022-07-04T20:11:20.969Z"
   },
   {
    "duration": 10,
    "start_time": "2022-07-04T20:11:21.019Z"
   },
   {
    "duration": 3622,
    "start_time": "2022-07-04T20:11:21.031Z"
   },
   {
    "duration": 1611,
    "start_time": "2022-07-04T20:11:24.654Z"
   },
   {
    "duration": 4,
    "start_time": "2022-07-04T20:11:26.267Z"
   },
   {
    "duration": 1152,
    "start_time": "2022-07-04T20:11:26.274Z"
   },
   {
    "duration": 4,
    "start_time": "2022-07-04T20:11:27.428Z"
   },
   {
    "duration": 18,
    "start_time": "2022-07-04T20:11:27.434Z"
   },
   {
    "duration": 9,
    "start_time": "2022-07-04T20:11:27.453Z"
   },
   {
    "duration": 11,
    "start_time": "2022-07-04T20:11:27.464Z"
   },
   {
    "duration": 15,
    "start_time": "2022-07-04T20:11:27.477Z"
   },
   {
    "duration": 9,
    "start_time": "2022-07-04T20:11:27.501Z"
   },
   {
    "duration": 10,
    "start_time": "2022-07-04T20:11:27.511Z"
   },
   {
    "duration": 85,
    "start_time": "2022-07-04T20:11:27.523Z"
   },
   {
    "duration": 91,
    "start_time": "2022-07-04T20:11:27.610Z"
   },
   {
    "duration": 3,
    "start_time": "2022-07-04T20:11:27.703Z"
   },
   {
    "duration": 383,
    "start_time": "2022-07-04T20:11:27.707Z"
   },
   {
    "duration": 73,
    "start_time": "2022-07-04T20:11:28.092Z"
   },
   {
    "duration": 9,
    "start_time": "2022-07-04T20:11:28.168Z"
   },
   {
    "duration": 25,
    "start_time": "2022-07-04T20:11:28.178Z"
   },
   {
    "duration": 18,
    "start_time": "2022-07-04T20:11:28.205Z"
   },
   {
    "duration": 21,
    "start_time": "2022-07-04T20:11:28.225Z"
   },
   {
    "duration": 592,
    "start_time": "2022-07-04T20:11:28.248Z"
   },
   {
    "duration": 112604,
    "start_time": "2022-07-04T20:11:28.842Z"
   },
   {
    "duration": 3,
    "start_time": "2022-07-04T20:13:21.447Z"
   },
   {
    "duration": 1358,
    "start_time": "2022-07-04T20:13:21.452Z"
   },
   {
    "duration": 5,
    "start_time": "2022-07-04T20:13:22.811Z"
   },
   {
    "duration": 101,
    "start_time": "2022-07-04T20:13:22.817Z"
   },
   {
    "duration": 5427,
    "start_time": "2022-07-04T20:13:22.920Z"
   },
   {
    "duration": 6,
    "start_time": "2022-07-04T20:13:28.350Z"
   },
   {
    "duration": 5,
    "start_time": "2022-07-04T20:17:37.381Z"
   },
   {
    "duration": 4444,
    "start_time": "2022-07-04T20:17:44.013Z"
   },
   {
    "duration": 6113,
    "start_time": "2022-07-04T20:18:02.025Z"
   },
   {
    "duration": 1481,
    "start_time": "2022-07-04T20:18:46.702Z"
   },
   {
    "duration": 25,
    "start_time": "2022-07-04T20:18:48.185Z"
   },
   {
    "duration": 26,
    "start_time": "2022-07-04T20:18:48.212Z"
   },
   {
    "duration": 16,
    "start_time": "2022-07-04T20:18:48.241Z"
   },
   {
    "duration": 6,
    "start_time": "2022-07-04T20:18:48.259Z"
   },
   {
    "duration": 35,
    "start_time": "2022-07-04T20:18:48.267Z"
   },
   {
    "duration": 7,
    "start_time": "2022-07-04T20:18:48.304Z"
   },
   {
    "duration": 20,
    "start_time": "2022-07-04T20:18:48.313Z"
   },
   {
    "duration": 77,
    "start_time": "2022-07-04T20:18:48.335Z"
   },
   {
    "duration": 15,
    "start_time": "2022-07-04T20:18:48.416Z"
   },
   {
    "duration": 3813,
    "start_time": "2022-07-04T20:18:48.432Z"
   },
   {
    "duration": 1661,
    "start_time": "2022-07-04T20:18:52.247Z"
   },
   {
    "duration": 5,
    "start_time": "2022-07-04T20:18:53.913Z"
   },
   {
    "duration": 1209,
    "start_time": "2022-07-04T20:18:53.920Z"
   },
   {
    "duration": 4,
    "start_time": "2022-07-04T20:18:55.131Z"
   },
   {
    "duration": 11,
    "start_time": "2022-07-04T20:18:55.137Z"
   },
   {
    "duration": 13,
    "start_time": "2022-07-04T20:18:55.150Z"
   },
   {
    "duration": 33,
    "start_time": "2022-07-04T20:18:55.165Z"
   },
   {
    "duration": 47,
    "start_time": "2022-07-04T20:18:55.201Z"
   },
   {
    "duration": 54,
    "start_time": "2022-07-04T20:18:55.250Z"
   },
   {
    "duration": 10,
    "start_time": "2022-07-04T20:18:55.307Z"
   },
   {
    "duration": 288,
    "start_time": "2022-07-04T20:18:55.319Z"
   },
   {
    "duration": 7,
    "start_time": "2022-07-04T20:18:55.609Z"
   },
   {
    "duration": 84,
    "start_time": "2022-07-04T20:18:55.618Z"
   },
   {
    "duration": 403,
    "start_time": "2022-07-04T20:18:55.705Z"
   },
   {
    "duration": 49,
    "start_time": "2022-07-04T20:18:56.110Z"
   },
   {
    "duration": 8,
    "start_time": "2022-07-04T20:18:56.161Z"
   },
   {
    "duration": 32,
    "start_time": "2022-07-04T20:18:56.174Z"
   },
   {
    "duration": 16,
    "start_time": "2022-07-04T20:18:56.208Z"
   },
   {
    "duration": 22,
    "start_time": "2022-07-04T20:18:56.226Z"
   },
   {
    "duration": 589,
    "start_time": "2022-07-04T20:18:56.252Z"
   },
   {
    "duration": 117717,
    "start_time": "2022-07-04T20:18:56.843Z"
   },
   {
    "duration": 10,
    "start_time": "2022-07-04T20:20:54.562Z"
   },
   {
    "duration": 1243,
    "start_time": "2022-07-04T20:20:54.574Z"
   },
   {
    "duration": 4,
    "start_time": "2022-07-04T20:20:55.904Z"
   },
   {
    "duration": 30,
    "start_time": "2022-07-04T20:20:55.910Z"
   },
   {
    "duration": 5437,
    "start_time": "2022-07-04T20:20:55.942Z"
   },
   {
    "duration": 20,
    "start_time": "2022-07-04T20:21:01.381Z"
   },
   {
    "duration": 1763,
    "start_time": "2022-07-06T14:28:11.308Z"
   },
   {
    "duration": 258,
    "start_time": "2022-07-06T14:28:13.074Z"
   },
   {
    "duration": 20,
    "start_time": "2022-07-06T14:28:13.334Z"
   },
   {
    "duration": 18,
    "start_time": "2022-07-06T14:28:13.355Z"
   },
   {
    "duration": 10,
    "start_time": "2022-07-06T14:28:13.375Z"
   },
   {
    "duration": 17,
    "start_time": "2022-07-06T14:28:13.387Z"
   },
   {
    "duration": 8,
    "start_time": "2022-07-06T14:28:13.413Z"
   },
   {
    "duration": 12,
    "start_time": "2022-07-06T14:28:13.423Z"
   },
   {
    "duration": 67,
    "start_time": "2022-07-06T14:28:13.437Z"
   },
   {
    "duration": 18,
    "start_time": "2022-07-06T14:28:13.506Z"
   },
   {
    "duration": 4431,
    "start_time": "2022-07-06T14:28:13.527Z"
   },
   {
    "duration": 1839,
    "start_time": "2022-07-06T14:28:17.960Z"
   },
   {
    "duration": 7,
    "start_time": "2022-07-06T14:28:19.800Z"
   },
   {
    "duration": 1308,
    "start_time": "2022-07-06T14:28:19.811Z"
   },
   {
    "duration": 6,
    "start_time": "2022-07-06T14:28:21.121Z"
   },
   {
    "duration": 10,
    "start_time": "2022-07-06T14:28:21.129Z"
   },
   {
    "duration": 6,
    "start_time": "2022-07-06T14:28:21.141Z"
   },
   {
    "duration": 11,
    "start_time": "2022-07-06T14:28:21.150Z"
   },
   {
    "duration": 10,
    "start_time": "2022-07-06T14:28:21.164Z"
   },
   {
    "duration": 11,
    "start_time": "2022-07-06T14:28:21.204Z"
   },
   {
    "duration": 3,
    "start_time": "2022-07-06T14:28:21.217Z"
   },
   {
    "duration": 583,
    "start_time": "2022-07-06T14:28:21.221Z"
   },
   {
    "duration": 7,
    "start_time": "2022-07-06T14:28:21.806Z"
   },
   {
    "duration": 108,
    "start_time": "2022-07-06T14:28:21.815Z"
   },
   {
    "duration": 786,
    "start_time": "2022-07-06T14:28:21.926Z"
   },
   {
    "duration": 104,
    "start_time": "2022-07-06T14:28:22.714Z"
   },
   {
    "duration": 10,
    "start_time": "2022-07-06T14:28:22.820Z"
   },
   {
    "duration": 8,
    "start_time": "2022-07-06T14:28:22.832Z"
   },
   {
    "duration": 28,
    "start_time": "2022-07-06T14:28:22.898Z"
   },
   {
    "duration": 12,
    "start_time": "2022-07-06T14:28:22.927Z"
   },
   {
    "duration": 1496,
    "start_time": "2022-07-06T14:28:22.941Z"
   },
   {
    "duration": 126741,
    "start_time": "2022-07-06T14:28:24.438Z"
   },
   {
    "duration": 3,
    "start_time": "2022-07-06T14:30:31.181Z"
   },
   {
    "duration": 936,
    "start_time": "2022-07-06T14:30:31.186Z"
   },
   {
    "duration": 76,
    "start_time": "2022-07-06T14:30:32.126Z"
   },
   {
    "duration": 124,
    "start_time": "2022-07-06T14:30:32.208Z"
   },
   {
    "duration": 6153,
    "start_time": "2022-07-06T14:30:32.335Z"
   },
   {
    "duration": 15,
    "start_time": "2022-07-06T14:30:38.490Z"
   },
   {
    "duration": 33,
    "start_time": "2022-07-06T14:32:40.675Z"
   },
   {
    "duration": 1535,
    "start_time": "2022-07-06T14:39:52.369Z"
   },
   {
    "duration": 38,
    "start_time": "2022-07-06T14:39:53.908Z"
   },
   {
    "duration": 26,
    "start_time": "2022-07-06T14:39:53.948Z"
   },
   {
    "duration": 17,
    "start_time": "2022-07-06T14:39:53.977Z"
   },
   {
    "duration": 8,
    "start_time": "2022-07-06T14:39:53.996Z"
   },
   {
    "duration": 19,
    "start_time": "2022-07-06T14:39:54.006Z"
   },
   {
    "duration": 8,
    "start_time": "2022-07-06T14:39:54.028Z"
   },
   {
    "duration": 11,
    "start_time": "2022-07-06T14:39:54.038Z"
   },
   {
    "duration": 83,
    "start_time": "2022-07-06T14:39:54.050Z"
   },
   {
    "duration": 14,
    "start_time": "2022-07-06T14:39:54.137Z"
   },
   {
    "duration": 4257,
    "start_time": "2022-07-06T14:39:54.153Z"
   },
   {
    "duration": 1755,
    "start_time": "2022-07-06T14:39:58.412Z"
   },
   {
    "duration": 5,
    "start_time": "2022-07-06T14:40:00.169Z"
   },
   {
    "duration": 1352,
    "start_time": "2022-07-06T14:40:00.175Z"
   },
   {
    "duration": 3,
    "start_time": "2022-07-06T14:40:01.529Z"
   },
   {
    "duration": 34,
    "start_time": "2022-07-06T14:40:01.534Z"
   },
   {
    "duration": 11,
    "start_time": "2022-07-06T14:40:01.570Z"
   },
   {
    "duration": 21,
    "start_time": "2022-07-06T14:40:01.583Z"
   },
   {
    "duration": 21,
    "start_time": "2022-07-06T14:40:01.606Z"
   },
   {
    "duration": 15,
    "start_time": "2022-07-06T14:40:01.629Z"
   },
   {
    "duration": 4,
    "start_time": "2022-07-06T14:40:01.645Z"
   },
   {
    "duration": 60,
    "start_time": "2022-07-06T14:40:01.650Z"
   },
   {
    "duration": 196,
    "start_time": "2022-07-06T14:40:01.711Z"
   },
   {
    "duration": 19,
    "start_time": "2022-07-06T14:40:01.909Z"
   },
   {
    "duration": 343,
    "start_time": "2022-07-06T14:40:01.930Z"
   },
   {
    "duration": 60,
    "start_time": "2022-07-06T14:40:02.275Z"
   },
   {
    "duration": 7,
    "start_time": "2022-07-06T14:40:02.337Z"
   },
   {
    "duration": 15,
    "start_time": "2022-07-06T14:40:02.348Z"
   },
   {
    "duration": 15,
    "start_time": "2022-07-06T14:40:02.364Z"
   },
   {
    "duration": 24,
    "start_time": "2022-07-06T14:40:02.398Z"
   },
   {
    "duration": 9,
    "start_time": "2022-07-06T14:40:02.423Z"
   },
   {
    "duration": 629,
    "start_time": "2022-07-06T14:40:02.433Z"
   },
   {
    "duration": 125586,
    "start_time": "2022-07-06T14:40:03.064Z"
   },
   {
    "duration": 3,
    "start_time": "2022-07-06T14:42:08.652Z"
   },
   {
    "duration": 1044,
    "start_time": "2022-07-06T14:42:08.656Z"
   },
   {
    "duration": 5,
    "start_time": "2022-07-06T14:42:09.702Z"
   },
   {
    "duration": 107,
    "start_time": "2022-07-06T14:42:09.709Z"
   },
   {
    "duration": 5975,
    "start_time": "2022-07-06T14:42:09.818Z"
   },
   {
    "duration": 8,
    "start_time": "2022-07-06T14:42:15.795Z"
   }
  ],
  "kernelspec": {
   "display_name": "Python 3 (ipykernel)",
   "language": "python",
   "name": "python3"
  },
  "language_info": {
   "codemirror_mode": {
    "name": "ipython",
    "version": 3
   },
   "file_extension": ".py",
   "mimetype": "text/x-python",
   "name": "python",
   "nbconvert_exporter": "python",
   "pygments_lexer": "ipython3",
   "version": "3.9.7"
  },
  "toc": {
   "base_numbering": 1,
   "nav_menu": {},
   "number_sections": true,
   "sideBar": true,
   "skip_h1_title": true,
   "title_cell": "Содержание",
   "title_sidebar": "Contents",
   "toc_cell": true,
   "toc_position": {
    "height": "calc(100% - 180px)",
    "left": "10px",
    "top": "150px",
    "width": "286.225px"
   },
   "toc_section_display": true,
   "toc_window_display": true
  }
 },
 "nbformat": 4,
 "nbformat_minor": 2
}
